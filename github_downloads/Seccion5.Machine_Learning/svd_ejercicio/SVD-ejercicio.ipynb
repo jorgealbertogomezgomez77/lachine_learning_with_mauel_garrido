{
 "cells": [
  {
   "cell_type": "markdown",
   "metadata": {},
   "source": [
    "# Ejercicio - Sistema de Recomendación usando SVD\n",
    "\n",
    "En este ejercicio vamos a usar una una porción del [Online Retail dataset](https://archive.ics.uci.edu/ml/datasets/Online+Retail), que contiene información sobre transacciones que ocurrieron en Noviembre 2011 en una tienda online basada en el Reino Unido (UK). Esta tienda vende artículos diversos de decoración y regalos, y muchos de sus clientes son tiendas físicas.\n",
    "\n",
    "El objetivo del ejercicio es crear un sistema de recomendación que, dado un cliente (cuyo identificador conocemos, no un nuevo cliente), recomiende productos que dicho cliente estaría interesado en comprar."
   ]
  },
  {
   "cell_type": "markdown",
   "metadata": {},
   "source": [
    "### Cargamos los datos"
   ]
  },
  {
   "cell_type": "code",
   "execution_count": 1,
   "metadata": {},
   "outputs": [
    {
     "data": {
      "text/html": [
       "<div>\n",
       "<style scoped>\n",
       "    .dataframe tbody tr th:only-of-type {\n",
       "        vertical-align: middle;\n",
       "    }\n",
       "\n",
       "    .dataframe tbody tr th {\n",
       "        vertical-align: top;\n",
       "    }\n",
       "\n",
       "    .dataframe thead th {\n",
       "        text-align: right;\n",
       "    }\n",
       "</style>\n",
       "<table border=\"1\" class=\"dataframe\">\n",
       "  <thead>\n",
       "    <tr style=\"text-align: right;\">\n",
       "      <th></th>\n",
       "      <th>InvoiceNo</th>\n",
       "      <th>StockCode</th>\n",
       "      <th>Description</th>\n",
       "      <th>Quantity</th>\n",
       "      <th>InvoiceDate</th>\n",
       "      <th>UnitPrice</th>\n",
       "      <th>CustomerID</th>\n",
       "      <th>Country</th>\n",
       "    </tr>\n",
       "  </thead>\n",
       "  <tbody>\n",
       "    <tr>\n",
       "      <th>0</th>\n",
       "      <td>573744</td>\n",
       "      <td>21314</td>\n",
       "      <td>SMALL GLASS HEART TRINKET POT</td>\n",
       "      <td>8</td>\n",
       "      <td>2011-11-01 08:16:00</td>\n",
       "      <td>2.10</td>\n",
       "      <td>17733.0</td>\n",
       "      <td>United Kingdom</td>\n",
       "    </tr>\n",
       "    <tr>\n",
       "      <th>1</th>\n",
       "      <td>573744</td>\n",
       "      <td>21704</td>\n",
       "      <td>BAG 250g SWIRLY MARBLES</td>\n",
       "      <td>12</td>\n",
       "      <td>2011-11-01 08:16:00</td>\n",
       "      <td>0.85</td>\n",
       "      <td>17733.0</td>\n",
       "      <td>United Kingdom</td>\n",
       "    </tr>\n",
       "    <tr>\n",
       "      <th>2</th>\n",
       "      <td>573744</td>\n",
       "      <td>21791</td>\n",
       "      <td>VINTAGE HEADS AND TAILS CARD GAME</td>\n",
       "      <td>12</td>\n",
       "      <td>2011-11-01 08:16:00</td>\n",
       "      <td>1.25</td>\n",
       "      <td>17733.0</td>\n",
       "      <td>United Kingdom</td>\n",
       "    </tr>\n",
       "    <tr>\n",
       "      <th>3</th>\n",
       "      <td>573744</td>\n",
       "      <td>21892</td>\n",
       "      <td>TRADITIONAL WOODEN CATCH CUP GAME</td>\n",
       "      <td>12</td>\n",
       "      <td>2011-11-01 08:16:00</td>\n",
       "      <td>1.25</td>\n",
       "      <td>17733.0</td>\n",
       "      <td>United Kingdom</td>\n",
       "    </tr>\n",
       "    <tr>\n",
       "      <th>4</th>\n",
       "      <td>573744</td>\n",
       "      <td>21915</td>\n",
       "      <td>RED  HARMONICA IN BOX</td>\n",
       "      <td>12</td>\n",
       "      <td>2011-11-01 08:16:00</td>\n",
       "      <td>1.25</td>\n",
       "      <td>17733.0</td>\n",
       "      <td>United Kingdom</td>\n",
       "    </tr>\n",
       "  </tbody>\n",
       "</table>\n",
       "</div>"
      ],
      "text/plain": [
       "  InvoiceNo StockCode                         Description  Quantity  \\\n",
       "0    573744     21314       SMALL GLASS HEART TRINKET POT         8   \n",
       "1    573744     21704             BAG 250g SWIRLY MARBLES        12   \n",
       "2    573744     21791  VINTAGE HEADS AND TAILS CARD GAME         12   \n",
       "3    573744     21892  TRADITIONAL WOODEN CATCH CUP GAME         12   \n",
       "4    573744     21915              RED  HARMONICA IN BOX         12   \n",
       "\n",
       "           InvoiceDate  UnitPrice  CustomerID         Country  \n",
       "0  2011-11-01 08:16:00       2.10     17733.0  United Kingdom  \n",
       "1  2011-11-01 08:16:00       0.85     17733.0  United Kingdom  \n",
       "2  2011-11-01 08:16:00       1.25     17733.0  United Kingdom  \n",
       "3  2011-11-01 08:16:00       1.25     17733.0  United Kingdom  \n",
       "4  2011-11-01 08:16:00       1.25     17733.0  United Kingdom  "
      ]
     },
     "execution_count": 1,
     "metadata": {},
     "output_type": "execute_result"
    }
   ],
   "source": [
    "import pandas as pd\n",
    "ventas = pd.read_csv(\"./data/retail.csv\")\n",
    "\n",
    "ventas.head()"
   ]
  },
  {
   "cell_type": "markdown",
   "metadata": {},
   "source": [
    "### Crear matriz de Cliente/Producto (CustomerID, StockID), donde la intersección sea el numero de veces que cada cliente ha comprado cada producto.\n",
    "\n",
    "Este dataset no está ordenado de la forma necesaria para poder aplicar SVD (matriz de clientes/productos), asi que parte del ejercicio consiste en manipular el dataset hasta obtener la forma deseada. El identificador de cliente es `CustomerID` y el identificador de producto es `StockCode`\n",
    "\n",
    "**Pista** Una forma de procesar el dataset para convertirlo a una matriz es con el método [`pandas.pivot_table()`](https://pandas.pydata.org/pandas-docs/stable/generated/pandas.pivot_table.html)"
   ]
  },
  {
   "cell_type": "code",
   "execution_count": null,
   "metadata": {},
   "outputs": [],
   "source": []
  },
  {
   "cell_type": "markdown",
   "metadata": {},
   "source": [
    "## Hacer la descomposicion SVD sparse de la matriz original de cliente/producto, (podemos tomar k=10)"
   ]
  },
  {
   "cell_type": "code",
   "execution_count": null,
   "metadata": {},
   "outputs": [],
   "source": []
  },
  {
   "cell_type": "markdown",
   "metadata": {},
   "source": [
    "# Reconstruir la matriz original de cliente/producto con SVD"
   ]
  },
  {
   "cell_type": "code",
   "execution_count": null,
   "metadata": {},
   "outputs": [],
   "source": []
  },
  {
   "cell_type": "markdown",
   "metadata": {},
   "source": [
    "### Crear función de recomendación.\n",
    "\n",
    "Hasta aquí hemos explicado todo en clase, ahora llega la parte adicional donde se proporciona valor a dicha decomposicion.\n",
    "\n",
    "Ahora tenemos una matriz con las \"puntuaciones\" que cada cliente daria a cada producto. Lo que tenemos que hacer es crear una funcion que dado un cliente, tome la fila que le corresponde en la matriz que hemos calculado con SVD. Para dicha fila, aquellos valores más altos serán aquellos con una puntuacion estimada más alta para dicho usuario. Asi que simplemente tomamos los productos (las columnas) con valores más altos **que no estuviesen en el dataset original para el usuario!**, ya que no le debemos recomendar productos que ya ha comprado, sino productos nuevos.\n",
    "\n",
    "Dicha función debe tomar como argumento una id de cliente y un número de recomendaciones y debe devolver las recomendaciones."
   ]
  },
  {
   "cell_type": "code",
   "execution_count": null,
   "metadata": {},
   "outputs": [],
   "source": [
    "def recomendar(id_cliente, num_recomendaciones=5):\n",
    "    # poner aqui la logica de recomendacion para un cliente\n",
    "    return recomendaciones"
   ]
  }
 ],
 "metadata": {
  "kernelspec": {
   "display_name": "Python 3",
   "language": "python",
   "name": "python3"
  },
  "language_info": {
   "codemirror_mode": {
    "name": "ipython",
    "version": 3
   },
   "file_extension": ".py",
   "mimetype": "text/x-python",
   "name": "python",
   "nbconvert_exporter": "python",
   "pygments_lexer": "ipython3",
   "version": "3.6.5"
  }
 },
 "nbformat": 4,
 "nbformat_minor": 2
}
