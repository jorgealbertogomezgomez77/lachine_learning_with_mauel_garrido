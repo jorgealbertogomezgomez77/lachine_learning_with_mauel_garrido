{
 "cells": [
  {
   "cell_type": "markdown",
   "metadata": {},
   "source": [
    "# Ejercicio - Sistema de Recomendación usando SVD\n",
    "\n",
    "En este ejercicio vamos a usar una una porción del [Online Retail dataset](https://archive.ics.uci.edu/ml/datasets/Online+Retail), que contiene información sobre transacciones que ocurrieron en Noviembre 2011 en una tienda online basada en el Reino Unido (UK). Esta tienda vende artículos diversos de decoración y regalos, y muchos de sus clientes son tiendas físicas.\n",
    "\n",
    "El objetivo del ejercicio es crear un sistema de recomendación que, dado un cliente (cuyo identificador conocemos, no un nuevo cliente), recomiende productos que dicho cliente estaría interesado en comprar."
   ]
  },
  {
   "cell_type": "code",
   "execution_count": 1,
   "metadata": {},
   "outputs": [],
   "source": [
    "import pandas as pd\n",
    "import numpy as np"
   ]
  },
  {
   "cell_type": "markdown",
   "metadata": {},
   "source": [
    "### Cargamos los datos"
   ]
  },
  {
   "cell_type": "code",
   "execution_count": 2,
   "metadata": {},
   "outputs": [],
   "source": [
    "ventas = pd.read_csv(\"./data/retail.csv\")"
   ]
  },
  {
   "cell_type": "code",
   "execution_count": 3,
   "metadata": {},
   "outputs": [
    {
     "data": {
      "text/html": [
       "<div>\n",
       "<style scoped>\n",
       "    .dataframe tbody tr th:only-of-type {\n",
       "        vertical-align: middle;\n",
       "    }\n",
       "\n",
       "    .dataframe tbody tr th {\n",
       "        vertical-align: top;\n",
       "    }\n",
       "\n",
       "    .dataframe thead th {\n",
       "        text-align: right;\n",
       "    }\n",
       "</style>\n",
       "<table border=\"1\" class=\"dataframe\">\n",
       "  <thead>\n",
       "    <tr style=\"text-align: right;\">\n",
       "      <th></th>\n",
       "      <th>InvoiceNo</th>\n",
       "      <th>StockCode</th>\n",
       "      <th>Description</th>\n",
       "      <th>Quantity</th>\n",
       "      <th>InvoiceDate</th>\n",
       "      <th>UnitPrice</th>\n",
       "      <th>CustomerID</th>\n",
       "      <th>Country</th>\n",
       "    </tr>\n",
       "  </thead>\n",
       "  <tbody>\n",
       "    <tr>\n",
       "      <th>0</th>\n",
       "      <td>573744</td>\n",
       "      <td>21314</td>\n",
       "      <td>SMALL GLASS HEART TRINKET POT</td>\n",
       "      <td>8</td>\n",
       "      <td>2011-11-01 08:16:00</td>\n",
       "      <td>2.10</td>\n",
       "      <td>17733.0</td>\n",
       "      <td>United Kingdom</td>\n",
       "    </tr>\n",
       "    <tr>\n",
       "      <th>1</th>\n",
       "      <td>573744</td>\n",
       "      <td>21704</td>\n",
       "      <td>BAG 250g SWIRLY MARBLES</td>\n",
       "      <td>12</td>\n",
       "      <td>2011-11-01 08:16:00</td>\n",
       "      <td>0.85</td>\n",
       "      <td>17733.0</td>\n",
       "      <td>United Kingdom</td>\n",
       "    </tr>\n",
       "    <tr>\n",
       "      <th>2</th>\n",
       "      <td>573744</td>\n",
       "      <td>21791</td>\n",
       "      <td>VINTAGE HEADS AND TAILS CARD GAME</td>\n",
       "      <td>12</td>\n",
       "      <td>2011-11-01 08:16:00</td>\n",
       "      <td>1.25</td>\n",
       "      <td>17733.0</td>\n",
       "      <td>United Kingdom</td>\n",
       "    </tr>\n",
       "    <tr>\n",
       "      <th>3</th>\n",
       "      <td>573744</td>\n",
       "      <td>21892</td>\n",
       "      <td>TRADITIONAL WOODEN CATCH CUP GAME</td>\n",
       "      <td>12</td>\n",
       "      <td>2011-11-01 08:16:00</td>\n",
       "      <td>1.25</td>\n",
       "      <td>17733.0</td>\n",
       "      <td>United Kingdom</td>\n",
       "    </tr>\n",
       "    <tr>\n",
       "      <th>4</th>\n",
       "      <td>573744</td>\n",
       "      <td>21915</td>\n",
       "      <td>RED  HARMONICA IN BOX</td>\n",
       "      <td>12</td>\n",
       "      <td>2011-11-01 08:16:00</td>\n",
       "      <td>1.25</td>\n",
       "      <td>17733.0</td>\n",
       "      <td>United Kingdom</td>\n",
       "    </tr>\n",
       "  </tbody>\n",
       "</table>\n",
       "</div>"
      ],
      "text/plain": [
       "  InvoiceNo StockCode                         Description  Quantity  \\\n",
       "0    573744     21314       SMALL GLASS HEART TRINKET POT         8   \n",
       "1    573744     21704             BAG 250g SWIRLY MARBLES        12   \n",
       "2    573744     21791  VINTAGE HEADS AND TAILS CARD GAME         12   \n",
       "3    573744     21892  TRADITIONAL WOODEN CATCH CUP GAME         12   \n",
       "4    573744     21915              RED  HARMONICA IN BOX         12   \n",
       "\n",
       "           InvoiceDate  UnitPrice  CustomerID         Country  \n",
       "0  2011-11-01 08:16:00       2.10     17733.0  United Kingdom  \n",
       "1  2011-11-01 08:16:00       0.85     17733.0  United Kingdom  \n",
       "2  2011-11-01 08:16:00       1.25     17733.0  United Kingdom  \n",
       "3  2011-11-01 08:16:00       1.25     17733.0  United Kingdom  \n",
       "4  2011-11-01 08:16:00       1.25     17733.0  United Kingdom  "
      ]
     },
     "execution_count": 3,
     "metadata": {},
     "output_type": "execute_result"
    }
   ],
   "source": [
    "ventas.head()"
   ]
  },
  {
   "cell_type": "markdown",
   "metadata": {},
   "source": [
    "Creamos un diccionario para guardar las descripciones de producto"
   ]
  },
  {
   "cell_type": "code",
   "execution_count": 4,
   "metadata": {},
   "outputs": [],
   "source": [
    "item_dict = dict(zip(ventas['StockCode'], ventas['Description']))"
   ]
  },
  {
   "cell_type": "markdown",
   "metadata": {},
   "source": [
    "Así, dada una id de producto, podemos ver el nombre."
   ]
  },
  {
   "cell_type": "code",
   "execution_count": 5,
   "metadata": {},
   "outputs": [
    {
     "data": {
      "text/plain": [
       "'SMALL GLASS HEART TRINKET POT'"
      ]
     },
     "execution_count": 5,
     "metadata": {},
     "output_type": "execute_result"
    }
   ],
   "source": [
    "item_dict[\"21314\"]"
   ]
  },
  {
   "cell_type": "markdown",
   "metadata": {},
   "source": [
    "### Crear matriz de Cliente/Producto (CustomerID, StockCode), donde la intersección sea el numero de veces que cada cliente ha comprado cada producto.\n",
    "\n",
    "Este dataset no está ordenado de la forma necesaria para poder aplicar SVD (matriz de clientes/productos), asi que parte del ejercicio consiste en manipular el dataset hasta obtener la forma deseada. El identificador de cliente es `CustomerID` y el identificador de producto es `StockCode`\n",
    "\n",
    "**Pista** Una forma de procesar el dataset para convertirlo a una matriz es con el método [`pandas.pivot_table()`](https://pandas.pydata.org/pandas-docs/stable/generated/pandas.pivot_table.html)"
   ]
  },
  {
   "cell_type": "markdown",
   "metadata": {},
   "source": [
    "Queremos una matriz donde las filas sean el id del cliente `CustomerID`, las columnas sean el código de producto `StockCode`, y los valores sean la cantidad comprada de cada producto por cada cliente."
   ]
  },
  {
   "cell_type": "code",
   "execution_count": 6,
   "metadata": {},
   "outputs": [],
   "source": [
    "matriz_ventas_df = ventas.pivot_table(\n",
    "    values='Quantity', \n",
    "    index='CustomerID', \n",
    "    columns='StockCode',\n",
    "    aggfunc=\"sum\"\n",
    ")"
   ]
  },
  {
   "cell_type": "code",
   "execution_count": 7,
   "metadata": {},
   "outputs": [
    {
     "data": {
      "text/html": [
       "<div>\n",
       "<style scoped>\n",
       "    .dataframe tbody tr th:only-of-type {\n",
       "        vertical-align: middle;\n",
       "    }\n",
       "\n",
       "    .dataframe tbody tr th {\n",
       "        vertical-align: top;\n",
       "    }\n",
       "\n",
       "    .dataframe thead th {\n",
       "        text-align: right;\n",
       "    }\n",
       "</style>\n",
       "<table border=\"1\" class=\"dataframe\">\n",
       "  <thead>\n",
       "    <tr style=\"text-align: right;\">\n",
       "      <th>StockCode</th>\n",
       "      <th>10080</th>\n",
       "      <th>10120</th>\n",
       "      <th>10124A</th>\n",
       "      <th>10124G</th>\n",
       "      <th>10125</th>\n",
       "      <th>10135</th>\n",
       "      <th>11001</th>\n",
       "      <th>15030</th>\n",
       "      <th>15034</th>\n",
       "      <th>15036</th>\n",
       "      <th>...</th>\n",
       "      <th>90214M</th>\n",
       "      <th>90214N</th>\n",
       "      <th>90214S</th>\n",
       "      <th>BANK CHARGES</th>\n",
       "      <th>C2</th>\n",
       "      <th>CRUK</th>\n",
       "      <th>D</th>\n",
       "      <th>DOT</th>\n",
       "      <th>M</th>\n",
       "      <th>POST</th>\n",
       "    </tr>\n",
       "    <tr>\n",
       "      <th>CustomerID</th>\n",
       "      <th></th>\n",
       "      <th></th>\n",
       "      <th></th>\n",
       "      <th></th>\n",
       "      <th></th>\n",
       "      <th></th>\n",
       "      <th></th>\n",
       "      <th></th>\n",
       "      <th></th>\n",
       "      <th></th>\n",
       "      <th></th>\n",
       "      <th></th>\n",
       "      <th></th>\n",
       "      <th></th>\n",
       "      <th></th>\n",
       "      <th></th>\n",
       "      <th></th>\n",
       "      <th></th>\n",
       "      <th></th>\n",
       "      <th></th>\n",
       "      <th></th>\n",
       "    </tr>\n",
       "  </thead>\n",
       "  <tbody>\n",
       "    <tr>\n",
       "      <th>12349.0</th>\n",
       "      <td>NaN</td>\n",
       "      <td>NaN</td>\n",
       "      <td>NaN</td>\n",
       "      <td>NaN</td>\n",
       "      <td>NaN</td>\n",
       "      <td>NaN</td>\n",
       "      <td>NaN</td>\n",
       "      <td>NaN</td>\n",
       "      <td>NaN</td>\n",
       "      <td>NaN</td>\n",
       "      <td>...</td>\n",
       "      <td>NaN</td>\n",
       "      <td>NaN</td>\n",
       "      <td>NaN</td>\n",
       "      <td>NaN</td>\n",
       "      <td>NaN</td>\n",
       "      <td>NaN</td>\n",
       "      <td>NaN</td>\n",
       "      <td>NaN</td>\n",
       "      <td>NaN</td>\n",
       "      <td>1.0</td>\n",
       "    </tr>\n",
       "    <tr>\n",
       "      <th>12352.0</th>\n",
       "      <td>NaN</td>\n",
       "      <td>NaN</td>\n",
       "      <td>NaN</td>\n",
       "      <td>NaN</td>\n",
       "      <td>NaN</td>\n",
       "      <td>NaN</td>\n",
       "      <td>NaN</td>\n",
       "      <td>NaN</td>\n",
       "      <td>NaN</td>\n",
       "      <td>NaN</td>\n",
       "      <td>...</td>\n",
       "      <td>NaN</td>\n",
       "      <td>NaN</td>\n",
       "      <td>NaN</td>\n",
       "      <td>NaN</td>\n",
       "      <td>NaN</td>\n",
       "      <td>NaN</td>\n",
       "      <td>NaN</td>\n",
       "      <td>NaN</td>\n",
       "      <td>NaN</td>\n",
       "      <td>2.0</td>\n",
       "    </tr>\n",
       "    <tr>\n",
       "      <th>12356.0</th>\n",
       "      <td>NaN</td>\n",
       "      <td>NaN</td>\n",
       "      <td>NaN</td>\n",
       "      <td>NaN</td>\n",
       "      <td>NaN</td>\n",
       "      <td>NaN</td>\n",
       "      <td>NaN</td>\n",
       "      <td>NaN</td>\n",
       "      <td>NaN</td>\n",
       "      <td>NaN</td>\n",
       "      <td>...</td>\n",
       "      <td>NaN</td>\n",
       "      <td>NaN</td>\n",
       "      <td>NaN</td>\n",
       "      <td>NaN</td>\n",
       "      <td>NaN</td>\n",
       "      <td>NaN</td>\n",
       "      <td>NaN</td>\n",
       "      <td>NaN</td>\n",
       "      <td>NaN</td>\n",
       "      <td>NaN</td>\n",
       "    </tr>\n",
       "    <tr>\n",
       "      <th>12357.0</th>\n",
       "      <td>NaN</td>\n",
       "      <td>NaN</td>\n",
       "      <td>NaN</td>\n",
       "      <td>NaN</td>\n",
       "      <td>NaN</td>\n",
       "      <td>NaN</td>\n",
       "      <td>NaN</td>\n",
       "      <td>NaN</td>\n",
       "      <td>NaN</td>\n",
       "      <td>NaN</td>\n",
       "      <td>...</td>\n",
       "      <td>NaN</td>\n",
       "      <td>NaN</td>\n",
       "      <td>NaN</td>\n",
       "      <td>NaN</td>\n",
       "      <td>NaN</td>\n",
       "      <td>NaN</td>\n",
       "      <td>NaN</td>\n",
       "      <td>NaN</td>\n",
       "      <td>NaN</td>\n",
       "      <td>NaN</td>\n",
       "    </tr>\n",
       "    <tr>\n",
       "      <th>12362.0</th>\n",
       "      <td>NaN</td>\n",
       "      <td>NaN</td>\n",
       "      <td>NaN</td>\n",
       "      <td>NaN</td>\n",
       "      <td>NaN</td>\n",
       "      <td>NaN</td>\n",
       "      <td>NaN</td>\n",
       "      <td>NaN</td>\n",
       "      <td>NaN</td>\n",
       "      <td>NaN</td>\n",
       "      <td>...</td>\n",
       "      <td>NaN</td>\n",
       "      <td>NaN</td>\n",
       "      <td>NaN</td>\n",
       "      <td>NaN</td>\n",
       "      <td>NaN</td>\n",
       "      <td>NaN</td>\n",
       "      <td>NaN</td>\n",
       "      <td>NaN</td>\n",
       "      <td>NaN</td>\n",
       "      <td>4.0</td>\n",
       "    </tr>\n",
       "  </tbody>\n",
       "</table>\n",
       "<p>5 rows × 2704 columns</p>\n",
       "</div>"
      ],
      "text/plain": [
       "StockCode   10080  10120  10124A  10124G  10125  10135  11001  15030  15034  \\\n",
       "CustomerID                                                                    \n",
       "12349.0       NaN    NaN     NaN     NaN    NaN    NaN    NaN    NaN    NaN   \n",
       "12352.0       NaN    NaN     NaN     NaN    NaN    NaN    NaN    NaN    NaN   \n",
       "12356.0       NaN    NaN     NaN     NaN    NaN    NaN    NaN    NaN    NaN   \n",
       "12357.0       NaN    NaN     NaN     NaN    NaN    NaN    NaN    NaN    NaN   \n",
       "12362.0       NaN    NaN     NaN     NaN    NaN    NaN    NaN    NaN    NaN   \n",
       "\n",
       "StockCode   15036  ...   90214M  90214N  90214S  BANK CHARGES  C2  CRUK   D  \\\n",
       "CustomerID         ...                                                        \n",
       "12349.0       NaN  ...      NaN     NaN     NaN           NaN NaN   NaN NaN   \n",
       "12352.0       NaN  ...      NaN     NaN     NaN           NaN NaN   NaN NaN   \n",
       "12356.0       NaN  ...      NaN     NaN     NaN           NaN NaN   NaN NaN   \n",
       "12357.0       NaN  ...      NaN     NaN     NaN           NaN NaN   NaN NaN   \n",
       "12362.0       NaN  ...      NaN     NaN     NaN           NaN NaN   NaN NaN   \n",
       "\n",
       "StockCode   DOT   M  POST  \n",
       "CustomerID                 \n",
       "12349.0     NaN NaN   1.0  \n",
       "12352.0     NaN NaN   2.0  \n",
       "12356.0     NaN NaN   NaN  \n",
       "12357.0     NaN NaN   NaN  \n",
       "12362.0     NaN NaN   4.0  \n",
       "\n",
       "[5 rows x 2704 columns]"
      ]
     },
     "execution_count": 7,
     "metadata": {},
     "output_type": "execute_result"
    }
   ],
   "source": [
    "matriz_ventas_df.head()"
   ]
  },
  {
   "cell_type": "code",
   "execution_count": 8,
   "metadata": {},
   "outputs": [
    {
     "data": {
      "text/plain": [
       "(1711, 2704)"
      ]
     },
     "execution_count": 8,
     "metadata": {},
     "output_type": "execute_result"
    }
   ],
   "source": [
    "matriz_ventas_df.shape"
   ]
  },
  {
   "cell_type": "markdown",
   "metadata": {},
   "source": [
    "Tenemos una matriz de 1711 clientes y 2704 productos"
   ]
  },
  {
   "cell_type": "code",
   "execution_count": 9,
   "metadata": {},
   "outputs": [],
   "source": [
    "customer_id_lista = np.array(matriz_ventas_df.index.tolist())\n",
    "item_id_lista = np.array(matriz_ventas_df.columns.tolist())"
   ]
  },
  {
   "cell_type": "code",
   "execution_count": 10,
   "metadata": {},
   "outputs": [
    {
     "data": {
      "text/plain": [
       "array([ 12349.,  12352.,  12356., ...,  18274.,  18276.,  18283.])"
      ]
     },
     "execution_count": 10,
     "metadata": {},
     "output_type": "execute_result"
    }
   ],
   "source": [
    "customer_id_lista"
   ]
  },
  {
   "cell_type": "code",
   "execution_count": 11,
   "metadata": {},
   "outputs": [
    {
     "data": {
      "text/plain": [
       "array(['10080', '10120', '10124A', ..., 'DOT', 'M', 'POST'],\n",
       "      dtype='<U12')"
      ]
     },
     "execution_count": 11,
     "metadata": {},
     "output_type": "execute_result"
    }
   ],
   "source": [
    "item_id_lista"
   ]
  },
  {
   "cell_type": "markdown",
   "metadata": {},
   "source": [
    "Ahora creamos la matriz escasa (sparse)"
   ]
  },
  {
   "cell_type": "code",
   "execution_count": 12,
   "metadata": {},
   "outputs": [],
   "source": [
    "from scipy.sparse import coo_matrix"
   ]
  },
  {
   "cell_type": "markdown",
   "metadata": {},
   "source": [
    "Para poder crear la matriz sparse tenemos que eliminar los NaN, los reemplazamos por 0"
   ]
  },
  {
   "cell_type": "code",
   "execution_count": 13,
   "metadata": {},
   "outputs": [],
   "source": [
    "ventas_mtz = matriz_ventas_df.fillna(0).values.copy()\n",
    "ventas_mtz_sparse = coo_matrix(ventas_mtz)"
   ]
  },
  {
   "cell_type": "code",
   "execution_count": 14,
   "metadata": {},
   "outputs": [
    {
     "data": {
      "text/plain": [
       "<1711x2704 sparse matrix of type '<class 'numpy.float64'>'\n",
       "\twith 55529 stored elements in COOrdinate format>"
      ]
     },
     "execution_count": 14,
     "metadata": {},
     "output_type": "execute_result"
    }
   ],
   "source": [
    "ventas_mtz_sparse"
   ]
  },
  {
   "cell_type": "markdown",
   "metadata": {},
   "source": [
    "## Hacer la descomposicion SVD sparse de la matriz original de cliente/producto, (podemos tomar k=10)"
   ]
  },
  {
   "cell_type": "code",
   "execution_count": 15,
   "metadata": {},
   "outputs": [],
   "source": [
    "from scipy.sparse.linalg import svds\n",
    "\n",
    "U, s, V = svds(ventas_mtz_sparse, k=10)"
   ]
  },
  {
   "cell_type": "code",
   "execution_count": 16,
   "metadata": {},
   "outputs": [
    {
     "name": "stdout",
     "output_type": "stream",
     "text": [
      "Tamaños\n",
      "U: (1711, 10)\n",
      "s: (10,)\n",
      "V: (10, 2704)\n"
     ]
    }
   ],
   "source": [
    "print('Tamaños')\n",
    "print(f'U: {U.shape}')\n",
    "print(f's: {s.shape}')\n",
    "print(f'V: {V.shape}')"
   ]
  },
  {
   "cell_type": "markdown",
   "metadata": {},
   "source": [
    "# Reconstruir la matriz original de cliente/producto con SVD"
   ]
  },
  {
   "cell_type": "code",
   "execution_count": 17,
   "metadata": {},
   "outputs": [],
   "source": [
    "# Convertimos el array diagonal a una matriz diagonal\n",
    "s_diag = np.diag(s)"
   ]
  },
  {
   "cell_type": "code",
   "execution_count": 19,
   "metadata": {},
   "outputs": [],
   "source": [
    "ventas_svd = U @ s_diag @ V"
   ]
  },
  {
   "cell_type": "markdown",
   "metadata": {},
   "source": [
    "Ahora tenemos la matriz recreada pero rellenada con los valores  latentes producidos por la descomposicion SVD"
   ]
  },
  {
   "cell_type": "code",
   "execution_count": 20,
   "metadata": {},
   "outputs": [
    {
     "data": {
      "text/plain": [
       "(1711, 2704)"
      ]
     },
     "execution_count": 20,
     "metadata": {},
     "output_type": "execute_result"
    }
   ],
   "source": [
    "ventas_svd.shape"
   ]
  },
  {
   "cell_type": "code",
   "execution_count": 21,
   "metadata": {},
   "outputs": [
    {
     "data": {
      "text/plain": [
       "array([[  5.35933696e-04,   1.28052995e-03,   2.01128431e-05, ...,\n",
       "          5.90257550e-04,  -1.52337657e-02,   5.37978794e-02],\n",
       "       [  4.85998891e-05,   1.20374209e-04,   1.71779851e-06, ...,\n",
       "          5.25221195e-05,   1.44783840e-03,   4.46877775e-03],\n",
       "       [  6.73127138e-06,   2.04804778e-05,   1.96671604e-07, ...,\n",
       "          7.62166096e-06,  -5.78393382e-05,   1.90390914e-04],\n",
       "       ..., \n",
       "       [  3.29712133e-19,   1.81773219e-18,   2.19555867e-20, ...,\n",
       "         -2.71281918e-19,   2.29107452e-14,  -5.57755083e-17],\n",
       "       [ -6.49041982e-08,  -1.86346004e-07,  -1.42547025e-09, ...,\n",
       "         -7.07688783e-08,   6.88413885e-07,  -1.37401051e-07],\n",
       "       [  1.48087850e-03,   4.31613157e-03,   4.29277782e-05, ...,\n",
       "          1.75324423e-03,   3.43191936e-01,   4.95828338e-02]])"
      ]
     },
     "execution_count": 21,
     "metadata": {},
     "output_type": "execute_result"
    }
   ],
   "source": [
    "ventas_svd"
   ]
  },
  {
   "cell_type": "markdown",
   "metadata": {},
   "source": [
    "### Crear función de recomendación.\n",
    "\n",
    "Hasta aquí hemos explicado todo en clase, ahora llega la parte adicional donde se proporciona valor a dicha decomposicion.\n",
    "\n",
    "Ahora tenemos una matriz con las \"puntuaciones\" que cada cliente daria a cada producto. Lo que tenemos que hacer es crear una funcion que dado un cliente, tome la fila que le corresponde en la matriz que hemos calculado con SVD. Para dicha fila, aquellos valores más altos serán aquellos con una puntuacion estimada más alta para dicho usuario. Asi que simplemente tomamos los productos (las columnas) con valores más altos **que no estuviesen en el dataset original para el usuario!**, ya que no le debemos recomendar productos que ya ha comprado, sino productos nuevos.\n",
    "\n",
    "Dicha función debe tomar como argumento una id de cliente y un número de recomendaciones y debe devolver las recomendaciones."
   ]
  },
  {
   "cell_type": "code",
   "execution_count": 38,
   "metadata": {},
   "outputs": [],
   "source": [
    "def recomendar(id_cliente, num_recomendaciones=5):\n",
    "    # cogemos la fila de la matriz que corresponde a la id de cliente \n",
    "    cliente_index = np.where(customer_id_lista == id_cliente)[0][0]\n",
    "\n",
    "    # Ordenamos las compras predichas por los clientes en valor descendente\n",
    "    index_sort = ventas_svd[cliente_index, :].argsort()[::-1]\n",
    "\n",
    "    # creamos una máscara booleana (True/False) de los productos que no ha comprado el cliente\n",
    "    productos_no_comprados = ventas_mtz[cliente_index, :][index_sort] == 0\n",
    "\n",
    "    rec_index = index_sort[productos_no_comprados]\n",
    "    rec_ids = item_id_lista[rec_index]\n",
    "    recomendaciones = rec_ids[:num_recomendaciones]\n",
    "    return recomendaciones"
   ]
  },
  {
   "cell_type": "markdown",
   "metadata": {},
   "source": [
    "Ahora si tenemos un cliente en concreto (por ejemplo el cliente con `id=\"12352\"`):"
   ]
  },
  {
   "cell_type": "code",
   "execution_count": 39,
   "metadata": {},
   "outputs": [],
   "source": [
    "cliente_id = 12352"
   ]
  },
  {
   "cell_type": "code",
   "execution_count": 40,
   "metadata": {},
   "outputs": [
    {
     "data": {
      "text/html": [
       "<div>\n",
       "<style scoped>\n",
       "    .dataframe tbody tr th:only-of-type {\n",
       "        vertical-align: middle;\n",
       "    }\n",
       "\n",
       "    .dataframe tbody tr th {\n",
       "        vertical-align: top;\n",
       "    }\n",
       "\n",
       "    .dataframe thead th {\n",
       "        text-align: right;\n",
       "    }\n",
       "</style>\n",
       "<table border=\"1\" class=\"dataframe\">\n",
       "  <thead>\n",
       "    <tr style=\"text-align: right;\">\n",
       "      <th>StockCode</th>\n",
       "      <th>10080</th>\n",
       "      <th>10120</th>\n",
       "      <th>10124A</th>\n",
       "      <th>10124G</th>\n",
       "      <th>10125</th>\n",
       "      <th>10135</th>\n",
       "      <th>11001</th>\n",
       "      <th>15030</th>\n",
       "      <th>15034</th>\n",
       "      <th>15036</th>\n",
       "      <th>...</th>\n",
       "      <th>90214M</th>\n",
       "      <th>90214N</th>\n",
       "      <th>90214S</th>\n",
       "      <th>BANK CHARGES</th>\n",
       "      <th>C2</th>\n",
       "      <th>CRUK</th>\n",
       "      <th>D</th>\n",
       "      <th>DOT</th>\n",
       "      <th>M</th>\n",
       "      <th>POST</th>\n",
       "    </tr>\n",
       "    <tr>\n",
       "      <th>CustomerID</th>\n",
       "      <th></th>\n",
       "      <th></th>\n",
       "      <th></th>\n",
       "      <th></th>\n",
       "      <th></th>\n",
       "      <th></th>\n",
       "      <th></th>\n",
       "      <th></th>\n",
       "      <th></th>\n",
       "      <th></th>\n",
       "      <th></th>\n",
       "      <th></th>\n",
       "      <th></th>\n",
       "      <th></th>\n",
       "      <th></th>\n",
       "      <th></th>\n",
       "      <th></th>\n",
       "      <th></th>\n",
       "      <th></th>\n",
       "      <th></th>\n",
       "      <th></th>\n",
       "    </tr>\n",
       "  </thead>\n",
       "  <tbody>\n",
       "    <tr>\n",
       "      <th>12349.0</th>\n",
       "      <td>NaN</td>\n",
       "      <td>NaN</td>\n",
       "      <td>NaN</td>\n",
       "      <td>NaN</td>\n",
       "      <td>NaN</td>\n",
       "      <td>NaN</td>\n",
       "      <td>NaN</td>\n",
       "      <td>NaN</td>\n",
       "      <td>NaN</td>\n",
       "      <td>NaN</td>\n",
       "      <td>...</td>\n",
       "      <td>NaN</td>\n",
       "      <td>NaN</td>\n",
       "      <td>NaN</td>\n",
       "      <td>NaN</td>\n",
       "      <td>NaN</td>\n",
       "      <td>NaN</td>\n",
       "      <td>NaN</td>\n",
       "      <td>NaN</td>\n",
       "      <td>NaN</td>\n",
       "      <td>1.0</td>\n",
       "    </tr>\n",
       "    <tr>\n",
       "      <th>12352.0</th>\n",
       "      <td>NaN</td>\n",
       "      <td>NaN</td>\n",
       "      <td>NaN</td>\n",
       "      <td>NaN</td>\n",
       "      <td>NaN</td>\n",
       "      <td>NaN</td>\n",
       "      <td>NaN</td>\n",
       "      <td>NaN</td>\n",
       "      <td>NaN</td>\n",
       "      <td>NaN</td>\n",
       "      <td>...</td>\n",
       "      <td>NaN</td>\n",
       "      <td>NaN</td>\n",
       "      <td>NaN</td>\n",
       "      <td>NaN</td>\n",
       "      <td>NaN</td>\n",
       "      <td>NaN</td>\n",
       "      <td>NaN</td>\n",
       "      <td>NaN</td>\n",
       "      <td>NaN</td>\n",
       "      <td>2.0</td>\n",
       "    </tr>\n",
       "    <tr>\n",
       "      <th>12356.0</th>\n",
       "      <td>NaN</td>\n",
       "      <td>NaN</td>\n",
       "      <td>NaN</td>\n",
       "      <td>NaN</td>\n",
       "      <td>NaN</td>\n",
       "      <td>NaN</td>\n",
       "      <td>NaN</td>\n",
       "      <td>NaN</td>\n",
       "      <td>NaN</td>\n",
       "      <td>NaN</td>\n",
       "      <td>...</td>\n",
       "      <td>NaN</td>\n",
       "      <td>NaN</td>\n",
       "      <td>NaN</td>\n",
       "      <td>NaN</td>\n",
       "      <td>NaN</td>\n",
       "      <td>NaN</td>\n",
       "      <td>NaN</td>\n",
       "      <td>NaN</td>\n",
       "      <td>NaN</td>\n",
       "      <td>NaN</td>\n",
       "    </tr>\n",
       "    <tr>\n",
       "      <th>12357.0</th>\n",
       "      <td>NaN</td>\n",
       "      <td>NaN</td>\n",
       "      <td>NaN</td>\n",
       "      <td>NaN</td>\n",
       "      <td>NaN</td>\n",
       "      <td>NaN</td>\n",
       "      <td>NaN</td>\n",
       "      <td>NaN</td>\n",
       "      <td>NaN</td>\n",
       "      <td>NaN</td>\n",
       "      <td>...</td>\n",
       "      <td>NaN</td>\n",
       "      <td>NaN</td>\n",
       "      <td>NaN</td>\n",
       "      <td>NaN</td>\n",
       "      <td>NaN</td>\n",
       "      <td>NaN</td>\n",
       "      <td>NaN</td>\n",
       "      <td>NaN</td>\n",
       "      <td>NaN</td>\n",
       "      <td>NaN</td>\n",
       "    </tr>\n",
       "    <tr>\n",
       "      <th>12362.0</th>\n",
       "      <td>NaN</td>\n",
       "      <td>NaN</td>\n",
       "      <td>NaN</td>\n",
       "      <td>NaN</td>\n",
       "      <td>NaN</td>\n",
       "      <td>NaN</td>\n",
       "      <td>NaN</td>\n",
       "      <td>NaN</td>\n",
       "      <td>NaN</td>\n",
       "      <td>NaN</td>\n",
       "      <td>...</td>\n",
       "      <td>NaN</td>\n",
       "      <td>NaN</td>\n",
       "      <td>NaN</td>\n",
       "      <td>NaN</td>\n",
       "      <td>NaN</td>\n",
       "      <td>NaN</td>\n",
       "      <td>NaN</td>\n",
       "      <td>NaN</td>\n",
       "      <td>NaN</td>\n",
       "      <td>4.0</td>\n",
       "    </tr>\n",
       "  </tbody>\n",
       "</table>\n",
       "<p>5 rows × 2704 columns</p>\n",
       "</div>"
      ],
      "text/plain": [
       "StockCode   10080  10120  10124A  10124G  10125  10135  11001  15030  15034  \\\n",
       "CustomerID                                                                    \n",
       "12349.0       NaN    NaN     NaN     NaN    NaN    NaN    NaN    NaN    NaN   \n",
       "12352.0       NaN    NaN     NaN     NaN    NaN    NaN    NaN    NaN    NaN   \n",
       "12356.0       NaN    NaN     NaN     NaN    NaN    NaN    NaN    NaN    NaN   \n",
       "12357.0       NaN    NaN     NaN     NaN    NaN    NaN    NaN    NaN    NaN   \n",
       "12362.0       NaN    NaN     NaN     NaN    NaN    NaN    NaN    NaN    NaN   \n",
       "\n",
       "StockCode   15036  ...   90214M  90214N  90214S  BANK CHARGES  C2  CRUK   D  \\\n",
       "CustomerID         ...                                                        \n",
       "12349.0       NaN  ...      NaN     NaN     NaN           NaN NaN   NaN NaN   \n",
       "12352.0       NaN  ...      NaN     NaN     NaN           NaN NaN   NaN NaN   \n",
       "12356.0       NaN  ...      NaN     NaN     NaN           NaN NaN   NaN NaN   \n",
       "12357.0       NaN  ...      NaN     NaN     NaN           NaN NaN   NaN NaN   \n",
       "12362.0       NaN  ...      NaN     NaN     NaN           NaN NaN   NaN NaN   \n",
       "\n",
       "StockCode   DOT   M  POST  \n",
       "CustomerID                 \n",
       "12349.0     NaN NaN   1.0  \n",
       "12352.0     NaN NaN   2.0  \n",
       "12356.0     NaN NaN   NaN  \n",
       "12357.0     NaN NaN   NaN  \n",
       "12362.0     NaN NaN   4.0  \n",
       "\n",
       "[5 rows x 2704 columns]"
      ]
     },
     "execution_count": 40,
     "metadata": {},
     "output_type": "execute_result"
    }
   ],
   "source": [
    "matriz_ventas_df.head()"
   ]
  },
  {
   "cell_type": "code",
   "execution_count": 47,
   "metadata": {},
   "outputs": [
    {
     "data": {
      "text/plain": [
       "['BLUE STRIPE CERAMIC DRAWER KNOB',\n",
       " 'VICTORIAN GLASS HANGING T-LIGHT',\n",
       " 'IVORY KITCHEN SCALES',\n",
       " 'MINT KITCHEN SCALES',\n",
       " 'CHILDS BREAKFAST SET DOLLY GIRL ',\n",
       " 'PINK BABY BUNTING',\n",
       " 'PANTRY ROLLING PIN',\n",
       " 'PANTRY PASTRY BRUSH',\n",
       " 'ZINC HEART FLOWER T-LIGHT HOLDER',\n",
       " 'GLASS BON BON JAR',\n",
       " 'PETIT TRAY CHIC',\n",
       " 'SET 12 COLOUR PENCILS SPACEBOY ',\n",
       " 'SET 12 COLOUR PENCILS DOLLY GIRL ',\n",
       " 'WOODLAND BUNNIES LOLLY MAKERS',\n",
       " 'POSTAGE']"
      ]
     },
     "execution_count": 47,
     "metadata": {},
     "output_type": "execute_result"
    }
   ],
   "source": [
    "d = matriz_ventas_df.loc[cliente_id]\n",
    "[item_dict[x] for x in d[d.notna()].index]"
   ]
  },
  {
   "cell_type": "markdown",
   "metadata": {},
   "source": [
    "Podemos ver las recomendaciones con la funcion que acabamos de crear"
   ]
  },
  {
   "cell_type": "code",
   "execution_count": 50,
   "metadata": {},
   "outputs": [
    {
     "name": "stdout",
     "output_type": "stream",
     "text": [
      "['22492' '85099B' '22152' '21810' '22356' '21787' '20973' '23583' '22629'\n",
      " '22382']\n"
     ]
    }
   ],
   "source": [
    "recomendaciones = recomendar(cliente_id, 10)\n",
    "print(recomendaciones)"
   ]
  },
  {
   "cell_type": "code",
   "execution_count": 51,
   "metadata": {},
   "outputs": [
    {
     "data": {
      "text/plain": [
       "['MINI PAINT SET VINTAGE ',\n",
       " 'JUMBO BAG RED RETROSPOT',\n",
       " 'PLACE SETTING WHITE STAR',\n",
       " 'CHRISTMAS HANGING STAR WITH BELL',\n",
       " 'CHARLOTTE BAG PINK POLKADOT',\n",
       " 'RAIN PONCHO RETROSPOT',\n",
       " '12 PENCIL SMALL TUBE WOODLAND',\n",
       " 'LUNCH BAG PAISLEY PARK  ',\n",
       " 'SPACEBOY LUNCH BOX ',\n",
       " 'LUNCH BAG SPACEBOY DESIGN ']"
      ]
     },
     "execution_count": 51,
     "metadata": {},
     "output_type": "execute_result"
    }
   ],
   "source": [
    "[item_dict[x] for x in recomendaciones]"
   ]
  },
  {
   "cell_type": "code",
   "execution_count": null,
   "metadata": {},
   "outputs": [],
   "source": []
  }
 ],
 "metadata": {
  "kernelspec": {
   "display_name": "Python 3",
   "language": "python",
   "name": "python3"
  },
  "language_info": {
   "codemirror_mode": {
    "name": "ipython",
    "version": 3
   },
   "file_extension": ".py",
   "mimetype": "text/x-python",
   "name": "python",
   "nbconvert_exporter": "python",
   "pygments_lexer": "ipython3",
   "version": "3.6.5"
  }
 },
 "nbformat": 4,
 "nbformat_minor": 2
}
