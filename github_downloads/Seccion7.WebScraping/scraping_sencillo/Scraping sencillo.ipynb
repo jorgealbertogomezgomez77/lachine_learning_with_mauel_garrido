{
 "cells": [
  {
   "cell_type": "code",
   "execution_count": 1,
   "metadata": {},
   "outputs": [
    {
     "name": "stdout",
     "output_type": "stream",
     "text": [
      "2018-05-14T10:06:17+01:00\n",
      "\n",
      "CPython 3.6.5\n",
      "IPython 6.3.1\n",
      "\n",
      "compiler   : MSC v.1900 64 bit (AMD64)\n",
      "system     : Windows\n",
      "release    : 10\n",
      "machine    : AMD64\n",
      "processor  : Intel64 Family 6 Model 158 Stepping 9, GenuineIntel\n",
      "CPU cores  : 8\n",
      "interpreter: 64bit\n"
     ]
    }
   ],
   "source": [
    "%load_ext watermark\n",
    "%watermark"
   ]
  },
  {
   "cell_type": "markdown",
   "metadata": {},
   "source": [
    "# Scraping sencillo"
   ]
  },
  {
   "cell_type": "markdown",
   "metadata": {},
   "source": [
    "### 1. pandas.read_clipboard"
   ]
  },
  {
   "cell_type": "markdown",
   "metadata": {},
   "source": [
    "Pandas tiene una función que permite copiar directamente una tabla de una página web a un dataframe\n",
    "\n",
    "Por ejemplo, podemos ir a [ésta página](https://es.wikipedia.org/wiki/Anexo:Ciudades_europeas_por_poblaci%C3%B3n) que contiene una lista de las ciudades más pobladas de Europa, copiar los datos y pegarlos en un dataframe con `pd.read_clipboard`"
   ]
  },
  {
   "cell_type": "code",
   "execution_count": 2,
   "metadata": {},
   "outputs": [],
   "source": [
    "import pandas as pd"
   ]
  },
  {
   "cell_type": "code",
   "execution_count": 3,
   "metadata": {},
   "outputs": [],
   "source": [
    "df = pd.read_clipboard()"
   ]
  },
  {
   "cell_type": "code",
   "execution_count": 4,
   "metadata": {},
   "outputs": [
    {
     "data": {
      "text/html": [
       "<div>\n",
       "<style scoped>\n",
       "    .dataframe tbody tr th:only-of-type {\n",
       "        vertical-align: middle;\n",
       "    }\n",
       "\n",
       "    .dataframe tbody tr th {\n",
       "        vertical-align: top;\n",
       "    }\n",
       "\n",
       "    .dataframe thead th {\n",
       "        text-align: right;\n",
       "    }\n",
       "</style>\n",
       "<table border=\"1\" class=\"dataframe\">\n",
       "  <thead>\n",
       "    <tr style=\"text-align: right;\">\n",
       "      <th></th>\n",
       "      <th>Europa</th>\n",
       "      <th>UE</th>\n",
       "      <th>País</th>\n",
       "      <th>Nombre en español</th>\n",
       "      <th>Nombre en idioma original</th>\n",
       "      <th>País .1</th>\n",
       "      <th>Entidad administrativa</th>\n",
       "      <th>Subentidad administrativa</th>\n",
       "      <th>Población</th>\n",
       "    </tr>\n",
       "  </thead>\n",
       "  <tbody>\n",
       "    <tr>\n",
       "      <th>0</th>\n",
       "      <td>1</td>\n",
       "      <td>-</td>\n",
       "      <td>TUR-01</td>\n",
       "      <td>Estambul</td>\n",
       "      <td>İstanbul</td>\n",
       "      <td>Bandera de Turquía Turquía</td>\n",
       "      <td>Provincia de Estambul</td>\n",
       "      <td>NaN</td>\n",
       "      <td>14 657 434</td>\n",
       "    </tr>\n",
       "    <tr>\n",
       "      <th>1</th>\n",
       "      <td>2</td>\n",
       "      <td>-</td>\n",
       "      <td>RUS-01</td>\n",
       "      <td>Moscú</td>\n",
       "      <td>Москва</td>\n",
       "      <td>Flag of Russia.svg Rusia</td>\n",
       "      <td>Distrito federal Central</td>\n",
       "      <td>Ciudad federal de Moscú</td>\n",
       "      <td>12 380 664</td>\n",
       "    </tr>\n",
       "    <tr>\n",
       "      <th>2</th>\n",
       "      <td>3</td>\n",
       "      <td>UE-001</td>\n",
       "      <td>GBR-01</td>\n",
       "      <td>Londres</td>\n",
       "      <td>London</td>\n",
       "      <td>Bandera de Reino Unido Reino Unido</td>\n",
       "      <td>Inglaterra</td>\n",
       "      <td>Gran Londres</td>\n",
       "      <td>8 787 892</td>\n",
       "    </tr>\n",
       "    <tr>\n",
       "      <th>3</th>\n",
       "      <td>4</td>\n",
       "      <td>-</td>\n",
       "      <td>RUS-02</td>\n",
       "      <td>San Petersburgo</td>\n",
       "      <td>Санкт-Петербург</td>\n",
       "      <td>Flag of Russia.svg Rusia</td>\n",
       "      <td>Distrito federal del Noroeste</td>\n",
       "      <td>Ciudad federal de San Petersburgo</td>\n",
       "      <td>5 281 579</td>\n",
       "    </tr>\n",
       "    <tr>\n",
       "      <th>4</th>\n",
       "      <td>5</td>\n",
       "      <td>UE-002</td>\n",
       "      <td>ALE-01</td>\n",
       "      <td>Berlín</td>\n",
       "      <td>Berlin</td>\n",
       "      <td>Flag of Germany.svg Alemania</td>\n",
       "      <td>Berlín</td>\n",
       "      <td>NaN</td>\n",
       "      <td>3 469 849</td>\n",
       "    </tr>\n",
       "    <tr>\n",
       "      <th>5</th>\n",
       "      <td>6</td>\n",
       "      <td>UE-003</td>\n",
       "      <td>ESP-01</td>\n",
       "      <td>Madrid</td>\n",
       "      <td>NaN</td>\n",
       "      <td>Flag of Spain.svg España</td>\n",
       "      <td>Comunidad de Madrid</td>\n",
       "      <td>NaN</td>\n",
       "      <td>3 165 541</td>\n",
       "    </tr>\n",
       "    <tr>\n",
       "      <th>6</th>\n",
       "      <td>7</td>\n",
       "      <td>-</td>\n",
       "      <td>UKR-01</td>\n",
       "      <td>Kiev</td>\n",
       "      <td>Київ</td>\n",
       "      <td>Flag of Ukraine.svg Ucrania</td>\n",
       "      <td>Óblast de Kiev</td>\n",
       "      <td>NaN</td>\n",
       "      <td>2 907 684</td>\n",
       "    </tr>\n",
       "    <tr>\n",
       "      <th>7</th>\n",
       "      <td>8</td>\n",
       "      <td>UE-004</td>\n",
       "      <td>ITA-01</td>\n",
       "      <td>Roma</td>\n",
       "      <td>NaN</td>\n",
       "      <td>Flag of Italy.svg Italia</td>\n",
       "      <td>Lacio</td>\n",
       "      <td>Ciudad metropolitana de Roma Capital</td>\n",
       "      <td>2 864 348</td>\n",
       "    </tr>\n",
       "    <tr>\n",
       "      <th>8</th>\n",
       "      <td>9</td>\n",
       "      <td>UE-005</td>\n",
       "      <td>FRA-01</td>\n",
       "      <td>París</td>\n",
       "      <td>Paris</td>\n",
       "      <td>Flag of France.svg Francia</td>\n",
       "      <td>Isla de Francia</td>\n",
       "      <td>NaN</td>\n",
       "      <td>2 243 739</td>\n",
       "    </tr>\n",
       "    <tr>\n",
       "      <th>9</th>\n",
       "      <td>10</td>\n",
       "      <td>-</td>\n",
       "      <td>AZE-01</td>\n",
       "      <td>Bakú</td>\n",
       "      <td>Bakı</td>\n",
       "      <td>Bandera de Azerbaiyán Azerbaiyán</td>\n",
       "      <td>-</td>\n",
       "      <td>Bakú</td>\n",
       "      <td>2 181 800</td>\n",
       "    </tr>\n",
       "  </tbody>\n",
       "</table>\n",
       "</div>"
      ],
      "text/plain": [
       "   Europa       UE     País  Nombre en español  Nombre en idioma original   \\\n",
       "0        1       -   TUR-01           Estambul                   İstanbul    \n",
       "1        2       -   RUS-01              Moscú                     Москва    \n",
       "2        3  UE-001   GBR-01            Londres                     London    \n",
       "3        4       -   RUS-02    San Petersburgo            Санкт-Петербург    \n",
       "4        5  UE-002   ALE-01             Berlín                     Berlin    \n",
       "5        6  UE-003   ESP-01             Madrid                         NaN   \n",
       "6        7       -   UKR-01               Kiev                       Київ    \n",
       "7        8  UE-004   ITA-01               Roma                         NaN   \n",
       "8        9  UE-005   FRA-01              París                      Paris    \n",
       "9       10       -   AZE-01               Bakú                       Bakı    \n",
       "\n",
       "                               País .1         Entidad administrativa   \\\n",
       "0          Bandera de Turquía Turquía           Provincia de Estambul    \n",
       "1            Flag of Russia.svg Rusia        Distrito federal Central    \n",
       "2  Bandera de Reino Unido Reino Unido                      Inglaterra    \n",
       "3            Flag of Russia.svg Rusia   Distrito federal del Noroeste    \n",
       "4        Flag of Germany.svg Alemania                          Berlín    \n",
       "5            Flag of Spain.svg España             Comunidad de Madrid    \n",
       "6         Flag of Ukraine.svg Ucrania                  Óblast de Kiev    \n",
       "7            Flag of Italy.svg Italia                           Lacio    \n",
       "8          Flag of France.svg Francia                 Isla de Francia    \n",
       "9    Bandera de Azerbaiyán Azerbaiyán                               -    \n",
       "\n",
       "              Subentidad administrativa    Población  \n",
       "0                                    NaN  14 657 434  \n",
       "1               Ciudad federal de Moscú   12 380 664  \n",
       "2                          Gran Londres    8 787 892  \n",
       "3     Ciudad federal de San Petersburgo    5 281 579  \n",
       "4                                    NaN   3 469 849  \n",
       "5                                    NaN   3 165 541  \n",
       "6                                    NaN   2 907 684  \n",
       "7  Ciudad metropolitana de Roma Capital    2 864 348  \n",
       "8                                    NaN   2 243 739  \n",
       "9                                  Bakú    2 181 800  "
      ]
     },
     "execution_count": 4,
     "metadata": {},
     "output_type": "execute_result"
    }
   ],
   "source": [
    "df.head(10)"
   ]
  },
  {
   "cell_type": "code",
   "execution_count": 5,
   "metadata": {},
   "outputs": [],
   "source": [
    "df.to_csv(\"poblacion.csv\", index=False)"
   ]
  },
  {
   "cell_type": "markdown",
   "metadata": {},
   "source": [
    "### 2. requests + extruct\n",
    "\n",
    "En ciertos casos, las páginas web anotan su html con información adicional para ayudar a que las máquinas puedan leer sus datos, con el objetivo generalmente de ayudar a los motores de búsqueda a indexar sus productos. Esto se llama [la web semántica](https://es.wikipedia.org/wiki/Web_sem%C3%A1ntica)). \n",
    "\n",
    "Por ejemplo, si buscamos un producto en google, generalmente veremos productos recomendados directamente en la página de búsqueda. Esto es así por que las paginas que tienen dichos productos tienen un conjunto de etiquetas especiales.\n",
    "\n",
    "Podemos usar la librería [extruct](https://github.com/scrapinghub/extruct) para extraer dichos datos de forma sencilla en aquellos casos donde la página proporcione las etiquetas semánticas.\n",
    "\n",
    "Extruct se instala de forma sencilla con `pip install extruct`"
   ]
  },
  {
   "cell_type": "markdown",
   "metadata": {},
   "source": [
    "Por ejemplo, supongamos que queremos extraer información de teléfonos móviles de la tienda online [Pc Componentes](https://www.pccomponentes.com/smartphone-moviles\n",
    ").\n",
    "\n",
    "Como dicha tienda online tiene etiquetados sus productos para la web semántica, es muy facil el obtener los datos"
   ]
  },
  {
   "cell_type": "code",
   "execution_count": 6,
   "metadata": {},
   "outputs": [],
   "source": [
    "import requests\n",
    "import extruct\n",
    "\n",
    "respuesta = requests.get(\"https://www.pccomponentes.com/smartphone-moviles\")\n",
    "datos_tienda = extruct.extract(respuesta.text)"
   ]
  },
  {
   "cell_type": "code",
   "execution_count": 13,
   "metadata": {},
   "outputs": [
    {
     "name": "stdout",
     "output_type": "stream",
     "text": [
      "{'json-ld': [{'@context': 'http://schema.org',\n",
      "              '@type': 'WebSite',\n",
      "              'dateModified': '2016-11-16T00:00',\n",
      "              'image': 'https://cdn.pccomponentes.com/img/rrss/general.png',\n",
      "              'potentialAction': {'@type': 'SearchAction',\n",
      "                                  'query-input': 'required '\n",
      "                                                 'name=search_term_string',\n",
      "                                  'target': 'https://www.pccomponentes.com/buscar/?query={search_term_string}'},\n",
      "              'url': 'https://pccomponentes.com/'}],\n",
      " 'microdata': [{'properties': {'brand': 'Xiaomi',\n",
      "                               'image': 'http://thumb.pccomponentes.com/w-220-220/articles/13/138881/1.jpg',\n",
      "                               'name': 'Xiaomi Mi A1 4GB/64GB 4G Negro Dual '\n",
      "                                       'Sim',\n",
      "                               'offers': {'properties': {'availability': 'in '\n",
      "                                                                         'stock',\n",
      "                                                         'price': '214',\n",
      "                                                         'priceCurrency': 'EUR'},\n",
      "                                          'type': 'http://schema.org/Offer'},\n",
      "                               'sku': '138881',\n",
      "                               'url': ['http://www.example.com/xiaomi-mi-a1-4gb-64gb-4g-negro-dual-sim',\n",
      "                                       'http://www.example.com/xiaomi-mi-a1-4gb-64gb-4g-negro-dual-sim']},\n",
      "                'type': 'http://schema.org/Product'},\n",
      "               {'properties': {'brand': 'Xiaomi',\n",
      "                               'image': 'http://thumb.pccomponentes.com/w-220-220/articles/13/138885/1-1.jpg',\n",
      "                               'name': 'Xiaomi Mi A1 4GB/64GB 4G Dorado Dual '\n",
      "                                       'Sim',\n",
      "                               'offers': {'properties': {'availability': 'in '\n",
      "                                                                         'stock',\n",
      "                                                         'price': '213',\n",
      "                                                         'priceCurrency': 'EUR'},\n",
      "                                          'type': 'http://schema.org/Offer'},\n",
      "                               'sku': '138885',\n",
      "                               'url': ['http://www.example.com/xiaomi-mi-a1-4gb-64gb-4g-dorado-dual-sim',\n",
      "                                       'http://www.example.com/xiaomi-mi-a1-4gb-64gb-4g-dorado-dual-sim']},\n",
      "                'type': 'http://schema.org/Product'},\n",
      "               {'properties': {'brand': 'Xiaomi',\n",
      "                               'image': 'http://thumb.pccomponentes.com/w-220-220/articles/14/146167/1-1.jpg',\n",
      "                               'name': 'Xiaomi Mi A1 4Gb/32Gb Dorado Dual Sim',\n",
      "                               'offers': {'properties': {'availability': 'in '\n",
      "                                                                         'stock',\n",
      "                                                         'price': '179',\n",
      "                                                         'priceCurrency': 'EUR'},\n",
      "                                          'type': 'http://schema.org/Offer'},\n",
      "                               'sku': '146167',\n",
      "                               'url': ['http://www.example.com/xiaomi-mi-a1-4gb-32gb-dorado-dual-sim',\n",
      "                                       'http://www.example.com/xiaomi-mi-a1-4gb-32gb-dorado-dual-sim']},\n",
      "                'type': 'http://schema.org/Product'},\n",
      "               {'properties': {'brand': 'Xiaomi',\n",
      "                               'image': 'http://thumb.pccomponentes.com/w-220-220/articles/14/145506/i-1.jpg',\n",
      "                               'name': 'Xiaomi Redmi 5A 4G 16GB Dual Sim Gris '\n",
      "                                       'Libre',\n",
      "                               'offers': {'properties': {'availability': 'in '\n",
      "                                                                         'stock',\n",
      "                                                         'price': '109',\n",
      "                                                         'priceCurrency': 'EUR'},\n",
      "                                          'type': 'http://schema.org/Offer'},\n",
      "                               'sku': '145506',\n",
      "                               'url': ['http://www.example.com/xiaomi-redmi-5a-4g-16gb-dual-sim-gris-libre',\n",
      "                                       'http://www.example.com/xiaomi-redmi-5a-4g-16gb-dual-sim-gris-libre']},\n",
      "                'type': 'http://schema.org/Product'},\n",
      "               {'properties': {'brand': 'Xiaomi',\n",
      "                               'image': 'http://thumb.pccomponentes.com/w-220-220/articles/13/138884/4.jpg',\n",
      "                               'name': 'Xiaomi Mi A1 4GB/64GB 4G Rosa Dual Sim',\n",
      "                               'offers': {'properties': {'availability': 'in '\n",
      "                                                                         'stock',\n",
      "                                                         'price': '213',\n",
      "                                                         'priceCurrency': 'EUR'},\n",
      "                                          'type': 'http://schema.org/Offer'},\n",
      "                               'sku': '138884',\n",
      "                               'url': ['http://www.example.com/xiaomi-mi-a1-4gb-64gb-4g-rosa-dual-sim',\n",
      "                                       'http://www.example.com/xiaomi-mi-a1-4gb-64gb-4g-rosa-dual-sim']},\n",
      "                'type': 'http://schema.org/Product'},\n",
      "               {'properties': {'brand': 'Xiaomi',\n",
      "                               'image': 'http://thumb.pccomponentes.com/w-220-220/articles/12/126513/sadad.jpg',\n",
      "                               'name': 'Xiaomi Redmi Note 4 3GB/32GB 4G Gris '\n",
      "                                       'Libre',\n",
      "                               'offers': {'properties': {'availability': 'in '\n",
      "                                                                         'stock',\n",
      "                                                         'price': ['170.33',\n",
      "                                                                   '149'],\n",
      "                                                         'priceCurrency': ['EUR',\n",
      "                                                                           'EUR']},\n",
      "                                          'type': 'http://schema.org/Offer'},\n",
      "                               'sku': '126513',\n",
      "                               'url': ['http://www.example.com/xiaomi-redmi-note-4-3gb-32gb-4g-gris-libre',\n",
      "                                       'http://www.example.com/xiaomi-redmi-note-4-3gb-32gb-4g-gris-libre']},\n",
      "                'type': 'http://schema.org/Product'},\n",
      "               {'properties': {'brand': 'Xiaomi',\n",
      "                               'image': 'http://thumb.pccomponentes.com/w-220-220/articles/14/142345/k1.jpg',\n",
      "                               'name': 'Xiaomi Redmi Note 5A Prime 32GB 4G '\n",
      "                                       'Dual Sim Dorado Libre',\n",
      "                               'offers': {'properties': {'availability': 'in '\n",
      "                                                                         'stock',\n",
      "                                                         'price': '149',\n",
      "                                                         'priceCurrency': 'EUR'},\n",
      "                                          'type': 'http://schema.org/Offer'},\n",
      "                               'sku': '142345',\n",
      "                               'url': ['http://www.example.com/xiaomi-redmi-note-5a-prime-32gb-4g-dual-sim-dorado-libre',\n",
      "                                       'http://www.example.com/xiaomi-redmi-note-5a-prime-32gb-4g-dual-sim-dorado-libre']},\n",
      "                'type': 'http://schema.org/Product'},\n",
      "               {'properties': {'brand': 'Xiaomi',\n",
      "                               'image': 'http://thumb.pccomponentes.com/w-220-220/articles/14/145503/h-2.jpg',\n",
      "                               'name': 'Xiaomi Redmi 5A 4G 16GB Dual Sim '\n",
      "                                       'Dorado Libre',\n",
      "                               'offers': {'properties': {'availability': 'in '\n",
      "                                                                         'stock',\n",
      "                                                         'price': '109',\n",
      "                                                         'priceCurrency': 'EUR'},\n",
      "                                          'type': 'http://schema.org/Offer'},\n",
      "                               'sku': '145503',\n",
      "                               'url': ['http://www.example.com/xiaomi-redmi-5a-4g-16gb-dual-sim-dorado-libre',\n",
      "                                       'http://www.example.com/xiaomi-redmi-5a-4g-16gb-dual-sim-dorado-libre']},\n",
      "                'type': 'http://schema.org/Product'},\n",
      "               {'properties': {'brand': 'Xiaomi',\n",
      "                               'image': 'http://thumb.pccomponentes.com/w-220-220/articles/14/149244/thumb-114131-default-big1.jpg',\n",
      "                               'name': 'Xiaomi Redmi 5 Plus 4/64Gb Negro Libre',\n",
      "                               'offers': {'properties': {'availability': 'in '\n",
      "                                                                         'stock',\n",
      "                                                         'price': '199',\n",
      "                                                         'priceCurrency': 'EUR'},\n",
      "                                          'type': 'http://schema.org/Offer'},\n",
      "                               'sku': '149244',\n",
      "                               'url': ['http://www.example.com/xiaomi-redmi-5-plus-4-64gb-negro-libre',\n",
      "                                       'http://www.example.com/xiaomi-redmi-5-plus-4-64gb-negro-libre']},\n",
      "                'type': 'http://schema.org/Product'},\n",
      "               {'properties': {'brand': 'Xiaomi',\n",
      "                               'image': 'http://thumb.pccomponentes.com/w-220-220/articles/14/142337/k4.jpg',\n",
      "                               'name': 'Xiaomi Redmi Note 5A Prime 32GB 4G '\n",
      "                                       'Dual Sim Gris Libre',\n",
      "                               'offers': {'properties': {'availability': 'in '\n",
      "                                                                         'stock',\n",
      "                                                         'price': '149',\n",
      "                                                         'priceCurrency': 'EUR'},\n",
      "                                          'type': 'http://schema.org/Offer'},\n",
      "                               'sku': '142337',\n",
      "                               'url': ['http://www.example.com/xiaomi-redmi-note-5a-prime-32gb-4g-dual-sim-gris-libre',\n",
      "                                       'http://www.example.com/xiaomi-redmi-note-5a-prime-32gb-4g-dual-sim-gris-libre']},\n",
      "                'type': 'http://schema.org/Product'},\n",
      "               {'properties': {'brand': 'Xiaomi',\n",
      "                               'image': 'http://thumb.pccomponentes.com/w-220-220/articles/14/142329/i1.jpg',\n",
      "                               'name': 'Xiaomi Redmi Note 5A 16GB 4G Dual Sim '\n",
      "                                       'Gris Libre',\n",
      "                               'offers': {'properties': {'availability': 'in '\n",
      "                                                                         'stock',\n",
      "                                                         'price': ['129',\n",
      "                                                                   '109'],\n",
      "                                                         'priceCurrency': ['EUR',\n",
      "                                                                           'EUR']},\n",
      "                                          'type': 'http://schema.org/Offer'},\n",
      "                               'sku': '142329',\n",
      "                               'url': ['http://www.example.com/xiaomi-redmi-note-5a-16gb-4g-dual-sim-gris-libre',\n",
      "                                       'http://www.example.com/xiaomi-redmi-note-5a-16gb-4g-dual-sim-gris-libre']},\n",
      "                'type': 'http://schema.org/Product'},\n",
      "               {'properties': {'brand': 'Xiaomi',\n",
      "                               'image': 'http://thumb.pccomponentes.com/w-220-220/articles/14/149249/1516161124-7-copia2.jpg',\n",
      "                               'name': 'Xiaomi Redmi 5 Plus 4/64Gb Dorado '\n",
      "                                       'Libre',\n",
      "                               'offers': {'properties': {'availability': 'in '\n",
      "                                                                         'stock',\n",
      "                                                         'price': '199',\n",
      "                                                         'priceCurrency': 'EUR'},\n",
      "                                          'type': 'http://schema.org/Offer'},\n",
      "                               'sku': '149249',\n",
      "                               'url': ['http://www.example.com/xiaomi-redmi-5-plus-4-64gb-dorado-libre',\n",
      "                                       'http://www.example.com/xiaomi-redmi-5-plus-4-64gb-dorado-libre']},\n",
      "                'type': 'http://schema.org/Product'},\n",
      "               {'properties': {'brand': 'Xiaomi',\n",
      "                               'image': 'http://thumb.pccomponentes.com/w-220-220/articles/14/140023/redm5a.jpg',\n",
      "                               'name': 'Xiaomi Redmi Note 5A 16GB 4G Dual Sim '\n",
      "                                       'Dorado Libre',\n",
      "                               'offers': {'properties': {'availability': 'in '\n",
      "                                                                         'stock',\n",
      "                                                         'price': ['129',\n",
      "                                                                   '116'],\n",
      "                                                         'priceCurrency': ['EUR',\n",
      "                                                                           'EUR']},\n",
      "                                          'type': 'http://schema.org/Offer'},\n",
      "                               'sku': '140023',\n",
      "                               'url': ['http://www.example.com/xiaomi-redmi-note-5a-16gb-4g-dual-sim-dorado-libre',\n",
      "                                       'http://www.example.com/xiaomi-redmi-note-5a-16gb-4g-dual-sim-dorado-libre']},\n",
      "                'type': 'http://schema.org/Product'},\n",
      "               {'properties': {'brand': 'Xiaomi',\n",
      "                               'image': 'http://thumb.pccomponentes.com/w-220-220/articles/14/149239/thumb-114131-default-big1.jpg',\n",
      "                               'name': 'Xiaomi Redmi 5 Plus 3/32Gb Negro Libre',\n",
      "                               'offers': {'properties': {'availability': 'in '\n",
      "                                                                         'stock',\n",
      "                                                         'price': '179',\n",
      "                                                         'priceCurrency': 'EUR'},\n",
      "                                          'type': 'http://schema.org/Offer'},\n",
      "                               'sku': '149239',\n",
      "                               'url': ['http://www.example.com/xiaomi-redmi-5-plus-3-32gb-negro-libre',\n",
      "                                       'http://www.example.com/xiaomi-redmi-5-plus-3-32gb-negro-libre']},\n",
      "                'type': 'http://schema.org/Product'},\n",
      "               {'properties': {'brand': 'Bq',\n",
      "                               'image': 'http://thumb.pccomponentes.com/w-220-220/articles/9/98938/a1.jpg',\n",
      "                               'name': 'Bq Aquaris U Plus 4G 2GB/16GB Negro '\n",
      "                                       'Libre',\n",
      "                               'offers': {'properties': {'availability': 'in '\n",
      "                                                                         'stock',\n",
      "                                                         'price': '134',\n",
      "                                                         'priceCurrency': 'EUR'},\n",
      "                                          'type': 'http://schema.org/Offer'},\n",
      "                               'sku': '98938',\n",
      "                               'url': ['http://www.example.com/bq-aquaris-u-plus-4g-2gb-16gb-negro-libre',\n",
      "                                       'http://www.example.com/bq-aquaris-u-plus-4g-2gb-16gb-negro-libre']},\n",
      "                'type': 'http://schema.org/Product'},\n",
      "               {'properties': {'brand': 'Xiaomi',\n",
      "                               'image': 'http://thumb.pccomponentes.com/w-220-220/articles/14/149247/thumb-114132-default-big1.jpg',\n",
      "                               'name': 'Xiaomi Redmi 5 Plus 4/64Gb Azul Libre',\n",
      "                               'offers': {'properties': {'availability': 'in '\n",
      "                                                                         'stock',\n",
      "                                                         'price': '199',\n",
      "                                                         'priceCurrency': 'EUR'},\n",
      "                                          'type': 'http://schema.org/Offer'},\n",
      "                               'sku': '149247',\n",
      "                               'url': ['http://www.example.com/xiaomi-redmi-5-plus-4-64gb-azul-libre',\n",
      "                                       'http://www.example.com/xiaomi-redmi-5-plus-4-64gb-azul-libre']},\n",
      "                'type': 'http://schema.org/Product'},\n",
      "               {'properties': {'brand': 'Xiaomi',\n",
      "                               'image': 'http://thumb.pccomponentes.com/w-220-220/articles/14/142348/l1.jpg',\n",
      "                               'name': 'Xiaomi Mi Mix 2 64GB 4G Dual Sim Negro '\n",
      "                                       'Libre',\n",
      "                               'offers': {'properties': {'availability': 'in '\n",
      "                                                                         'stock',\n",
      "                                                         'price': ['500.34',\n",
      "                                                                   '399'],\n",
      "                                                         'priceCurrency': ['EUR',\n",
      "                                                                           'EUR']},\n",
      "                                          'type': 'http://schema.org/Offer'},\n",
      "                               'sku': '142348',\n",
      "                               'url': ['http://www.example.com/xiaomi-mi-mix-2-64gb-4g-dual-sim-negro-libre',\n",
      "                                       'http://www.example.com/xiaomi-mi-mix-2-64gb-4g-dual-sim-negro-libre']},\n",
      "                'type': 'http://schema.org/Product'},\n",
      "               {'properties': {'brand': 'ZTE',\n",
      "                               'image': 'http://thumb.pccomponentes.com/w-220-220/articles/14/149982/zte-1.jpg',\n",
      "                               'name': 'ZTE Blade V6 4G Plata Libre',\n",
      "                               'offers': {'properties': {'availability': 'in '\n",
      "                                                                         'stock',\n",
      "                                                         'price': ['140.34',\n",
      "                                                                   '89'],\n",
      "                                                         'priceCurrency': ['EUR',\n",
      "                                                                           'EUR']},\n",
      "                                          'type': 'http://schema.org/Offer'},\n",
      "                               'sku': '149982',\n",
      "                               'url': ['http://www.example.com/zte-blade-v6-4g-plata-libre',\n",
      "                                       'http://www.example.com/zte-blade-v6-4g-plata-libre']},\n",
      "                'type': 'http://schema.org/Product'},\n",
      "               {'properties': {'brand': 'Samsung',\n",
      "                               'image': 'http://thumb.pccomponentes.com/w-220-220/articles/13/132138/l1.jpg',\n",
      "                               'name': 'Samsung Galaxy J5 2017 Negro Libre',\n",
      "                               'offers': {'properties': {'availability': 'in '\n",
      "                                                                         'stock',\n",
      "                                                         'price': '179',\n",
      "                                                         'priceCurrency': 'EUR'},\n",
      "                                          'type': 'http://schema.org/Offer'},\n",
      "                               'sku': '132138',\n",
      "                               'url': ['http://www.example.com/samsung-galaxy-j5-2017-negro-libre',\n",
      "                                       'http://www.example.com/samsung-galaxy-j5-2017-negro-libre']},\n",
      "                'type': 'http://schema.org/Product'},\n",
      "               {'properties': {'brand': 'Huawei',\n",
      "                               'image': 'http://thumb.pccomponentes.com/w-220-220/articles/11/118274/1.jpg',\n",
      "                               'name': 'Huawei P8 Lite 2017 Blanco Libre',\n",
      "                               'offers': {'properties': {'availability': 'in '\n",
      "                                                                         'stock',\n",
      "                                                         'price': ['180.33',\n",
      "                                                                   '159.01'],\n",
      "                                                         'priceCurrency': ['EUR',\n",
      "                                                                           'EUR']},\n",
      "                                          'type': 'http://schema.org/Offer'},\n",
      "                               'sku': '118274',\n",
      "                               'url': ['http://www.example.com/huawei-p8-lite-2017-blanco-libre',\n",
      "                                       'http://www.example.com/huawei-p8-lite-2017-blanco-libre']},\n",
      "                'type': 'http://schema.org/Product'},\n",
      "               {'properties': {'brand': 'Huawei',\n",
      "                               'image': 'http://thumb.pccomponentes.com/w-220-220/articles/15/159360/p20-lite-pink-front.jpg',\n",
      "                               'name': 'Huawei P20 Lite 64GB Rosa Libre',\n",
      "                               'offers': {'properties': {'availability': 'in '\n",
      "                                                                         'stock',\n",
      "                                                         'price': '369',\n",
      "                                                         'priceCurrency': 'EUR'},\n",
      "                                          'type': 'http://schema.org/Offer'},\n",
      "                               'sku': '159360',\n",
      "                               'url': ['http://www.example.com/huawei-p20-lite-64gb-rosa-libre',\n",
      "                                       'http://www.example.com/huawei-p20-lite-64gb-rosa-libre']},\n",
      "                'type': 'http://schema.org/Product'},\n",
      "               {'properties': {'brand': 'Samsung',\n",
      "                               'image': 'http://thumb.pccomponentes.com/w-220-220/articles/13/133355/e1.jpg',\n",
      "                               'name': 'Samsung Galaxy J7 2017 Azul Libre',\n",
      "                               'offers': {'properties': {'availability': 'in '\n",
      "                                                                         'stock',\n",
      "                                                         'price': ['219',\n",
      "                                                                   '199'],\n",
      "                                                         'priceCurrency': ['EUR',\n",
      "                                                                           'EUR']},\n",
      "                                          'type': 'http://schema.org/Offer'},\n",
      "                               'sku': '133355',\n",
      "                               'url': ['http://www.example.com/samsung-galaxy-j7-2017-azul-libre',\n",
      "                                       'http://www.example.com/samsung-galaxy-j7-2017-azul-libre']},\n",
      "                'type': 'http://schema.org/Product'},\n",
      "               {'properties': {'brand': 'Bq',\n",
      "                               'image': 'http://thumb.pccomponentes.com/w-220-220/articles/14/146465/h1.jpg',\n",
      "                               'name': 'Bq Aquaris U2 3GB/32GB Dual Sim Negro '\n",
      "                                       'Libre',\n",
      "                               'offers': {'properties': {'availability': 'in '\n",
      "                                                                         'stock',\n",
      "                                                         'price': '165',\n",
      "                                                         'priceCurrency': 'EUR'},\n",
      "                                          'type': 'http://schema.org/Offer'},\n",
      "                               'sku': '146465',\n",
      "                               'url': ['http://www.example.com/bq-aquaris-u2-3gb-32gb-dual-sim-negro-libre',\n",
      "                                       'http://www.example.com/bq-aquaris-u2-3gb-32gb-dual-sim-negro-libre']},\n",
      "                'type': 'http://schema.org/Product'},\n",
      "               {'properties': {'brand': 'Motorola',\n",
      "                               'image': 'http://thumb.pccomponentes.com/w-220-220/articles/12/121930/1.jpg',\n",
      "                               'name': 'Motorola Moto G5 3GB/16GB Gris Libre',\n",
      "                               'offers': {'properties': {'availability': 'in '\n",
      "                                                                         'stock',\n",
      "                                                         'price': ['182',\n",
      "                                                                   '149'],\n",
      "                                                         'priceCurrency': ['EUR',\n",
      "                                                                           'EUR']},\n",
      "                                          'type': 'http://schema.org/Offer'},\n",
      "                               'sku': '121930',\n",
      "                               'url': ['http://www.example.com/motorola-moto-g5-3gb-16gb-gris-libre',\n",
      "                                       'http://www.example.com/motorola-moto-g5-3gb-16gb-gris-libre']},\n",
      "                'type': 'http://schema.org/Product'},\n",
      "               {'properties': {'address': {'properties': {'addressCountry': 'ESPAÑA.',\n",
      "                                                          'addressLocality': 'Alhama '\n",
      "                                                                             'de '\n",
      "                                                                             'Murcia',\n",
      "                                                          'addressRegion': 'Murcia.',\n",
      "                                                          'postalCode': '30840',\n",
      "                                                          'streetAddress': 'AVDA '\n",
      "                                                                           'Europa, '\n",
      "                                                                           'Parcela '\n",
      "                                                                           '2-5 '\n",
      "                                                                           'y '\n",
      "                                                                           '2-6. '\n",
      "                                                                           'Polígono '\n",
      "                                                                           'industrial '\n",
      "                                                                           'Las '\n",
      "                                                                           'Salinas'},\n",
      "                                           'type': 'http://schema.org/PostalAddress'},\n",
      "                               'image': 'https://cdn.pccomponentes.com/img/rrss/general.png',\n",
      "                               'name': 'PC COMPONENTES Y MULTIMEDIA SLU',\n",
      "                               'priceRange': '€€€'},\n",
      "                'type': 'http://schema.org/LocalBusiness'}],\n",
      " 'rdfa': [{'@id': 'http://www.example.com/#navegacion-secundaria',\n",
      "           'http://www.w3.org/1999/xhtml/vocab#role': [{'@id': 'http://www.w3.org/1999/xhtml/vocab#navigation'}]},\n",
      "          {'@id': 'http://www.example.com/#main',\n",
      "           'http://www.w3.org/1999/xhtml/vocab#role': [{'@id': 'http://www.w3.org/1999/xhtml/vocab#main'}]},\n",
      "          {'@id': 'http://www.example.com/#acc-fil-27',\n",
      "           'http://www.w3.org/1999/xhtml/vocab#role': [{'@id': 'http://www.w3.org/1999/xhtml/vocab#button'}]},\n",
      "          {'@id': 'http://www.example.com/#acc-fil-31',\n",
      "           'http://www.w3.org/1999/xhtml/vocab#role': [{'@id': 'http://www.w3.org/1999/xhtml/vocab#button'}]},\n",
      "          {'@id': '_:Nb2293ae320a74e5596b2585d9f1fed2e',\n",
      "           'http://www.w3.org/1999/xhtml/vocab#role': [{'@id': 'http://www.w3.org/1999/xhtml/vocab#tablist'}]},\n",
      "          {'@id': 'http://www.example.com/#acc-fil-6',\n",
      "           'http://www.w3.org/1999/xhtml/vocab#role': [{'@id': 'http://www.w3.org/1999/xhtml/vocab#button'}]},\n",
      "          {'@id': 'http://www.example.com/#acc-fil-4',\n",
      "           'http://www.w3.org/1999/xhtml/vocab#role': [{'@id': 'http://www.w3.org/1999/xhtml/vocab#button'}]},\n",
      "          {'@id': 'http://www.example.com/#acc-fil-111',\n",
      "           'http://www.w3.org/1999/xhtml/vocab#role': [{'@id': 'http://www.w3.org/1999/xhtml/vocab#button'}]},\n",
      "          {'@id': '_:N6bcd52299c93435b93a6f63ea6cbc501',\n",
      "           'http://www.w3.org/1999/xhtml/vocab#role': [{'@id': 'http://www.w3.org/1999/xhtml/vocab#tab'}]},\n",
      "          {'@id': 'http://www.example.com/#acc-fil-0',\n",
      "           'http://www.w3.org/1999/xhtml/vocab#role': [{'@id': 'http://www.w3.org/1999/xhtml/vocab#button'}]},\n",
      "          {'@id': '_:Nd1b78095f5e0424dbc304f3f975a7b02',\n",
      "           'http://www.w3.org/1999/xhtml/vocab#role': [{'@id': 'http://www.w3.org/1999/xhtml/vocab#tab'}]},\n",
      "          {'@id': 'http://www.example.com/#acc-fil-25',\n",
      "           'http://www.w3.org/1999/xhtml/vocab#role': [{'@id': 'http://www.w3.org/1999/xhtml/vocab#button'}]},\n",
      "          {'@id': '_:Nca3fe0fb41de4b24ac3e2ffc6b994471',\n",
      "           'http://www.w3.org/1999/xhtml/vocab#role': [{'@id': 'http://www.w3.org/1999/xhtml/vocab#tab'}]},\n",
      "          {'@id': '_:Nec244a1c120b49779047a09ae189b43e',\n",
      "           'http://www.w3.org/1999/xhtml/vocab#role': [{'@id': 'http://www.w3.org/1999/xhtml/vocab#button'}]},\n",
      "          {'@id': '_:N4ca2c9bd37044c7594a7c3099b75a83b',\n",
      "           'http://www.w3.org/1999/xhtml/vocab#role': [{'@id': 'http://www.w3.org/1999/xhtml/vocab#button'}]},\n",
      "          {'@id': '_:N6252d352d62e46018bd15ca5143b7e3d',\n",
      "           'http://www.w3.org/1999/xhtml/vocab#role': [{'@id': 'http://www.w3.org/1999/xhtml/vocab#button'}]},\n",
      "          {'@id': '_:Nc552c6ebc53a4280b83b67a0214df216',\n",
      "           'http://www.w3.org/1999/xhtml/vocab#role': [{'@id': 'http://www.w3.org/1999/xhtml/vocab#button'}]},\n",
      "          {'@id': '_:N4d29a4bcb24e4b34b8da580e0b716b12',\n",
      "           'http://www.w3.org/1999/xhtml/vocab#role': [{'@id': 'http://www.w3.org/1999/xhtml/vocab#tab'}]},\n",
      "          {'@id': '_:N69edc80d103b4e37bcf817f9b188732e',\n",
      "           'http://www.w3.org/1999/xhtml/vocab#role': [{'@id': 'http://www.w3.org/1999/xhtml/vocab#tab'}]},\n",
      "          {'@id': '_:N48287ddb81964a4a8174549cd93096bc',\n",
      "           'http://www.w3.org/1999/xhtml/vocab#role': [{'@id': 'http://www.w3.org/1999/xhtml/vocab#button'}]},\n",
      "          {'@id': '_:N5a513082805c414ab4bdb45b6d5557df',\n",
      "           'http://www.w3.org/1999/xhtml/vocab#role': [{'@id': 'http://www.w3.org/1999/xhtml/vocab#tab'}]},\n",
      "          {'@id': '_:Ncbd5d96d218646438fed2503bc72f505',\n",
      "           'http://www.w3.org/1999/xhtml/vocab#role': [{'@id': 'http://www.w3.org/1999/xhtml/vocab#button'}]},\n",
      "          {'@id': 'http://www.example.com/#acc-fil-24',\n",
      "           'http://www.w3.org/1999/xhtml/vocab#role': [{'@id': 'http://www.w3.org/1999/xhtml/vocab#button'}]},\n",
      "          {'@id': '_:Nc9bd5d4b1f294070bc70060fb4315dba',\n",
      "           'http://www.w3.org/1999/xhtml/vocab#role': [{'@id': 'http://www.w3.org/1999/xhtml/vocab#tab'}]},\n",
      "          {'@id': 'http://www.example.com/#acc-fil--1',\n",
      "           'http://www.w3.org/1999/xhtml/vocab#role': [{'@id': 'http://www.w3.org/1999/xhtml/vocab#button'}]},\n",
      "          {'@id': 'http://www.example.com/#acc-fil-13',\n",
      "           'http://www.w3.org/1999/xhtml/vocab#role': [{'@id': 'http://www.w3.org/1999/xhtml/vocab#button'}]},\n",
      "          {'@id': '_:Neb8b6e1b694c464e8e32af07ca82c285',\n",
      "           'http://www.w3.org/1999/xhtml/vocab#role': [{'@id': 'http://www.w3.org/1999/xhtml/vocab#button'}]},\n",
      "          {'@id': '_:Nc6861be2ba4e4eacb14c04a7a00dcb7f',\n",
      "           'http://www.w3.org/1999/xhtml/vocab#role': [{'@id': 'http://www.w3.org/1999/xhtml/vocab#button'}]},\n",
      "          {'@id': '_:Nf40ef30926a247efa787358d0d39325d',\n",
      "           'http://www.w3.org/1999/xhtml/vocab#role': [{'@id': 'http://www.w3.org/1999/xhtml/vocab#tab'}]},\n",
      "          {'@id': '_:Nb910a1ca32884573953c83ae440b4548',\n",
      "           'http://www.w3.org/1999/xhtml/vocab#role': [{'@id': 'http://www.w3.org/1999/xhtml/vocab#tab'}]},\n",
      "          {'@id': '_:N060c52ce1ee34347bac6d3e21e7b6342',\n",
      "           'http://www.w3.org/1999/xhtml/vocab#role': [{'@id': 'http://www.w3.org/1999/xhtml/vocab#tab'}]},\n",
      "          {'@id': 'http://www.example.com/#acc-fil-1',\n",
      "           'http://www.w3.org/1999/xhtml/vocab#role': [{'@id': 'http://www.w3.org/1999/xhtml/vocab#button'}]},\n",
      "          {'@id': 'http://www.example.com/#acc-fil-94',\n",
      "           'http://www.w3.org/1999/xhtml/vocab#role': [{'@id': 'http://www.w3.org/1999/xhtml/vocab#button'}]},\n",
      "          {'@id': 'http://www.example.com/#acc-fil-89',\n",
      "           'http://www.w3.org/1999/xhtml/vocab#role': [{'@id': 'http://www.w3.org/1999/xhtml/vocab#button'}]},\n",
      "          {'@id': '_:N514055b2cb6142b4adf6692c2ca4dd37',\n",
      "           'http://www.w3.org/1999/xhtml/vocab#role': [{'@id': 'http://www.w3.org/1999/xhtml/vocab#tab'}]},\n",
      "          {'@id': '_:Nfdda0d0a83484bdc96c6f030c791cd3e',\n",
      "           'http://www.w3.org/1999/xhtml/vocab#role': [{'@id': 'http://www.w3.org/1999/xhtml/vocab#button'}]},\n",
      "          {'@id': '_:N6c6737d7f2df4badb713f6a9a7db7349',\n",
      "           'http://www.w3.org/1999/xhtml/vocab#role': [{'@id': 'http://www.w3.org/1999/xhtml/vocab#tab'}]},\n",
      "          {'@id': '_:N7cb38930e2eb436b8951e03ee2eafca6',\n",
      "           'http://www.w3.org/1999/xhtml/vocab#role': [{'@id': 'http://www.w3.org/1999/xhtml/vocab#button'}]},\n",
      "          {'@id': '_:N695d0dda0ba4425c96adc34b052ce461',\n",
      "           'http://www.w3.org/1999/xhtml/vocab#role': [{'@id': 'http://www.w3.org/1999/xhtml/vocab#tab'}]},\n",
      "          {'@id': 'http://www.example.com/#acc-fil-3',\n",
      "           'http://www.w3.org/1999/xhtml/vocab#role': [{'@id': 'http://www.w3.org/1999/xhtml/vocab#button'}]},\n",
      "          {'@id': '_:N8daa280625934774800f07bf1b1cceee',\n",
      "           'http://www.w3.org/1999/xhtml/vocab#role': [{'@id': 'http://www.w3.org/1999/xhtml/vocab#tab'}]},\n",
      "          {'@id': '_:N0c1d6a2c17e64282b8501574f6548525',\n",
      "           'http://www.w3.org/1999/xhtml/vocab#role': [{'@id': 'http://www.w3.org/1999/xhtml/vocab#tab'}]},\n",
      "          {'@id': 'http://www.example.com/#acc-fil-19',\n",
      "           'http://www.w3.org/1999/xhtml/vocab#role': [{'@id': 'http://www.w3.org/1999/xhtml/vocab#button'}]},\n",
      "          {'@id': 'http://www.example.com/#acc-fil-20',\n",
      "           'http://www.w3.org/1999/xhtml/vocab#role': [{'@id': 'http://www.w3.org/1999/xhtml/vocab#button'}]},\n",
      "          {'@id': '_:N8b2ee93a1a88441faedb522d1ed43226',\n",
      "           'http://www.w3.org/1999/xhtml/vocab#role': [{'@id': 'http://www.w3.org/1999/xhtml/vocab#tab'}]},\n",
      "          {'@id': '_:N81bf27a499324810b6bc9ae058e73cfc',\n",
      "           'http://www.w3.org/1999/xhtml/vocab#role': [{'@id': 'http://www.w3.org/1999/xhtml/vocab#button'}]},\n",
      "          {'@id': '_:Na0fba6cc759e4612acb1bcde6ba2c39c',\n",
      "           'http://www.w3.org/1999/xhtml/vocab#role': [{'@id': 'http://www.w3.org/1999/xhtml/vocab#tab'}]},\n",
      "          {'@id': 'http://www.example.com/#acc-fil-58',\n",
      "           'http://www.w3.org/1999/xhtml/vocab#role': [{'@id': 'http://www.w3.org/1999/xhtml/vocab#button'}]},\n",
      "          {'@id': 'http://www.example.com/#acc-fil-28',\n",
      "           'http://www.w3.org/1999/xhtml/vocab#role': [{'@id': 'http://www.w3.org/1999/xhtml/vocab#button'}]},\n",
      "          {'@id': '_:N2e09c9a9f2d94226a08dcb13ab4f87fa',\n",
      "           'http://www.w3.org/1999/xhtml/vocab#role': [{'@id': 'http://www.w3.org/1999/xhtml/vocab#button'}]},\n",
      "          {'@id': 'http://www.example.com/#modalpcc',\n",
      "           'http://www.w3.org/1999/xhtml/vocab#role': [{'@id': 'http://www.w3.org/1999/xhtml/vocab#dialog'}]},\n",
      "          {'@id': '_:N38ce2802e1ce4a4e9492baea5c7c4ad0',\n",
      "           'http://www.w3.org/1999/xhtml/vocab#role': [{'@id': 'http://www.w3.org/1999/xhtml/vocab#button'}]},\n",
      "          {'@id': '_:N735116c48eb147b180a7fb81384a3c8b',\n",
      "           'http://www.w3.org/1999/xhtml/vocab#role': [{'@id': 'http://www.w3.org/1999/xhtml/vocab#button'}]},\n",
      "          {'@id': '_:N333466f16376449199c67158e68c21af',\n",
      "           'http://www.w3.org/1999/xhtml/vocab#role': [{'@id': 'http://www.w3.org/1999/xhtml/vocab#button'}]},\n",
      "          {'@id': '_:N10eab2cb502d42ee859aff3ed1c13233',\n",
      "           'http://www.w3.org/1999/xhtml/vocab#role': [{'@id': 'http://www.w3.org/1999/xhtml/vocab#tab'}]},\n",
      "          {'@id': '_:Na1c6e9ce45cb41e196165888439bedf9',\n",
      "           'http://www.w3.org/1999/xhtml/vocab#role': [{'@id': 'http://www.w3.org/1999/xhtml/vocab#button'}]},\n",
      "          {'@id': 'http://www.example.com/#modalpcc-small',\n",
      "           'http://www.w3.org/1999/xhtml/vocab#role': [{'@id': 'http://www.w3.org/1999/xhtml/vocab#dialog'}]}]}\n"
     ]
    }
   ],
   "source": [
    "from pprint import pprint\n",
    "pprint(datos_tienda)"
   ]
  },
  {
   "cell_type": "code",
   "execution_count": 14,
   "metadata": {},
   "outputs": [],
   "source": [
    "import requests\n",
    "import extruct\n",
    "\n",
    "r = requests.get(\"http://www.recetas.net/receta/76/Champinones-al-Ajillo\")\n",
    "datos_receta = extruct.extract(r.text)"
   ]
  },
  {
   "cell_type": "code",
   "execution_count": 15,
   "metadata": {},
   "outputs": [
    {
     "name": "stdout",
     "output_type": "stream",
     "text": [
      "{'json-ld': [],\n",
      " 'microdata': [{'properties': {'aggregateRating': {'properties': {'ratingValue': '5',\n",
      "                                                                  'reviewCount': '566780'},\n",
      "                                                   'type': 'http://schema.org/AggregateRating'},\n",
      "                               'author': 'Medialabs',\n",
      "                               'bestRating': '5',\n",
      "                               'cookTime': 'PT15M',\n",
      "                               'description': 'Ensaladas y verduras\\r\\n'\n",
      "                                              '                  Medialabs',\n",
      "                               'image': 'http://www.example.com/Imagen_web/Champinones-al-Ajillo.aspx?idx=3&nId=4620&hash=5570e220aa6596a73ce8311bba5a13ef',\n",
      "                               'name': 'CHAMPIÑONES AL AJILLO',\n",
      "                               'recipeCategory': 'Ensaladas y verduras',\n",
      "                               'recipeIngredient': ['3 cucharadas de  aceite',\n",
      "                                                    '4 dientes de  ajo',\n",
      "                                                    '500 gramos de  '\n",
      "                                                    'champiñones',\n",
      "                                                    '2 cucharadas de  perejil '\n",
      "                                                    'picado',\n",
      "                                                    '1 pizca de  sal'],\n",
      "                               'recipeInstructions': 'Limpiar bien los '\n",
      "                                                     'champiñones, cortarlos '\n",
      "                                                     'en láminas y salarlos.\\r'\n",
      "                                                     'En una sartén con '\n",
      "                                                     'aceite, poner a freír '\n",
      "                                                     'los ajos cortados a '\n",
      "                                                     'láminas y cuando '\n",
      "                                                     'empiecen a tomar '\n",
      "                                                     'ligeramente color '\n",
      "                                                     'dorado, añadir los '\n",
      "                                                     'champiñones.\\r'\n",
      "                                                     'Darles unas vueltas y '\n",
      "                                                     'agregar abundante '\n",
      "                                                     'perejil picado.\\r'\n",
      "                                                     'Seguir rehogándolos '\n",
      "                                                     'hasta que los '\n",
      "                                                     'champiñones estén en su '\n",
      "                                                     'punto.',\n",
      "                               'recipeYield': '4',\n",
      "                               'worstRating': '1'},\n",
      "                'type': 'http://schema.org/Recipe'}],\n",
      " 'rdfa': [{'@id': 'http://www.example.com/',\n",
      "           'http://ogp.me/ns#description': [{'@value': 'Aprende a preparar '\n",
      "                                                       'este delicioso '\n",
      "                                                       'plato.'}],\n",
      "           'http://ogp.me/ns#image': [{'@value': 'http://www.recetas.net//Imagen_web/Champinones-al-Ajillo.aspx?idx=3&nId=4620&hash=5570e220aa6596a73ce8311bba5a13ef'}],\n",
      "           'http://ogp.me/ns#title': [{'@value': 'Champiñones al Ajillo'}],\n",
      "           'http://ogp.me/ns#url': [{'@value': 'http://www.recetas.net/receta/76/Champinones-al-Ajillo'}],\n",
      "           'http://ogp.me/ns/fb#admins': [{'@value': '100014982139084'}],\n",
      "           'http://ogp.me/ns/fb#app_id': [{'@value': '1909062719322867'}]}]}\n"
     ]
    }
   ],
   "source": [
    "from pprint import pprint\n",
    "pprint(datos_receta)"
   ]
  },
  {
   "cell_type": "code",
   "execution_count": 17,
   "metadata": {},
   "outputs": [
    {
     "data": {
      "text/plain": [
       "dict_keys(['json-ld', 'microdata', 'rdfa'])"
      ]
     },
     "execution_count": 17,
     "metadata": {},
     "output_type": "execute_result"
    }
   ],
   "source": [
    "datos_receta.keys()"
   ]
  },
  {
   "cell_type": "code",
   "execution_count": 16,
   "metadata": {},
   "outputs": [
    {
     "name": "stdout",
     "output_type": "stream",
     "text": [
      "{'aggregateRating': {'properties': {'ratingValue': '5',\n",
      "                                    'reviewCount': '566780'},\n",
      "                     'type': 'http://schema.org/AggregateRating'},\n",
      " 'author': 'Medialabs',\n",
      " 'bestRating': '5',\n",
      " 'cookTime': 'PT15M',\n",
      " 'description': 'Ensaladas y verduras\\r\\n                  Medialabs',\n",
      " 'image': 'http://www.example.com/Imagen_web/Champinones-al-Ajillo.aspx?idx=3&nId=4620&hash=5570e220aa6596a73ce8311bba5a13ef',\n",
      " 'name': 'CHAMPIÑONES AL AJILLO',\n",
      " 'recipeCategory': 'Ensaladas y verduras',\n",
      " 'recipeIngredient': ['3 cucharadas de  aceite',\n",
      "                      '4 dientes de  ajo',\n",
      "                      '500 gramos de  champiñones',\n",
      "                      '2 cucharadas de  perejil picado',\n",
      "                      '1 pizca de  sal'],\n",
      " 'recipeInstructions': 'Limpiar bien los champiñones, cortarlos en láminas y '\n",
      "                       'salarlos.\\r'\n",
      "                       'En una sartén con aceite, poner a freír los ajos '\n",
      "                       'cortados a láminas y cuando empiecen a tomar '\n",
      "                       'ligeramente color dorado, añadir los champiñones.\\r'\n",
      "                       'Darles unas vueltas y agregar abundante perejil '\n",
      "                       'picado.\\r'\n",
      "                       'Seguir rehogándolos hasta que los champiñones estén en '\n",
      "                       'su punto.',\n",
      " 'recipeYield': '4',\n",
      " 'worstRating': '1'}\n"
     ]
    }
   ],
   "source": [
    "pprint(datos_receta[\"microdata\"][0][\"properties\"])"
   ]
  },
  {
   "cell_type": "code",
   "execution_count": 18,
   "metadata": {},
   "outputs": [],
   "source": [
    "def procesar_recetas_net(receta_url):\n",
    "    r = requests.get(receta_url)\n",
    "    datos_receta = extruct.extract(r.text)\n",
    "    receta = datos_receta[\"microdata\"][0][\"properties\"]\n",
    "    return {\n",
    "        \"instrucciones\": ''.join(receta[\"recipeInstructions\"]),\n",
    "        \"ingredientes\": receta[\"recipeIngredient\"],\n",
    "        \"nombre\": receta[\"name\"]\n",
    "    }"
   ]
  },
  {
   "cell_type": "code",
   "execution_count": 19,
   "metadata": {},
   "outputs": [
    {
     "name": "stdout",
     "output_type": "stream",
     "text": [
      "{'ingredientes': ['20 gramos de  aceite',\n",
      "                  '1 pizca de  sal',\n",
      "                  '4  huevo, las yemas',\n",
      "                  '1 pizca de  pimienta negra',\n",
      "                  '150 gramos de  queso pecorino, Grana Padano',\n",
      "                  '400 gramos de  spaguetti',\n",
      "                  '120 gramos de  tocino ahumado'],\n",
      " 'instrucciones': 'Hervir los spaguetti en abundante agua salada.\\r'\n",
      "                  '\\r'\n",
      "                  'Rallar los quesos y cortar el tocino en trocitos.\\r'\n",
      "                  '\\r'\n",
      "                  'En una sartén con poco aceite, freír el tocino, hasta que '\n",
      "                  'cambie el color ligeramente.\\r'\n",
      "                  '\\r'\n",
      "                  'En una fuente batir las yemas de los huevos (uno por '\n",
      "                  'comensal), el queso, la pimienta y cuidado con la sal, el '\n",
      "                  'queso suele llevar. Es mejor empezar poniendo en pequeñas '\n",
      "                  'cantidades, hasta que las yemas y los quesos hacen una '\n",
      "                  'crema y deja de saber a huevo.\\r'\n",
      "                  '\\r'\n",
      "                  'Colar la pasta una vez esté hervido.\\r'\n",
      "                  '\\r'\n",
      "                  'Incorporar a la crema la pasta en pequeñas porciones y '\n",
      "                  'remover rápidamente y seguir añadiendo. No debe de cocer el '\n",
      "                  'huevo.\\r'\n",
      "                  '\\r'\n",
      "                  'Se añade el tocino desgrasado al conjunto y se sirve al '\n",
      "                  'momento y caliente.',\n",
      " 'nombre': 'SPAGUETTI A LA CARBONARA'}\n"
     ]
    }
   ],
   "source": [
    "receta_nueva = procesar_recetas_net(\"http://www.recetas.net/receta/266/Spaguetti-a-la-carbonara\")\n",
    "pprint(receta_nueva)"
   ]
  },
  {
   "cell_type": "markdown",
   "metadata": {},
   "source": [
    "### 3. requests + parsel\n",
    "\n",
    "`extruct` es una herramienta muy potente cuando es posible el utilizarla. Sin embargo, el usar extruct significa que sólo podemos extraer aquellos datos que los creadores de la página han decidido que merece la pena especificar.\n",
    "\n",
    "Por ejemplo, en la página de `recetas.net`, hay información de los platos relativa a si un plato es vegetariano o no. Dicha información no está etiquetada semánticamente y por lo tanto, extruct no la puede procesar.\n",
    "\n",
    "Para todos aquellos casos en los que necesitemos extraer información de forma flexible, tenemos que procesar el html de forma \"manual\". Esto se hace especificando a nuestro script que elementos de la estructura de la página web queremos.\n",
    "\n",
    "Una herramienta que nos permite hacer esto de forma sencilla es [`parsel`](https://github.com/scrapy/parsel). Es similar a otra herramienta más famosa `beautifulsoup`, pero en mi opinión `parsel` es más sencillo de usar.\n",
    "\n",
    "Se instala con pip de la forma habitual (`pip install parsel` *desde fuera del notebook*)."
   ]
  },
  {
   "cell_type": "code",
   "execution_count": 20,
   "metadata": {},
   "outputs": [],
   "source": [
    "import requests\n",
    "from parsel import Selector\n",
    "\n",
    "url = \"http://www.recetas.net/receta/266/Spaguetti-a-la-carbonara\"\n",
    "r = requests.get(url)\n",
    "sel = Selector(r.text)"
   ]
  },
  {
   "cell_type": "code",
   "execution_count": 21,
   "metadata": {},
   "outputs": [
    {
     "data": {
      "text/plain": [
       "<Selector xpath=None data='<html xmlns=\"http://www.w3.org/1999/xhtm'>"
      ]
     },
     "execution_count": 21,
     "metadata": {},
     "output_type": "execute_result"
    }
   ],
   "source": [
    "sel"
   ]
  },
  {
   "cell_type": "markdown",
   "metadata": {},
   "source": [
    "Con parsel hay varias formas de seleccionar elementos específicos del html. En concreto las más potentes son mediante:\n",
    "\n",
    "- selectores css (usando el metodo `.css`): Los selectores css son una syntaxis que nos permite hacer selecciones complejas en el html basandose en los atributos de cada elemento, en particular en sus clases de estilo css\n",
    "- xpath (usando el método `.xpath`): XPath es otra forma similar a los selectores css que nos permite hacer selecciones complejas de html."
   ]
  },
  {
   "cell_type": "markdown",
   "metadata": {},
   "source": [
    "Por ejemplo si queremos seleccionar todos los elementos de tipo `div`, lo hacemos asi:"
   ]
  },
  {
   "cell_type": "code",
   "execution_count": 25,
   "metadata": {},
   "outputs": [
    {
     "data": {
      "text/plain": [
       "[<Selector xpath='descendant-or-self::div' data='<div class=\"wrapper\">\\r\\n    \\r\\n    <!--Loa'>, <Selector xpath='descendant-or-self::div' data='<div class=\"loading\" data-tipo=\"box-carg'>, <Selector xpath='descendant-or-self::div' data='<div class=\"cont\"> <i class=\"preloader\">'>, <Selector xpath='descendant-or-self::div' data='<div class=\"loadingTxt\" data-text=\"Carga'>, <Selector xpath='descendant-or-self::div' data='<div class=\"loading\" data-tipo=\"box-subi'>, <Selector xpath='descendant-or-self::div' data='<div class=\"uploading\"> <i class=\"preloa'>, <Selector xpath='descendant-or-self::div' data='<div class=\"loadingTxt\" data-text=\"Subie'>, <Selector xpath='descendant-or-self::div' data='<div id=\"PAlert\" class=\"maskBox\" data-ti'>, <Selector xpath='descendant-or-self::div' data='<div class=\"dialog\">\\r\\n        <p id=\"Box'>, <Selector xpath='descendant-or-self::div' data='<div class=\"opciones\">\\r\\n          <input'>, <Selector xpath='descendant-or-self::div' data='<div id=\"PAConnect\" class=\"maskBox\" data'>, <Selector xpath='descendant-or-self::div' data='<div class=\"dialog connect\"><img src=\"/A'>, <Selector xpath='descendant-or-self::div' data='<div class=\"connectFB\" data-tipo=\"logear'>, <Selector xpath='descendant-or-self::div' data='<div id=\"fb-root\"></div>'>, <Selector xpath='descendant-or-self::div' data='<div class=\"contFb\">\\r\\n    <div class=\"co'>, <Selector xpath='descendant-or-self::div' data='<div class=\"cont\">\\r\\n      <div class=\"ic'>, <Selector xpath='descendant-or-self::div' data='<div class=\"icon facebook\" title=\"Facebo'>, <Selector xpath='descendant-or-self::div' data='<div id=\"boxConectadoFB\" data-tipo=\"cone'>, <Selector xpath='descendant-or-self::div' data='<div class=\"publiTop\">\\r\\n            <!--'>, <Selector xpath='descendant-or-self::div' data='<div class=\"cont\">\\r\\n    <ul class=\"menu_'>, <Selector xpath='descendant-or-self::div' data='<div class=\"cont\">\\r\\n        \\r\\n<meta prop'>, <Selector xpath='descendant-or-self::div' data='<div class=\"followUs\"><span class=\"label'>, <Selector xpath='descendant-or-self::div' data='<div class=\"mostrarSug easing\">\\r\\n    <di'>, <Selector xpath='descendant-or-self::div' data='<div class=\"contSug\"> <img src=\"/App_The'>, <Selector xpath='descendant-or-self::div' data='<div class=\"sugerencia easing\">\\r\\n    <di'>, <Selector xpath='descendant-or-self::div' data='<div class=\"contSugDet\"><img src=\"/App_T'>, <Selector xpath='descendant-or-self::div' data='<div class=\"receta\">\\r\\n        <h2 class='>, <Selector xpath='descendant-or-self::div' data='<div class=\"foto\"><img src=\"/Imagen_web/'>, <Selector xpath='descendant-or-self::div' data='<div class=\"detReceta\">\\r\\n               '>, <Selector xpath='descendant-or-self::div' data='<div class=\"score\">\\r\\n                   '>, <Selector xpath='descendant-or-self::div' data='<div class=\"graf\">\\r\\n                    '>, <Selector xpath='descendant-or-self::div' data='<div class=\"star\">\\r\\n                    '>, <Selector xpath='descendant-or-self::div' data='<div class=\"star on\"></div>'>, <Selector xpath='descendant-or-self::div' data='<div class=\"star\">\\r\\n                    '>, <Selector xpath='descendant-or-self::div' data='<div class=\"star on\"></div>'>, <Selector xpath='descendant-or-self::div' data='<div class=\"star\">\\r\\n                    '>, <Selector xpath='descendant-or-self::div' data='<div class=\"star on\"></div>'>, <Selector xpath='descendant-or-self::div' data='<div class=\"star\">\\r\\n                    '>, <Selector xpath='descendant-or-self::div' data='<div class=\"star on\"></div>'>, <Selector xpath='descendant-or-self::div' data='<div class=\"star\">\\r\\n                    '>, <Selector xpath='descendant-or-self::div' data='<div class=\"star on\"></div>'>, <Selector xpath='descendant-or-self::div' data='<div id=\"ContentPlaceHolder1_BoxWrappLef'>, <Selector xpath='descendant-or-self::div' data='<div class=\"topCont\">\\r\\n  <div class=\"men'>, <Selector xpath='descendant-or-self::div' data='<div class=\"menu\">\\r\\n    <img title=\"Rece'>, <Selector xpath='descendant-or-self::div' data='<div class=\"buscador\">\\r\\n    <fieldset>\\r\\n'>, <Selector xpath='descendant-or-self::div' data='<div class=\"contBus\">\\r\\n        <input na'>, <Selector xpath='descendant-or-self::div' data='<div class=\"avanzado\">\\r\\n        <div cla'>, <Selector xpath='descendant-or-self::div' data='<div class=\"rowSimp\">\\r\\n          <div cl'>, <Selector xpath='descendant-or-self::div' data='<div class=\"control\">\\r\\n            <sele'>, <Selector xpath='descendant-or-self::div' data='<div class=\"control\">\\r\\n            <sele'>, <Selector xpath='descendant-or-self::div' data='<div class=\"control\">\\r\\n            <sele'>, <Selector xpath='descendant-or-self::div' data='<div class=\"controles\">\\r\\n          <div '>, <Selector xpath='descendant-or-self::div' data='<div class=\"otrasOpc\">\\r\\n            <spa'>, <Selector xpath='descendant-or-self::div' data='<div class=\"otrasOpc\">\\r\\n            <spa'>, <Selector xpath='descendant-or-self::div' data='<div class=\"opciones\">\\r\\n          <a id='>, <Selector xpath='descendant-or-self::div' data='<div class=\"row\" itemscope itemtype=\"htt'>, <Selector xpath='descendant-or-self::div' data='<div id=\"ContentPlaceHolder1_BoxFotoRece'>, <Selector xpath='descendant-or-self::div' data='<div class=\"detReceta\">\\r\\n            <di'>, <Selector xpath='descendant-or-self::div' data='<div id=\"ContentPlaceHolder1_PMarcarFavo'>, <Selector xpath='descendant-or-self::div' data='<div class=\"otrosDet\">\\r\\n              <d'>, <Selector xpath='descendant-or-self::div' data='<div class=\"vota easing\"> <span id=\"clos'>, <Selector xpath='descendant-or-self::div' data='<div class=\"score\">\\r\\n                  <'>, <Selector xpath='descendant-or-self::div' data='<div class=\"graf\">\\r\\n                    '>, <Selector xpath='descendant-or-self::div' data='<div class=\"star\" data-valor-voto=\"1\">\\r\\n'>, <Selector xpath='descendant-or-self::div' data='<div data-tipo=\"estrella-voto\" class=\"st'>, <Selector xpath='descendant-or-self::div' data='<div class=\"star\" data-valor-voto=\"2\">\\r\\n'>, <Selector xpath='descendant-or-self::div' data='<div data-tipo=\"estrella-voto\" class=\"st'>, <Selector xpath='descendant-or-self::div' data='<div class=\"star\" data-valor-voto=\"3\">\\r\\n'>, <Selector xpath='descendant-or-self::div' data='<div data-tipo=\"estrella-voto\" class=\"st'>, <Selector xpath='descendant-or-self::div' data='<div class=\"star\" data-valor-voto=\"4\">\\r\\n'>, <Selector xpath='descendant-or-self::div' data='<div data-tipo=\"estrella-voto\" class=\"st'>, <Selector xpath='descendant-or-self::div' data='<div class=\"star\" data-valor-voto=\"5\">\\r\\n'>, <Selector xpath='descendant-or-self::div' data='<div data-tipo=\"estrella-voto\" class=\"st'>, <Selector xpath='descendant-or-self::div' data='<div class=\"score\" itemprop=\"aggregateRa'>, <Selector xpath='descendant-or-self::div' data='<div class=\"graf\">\\r\\n                  <d'>, <Selector xpath='descendant-or-self::div' data='<div class=\"star\">\\r\\n                    '>, <Selector xpath='descendant-or-self::div' data='<div id=\"ContentPlaceHolder1_BoxEstrella'>, <Selector xpath='descendant-or-self::div' data='<div class=\"star\">\\r\\n                    '>, <Selector xpath='descendant-or-self::div' data='<div id=\"ContentPlaceHolder1_BoxEstrella'>, <Selector xpath='descendant-or-self::div' data='<div class=\"star\">\\r\\n                    '>, <Selector xpath='descendant-or-self::div' data='<div id=\"ContentPlaceHolder1_BoxEstrella'>, <Selector xpath='descendant-or-self::div' data='<div class=\"star\">\\r\\n                    '>, <Selector xpath='descendant-or-self::div' data='<div id=\"ContentPlaceHolder1_BoxEstrella'>, <Selector xpath='descendant-or-self::div' data='<div class=\"star\">\\r\\n                    '>, <Selector xpath='descendant-or-self::div' data='<div id=\"ContentPlaceHolder1_BoxEstrella'>, <Selector xpath='descendant-or-self::div' data='<div class=\"calcular\">\\r\\n              <h'>, <Selector xpath='descendant-or-self::div' data='<div class=\"control\">\\r\\n                 '>, <Selector xpath='descendant-or-self::div' data='<div class=\"control\">\\r\\n                 '>, <Selector xpath='descendant-or-self::div' data='<div class=\"tabDesk\"> \\r\\n<meta property=\"'>, <Selector xpath='descendant-or-self::div' data='<div class=\"shareRSS\"><span class=\"label'>, <Selector xpath='descendant-or-self::div' data='<div class=\"row recetaQR\">\\r\\n            '>, <Selector xpath='descendant-or-self::div' data='<div class=\"col label\">Lee este código\\r\\n'>, <Selector xpath='descendant-or-self::div' data='<div class=\"col code\">\\r\\n                '>, <Selector xpath='descendant-or-self::div' data='<div class=\"col col-12 col-sm-8\">\\r\\n     '>, <Selector xpath='descendant-or-self::div' data='<div class=\"ingredientes\">\\r\\n            '>, <Selector xpath='descendant-or-self::div' data='<div class=\"elaboracion\">\\r\\n             '>, <Selector xpath='descendant-or-self::div' data='<div class=\"mobile\"> \\r\\n<meta property=\"f'>, <Selector xpath='descendant-or-self::div' data='<div class=\"shareRSS\"><span class=\"label'>, <Selector xpath='descendant-or-self::div' data='<div class=\"likeRSS\">\\r\\n    <div id=\"fb-r'>, <Selector xpath='descendant-or-self::div' data='<div id=\"fb-root\"></div>'>, <Selector xpath='descendant-or-self::div' data='<div id=\"ContentPlaceHolder1_WuRedesSoci'>, <Selector xpath='descendant-or-self::div' data='<div class=\"col col-12 banner\"><img data'>, <Selector xpath='descendant-or-self::div' data='<div class=\"col col-12 commentsFB\">\\r\\n   '>, <Selector xpath='descendant-or-self::div' data='<div id=\"ContentPlaceHolder1_WuRedesSoci'>, <Selector xpath='descendant-or-self::div' data='<div class=\"bannerFB\" data-tipo=\"logearF'>, <Selector xpath='descendant-or-self::div' data='<div class=\"contBann\"><img src=\"/App_The'>, <Selector xpath='descendant-or-self::div' data='<div class=\"publiCont\">\\r\\n            <!-'>, <Selector xpath='descendant-or-self::div' data='<div class=\"wrappRight50\"> \\r\\n  <!--publi'>, <Selector xpath='descendant-or-self::div' data='<div id=\"ContentPlaceHolder1_WuWrappRigh'>, <Selector xpath='descendant-or-self::div' data='<div class=\"listRecetas\">\\r\\n      <div id'>, <Selector xpath='descendant-or-self::div' data='<div id=\"list_1\" class=\"list list_1\">\\r\\n '>, <Selector xpath='descendant-or-self::div' data='<div class=\"receta\">\\r\\n              <div'>, <Selector xpath='descendant-or-self::div' data='<div class=\"foto\"> <img src=\"/Imagen_web'>, <Selector xpath='descendant-or-self::div' data='<div class=\"detReceta\">\\r\\n               '>, <Selector xpath='descendant-or-self::div' data='<div class=\"score\">\\r\\n                  \\r'>, <Selector xpath='descendant-or-self::div' data='<div class=\"graf\">\\r\\n                    '>, <Selector xpath='descendant-or-self::div' data='<div class=\"star\">\\r\\n                    '>, <Selector xpath='descendant-or-self::div' data='<div class=\"star on\"></div>'>, <Selector xpath='descendant-or-self::div' data='<div class=\"star\">\\r\\n                    '>, <Selector xpath='descendant-or-self::div' data='<div class=\"star on\"></div>'>, <Selector xpath='descendant-or-self::div' data='<div class=\"star\">\\r\\n                    '>, <Selector xpath='descendant-or-self::div' data='<div class=\"star on\"></div>'>, <Selector xpath='descendant-or-self::div' data='<div class=\"star\">\\r\\n                    '>, <Selector xpath='descendant-or-self::div' data='<div class=\"star on\"></div>'>, <Selector xpath='descendant-or-self::div' data='<div class=\"star\">\\r\\n                    '>, <Selector xpath='descendant-or-self::div' data='<div class=\"star on\"></div>'>, <Selector xpath='descendant-or-self::div' data='<div class=\"receta\">\\r\\n              <div'>, <Selector xpath='descendant-or-self::div' data='<div class=\"foto\"> <img src=\"/Imagen_web'>, <Selector xpath='descendant-or-self::div' data='<div class=\"detReceta\">\\r\\n               '>, <Selector xpath='descendant-or-self::div' data='<div class=\"score\">\\r\\n                  \\r'>, <Selector xpath='descendant-or-self::div' data='<div class=\"graf\">\\r\\n                    '>, <Selector xpath='descendant-or-self::div' data='<div class=\"star\">\\r\\n                    '>, <Selector xpath='descendant-or-self::div' data='<div class=\"star on\"></div>'>, <Selector xpath='descendant-or-self::div' data='<div class=\"star\">\\r\\n                    '>, <Selector xpath='descendant-or-self::div' data='<div class=\"star on\"></div>'>, <Selector xpath='descendant-or-self::div' data='<div class=\"star\">\\r\\n                    '>, <Selector xpath='descendant-or-self::div' data='<div class=\"star on\"></div>'>, <Selector xpath='descendant-or-self::div' data='<div class=\"star\">\\r\\n                    '>, <Selector xpath='descendant-or-self::div' data='<div class=\"star on\"></div>'>, <Selector xpath='descendant-or-self::div' data='<div class=\"star\">\\r\\n                    '>, <Selector xpath='descendant-or-self::div' data='<div class=\"star on\"></div>'>, <Selector xpath='descendant-or-self::div' data='<div class=\"receta\">\\r\\n              <div'>, <Selector xpath='descendant-or-self::div' data='<div class=\"foto\"> <img src=\"/Imagen_web'>, <Selector xpath='descendant-or-self::div' data='<div class=\"detReceta\">\\r\\n               '>, <Selector xpath='descendant-or-self::div' data='<div class=\"score\">\\r\\n                  \\r'>, <Selector xpath='descendant-or-self::div' data='<div class=\"graf\">\\r\\n                    '>, <Selector xpath='descendant-or-self::div' data='<div class=\"star\">\\r\\n                    '>, <Selector xpath='descendant-or-self::div' data='<div class=\"star on\"></div>'>, <Selector xpath='descendant-or-self::div' data='<div class=\"star\">\\r\\n                    '>, <Selector xpath='descendant-or-self::div' data='<div class=\"star on\"></div>'>, <Selector xpath='descendant-or-self::div' data='<div class=\"star\">\\r\\n                    '>, <Selector xpath='descendant-or-self::div' data='<div class=\"star on\"></div>'>, <Selector xpath='descendant-or-self::div' data='<div class=\"star\">\\r\\n                    '>, <Selector xpath='descendant-or-self::div' data='<div class=\"star on\"></div>'>, <Selector xpath='descendant-or-self::div' data='<div class=\"star\">\\r\\n                    '>, <Selector xpath='descendant-or-self::div' data='<div class=\"star on\"></div>'>, <Selector xpath='descendant-or-self::div' data='<div class=\"receta\">\\r\\n              <div'>, <Selector xpath='descendant-or-self::div' data='<div class=\"foto\"> <img src=\"/Imagen_web'>, <Selector xpath='descendant-or-self::div' data='<div class=\"detReceta\">\\r\\n               '>, <Selector xpath='descendant-or-self::div' data='<div class=\"score\">\\r\\n                  \\r'>, <Selector xpath='descendant-or-self::div' data='<div class=\"graf\">\\r\\n                    '>, <Selector xpath='descendant-or-self::div' data='<div class=\"star\">\\r\\n                    '>, <Selector xpath='descendant-or-self::div' data='<div class=\"star on\"></div>'>, <Selector xpath='descendant-or-self::div' data='<div class=\"star\">\\r\\n                    '>, <Selector xpath='descendant-or-self::div' data='<div class=\"star on\"></div>'>, <Selector xpath='descendant-or-self::div' data='<div class=\"star\">\\r\\n                    '>, <Selector xpath='descendant-or-self::div' data='<div class=\"star on\"></div>'>, <Selector xpath='descendant-or-self::div' data='<div class=\"star\">\\r\\n                    '>, <Selector xpath='descendant-or-self::div' data='<div class=\"star on\"></div>'>, <Selector xpath='descendant-or-self::div' data='<div class=\"star\">\\r\\n                    '>, <Selector xpath='descendant-or-self::div' data='<div class=\"star on\"></div>'>, <Selector xpath='descendant-or-self::div' data='<div class=\"receta\">\\r\\n              <div'>, <Selector xpath='descendant-or-self::div' data='<div class=\"foto\"> <img src=\"/Imagen_web'>, <Selector xpath='descendant-or-self::div' data='<div class=\"detReceta\">\\r\\n               '>, <Selector xpath='descendant-or-self::div' data='<div class=\"score\">\\r\\n                  \\r'>, <Selector xpath='descendant-or-self::div' data='<div class=\"graf\">\\r\\n                    '>, <Selector xpath='descendant-or-self::div' data='<div class=\"star\">\\r\\n                    '>, <Selector xpath='descendant-or-self::div' data='<div class=\"star on\"></div>'>, <Selector xpath='descendant-or-self::div' data='<div class=\"star\">\\r\\n                    '>, <Selector xpath='descendant-or-self::div' data='<div class=\"star on\"></div>'>, <Selector xpath='descendant-or-self::div' data='<div class=\"star\">\\r\\n                    '>, <Selector xpath='descendant-or-self::div' data='<div class=\"star on\"></div>'>, <Selector xpath='descendant-or-self::div' data='<div class=\"star\">\\r\\n                    '>, <Selector xpath='descendant-or-self::div' data='<div class=\"star on\"></div>'>, <Selector xpath='descendant-or-self::div' data='<div class=\"star\">\\r\\n                    '>, <Selector xpath='descendant-or-self::div' data='<div class=\"star on\"></div>'>, <Selector xpath='descendant-or-self::div' data='<div id=\"list_2\" class=\"list list_2\">\\r\\n '>, <Selector xpath='descendant-or-self::div' data='<div class=\"receta\">\\r\\n              <div'>, <Selector xpath='descendant-or-self::div' data='<div class=\"foto\"> <img src=\"/Imagen_web'>, <Selector xpath='descendant-or-self::div' data='<div class=\"detReceta\">\\r\\n               '>, <Selector xpath='descendant-or-self::div' data='<div class=\"sliderRecetas easing\"><div c'>, <Selector xpath='descendant-or-self::div' data='<div class=\"contRecetas\">\\r\\n             '>, <Selector xpath='descendant-or-self::div' data='<div class=\"receta\">\\r\\n              <div'>, <Selector xpath='descendant-or-self::div' data='<div class=\"foto\"> <img src=\"/Imagen_web'>, <Selector xpath='descendant-or-self::div' data='<div class=\"detReceta\">\\r\\n               '>, <Selector xpath='descendant-or-self::div' data='<div class=\"sliderRecetas easing\"><div c'>, <Selector xpath='descendant-or-self::div' data='<div class=\"contRecetas\">\\r\\n             '>, <Selector xpath='descendant-or-self::div' data='<div class=\"receta\">\\r\\n              <div'>, <Selector xpath='descendant-or-self::div' data='<div class=\"foto\"> <img src=\"/Imagen_web'>, <Selector xpath='descendant-or-self::div' data='<div class=\"detReceta\">\\r\\n               '>, <Selector xpath='descendant-or-self::div' data='<div class=\"sliderRecetas easing\"><div c'>, <Selector xpath='descendant-or-self::div' data='<div class=\"contRecetas\">\\r\\n             '>, <Selector xpath='descendant-or-self::div' data='<div class=\"receta\">\\r\\n              <div'>, <Selector xpath='descendant-or-self::div' data='<div class=\"foto\"> <img src=\"/Imagen_web'>, <Selector xpath='descendant-or-self::div' data='<div class=\"detReceta\">\\r\\n               '>, <Selector xpath='descendant-or-self::div' data='<div class=\"sliderRecetas easing\"><div c'>, <Selector xpath='descendant-or-self::div' data='<div class=\"contRecetas\">\\r\\n             '>, <Selector xpath='descendant-or-self::div' data='<div class=\"receta\">\\r\\n              <div'>, <Selector xpath='descendant-or-self::div' data='<div class=\"foto\"> <img src=\"/Imagen_web'>, <Selector xpath='descendant-or-self::div' data='<div class=\"detReceta\">\\r\\n               '>, <Selector xpath='descendant-or-self::div' data='<div class=\"sliderRecetas easing\"><div c'>, <Selector xpath='descendant-or-self::div' data='<div class=\"contRecetas\">\\r\\n             '>, <Selector xpath='descendant-or-self::div' data='<div class=\"wrappRight50\"> \\r\\n    \\r\\n    <'>, <Selector xpath='descendant-or-self::div' data='<div id=\"ContentPlaceHolder1_WuWrappRigh'>, <Selector xpath='descendant-or-self::div' data='<div class=\"info\">\\r\\n      <div class=\"co'>, <Selector xpath='descendant-or-self::div' data='<div class=\"contInfo\">\\r\\n        <div cla'>, <Selector xpath='descendant-or-self::div' data='<div class=\"recetasNet\">\\r\\n          <div'>, <Selector xpath='descendant-or-self::div' data='<div class=\"logo\"><img src=\"/App_Themes/'>, <Selector xpath='descendant-or-self::div' data='<div class=\"detCorp\"> <span class=\"title'>, <Selector xpath='descendant-or-self::div' data='<div class=\"rss\"><a href=\"https://www.fa'>, <Selector xpath='descendant-or-self::div' data='<div class=\"contLegal\">© 2017  Medialabs'>, <Selector xpath='descendant-or-self::div' data='<div class=\"subirFoto\">\\r\\n    <div class='>, <Selector xpath='descendant-or-self::div' data='<div class=\"contSubirFoto\">\\r\\n        <he'>, <Selector xpath='descendant-or-self::div' data='<div class=\"content\">\\r\\n            <img '>, <Selector xpath='descendant-or-self::div' data='<div id=\"dragFotoCanvas\" class=\"paso pas'>, <Selector xpath='descendant-or-self::div' data='<div class=\"contBox\">\\r\\n                 '>, <Selector xpath='descendant-or-self::div' data='<div class=\"intro\">\\r\\n                   '>, <Selector xpath='descendant-or-self::div' data='<div class=\"elige\">\\r\\n                   '>, <Selector xpath='descendant-or-self::div' data='<div class=\"sigueCons\">\\r\\n               '>, <Selector xpath='descendant-or-self::div' data='<div class=\"row\">\\r\\n                     '>, <Selector xpath='descendant-or-self::div' data='<div class=\"col col-3 il\">\\r\\n            '>, <Selector xpath='descendant-or-self::div' data='<div class=\"col col-12 col-sm-9\">\\r\\n     '>, <Selector xpath='descendant-or-self::div' data='<div class=\"paso paso_2\">\\r\\n             '>, <Selector xpath='descendant-or-self::div' data='<div class=\"contBox\">\\r\\n                 '>, <Selector xpath='descendant-or-self::div' data='<div id=\"fotoCanvas\">\\r\\n                 '>, <Selector xpath='descendant-or-self::div' data='<div id=\"divSuperior\" style=\"z-index: 6;'>, <Selector xpath='descendant-or-self::div' data='<div id=\"divPadre\" style=\"z-index: 5; to'>, <Selector xpath='descendant-or-self::div' data='<div id=\"divHijo\" style=\"z-index: 4; \" w'>, <Selector xpath='descendant-or-self::div' data='<div class=\"row footer\">\\r\\n              '>, <Selector xpath='descendant-or-self::div' data='<div class=\"col col-12 col-sm-6 acepto\">'>, <Selector xpath='descendant-or-self::div' data='<div class=\"col col-12 col-sm-6 opciones'>]"
      ]
     },
     "execution_count": 25,
     "metadata": {},
     "output_type": "execute_result"
    }
   ],
   "source": [
    "sel.css(\"div\")"
   ]
  },
  {
   "cell_type": "markdown",
   "metadata": {},
   "source": [
    "El método `.css` siempre devuelve una lista, aunque solo haya un elemento que cumpla las condiciones de seleccion."
   ]
  },
  {
   "cell_type": "markdown",
   "metadata": {},
   "source": [
    "Podemos concatenar selecciones facilmente, por ejemplo, si queremos todos los elementos de tipo `li` que están dentro de un tipo `div` lo hacemos asi:"
   ]
  },
  {
   "cell_type": "code",
   "execution_count": 26,
   "metadata": {},
   "outputs": [
    {
     "data": {
      "text/plain": [
       "[<Selector xpath='descendant-or-self::div/descendant-or-self::*/li' data='<li id=\"WuMenu_LIInicio\" class=\"menu__it'>, <Selector xpath='descendant-or-self::div/descendant-or-self::*/li' data='<li id=\"WuMenu_LIRecetario\" class=\"menu_'>, <Selector xpath='descendant-or-self::div/descendant-or-self::*/li' data='<li id=\"WuMenu_LIEscuelaDeCocina\" class='>, <Selector xpath='descendant-or-self::div/descendant-or-self::*/li' data='<li id=\"WuMenu_LIMonograficos\">\\r\\n       '>, <Selector xpath='descendant-or-self::div/descendant-or-self::*/li' data='<li id=\"WuMenu_LIVinos\">\\r\\n            <a'>, <Selector xpath='descendant-or-self::div/descendant-or-self::*/li' data='<li id=\"WuMenu_LIConsejos\">\\r\\n           '>, <Selector xpath='descendant-or-self::div/descendant-or-self::*/li' data='<li id=\"WuMenu_LIDiccionario\">\\r\\n        '>, <Selector xpath='descendant-or-self::div/descendant-or-self::*/li' data='<li id=\"WuMenu_LINutricionYSalud\" class='>, <Selector xpath='descendant-or-self::div/descendant-or-self::*/li' data='<li itemprop=\"recipeIngredient\">20 gramo'>, <Selector xpath='descendant-or-self::div/descendant-or-self::*/li' data='<li itemprop=\"recipeIngredient\">1 pizca '>, <Selector xpath='descendant-or-self::div/descendant-or-self::*/li' data='<li itemprop=\"recipeIngredient\">4  huevo'>, <Selector xpath='descendant-or-self::div/descendant-or-self::*/li' data='<li itemprop=\"recipeIngredient\">1 pizca '>, <Selector xpath='descendant-or-self::div/descendant-or-self::*/li' data='<li itemprop=\"recipeIngredient\">150 gram'>, <Selector xpath='descendant-or-self::div/descendant-or-self::*/li' data='<li itemprop=\"recipeIngredient\">400 gram'>, <Selector xpath='descendant-or-self::div/descendant-or-self::*/li' data='<li itemprop=\"recipeIngredient\">120 gram'>, <Selector xpath='descendant-or-self::div/descendant-or-self::*/li' data='<li id=\"nav_1\" class=\"nav current\" oncli'>, <Selector xpath='descendant-or-self::div/descendant-or-self::*/li' data='<li id=\"nav_2\" class=\"nav\" onclick=\"disp'>, <Selector xpath='descendant-or-self::div/descendant-or-self::*/li' data='<li><a href=\"/politica-privacidad\">Polít'>, <Selector xpath='descendant-or-self::div/descendant-or-self::*/li' data='<li><a href=\"/aviso-legal\">Aviso legal</'>, <Selector xpath='descendant-or-self::div/descendant-or-self::*/li' data='<li><a href=\"/contacto\">Contacto</a></li'>, <Selector xpath='descendant-or-self::div/descendant-or-self::*/li' data='<li>Presenta tu receta en un recipiente '>, <Selector xpath='descendant-or-self::div/descendant-or-self::*/li' data='<li>Haz una buena composición para que t'>, <Selector xpath='descendant-or-self::div/descendant-or-self::*/li' data='<li>Cuida los fondos para que no aparezc'>]"
      ]
     },
     "execution_count": 26,
     "metadata": {},
     "output_type": "execute_result"
    }
   ],
   "source": [
    "sel.css(\"div li\")"
   ]
  },
  {
   "cell_type": "markdown",
   "metadata": {},
   "source": [
    "Si queremos extraer el html de una seleccion lo hacemos con el método `extract`:"
   ]
  },
  {
   "cell_type": "code",
   "execution_count": 28,
   "metadata": {},
   "outputs": [
    {
     "name": "stdout",
     "output_type": "stream",
     "text": [
      "<li id=\"WuMenu_LIInicio\" class=\"menu__item\">\r\n",
      "        <a class=\"menu__link\" href=\"../../portada\">INICIO</a>\r\n",
      "      </li>\n"
     ]
    }
   ],
   "source": [
    "print(sel.css(\"div li\").extract()[0])"
   ]
  },
  {
   "cell_type": "code",
   "execution_count": 29,
   "metadata": {},
   "outputs": [
    {
     "data": {
      "text/plain": [
       "<class 'parsel.selector.Selector'>"
      ]
     },
     "execution_count": 29,
     "metadata": {},
     "output_type": "execute_result"
    }
   ],
   "source": [
    "type(sel.css(\"div li\")[0])"
   ]
  },
  {
   "cell_type": "code",
   "execution_count": 30,
   "metadata": {},
   "outputs": [
    {
     "data": {
      "text/plain": [
       "<class 'str'>"
      ]
     },
     "execution_count": 30,
     "metadata": {},
     "output_type": "execute_result"
    }
   ],
   "source": [
    "type(sel.css(\"div li\").extract()[0])"
   ]
  },
  {
   "cell_type": "markdown",
   "metadata": {},
   "source": [
    "El método `extract` siempre devuelve una lista, aunque haya solo un elemento que cumpla el criterio de selección.\n",
    "Si solo queremos extraer un elemento, podemos usar `extract_first`"
   ]
  },
  {
   "cell_type": "code",
   "execution_count": 31,
   "metadata": {},
   "outputs": [
    {
     "data": {
      "text/plain": [
       "'<li id=\"WuMenu_LIInicio\" class=\"menu__item\">\\r\\n        <a class=\"menu__link\" href=\"../../portada\">INICIO</a>\\r\\n      </li>'"
      ]
     },
     "execution_count": 31,
     "metadata": {},
     "output_type": "execute_result"
    }
   ],
   "source": [
    "sel.css(\"div li\").extract_first()"
   ]
  },
  {
   "cell_type": "markdown",
   "metadata": {},
   "source": [
    "El selector `div li` va a seleccionar todos los `li` que estén dentro de una etiqueta `div`. Sin embargo, si queremos solo aquellos elementos **inmediatamente dentro** de una etiqueta (lo que se llama *hijos*) `div` lo hacemos asi:"
   ]
  },
  {
   "cell_type": "code",
   "execution_count": 34,
   "metadata": {},
   "outputs": [
    {
     "data": {
      "text/plain": [
       "[<Selector xpath='descendant-or-self::div/ul/li' data='<li id=\"WuMenu_LIInicio\" class=\"menu__it'>, <Selector xpath='descendant-or-self::div/ul/li' data='<li id=\"WuMenu_LIRecetario\" class=\"menu_'>, <Selector xpath='descendant-or-self::div/ul/li' data='<li id=\"WuMenu_LIEscuelaDeCocina\" class='>, <Selector xpath='descendant-or-self::div/ul/li' data='<li id=\"WuMenu_LINutricionYSalud\" class='>, <Selector xpath='descendant-or-self::div/ul/li' data='<li itemprop=\"recipeIngredient\">20 gramo'>, <Selector xpath='descendant-or-self::div/ul/li' data='<li itemprop=\"recipeIngredient\">1 pizca '>, <Selector xpath='descendant-or-self::div/ul/li' data='<li itemprop=\"recipeIngredient\">4  huevo'>, <Selector xpath='descendant-or-self::div/ul/li' data='<li itemprop=\"recipeIngredient\">1 pizca '>, <Selector xpath='descendant-or-self::div/ul/li' data='<li itemprop=\"recipeIngredient\">150 gram'>, <Selector xpath='descendant-or-self::div/ul/li' data='<li itemprop=\"recipeIngredient\">400 gram'>, <Selector xpath='descendant-or-self::div/ul/li' data='<li itemprop=\"recipeIngredient\">120 gram'>, <Selector xpath='descendant-or-self::div/ul/li' data='<li>Presenta tu receta en un recipiente '>, <Selector xpath='descendant-or-self::div/ul/li' data='<li>Haz una buena composición para que t'>, <Selector xpath='descendant-or-self::div/ul/li' data='<li>Cuida los fondos para que no aparezc'>]"
      ]
     },
     "execution_count": 34,
     "metadata": {},
     "output_type": "execute_result"
    }
   ],
   "source": [
    "sel.css(\"div>ul>li\")"
   ]
  },
  {
   "cell_type": "markdown",
   "metadata": {},
   "source": [
    "que no devuelve nada por que no hay ningun elemento `li` inmediatamente dentro de un `div`"
   ]
  },
  {
   "cell_type": "markdown",
   "metadata": {},
   "source": [
    "Si queremos seleccionar un elemento que tenga una clase específica, lo hacemos con la sintaxis, `css(\"elemento.clase\")`"
   ]
  },
  {
   "cell_type": "markdown",
   "metadata": {},
   "source": [
    "Supongamos que queremos extraer los ingredientes de la receta, si vemos el html de la página, la seccion que nos interesa tiene la forma:\n",
    "\n",
    "```\n",
    "<div class=\"col col-12 col-sm-8\">\n",
    "  <article>\n",
    "    <header>\n",
    "      <hgroup>\n",
    "        <span id=\"ContentPlaceHolder1_LMetaTipoPlato\" itemprop=\"recipeCategory\" style=\"display:none;\">Pastas y arroces</span>\n",
    "        <h2 itemprop=\"description\">\n",
    "          <a id=\"ContentPlaceHolder1_HLTipoPlato\" href=\"../../tipo-plato-busqueda/14/Pastas-y-arroces\">Pastas y arroces</a>\n",
    "          <span id=\"ContentPlaceHolder1_LAuthor\" itemprop=\"author\" style=\"display:none;\">Medialabs</span>\n",
    "        </h2>\n",
    "        <h1 itemprop=\"name\">\n",
    "           SPAGUETTI A LA CARBONARA\n",
    "        </h1>\n",
    "      </hgroup>\n",
    "    </header>\n",
    "    <div class=\"ingredientes\">\n",
    "      <h3> INGREDIENTES PARA 4 PERSONAS</h3>\n",
    "      <ul>\n",
    "        <li itemprop=\"recipeIngredient\">20 gramos de  aceite </li>\n",
    "        <li itemprop=\"recipeIngredient\">1 pizca de  sal </li>\n",
    "        <li itemprop=\"recipeIngredient\">4  huevo, las yemas </li>\n",
    "        <li itemprop=\"recipeIngredient\">1 pizca de  pimienta negra </li>\n",
    "        <li itemprop=\"recipeIngredient\">150 gramos de  queso pecorino, Grana Padano </li>\n",
    "        <li itemprop=\"recipeIngredient\">400 gramos de  spaguetti </li>\n",
    "        <li itemprop=\"recipeIngredient\">120 gramos de  tocino ahumado </li>\n",
    "      </ul>\n",
    "   </div>\n",
    "```"
   ]
  },
  {
   "cell_type": "markdown",
   "metadata": {},
   "source": [
    "O sea que hay un elemento `div` con la clase *ingredientes* que contiene dentro todos el listado de ingredientes (*los elementos `li` son elementos de una lista (list items)*)\n",
    "\n",
    "Podemos seleccionar dicho div de la forma siguiente:"
   ]
  },
  {
   "cell_type": "code",
   "execution_count": 36,
   "metadata": {},
   "outputs": [
    {
     "name": "stdout",
     "output_type": "stream",
     "text": [
      "<li itemprop=\"recipeIngredient\">20 gramos de  aceite </li>\n"
     ]
    }
   ],
   "source": [
    "print(sel.css(\"div.ingredientes li\").extract_first())"
   ]
  },
  {
   "cell_type": "markdown",
   "metadata": {},
   "source": [
    "Ahora dentro de este div, para conseguir los ingredientes, tenemos que tomar todos los elementos de la lista `li` y extraer su texto. Podemos extraer el texto usando el selector `::text`"
   ]
  },
  {
   "cell_type": "code",
   "execution_count": 37,
   "metadata": {},
   "outputs": [
    {
     "data": {
      "text/plain": [
       "['20 gramos de  aceite ', '1 pizca de  sal ', '4  huevo, las yemas ', '1 pizca de  pimienta negra ', '150 gramos de  queso pecorino, Grana Padano ', '400 gramos de  spaguetti ', '120 gramos de  tocino ahumado ']"
      ]
     },
     "execution_count": 37,
     "metadata": {},
     "output_type": "execute_result"
    }
   ],
   "source": [
    "ingredientes = sel.css(\"div.ingredientes li::text\").extract()\n",
    "ingredientes"
   ]
  },
  {
   "cell_type": "markdown",
   "metadata": {},
   "source": [
    "Supongamos tambien que queremos la puntuación, dificultad media, información sobre si la receta es vegetariana o no y el tiempo de preparación. Toda esta información está en una barra lateral izquierda.\n",
    "\n",
    "El HTML tiene este aspecto:\n",
    "\n",
    "```\n",
    "\n",
    "            <div class=\"otrosDet\">\n",
    "              <div class=\"vota easing\"> <span id=\"closeVota\" class=\"close\">X</span>\n",
    "                <h2>Vota por esta receta</h2>\n",
    "                <div class=\"score\">\n",
    "                  <div class=\"graf\">\n",
    "                    <div class=\"star\" data-valor-voto=\"1\">\n",
    "                      <div data-tipo=\"estrella-voto\" class=\"star\"></div>\n",
    "                    </div>\n",
    "                    <div class=\"star\" data-valor-voto=\"2\">\n",
    "                      <div data-tipo=\"estrella-voto\" class=\"star\"></div>\n",
    "                    </div>\n",
    "                    <div class=\"star\" data-valor-voto=\"3\">\n",
    "                      <div data-tipo=\"estrella-voto\" class=\"star\"></div>\n",
    "                    </div>\n",
    "                    <div class=\"star\" data-valor-voto=\"4\">\n",
    "                      <div data-tipo=\"estrella-voto\" class=\"star\"></div>\n",
    "                    </div>\n",
    "                    <div class=\"star\" data-valor-voto=\"5\">\n",
    "                      <div data-tipo=\"estrella-voto\" class=\"star\"></div>\n",
    "                    </div>\n",
    "                  </div>\n",
    "                </div>\n",
    "              </div>\n",
    "              <input type=\"hidden\" name=\"ctl00$ContentPlaceHolder1$HFNumeroComensalesIncial\" id=\"HFNumeroComensalesIncial\" value=\"4\" />\n",
    "              <input type=\"hidden\" name=\"ctl00$ContentPlaceHolder1$HFIdReceta\" id=\"HFIdReceta\" value=\"266\" />\n",
    "              <p>Dificultad: <strong>\n",
    "                Media\n",
    "                </strong></p>\n",
    "              <p>Tiempo: <strong>\n",
    "                <meta id=\"ContentPlaceHolder1_LMetaCookTime\" itemprop=\"cookTime\" content=\"PT30M\"></meta>\n",
    "                30\n",
    "                min.</strong></p>\n",
    "              <p>Vegetariana: <strong>\n",
    "                No\n",
    "                </strong></p>\n",
    "              <p>Calorías: <strong>\n",
    "                Medio\n",
    "                </strong></p>\n",
    "```"
   ]
  },
  {
   "cell_type": "markdown",
   "metadata": {},
   "source": [
    "Vemos que la información que nos interesa está en un div de clase `otrosDet`. Dentro de dicho div, hay párrafos (etiqueta `p`) y dentro hay elementos `strong` (se usan para poner texto en negrita), con el texto que nos interesa dentro."
   ]
  },
  {
   "cell_type": "code",
   "execution_count": 38,
   "metadata": {},
   "outputs": [
    {
     "data": {
      "text/plain": [
       "['\\r\\n                Media\\r\\n                ', '\\r\\n                ', '\\r\\n                30\\r\\n                min.', '\\r\\n                No\\r\\n                ', '\\r\\n                Medio\\r\\n                ']"
      ]
     },
     "execution_count": 38,
     "metadata": {},
     "output_type": "execute_result"
    }
   ],
   "source": [
    "detalles = sel.css(\"div.otrosDet p strong::text\").extract() \n",
    "detalles"
   ]
  },
  {
   "cell_type": "markdown",
   "metadata": {},
   "source": [
    "Vemos que estos elementos tienen un monton de *basura*, es decir, un monton de espacios y de simbolos (`\\n y \\r`) que no nos interesan, asi que los removemos."
   ]
  },
  {
   "cell_type": "code",
   "execution_count": 39,
   "metadata": {},
   "outputs": [
    {
     "data": {
      "text/plain": [
       "['Media', '', '30min.', 'No', 'Medio']"
      ]
     },
     "execution_count": 39,
     "metadata": {},
     "output_type": "execute_result"
    }
   ],
   "source": [
    "detalles = list(map(lambda d: d.replace(\"\\r\\n                \",\"\"), detalles))\n",
    "detalles"
   ]
  },
  {
   "cell_type": "markdown",
   "metadata": {},
   "source": [
    "De la misma forma podemos obtener la categoria de la receta"
   ]
  },
  {
   "cell_type": "markdown",
   "metadata": {},
   "source": [
    "Las instrucciones están en el div con clase `elaboracion`, en un conjunto de parrafos `p`:"
   ]
  },
  {
   "cell_type": "code",
   "execution_count": 41,
   "metadata": {},
   "outputs": [
    {
     "data": {
      "text/plain": [
       "['\\r\\n                Hervir los spaguetti en abundante agua salada.\\r', '\\r', 'Rallar los quesos y cortar el tocino en trocitos.\\r', '\\r', 'En una sartén con poco aceite, freír el tocino, hasta que cambie el color ligeramente.\\r', '\\r', 'En una fuente batir las yemas de los huevos (uno por comensal), el queso, la pimienta y cuidado con la sal, el queso suele llevar. Es mejor empezar poniendo en pequeñas cantidades, hasta que las yemas y los quesos hacen una crema y deja de saber a huevo.\\r', '\\r', 'Colar la pasta una vez esté hervido.\\r', '\\r', 'Incorporar a la crema la pasta en pequeñas porciones y remover rápidamente y seguir añadiendo. No debe de cocer el huevo.\\r', '\\r', 'Se añade el tocino desgrasado al conjunto y se sirve al momento y caliente.\\r\\n              ']"
      ]
     },
     "execution_count": 41,
     "metadata": {},
     "output_type": "execute_result"
    }
   ],
   "source": [
    "instrucciones = sel.css(\"div.elaboracion p::text\").extract()\n",
    "instrucciones"
   ]
  },
  {
   "cell_type": "markdown",
   "metadata": {},
   "source": [
    "Vemos que hay unos cuantos elementos que no necesitamos (`\\r`, `\\n` y espacios) al inicio y final de cada cadena de texto. Los podemos remover con `strip`"
   ]
  },
  {
   "cell_type": "code",
   "execution_count": 42,
   "metadata": {},
   "outputs": [
    {
     "data": {
      "text/plain": [
       "['Hervir los spaguetti en abundante agua salada.', '', 'Rallar los quesos y cortar el tocino en trocitos.', '', 'En una sartén con poco aceite, freír el tocino, hasta que cambie el color ligeramente.', '', 'En una fuente batir las yemas de los huevos (uno por comensal), el queso, la pimienta y cuidado con la sal, el queso suele llevar. Es mejor empezar poniendo en pequeñas cantidades, hasta que las yemas y los quesos hacen una crema y deja de saber a huevo.', '', 'Colar la pasta una vez esté hervido.', '', 'Incorporar a la crema la pasta en pequeñas porciones y remover rápidamente y seguir añadiendo. No debe de cocer el huevo.', '', 'Se añade el tocino desgrasado al conjunto y se sirve al momento y caliente.']"
      ]
     },
     "execution_count": 42,
     "metadata": {},
     "output_type": "execute_result"
    }
   ],
   "source": [
    "instrucciones = list(map(lambda x: x.strip(\"\\r\\n \"),instrucciones))\n",
    "instrucciones"
   ]
  },
  {
   "cell_type": "markdown",
   "metadata": {},
   "source": [
    "Ahora podemos unir los textos con `join`"
   ]
  },
  {
   "cell_type": "code",
   "execution_count": 43,
   "metadata": {},
   "outputs": [
    {
     "data": {
      "text/plain": [
       "'Hervir los spaguetti en abundante agua salada.Rallar los quesos y cortar el tocino en trocitos.En una sartén con poco aceite, freír el tocino, hasta que cambie el color ligeramente.En una fuente batir las yemas de los huevos (uno por comensal), el queso, la pimienta y cuidado con la sal, el queso suele llevar. Es mejor empezar poniendo en pequeñas cantidades, hasta que las yemas y los quesos hacen una crema y deja de saber a huevo.Colar la pasta una vez esté hervido.Incorporar a la crema la pasta en pequeñas porciones y remover rápidamente y seguir añadiendo. No debe de cocer el huevo.Se añade el tocino desgrasado al conjunto y se sirve al momento y caliente.'"
      ]
     },
     "execution_count": 43,
     "metadata": {},
     "output_type": "execute_result"
    }
   ],
   "source": [
    "instrucciones = ''.join(instrucciones)\n",
    "instrucciones"
   ]
  },
  {
   "cell_type": "markdown",
   "metadata": {},
   "source": [
    "La puntuación está en el mismo `div` que los detalles de la receta, solo que en otro div de clase `score`"
   ]
  },
  {
   "cell_type": "code",
   "execution_count": 44,
   "metadata": {},
   "outputs": [
    {
     "data": {
      "text/plain": [
       "'5'"
      ]
     },
     "execution_count": 44,
     "metadata": {},
     "output_type": "execute_result"
    }
   ],
   "source": [
    "sel.css(\"div.otrosDet div.score span.num::text\").extract_first().strip()"
   ]
  },
  {
   "cell_type": "markdown",
   "metadata": {},
   "source": [
    "Ahora podemos ponerlo todo en una función que nos permita extraer una receta"
   ]
  },
  {
   "cell_type": "code",
   "execution_count": 53,
   "metadata": {},
   "outputs": [],
   "source": [
    "def procesar_receta(url):\n",
    "    r  = requests.get(url)\n",
    "    sel = Selector(r.text)\n",
    "    \n",
    "    categoria = sel.css(\"h2 a::text\").extract_first() \n",
    "    titulo = sel.css(\"section.receta h1::text\").extract_first().strip().capitalize() \n",
    "    \n",
    "    instrucciones = sel.css(\"div.elaboracion p::text\").extract()\n",
    "    instrucciones = list(map(lambda x: x.strip(\"\\r\\n \"),instrucciones))\n",
    "    instrucciones = ''.join(instrucciones)\n",
    "   \n",
    "    ingredientes = sel.css(\"div.ingredientes li::text\").extract()\n",
    "\n",
    "    puntuacion = sel.css(\"div.otrosDet div.score span::text\").extract_first().strip()\n",
    "    \n",
    "    detalles = sel.css(\"div.otrosDet p strong::text\").extract() \n",
    "    detalles = list(map(lambda d: d.replace(\"\\r\\n                \",\"\"), detalles))\n",
    "\n",
    "    return {\n",
    "        \"categoria\": categoria,\n",
    "        \"ingredientes\": ingredientes,\n",
    "        \"instrucciones\": instrucciones,\n",
    "       \"titulo\": titulo,\n",
    "       \"puntuacion\": puntuacion, \n",
    "       \"dificultad\": detalles[0],\n",
    "       \"tiempo\": detalles[2],\n",
    "       \"vegetariana\": detalles[3],\n",
    "       \"calorias\": detalles[4]\n",
    "        }"
   ]
  },
  {
   "cell_type": "code",
   "execution_count": 50,
   "metadata": {},
   "outputs": [],
   "source": [
    "receta = procesar_receta(\"http://www.recetas.net/receta/266/Spaguetti-a-la-carbonara\")"
   ]
  },
  {
   "cell_type": "code",
   "execution_count": 51,
   "metadata": {},
   "outputs": [
    {
     "name": "stdout",
     "output_type": "stream",
     "text": [
      "{'calorias': 'Medio',\n",
      " 'categoria': 'Pastas y arroces',\n",
      " 'dificultad': 'Media',\n",
      " 'ingredientes': ['20 gramos de  aceite ',\n",
      "                  '1 pizca de  sal ',\n",
      "                  '4  huevo, las yemas ',\n",
      "                  '1 pizca de  pimienta negra ',\n",
      "                  '150 gramos de  queso pecorino, Grana Padano ',\n",
      "                  '400 gramos de  spaguetti ',\n",
      "                  '120 gramos de  tocino ahumado '],\n",
      " 'instrucciones': 'Hervir los spaguetti en abundante agua salada.Rallar los '\n",
      "                  'quesos y cortar el tocino en trocitos.En una sartén con '\n",
      "                  'poco aceite, freír el tocino, hasta que cambie el color '\n",
      "                  'ligeramente.En una fuente batir las yemas de los huevos '\n",
      "                  '(uno por comensal), el queso, la pimienta y cuidado con la '\n",
      "                  'sal, el queso suele llevar. Es mejor empezar poniendo en '\n",
      "                  'pequeñas cantidades, hasta que las yemas y los quesos hacen '\n",
      "                  'una crema y deja de saber a huevo.Colar la pasta una vez '\n",
      "                  'esté hervido.Incorporar a la crema la pasta en pequeñas '\n",
      "                  'porciones y remover rápidamente y seguir añadiendo. No debe '\n",
      "                  'de cocer el huevo.Se añade el tocino desgrasado al conjunto '\n",
      "                  'y se sirve al momento y caliente.',\n",
      " 'puntuacion': '5',\n",
      " 'tiempo': '30min.',\n",
      " 'titulo': 'Spaguetti a la carbonara',\n",
      " 'vegetariana': 'No'}\n"
     ]
    }
   ],
   "source": [
    "pprint(receta)"
   ]
  },
  {
   "cell_type": "code",
   "execution_count": 54,
   "metadata": {},
   "outputs": [
    {
     "name": "stdout",
     "output_type": "stream",
     "text": [
      "{'calorias': 'Medio',\n",
      " 'categoria': 'Carnes y guisos',\n",
      " 'dificultad': 'Fácil',\n",
      " 'ingredientes': ['1 kilo de  carne picada de cerdo ',\n",
      "                  '1 kilo de  carne picada de ternera ',\n",
      "                  '70 ccs de  coñac ',\n",
      "                  '4  huevos ',\n",
      "                  '150 gramos de  jamón picado ',\n",
      "                  '1 pizca de  pimienta blanca ',\n",
      "                  '1 pizca de  sal de apio ',\n",
      "                  '1  sobre de sopa de champiñones liofilizada '],\n",
      " 'instrucciones': 'Se mezclan las carnes y se van añadiendo los huevos de uno '\n",
      "                  'en uno, amasándolo todo.Se añade el resto de ingredientes y '\n",
      "                  'se mezclan bien hasta formar una masa.Se pone en un molde o '\n",
      "                  'en papel de aluminio, haciendo un rollo, bien prensado, se '\n",
      "                  'mete al horno a 180º durante una hora aproximadamente, '\n",
      "                  'hasta que esté hecho.',\n",
      " 'puntuacion': '5',\n",
      " 'tiempo': '85min.',\n",
      " 'titulo': 'Rollo de carne',\n",
      " 'vegetariana': 'No'}\n"
     ]
    }
   ],
   "source": [
    "pprint(procesar_receta(\"http://www.recetas.net/receta/40/Rollo-de-carne\"))"
   ]
  },
  {
   "cell_type": "code",
   "execution_count": null,
   "metadata": {},
   "outputs": [],
   "source": []
  }
 ],
 "metadata": {
  "kernelspec": {
   "display_name": "Python 3",
   "language": "python",
   "name": "python3"
  },
  "language_info": {
   "codemirror_mode": {
    "name": "ipython",
    "version": 3
   },
   "file_extension": ".py",
   "mimetype": "text/x-python",
   "name": "python",
   "nbconvert_exporter": "python",
   "pygments_lexer": "ipython3",
   "version": "3.6.5"
  }
 },
 "nbformat": 4,
 "nbformat_minor": 2
}
