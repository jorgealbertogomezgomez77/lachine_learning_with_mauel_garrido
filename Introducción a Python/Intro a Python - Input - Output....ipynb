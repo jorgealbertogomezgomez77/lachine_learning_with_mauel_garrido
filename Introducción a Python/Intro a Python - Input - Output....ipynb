{
 "cells": [
  {
   "cell_type": "code",
   "execution_count": 16,
   "metadata": {},
   "outputs": [
    {
     "data": {
      "text/plain": [
       "'\\nComo leer y escribir archivos.\\n'"
      ]
     },
     "execution_count": 16,
     "metadata": {},
     "output_type": "execute_result"
    }
   ],
   "source": [
    "# _*_ coding: utf-8 _*_\n",
    "\"\"\"\n",
    "Como leer y escribir archivos.\n",
    "\"\"\""
   ]
  },
  {
   "cell_type": "code",
   "execution_count": 2,
   "metadata": {},
   "outputs": [],
   "source": [
    "import os"
   ]
  },
  {
   "cell_type": "markdown",
   "metadata": {},
   "source": [
    "### Creación de carpetas y directorios..."
   ]
  },
  {
   "cell_type": "code",
   "execution_count": 3,
   "metadata": {},
   "outputs": [],
   "source": [
    "os.makedirs(\"data/nombres\", exist_ok = True)"
   ]
  },
  {
   "cell_type": "markdown",
   "metadata": {},
   "source": [
    "### Listado de archivos..."
   ]
  },
  {
   "cell_type": "code",
   "execution_count": 4,
   "metadata": {},
   "outputs": [
    {
     "name": "stdout",
     "output_type": "stream",
     "text": [
      "['.ipynb_checkpoints', 'Convenciones para crear scripts en Python....ipynb', 'data', 'Intro a Python - 1....ipynb', 'Intro a Python - 2....ipynb', 'Intro a Python - 3....ipynb', 'Intro a Python - Argumentos Avanzados....ipynb', 'Intro a Python - Estructuras de Datos Avanzadas....ipynb', 'Intro a Python - Input - Output....ipynb', 'Intro a Python - Módulo Importable....ipynb']\n"
     ]
    }
   ],
   "source": [
    "archivos_carpeta_actual = os.listdir(\".\")\n",
    "print(archivos_carpeta_actual)"
   ]
  },
  {
   "cell_type": "markdown",
   "metadata": {},
   "source": [
    "### Escritura de archivos...\n",
    "   * Podemos usar open para abrir archivos. Si el archivo no existe, dará un error."
   ]
  },
  {
   "cell_type": "code",
   "execution_count": 12,
   "metadata": {},
   "outputs": [
    {
     "ename": "FileNotFoundError",
     "evalue": "[Errno 2] No such file or directory: 'data/nombres/usuarios_2.txt'",
     "output_type": "error",
     "traceback": [
      "\u001b[1;31m---------------------------------------------------------------------------\u001b[0m",
      "\u001b[1;31mFileNotFoundError\u001b[0m                         Traceback (most recent call last)",
      "\u001b[1;32m<ipython-input-12-197b4b994a7a>\u001b[0m in \u001b[0;36m<module>\u001b[1;34m\u001b[0m\n\u001b[1;32m----> 1\u001b[1;33m \u001b[0marchivo_inexistente\u001b[0m \u001b[1;33m=\u001b[0m \u001b[0mopen\u001b[0m\u001b[1;33m(\u001b[0m\u001b[1;34m\"data/nombres/usuarios_2.txt\"\u001b[0m\u001b[1;33m)\u001b[0m\u001b[1;33m\u001b[0m\u001b[1;33m\u001b[0m\u001b[0m\n\u001b[0m",
      "\u001b[1;31mFileNotFoundError\u001b[0m: [Errno 2] No such file or directory: 'data/nombres/usuarios_2.txt'"
     ]
    }
   ],
   "source": [
    "archivo_inexistente = open(\"data/nombres/usuarios_2.txt\", \"r\")"
   ]
  },
  {
   "cell_type": "code",
   "execution_count": 20,
   "metadata": {},
   "outputs": [],
   "source": [
    "# Si queremos crear un archivo para escribir, debemos especificar el método de escritura \"w\".\n",
    "archivo_para_escribir = open(\"data/nombres/usuarios.txt\", \"w\")\n",
    "archivo_para_escribir.write(\"Hola\")\n",
    "archivo_para_escribir.write(\" Mundo!\")\n",
    "archivo_para_escribir.write(\"\\nVito esto es para probar porque se demora tanto en escribir.\")\n",
    "archivo_para_escribir.write(\"\\nVito esto es para probar porque se demora tanto en escribir. Escribiendo en otra linea.\")\n",
    "archivo_para_escribir.close()"
   ]
  },
  {
   "cell_type": "code",
   "execution_count": 43,
   "metadata": {},
   "outputs": [],
   "source": [
    "# Usar el método de escritura \"w\" sobreescribe el archivo.\n",
    "archivo_para_escribir = open(\"data/nombres/usuarios.txt\", \"w\", encoding = \"utf-8\")\n",
    "archivo_para_escribir.write(\"Hola------\")\n",
    "archivo_para_escribir.write(\" Mundo!-----------\")\n",
    "archivo_para_escribir.write(\"\\nVito esto es para probar porque se demora tanto en escribir.--------------\")\n",
    "archivo_para_escribir.write(\"\\nVito esto es para probar porque se demora tanto en escribir. Escribiñendo en otra linea.\")\n",
    "archivo_para_escribir.close()"
   ]
  },
  {
   "cell_type": "code",
   "execution_count": 31,
   "metadata": {},
   "outputs": [],
   "source": [
    "# Podemos usar el método \"a\" para escribir añadiendo sin borrar al archivo original.\n",
    "archivo_para_escribir = open(\"data/nombres/usuarios_2.txt\", \"a\")\n",
    "archivo_para_escribir.write(\"Hola\")\n",
    "archivo_para_escribir.write(\" Mundo!\")\n",
    "archivo_para_escribir.close()"
   ]
  },
  {
   "cell_type": "code",
   "execution_count": 44,
   "metadata": {},
   "outputs": [],
   "source": [
    "# Para escribir usualmente se hace de esta forma.\n",
    "usuarios = [\"Manuel\", \"Antonio\", \"Juan\", \"Miguel\"]\n",
    "with open(\"data/nombres/usuarios.txt\", \"w\") as fname:\n",
    "    for usuario in usuarios:\n",
    "        fname.write(usuario + \"\\n\")\n",
    "        #fname.write(\"\\n\")"
   ]
  },
  {
   "cell_type": "markdown",
   "metadata": {},
   "source": [
    "### Lectura de archivos..."
   ]
  },
  {
   "cell_type": "code",
   "execution_count": 38,
   "metadata": {},
   "outputs": [
    {
     "name": "stdout",
     "output_type": "stream",
     "text": [
      "Hola Mundo!\n",
      "Vito esto es para probar porque se demora tanto en escribir.\n",
      "Vito esto es para probar porque se demora tanto en escribir. Escribiendo en otra linea.Hola Mundo!Hola Mundo!Hola Mundo!Hola Mundo!Hola Mundo!Hola Mundo!Hola Mundo!Hola Mundo!\n"
     ]
    }
   ],
   "source": [
    "with open(\"data/nombres/usuarios_2.txt\") as fname:\n",
    "    datos = fname.read()\n",
    "    print(datos)"
   ]
  },
  {
   "cell_type": "code",
   "execution_count": 47,
   "metadata": {},
   "outputs": [
    {
     "name": "stdout",
     "output_type": "stream",
     "text": [
      "['Manuel', 'Antonio', 'Juan', 'Miguel']\n"
     ]
    }
   ],
   "source": [
    "usuarios_desde_archivo = []\n",
    "with open(\"data/nombres/usuarios.txt\") as fname:\n",
    "    lineas = fname.readlines()\n",
    "    for linea in lineas:\n",
    "        usuarios_desde_archivo.append(linea.strip(\"\\n\"))\n",
    "\n",
    "print(usuarios_desde_archivo)"
   ]
  },
  {
   "cell_type": "markdown",
   "metadata": {},
   "source": [
    "## Usando pathlib..."
   ]
  },
  {
   "cell_type": "code",
   "execution_count": 48,
   "metadata": {},
   "outputs": [],
   "source": [
    "from pathlib import Path"
   ]
  },
  {
   "cell_type": "code",
   "execution_count": 51,
   "metadata": {},
   "outputs": [
    {
     "name": "stdout",
     "output_type": "stream",
     "text": [
      "<class 'pathlib.WindowsPath'>\n"
     ]
    },
    {
     "data": {
      "text/plain": [
       "'Manuel\\nAntonio\\nJuan\\nMiguel\\n'"
      ]
     },
     "execution_count": 51,
     "metadata": {},
     "output_type": "execute_result"
    }
   ],
   "source": [
    "carpeta = Path(\"data/nombres/\")\n",
    "archivo = carpeta / \"usuarios.txt\"\n",
    "print(type(archivo))\n",
    "archivo.read_text()"
   ]
  },
  {
   "cell_type": "code",
   "execution_count": 54,
   "metadata": {},
   "outputs": [
    {
     "name": "stdout",
     "output_type": "stream",
     "text": [
      "<class 'pathlib.WindowsPath'>\n"
     ]
    },
    {
     "data": {
      "text/plain": [
       "'hola'"
      ]
     },
     "execution_count": 54,
     "metadata": {},
     "output_type": "execute_result"
    }
   ],
   "source": [
    "# escribir facilmente un archivo con path.\n",
    "carpeta = Path(\"data/nombres/\")\n",
    "archivo = carpeta / \"usuarios_2.txt\"\n",
    "print(type(archivo))\n",
    "archivo.write_text(\"hola\")\n",
    "archivo.read_text()"
   ]
  },
  {
   "cell_type": "code",
   "execution_count": 55,
   "metadata": {},
   "outputs": [
    {
     "data": {
      "text/plain": [
       "'Manuel\\nAntonio\\nJuan\\nMiguel\\nFernando\\nAlejandro\\n'"
      ]
     },
     "execution_count": 55,
     "metadata": {},
     "output_type": "execute_result"
    }
   ],
   "source": [
    "# Para añadir texto al final del archivo seguimos necesitando...\n",
    "usuarios = [\"Manuel\", \"Antonio\", \"Juan\", \"Miguel\", \"Fernando\", \"Alejandro\"]\n",
    "\n",
    "carpeta = Path(\"data/nombres/\")\n",
    "archivo = carpeta / \"usuarios_3.txt\"\n",
    "\n",
    "with open(archivo, \"a\") as fname:\n",
    "    for usuario in usuarios:\n",
    "        fname.write(usuario)\n",
    "        fname.write(\"\\n\")\n",
    "\n",
    "archivo.read_text()"
   ]
  },
  {
   "cell_type": "code",
   "execution_count": null,
   "metadata": {},
   "outputs": [],
   "source": []
  }
 ],
 "metadata": {
  "kernelspec": {
   "display_name": "Python 3",
   "language": "python",
   "name": "python3"
  },
  "language_info": {
   "codemirror_mode": {
    "name": "ipython",
    "version": 3
   },
   "file_extension": ".py",
   "mimetype": "text/x-python",
   "name": "python",
   "nbconvert_exporter": "python",
   "pygments_lexer": "ipython3",
   "version": "3.7.3rc1"
  }
 },
 "nbformat": 4,
 "nbformat_minor": 2
}
