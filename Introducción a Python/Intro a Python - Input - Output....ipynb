{
 "cells": [
  {
   "cell_type": "code",
   "execution_count": 16,
   "metadata": {},
   "outputs": [
    {
     "data": {
      "text/plain": [
       "'\\nComo leer y escribir archivos.\\n'"
      ]
     },
     "execution_count": 16,
     "metadata": {},
     "output_type": "execute_result"
    }
   ],
   "source": [
    "# _*_ coding: utf-8 _*_\n",
    "\"\"\"\n",
    "Como leer y escribir archivos.\n",
    "\"\"\""
   ]
  },
  {
   "cell_type": "code",
   "execution_count": 1,
   "metadata": {},
   "outputs": [],
   "source": [
    "import os"
   ]
  },
  {
   "cell_type": "markdown",
   "metadata": {},
   "source": [
    "### Creación de carpetas y directorios..."
   ]
  },
  {
   "cell_type": "code",
   "execution_count": 3,
   "metadata": {},
   "outputs": [],
   "source": [
    "os.makedirs(\"data/nombres\", exist_ok = True)"
   ]
  },
  {
   "cell_type": "markdown",
   "metadata": {},
   "source": [
    "### Listado de archivos..."
   ]
  },
  {
   "cell_type": "code",
   "execution_count": 4,
   "metadata": {},
   "outputs": [
    {
     "name": "stdout",
     "output_type": "stream",
     "text": [
      "['.ipynb_checkpoints', 'Convenciones para crear scripts en Python....ipynb', 'data', 'Intro a Python - 1....ipynb', 'Intro a Python - 2....ipynb', 'Intro a Python - 3....ipynb', 'Intro a Python - Argumentos Avanzados....ipynb', 'Intro a Python - Estructuras de Datos Avanzadas....ipynb', 'Intro a Python - Input - Output....ipynb', 'Intro a Python - Módulo Importable....ipynb']\n"
     ]
    }
   ],
   "source": [
    "archivos_carpeta_actual = os.listdir(\".\")\n",
    "print(archivos_carpeta_actual)"
   ]
  },
  {
   "cell_type": "markdown",
   "metadata": {},
   "source": [
    "### Escritura de archivos...\n",
    "   * Podemos usar open para abrir archivos. Si el archivo no existe, dará un error."
   ]
  },
  {
   "cell_type": "code",
   "execution_count": 37,
   "metadata": {},
   "outputs": [],
   "source": [
    "archivo_inexistente = open(\"data/nombres/usuarios_2.txt\", \"r\")"
   ]
  },
  {
   "cell_type": "code",
   "execution_count": 20,
   "metadata": {},
   "outputs": [],
   "source": [
    "# Si queremos crear un archivo para escribir, debemos especificar el método de escritura \"w\".\n",
    "archivo_para_escribir = open(\"data/nombres/usuarios.txt\", \"w\")\n",
    "archivo_para_escribir.write(\"Hola\")\n",
    "archivo_para_escribir.write(\" Mundo!\")\n",
    "archivo_para_escribir.write(\"\\nVito esto es para probar porque se demora tanto en escribir.\")\n",
    "archivo_para_escribir.write(\"\\nVito esto es para probar porque se demora tanto en escribir. Escribiendo en otra linea.\")\n",
    "archivo_para_escribir.close()"
   ]
  },
  {
   "cell_type": "code",
   "execution_count": 43,
   "metadata": {},
   "outputs": [],
   "source": [
    "# Usar el método de escritura \"w\" sobreescribe el archivo.\n",
    "archivo_para_escribir = open(\"data/nombres/usuarios.txt\", \"w\", encoding = \"utf-8\")\n",
    "archivo_para_escribir.write(\"Hola------\")\n",
    "archivo_para_escribir.write(\" Mundo!-----------\")\n",
    "archivo_para_escribir.write(\"\\nVito esto es para probar porque se demora tanto en escribir.--------------\")\n",
    "archivo_para_escribir.write(\"\\nVito esto es para probar porque se demora tanto en escribir. Escribiñendo en otra linea.\")\n",
    "archivo_para_escribir.close()"
   ]
  },
  {
   "cell_type": "code",
   "execution_count": 31,
   "metadata": {},
   "outputs": [],
   "source": [
    "# Podemos usar el método \"a\" para escribir añadiendo sin borrar al archivo original.\n",
    "archivo_para_escribir = open(\"data/nombres/usuarios_2.txt\", \"a\")\n",
    "archivo_para_escribir.write(\"Hola\")\n",
    "archivo_para_escribir.write(\" Mundo!\")\n",
    "archivo_para_escribir.close()"
   ]
  },
  {
   "cell_type": "code",
   "execution_count": 44,
   "metadata": {},
   "outputs": [],
   "source": [
    "# Para escribir usualmente se hace de esta forma.\n",
    "usuarios = [\"Manuel\", \"Antonio\", \"Juan\", \"Miguel\"]\n",
    "with open(\"data/nombres/usuarios.txt\", \"w\") as fname:\n",
    "    for usuario in usuarios:\n",
    "        fname.write(usuario + \"\\n\")\n",
    "        #fname.write(\"\\n\")"
   ]
  },
  {
   "cell_type": "markdown",
   "metadata": {},
   "source": [
    "### Lectura de archivos..."
   ]
  },
  {
   "cell_type": "code",
   "execution_count": 38,
   "metadata": {},
   "outputs": [
    {
     "name": "stdout",
     "output_type": "stream",
     "text": [
      "Hola Mundo!\n",
      "Vito esto es para probar porque se demora tanto en escribir.\n",
      "Vito esto es para probar porque se demora tanto en escribir. Escribiendo en otra linea.Hola Mundo!Hola Mundo!Hola Mundo!Hola Mundo!Hola Mundo!Hola Mundo!Hola Mundo!Hola Mundo!\n"
     ]
    }
   ],
   "source": [
    "with open(\"data/nombres/usuarios_2.txt\") as fname:\n",
    "    datos = fname.read()\n",
    "    print(datos)"
   ]
  },
  {
   "cell_type": "code",
   "execution_count": 47,
   "metadata": {},
   "outputs": [
    {
     "name": "stdout",
     "output_type": "stream",
     "text": [
      "['Manuel', 'Antonio', 'Juan', 'Miguel']\n"
     ]
    }
   ],
   "source": [
    "usuarios_desde_archivo = []\n",
    "with open(\"data/nombres/usuarios.txt\") as fname:\n",
    "    lineas = fname.readlines()\n",
    "    for linea in lineas:\n",
    "        usuarios_desde_archivo.append(linea.strip(\"\\n\"))\n",
    "\n",
    "print(usuarios_desde_archivo)"
   ]
  },
  {
   "cell_type": "markdown",
   "metadata": {},
   "source": [
    "## Usando pathlib..."
   ]
  },
  {
   "cell_type": "code",
   "execution_count": 48,
   "metadata": {},
   "outputs": [],
   "source": [
    "from pathlib import Path"
   ]
  },
  {
   "cell_type": "code",
   "execution_count": 51,
   "metadata": {},
   "outputs": [
    {
     "name": "stdout",
     "output_type": "stream",
     "text": [
      "<class 'pathlib.WindowsPath'>\n"
     ]
    },
    {
     "data": {
      "text/plain": [
       "'Manuel\\nAntonio\\nJuan\\nMiguel\\n'"
      ]
     },
     "execution_count": 51,
     "metadata": {},
     "output_type": "execute_result"
    }
   ],
   "source": [
    "carpeta = Path(\"data/nombres/\")\n",
    "archivo = carpeta / \"usuarios.txt\"\n",
    "print(type(archivo))\n",
    "archivo.read_text()"
   ]
  },
  {
   "cell_type": "code",
   "execution_count": 54,
   "metadata": {},
   "outputs": [
    {
     "name": "stdout",
     "output_type": "stream",
     "text": [
      "<class 'pathlib.WindowsPath'>\n"
     ]
    },
    {
     "data": {
      "text/plain": [
       "'hola'"
      ]
     },
     "execution_count": 54,
     "metadata": {},
     "output_type": "execute_result"
    }
   ],
   "source": [
    "# escribir facilmente un archivo con path.\n",
    "carpeta = Path(\"data/nombres/\")\n",
    "archivo = carpeta / \"usuarios_2.txt\"\n",
    "print(type(archivo))\n",
    "archivo.write_text(\"hola\")\n",
    "archivo.read_text()"
   ]
  },
  {
   "cell_type": "code",
   "execution_count": 55,
   "metadata": {},
   "outputs": [
    {
     "data": {
      "text/plain": [
       "'Manuel\\nAntonio\\nJuan\\nMiguel\\nFernando\\nAlejandro\\n'"
      ]
     },
     "execution_count": 55,
     "metadata": {},
     "output_type": "execute_result"
    }
   ],
   "source": [
    "# Para añadir texto al final del archivo seguimos necesitando...\n",
    "usuarios = [\"Manuel\", \"Antonio\", \"Juan\", \"Miguel\", \"Fernando\", \"Alejandro\"]\n",
    "\n",
    "carpeta = Path(\"data/nombres/\")\n",
    "archivo = carpeta / \"usuarios_3.txt\"\n",
    "\n",
    "with open(archivo, \"a\") as fname:\n",
    "    for usuario in usuarios:\n",
    "        fname.write(usuario)\n",
    "        fname.write(\"\\n\")\n",
    "\n",
    "archivo.read_text()"
   ]
  },
  {
   "cell_type": "markdown",
   "metadata": {},
   "source": [
    "# Ejercicios..."
   ]
  },
  {
   "cell_type": "markdown",
   "metadata": {},
   "source": [
    "## Ejercicio - 1..."
   ]
  },
  {
   "cell_type": "code",
   "execution_count": 94,
   "metadata": {},
   "outputs": [
    {
     "name": "stdout",
     "output_type": "stream",
     "text": [
      "1961\n",
      "['Graecum', 'Handyverträge', 'Heizkosten', 'Indiens', 'Infomaterialien', 'Kosmetikartikel', 'Leseexemplar', 'Literaturwettbewerb', 'Lüdinghausen', 'Mehrprodukts', 'Merian', 'Meteorologie', 'Mindener', 'Minitastatur', 'Möhnesee', 'Nachrücker', 'Navigationsgeräte', 'Notizblock', 'Numero', 'Pietro', 'Polanskis', 'Präventionsforschung', 'Prüfungsleistungen', 'Readern', 'Realsozialismus', 'Registrierungsdatum', 'Rezeptbücher', 'Saskia', 'Fanmeile', 'Paßwort']\n"
     ]
    }
   ],
   "source": [
    "def ultimas_n_lineas(archivo_name, n):\n",
    "    datos_debueltos = []\n",
    "    with open(\"data/exercices/\" + archivo_name, encoding = \"utf-8\") as leer:\n",
    "        datos = leer.readlines()\n",
    "        for lineas in datos:\n",
    "            datos_debueltos.append(lineas.strip(\"\\n\"))\n",
    "        print(len(datos_debueltos))\n",
    "            \n",
    "    print(datos_debueltos[-n:])\n",
    "\n",
    "ultimas_n_lineas(\"added.txt\", 30)"
   ]
  },
  {
   "cell_type": "code",
   "execution_count": 93,
   "metadata": {},
   "outputs": [
    {
     "data": {
      "text/plain": [
       "['Graecum',\n",
       " 'Handyverträge',\n",
       " 'Heizkosten',\n",
       " 'Indiens',\n",
       " 'Infomaterialien',\n",
       " 'Kosmetikartikel',\n",
       " 'Leseexemplar',\n",
       " 'Literaturwettbewerb',\n",
       " 'Lüdinghausen',\n",
       " 'Mehrprodukts',\n",
       " 'Merian',\n",
       " 'Meteorologie',\n",
       " 'Mindener',\n",
       " 'Minitastatur',\n",
       " 'Möhnesee',\n",
       " 'Nachrücker',\n",
       " 'Navigationsgeräte',\n",
       " 'Notizblock',\n",
       " 'Numero',\n",
       " 'Pietro',\n",
       " 'Polanskis',\n",
       " 'Präventionsforschung',\n",
       " 'Prüfungsleistungen',\n",
       " 'Readern',\n",
       " 'Realsozialismus',\n",
       " 'Registrierungsdatum',\n",
       " 'Rezeptbücher',\n",
       " 'Saskia',\n",
       " 'Fanmeile',\n",
       " 'Paßwort']"
      ]
     },
     "execution_count": 93,
     "metadata": {},
     "output_type": "execute_result"
    }
   ],
   "source": [
    "def leer_n_ultimas(nombre, n):\n",
    "    with open(nombre, \"r\", encoding = \"utf-8\") as fname:\n",
    "        lineas = [linea.strip(\"\\n\") for linea in fname.readlines()]\n",
    "    return lineas[-n:]\n",
    "\n",
    "leer_n_ultimas(\"data/exercices/added.txt\", 30)"
   ]
  },
  {
   "cell_type": "code",
   "execution_count": 35,
   "metadata": {},
   "outputs": [
    {
     "name": "stdout",
     "output_type": "stream",
     "text": [
      "Berufsunfähigkeitsversicherung\n"
     ]
    }
   ],
   "source": [
    "def major_line(archivo_name):\n",
    "    datos_debueltos = []\n",
    "    final_list = []\n",
    "    with open(\"data/exercices/\" + archivo_name, encoding = \"utf-8\") as leer:\n",
    "        datos = leer.readlines()\n",
    "        for lineas in datos:\n",
    "            datos_debueltos.append(lineas.strip(\"\\n\"))\n",
    "        for i in range(len(datos_debueltos)):\n",
    "            contador = len(datos_debueltos[i])\n",
    "            final_list.append(contador)\n",
    "    print (datos_debueltos[final_list.index(max(final_list))])\n",
    "\n",
    "major_line(\"added.txt\")"
   ]
  },
  {
   "cell_type": "code",
   "execution_count": 86,
   "metadata": {},
   "outputs": [
    {
     "data": {
      "text/plain": [
       "'Berufsunfähigkeitsversicherung'"
      ]
     },
     "execution_count": 86,
     "metadata": {},
     "output_type": "execute_result"
    }
   ],
   "source": [
    "def linea_mas_larga(nombre):\n",
    "    with open(nombre, encoding = \"utf-8\") as fname:\n",
    "        lineas = [linea.strip(\"\\n\") for linea in fname.readlines()]\n",
    "    linea_mas_larga = lineas[0]\n",
    "    for linea in lineas:\n",
    "        if len(linea) > len(linea_mas_larga):\n",
    "            linea_mas_larga = linea\n",
    "    return linea_mas_larga\n",
    "\n",
    "linea_mas_larga(\"data/exercices/added.txt\")"
   ]
  },
  {
   "cell_type": "code",
   "execution_count": 63,
   "metadata": {},
   "outputs": [],
   "source": [
    "diccionario = {\n",
    "    \"nombre\": [\"Antonio\", \"Miguel\", \"Julian\", \"Andres\"],\n",
    "    \"edad\": [45, 40, 22, 34],\n",
    "    \"ciudad\": [\"Murcia\", \"Almeria\", \"Barcelona\", \"Madrid\"]\n",
    "}"
   ]
  },
  {
   "cell_type": "code",
   "execution_count": 96,
   "metadata": {},
   "outputs": [],
   "source": [
    "def dict_a_csv(diccionario, nombre):\n",
    "    claves = list(diccionario.keys())\n",
    "    n_items = len(diccionario[claves[0]])\n",
    "    with open(nombre, \"w\", encoding = \"utf-8\") as fname:\n",
    "        fname.write(','.join(diccionario.keys()))\n",
    "        fname.write(\"\\n\")\n",
    "        for i in range(n_items):\n",
    "            fila = \",\".join([str(diccionario[clave][i]) for clave in claves])\n",
    "            fname.write(fila)\n",
    "            fname.write(\"\\n\")\n",
    "    \n",
    "dict_a_csv(diccionario, \"data/csv/archivo.csv\")"
   ]
  },
  {
   "cell_type": "code",
   "execution_count": 146,
   "metadata": {},
   "outputs": [
    {
     "data": {
      "text/plain": [
       "'manzanas,bananas,peras y uvas'"
      ]
     },
     "execution_count": 146,
     "metadata": {},
     "output_type": "execute_result"
    }
   ],
   "source": [
    "def lista_to_cadena(lista):\n",
    "    lista_new = lista[:-1]\n",
    "    cadena = \",\".join(lista_new)\n",
    "    cadena = cadena + \" y \" + lista[-1]\n",
    "    return cadena\n",
    "\n",
    "lista = [\"manzanas\", \"bananas\", \"peras\", \"uvas\"]\n",
    "lista_to_cadena(lista)"
   ]
  },
  {
   "cell_type": "code",
   "execution_count": null,
   "metadata": {},
   "outputs": [],
   "source": []
  },
  {
   "cell_type": "code",
   "execution_count": null,
   "metadata": {},
   "outputs": [],
   "source": []
  }
 ],
 "metadata": {
  "kernelspec": {
   "display_name": "Python 3",
   "language": "python",
   "name": "python3"
  },
  "language_info": {
   "codemirror_mode": {
    "name": "ipython",
    "version": 3
   },
   "file_extension": ".py",
   "mimetype": "text/x-python",
   "name": "python",
   "nbconvert_exporter": "python",
   "pygments_lexer": "ipython3",
   "version": "3.7.3rc1"
  }
 },
 "nbformat": 4,
 "nbformat_minor": 2
}
