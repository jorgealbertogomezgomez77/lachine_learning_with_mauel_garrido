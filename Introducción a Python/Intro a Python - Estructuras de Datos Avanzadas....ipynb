{
 "cells": [
  {
   "cell_type": "markdown",
   "metadata": {},
   "source": [
    "#  Estructuras de Datos Avanzadas...\n",
    "## - Sets..."
   ]
  },
  {
   "cell_type": "code",
   "execution_count": 2,
   "metadata": {},
   "outputs": [
    {
     "data": {
      "text/plain": [
       "{'Iñigo', 'Jesus', 'Manuel', 'Miguel', 'Rodrigo'}"
      ]
     },
     "execution_count": 2,
     "metadata": {},
     "output_type": "execute_result"
    }
   ],
   "source": [
    "grupo_amigos1 = set([\"Manuel\", \"Rodrigo\", \"Miguel\", \"Jesus\", \"Iñigo\"])\n",
    "grupo_amigos1po_amigos1"
   ]
  },
  {
   "cell_type": "code",
   "execution_count": 6,
   "metadata": {},
   "outputs": [
    {
     "data": {
      "text/plain": [
       "{'Alejandro', 'Antonio', 'Fernando', 'Lazaro', 'Manuel'}"
      ]
     },
     "execution_count": 6,
     "metadata": {},
     "output_type": "execute_result"
    }
   ],
   "source": [
    "grupo_amigos2 = {\"Manuel\", \"Alejandro\", \"Fernando\", \"Antonio\", \"Lazaro\"}\n",
    "grupo_amigos2"
   ]
  },
  {
   "cell_type": "code",
   "execution_count": 7,
   "metadata": {},
   "outputs": [
    {
     "data": {
      "text/plain": [
       "{'Alejandro',\n",
       " 'Antonio',\n",
       " 'Fernando',\n",
       " 'Iñigo',\n",
       " 'Jesus',\n",
       " 'Lazaro',\n",
       " 'Manuel',\n",
       " 'Miguel',\n",
       " 'Rodrigo'}"
      ]
     },
     "execution_count": 7,
     "metadata": {},
     "output_type": "execute_result"
    }
   ],
   "source": [
    "todos_amigos = grupo_amigos1.union(grupo_amigos2)\n",
    "todos_amigos"
   ]
  },
  {
   "cell_type": "code",
   "execution_count": 8,
   "metadata": {},
   "outputs": [
    {
     "data": {
      "text/plain": [
       "{'Manuel'}"
      ]
     },
     "execution_count": 8,
     "metadata": {},
     "output_type": "execute_result"
    }
   ],
   "source": [
    "todos_amigos = grupo_amigos1.intersection(grupo_amigos2)\n",
    "todos_amigos"
   ]
  },
  {
   "cell_type": "code",
   "execution_count": 9,
   "metadata": {},
   "outputs": [
    {
     "data": {
      "text/plain": [
       "{'Iñigo', 'Jesus', 'Miguel', 'Rodrigo'}"
      ]
     },
     "execution_count": 9,
     "metadata": {},
     "output_type": "execute_result"
    }
   ],
   "source": [
    "amigos_exclusivos_grupo1 = grupo_amigos1 - grupo_amigos2\n",
    "amigos_exclusivos_grupo1"
   ]
  },
  {
   "cell_type": "code",
   "execution_count": 13,
   "metadata": {},
   "outputs": [
    {
     "data": {
      "text/plain": [
       "{'Iñigo', 'Jesus', 'Jorge', 'Manuel', 'Miguel', 'Rodrigo', 'Yenena'}"
      ]
     },
     "execution_count": 13,
     "metadata": {},
     "output_type": "execute_result"
    }
   ],
   "source": [
    "grupo_amigos1.add(\"Yenena\")\n",
    "grupo_amigos1"
   ]
  },
  {
   "cell_type": "code",
   "execution_count": 14,
   "metadata": {},
   "outputs": [
    {
     "data": {
      "text/plain": [
       "{'Iñigo', 'Jesus', 'Jorge', 'Manuel', 'Miguel', 'Rodrigo'}"
      ]
     },
     "execution_count": 14,
     "metadata": {},
     "output_type": "execute_result"
    }
   ],
   "source": [
    "grupo_amigos1.remove(\"Yenena\")\n",
    "grupo_amigos1"
   ]
  },
  {
   "cell_type": "markdown",
   "metadata": {},
   "source": [
    "### Eliminar los elementos repetidos de una lista..."
   ]
  },
  {
   "cell_type": "code",
   "execution_count": 20,
   "metadata": {},
   "outputs": [
    {
     "data": {
      "text/plain": [
       "['Hulk', 'Thor', 'Viuda Negra', 'Iron Man', 'Capitán América', 'Ojo de Halcón']"
      ]
     },
     "execution_count": 20,
     "metadata": {},
     "output_type": "execute_result"
    }
   ],
   "source": [
    "avengers_repetidos = [\"Iron Man\", \"Thor\", \"Hulk\", \"Viuda Negra\", \n",
    "            \"Capitán América\", \"Ojo de Halcón\", \"Iron Man\", \n",
    "            \"Thor\", \"Hulk\", \"Viuda Negra\", \"Hulk\", \"Viuda Negra\"]\n",
    "\n",
    "len(avengers)\n",
    "avengers_unicos = list(set(avengers_repetidos))\n",
    "avengers_unicos"
   ]
  },
  {
   "cell_type": "markdown",
   "metadata": {},
   "source": [
    "### Comparar sets...\n",
    "   * Un set es más grande que otro si tiene todos los elementos de este y al menos un elemento mas."
   ]
  },
  {
   "cell_type": "code",
   "execution_count": 22,
   "metadata": {},
   "outputs": [
    {
     "name": "stdout",
     "output_type": "stream",
     "text": [
      "True\n"
     ]
    }
   ],
   "source": [
    "set1 = {\"fresa\", \"manzana\"}\n",
    "set2 = {\"fresa\", \"manzana\"}\n",
    "print(set1 == set2)"
   ]
  },
  {
   "cell_type": "code",
   "execution_count": 23,
   "metadata": {},
   "outputs": [
    {
     "name": "stdout",
     "output_type": "stream",
     "text": [
      "True\n"
     ]
    }
   ],
   "source": [
    "set3 = {\"fresa\", \"manzana\", \"platano\"}\n",
    "print(set3 > set2)"
   ]
  },
  {
   "cell_type": "code",
   "execution_count": 24,
   "metadata": {},
   "outputs": [
    {
     "name": "stdout",
     "output_type": "stream",
     "text": [
      "False\n"
     ]
    }
   ],
   "source": [
    "set4 = {\"mora\", \"manzana\"}\n",
    "print(set3 > set4)"
   ]
  },
  {
   "cell_type": "markdown",
   "metadata": {},
   "source": [
    "## - Counters...\n",
    "   * from collections import Counter\n",
    "       * Se utiliza para contar cosas."
   ]
  },
  {
   "cell_type": "code",
   "execution_count": 47,
   "metadata": {},
   "outputs": [],
   "source": [
    "from collections import Counter"
   ]
  },
  {
   "cell_type": "code",
   "execution_count": 48,
   "metadata": {},
   "outputs": [
    {
     "name": "stdout",
     "output_type": "stream",
     "text": [
      "<class 'collections.Counter'>\n"
     ]
    },
    {
     "data": {
      "text/plain": [
       "Counter({'PODEMOS': 7, 'PSOE': 5, 'PP': 6, 'CIUDADANOS': 1})"
      ]
     },
     "execution_count": 48,
     "metadata": {},
     "output_type": "execute_result"
    }
   ],
   "source": [
    "votos = ['PODEMOS', 'PSOE', 'PSOE', 'PODEMOS',\n",
    "         'PP', 'PSOE', 'PP', 'PP', 'PP', 'PODEMOS',\n",
    "         'PSOE', 'PP', 'CIUDADANOS', 'PSOE', 'PP',\n",
    "         'PODEMOS', 'PODEMOS', 'PODEMOS', 'PODEMOS']\n",
    "\n",
    "recuento_votos = Counter(votos)\n",
    "print(type(recuento_votos))\n",
    "recuento_votos"
   ]
  },
  {
   "cell_type": "code",
   "execution_count": 49,
   "metadata": {
    "scrolled": true
   },
   "outputs": [
    {
     "data": {
      "text/plain": [
       "6"
      ]
     },
     "execution_count": 49,
     "metadata": {},
     "output_type": "execute_result"
    }
   ],
   "source": [
    "recuento_votos[\"PP\"]"
   ]
  },
  {
   "cell_type": "code",
   "execution_count": 82,
   "metadata": {},
   "outputs": [
    {
     "data": {
      "text/plain": [
       "[('PODEMOS', 13), ('CIUDADANOS', 7)]"
      ]
     },
     "execution_count": 82,
     "metadata": {},
     "output_type": "execute_result"
    }
   ],
   "source": [
    "recuento_votos.most_common(2)"
   ]
  },
  {
   "cell_type": "code",
   "execution_count": 50,
   "metadata": {},
   "outputs": [
    {
     "data": {
      "text/plain": [
       "2"
      ]
     },
     "execution_count": 50,
     "metadata": {},
     "output_type": "execute_result"
    }
   ],
   "source": [
    "recuento_votos.update([\"CIUDADANOS\"])\n",
    "recuento_votos[\"CIUDADANOS\"]"
   ]
  },
  {
   "cell_type": "code",
   "execution_count": 51,
   "metadata": {},
   "outputs": [
    {
     "data": {
      "text/plain": [
       "Counter({'PODEMOS': 13, 'PSOE': 5, 'PP': 6, 'CIUDADANOS': 7})"
      ]
     },
     "execution_count": 51,
     "metadata": {},
     "output_type": "execute_result"
    }
   ],
   "source": [
    "recuento_votos.update({\"CIUDADANOS\": 5, \"PODEMOS\": 6})\n",
    "recuento_votos"
   ]
  },
  {
   "cell_type": "code",
   "execution_count": 52,
   "metadata": {},
   "outputs": [
    {
     "data": {
      "text/plain": [
       "Counter({'PODEMOS': 13, 'PSOE': 5, 'PP': 6, 'CIUDADANOS': 7, 'UPyD': 1})"
      ]
     },
     "execution_count": 52,
     "metadata": {},
     "output_type": "execute_result"
    }
   ],
   "source": [
    "recuento_votos[\"UPyD\"] = 1\n",
    "recuento_votos"
   ]
  },
  {
   "cell_type": "markdown",
   "metadata": {},
   "source": [
    "## - DefaultDict...\n",
    "   * from collections import defaultdict\n",
    "       * Para que no explote cuando le pidamos al diccionario una clave que no existe, sino que nos devuelva\n",
    "       un valor que hemos introducido de antemano."
   ]
  },
  {
   "cell_type": "code",
   "execution_count": 53,
   "metadata": {},
   "outputs": [],
   "source": [
    "from collections import defaultdict"
   ]
  },
  {
   "cell_type": "code",
   "execution_count": 57,
   "metadata": {},
   "outputs": [
    {
     "data": {
      "text/plain": [
       "defaultdict(<function __main__.<lambda>()>, {})"
      ]
     },
     "execution_count": 57,
     "metadata": {},
     "output_type": "execute_result"
    }
   ],
   "source": [
    "# sabores_helado = defaultdict(\"vainilla\") ## Esto da error\n",
    "sabores_helado = defaultdict(lambda: \"vainilla\")\n",
    "sabores_helado"
   ]
  },
  {
   "cell_type": "code",
   "execution_count": 60,
   "metadata": {},
   "outputs": [
    {
     "data": {
      "text/plain": [
       "'chocolate'"
      ]
     },
     "execution_count": 60,
     "metadata": {},
     "output_type": "execute_result"
    }
   ],
   "source": [
    "sabores_helado[\"Manuel\"] = \"chocolate\"\n",
    "sabores_helado[\"Manuel\"]"
   ]
  },
  {
   "cell_type": "code",
   "execution_count": 61,
   "metadata": {},
   "outputs": [
    {
     "data": {
      "text/plain": [
       "'vainilla'"
      ]
     },
     "execution_count": 61,
     "metadata": {},
     "output_type": "execute_result"
    }
   ],
   "source": [
    "sabores_helado[\"Maria\"]"
   ]
  },
  {
   "cell_type": "code",
   "execution_count": 63,
   "metadata": {},
   "outputs": [
    {
     "data": {
      "text/plain": [
       "defaultdict(<function __main__.<lambda>()>,\n",
       "            {'Mauel': 'chocolate', 'Maria': 'fresa'})"
      ]
     },
     "execution_count": 63,
     "metadata": {},
     "output_type": "execute_result"
    }
   ],
   "source": [
    "sabores_helado_dict = {\"Mauel\": \"chocolate\", \"Maria\": \"fresa\"}\n",
    "sabores_helado = defaultdict(lambda: \"vainilla\", sabores_helado_dict)\n",
    "sabores_helado"
   ]
  },
  {
   "cell_type": "code",
   "execution_count": 64,
   "metadata": {},
   "outputs": [
    {
     "data": {
      "text/plain": [
       "'vainilla'"
      ]
     },
     "execution_count": 64,
     "metadata": {},
     "output_type": "execute_result"
    }
   ],
   "source": [
    "sabores_helado[\"Juan\"]"
   ]
  },
  {
   "cell_type": "markdown",
   "metadata": {},
   "source": [
    "### Ejemplo de uso frecuente de defaultdict..."
   ]
  },
  {
   "cell_type": "code",
   "execution_count": 68,
   "metadata": {},
   "outputs": [
    {
     "data": {
      "text/plain": [
       "defaultdict(list,\n",
       "            {'Ash': ['Nidorian',\n",
       "              'Charmander',\n",
       "              'Jigglypuff',\n",
       "              'Rattata',\n",
       "              'Pikachu',\n",
       "              'Pidgey'],\n",
       "             'Misty': ['Pikachu', 'Squirtle', 'Jigglypuff', 'Rattata'],\n",
       "             'Brock': ['Nidorian', 'Charmander', 'Jigglypuff']})"
      ]
     },
     "execution_count": 68,
     "metadata": {},
     "output_type": "execute_result"
    }
   ],
   "source": [
    "pokemon_entrenadores_lista = [\n",
    "         ['Ash', 'Nidorian'],\n",
    "         ['Ash', 'Charmander'],\n",
    "         ['Ash', 'Jigglypuff'],\n",
    "         ['Ash', 'Rattata'],\n",
    "         ['Ash', 'Pikachu'],\n",
    "         ['Ash', 'Pidgey'],\n",
    "         ['Misty', 'Pikachu'],\n",
    "         ['Misty', 'Squirtle'],\n",
    "         ['Misty', 'Jigglypuff'],\n",
    "         ['Misty', 'Rattata'],\n",
    "         ['Brock', 'Nidorian'],\n",
    "         ['Brock', 'Charmander'],\n",
    "         ['Brock', 'Jigglypuff']\n",
    "]\n",
    "pokemon_por_entrenador = defaultdict(list)\n",
    "\n",
    "for entrenador, pokemon in pokemon_entrenadores_lista:\n",
    "    pokemon_por_entrenador[entrenador].append(pokemon)\n",
    "pokemon_por_entrenador"
   ]
  },
  {
   "cell_type": "markdown",
   "metadata": {},
   "source": [
    "## - Ejercicios..."
   ]
  },
  {
   "cell_type": "markdown",
   "metadata": {},
   "source": [
    "### Ejercicio - 1...\n",
    "   * Convertir la lista de pokemon_entrenadores en una lista de diccionarios con las \n",
    "claves \"entrenador\" y \"pokemon"
   ]
  },
  {
   "cell_type": "code",
   "execution_count": 74,
   "metadata": {},
   "outputs": [],
   "source": [
    "def convertir(lista):\n",
    "    lista_entrenador_pokemon = []\n",
    "    for entrenador, pokemon in lista:\n",
    "        diccionario = {\"entrenador\": entrenador, \"pokemon\": pokemon}\n",
    "        lista_entrenador_pokemon.append(diccionario)\n",
    "    return lista_entrenador_pokemon"
   ]
  },
  {
   "cell_type": "code",
   "execution_count": 75,
   "metadata": {},
   "outputs": [
    {
     "data": {
      "text/plain": [
       "[{'entrenador': 'Ash', 'pokemon': 'Nidorian'},\n",
       " {'entrenador': 'Ash', 'pokemon': 'Charmander'},\n",
       " {'entrenador': 'Ash', 'pokemon': 'Jigglypuff'},\n",
       " {'entrenador': 'Ash', 'pokemon': 'Rattata'},\n",
       " {'entrenador': 'Ash', 'pokemon': 'Pikachu'},\n",
       " {'entrenador': 'Ash', 'pokemon': 'Pidgey'},\n",
       " {'entrenador': 'Misty', 'pokemon': 'Pikachu'},\n",
       " {'entrenador': 'Misty', 'pokemon': 'Squirtle'},\n",
       " {'entrenador': 'Misty', 'pokemon': 'Jigglypuff'},\n",
       " {'entrenador': 'Misty', 'pokemon': 'Rattata'},\n",
       " {'entrenador': 'Brock', 'pokemon': 'Nidorian'},\n",
       " {'entrenador': 'Brock', 'pokemon': 'Charmander'},\n",
       " {'entrenador': 'Brock', 'pokemon': 'Jigglypuff'}]"
      ]
     },
     "execution_count": 75,
     "metadata": {},
     "output_type": "execute_result"
    }
   ],
   "source": [
    "convertir(pokemon_entrenadores_lista)"
   ]
  },
  {
   "cell_type": "markdown",
   "metadata": {},
   "source": [
    "### Ejercicio - 2...\n",
    "   * Hacer una funcion que toma una frase y devuelve las 5 letras mas comunes "
   ]
  },
  {
   "cell_type": "code",
   "execution_count": 125,
   "metadata": {},
   "outputs": [],
   "source": [
    "def most_common_brev():\n",
    "    from collections import Counter\n",
    "    frase = input(\"Inserte la frase que desee: \\n\")\n",
    "    lista = list(frase)\n",
    "    recuento_lista = Counter(lista)\n",
    "    recuento_lista.pop(\" \")\n",
    "    contador = recuento_lista.most_common(5)\n",
    "    return print(contador)"
   ]
  },
  {
   "cell_type": "code",
   "execution_count": 138,
   "metadata": {},
   "outputs": [
    {
     "name": "stdout",
     "output_type": "stream",
     "text": [
      "Inserte la frase que desee: \n",
      "Eso es para contar las letras de una frase\n",
      "[('a', 7), ('s', 5), ('e', 4), ('r', 4), ('o', 2)]\n"
     ]
    }
   ],
   "source": [
    "most_common_brev()"
   ]
  },
  {
   "cell_type": "code",
   "execution_count": 165,
   "metadata": {},
   "outputs": [
    {
     "data": {
      "text/plain": [
       "[('a', 7), ('s', 5), ('e', 4), ('r', 4), ('o', 2)]"
      ]
     },
     "execution_count": 165,
     "metadata": {},
     "output_type": "execute_result"
    }
   ],
   "source": [
    "def contar_letras(frase):\n",
    "    contador = Counter([letra for letra in frase if letra not in \" ,.\\n\"])\n",
    "    return contador.most_common(5)\n",
    "\n",
    "contar_letras(\"Eso es para contar las letras de una frase\")"
   ]
  },
  {
   "cell_type": "code",
   "execution_count": 164,
   "metadata": {},
   "outputs": [
    {
     "data": {
      "text/plain": [
       "[(' ', 8), ('a', 7), ('s', 5), ('e', 4), ('r', 4)]"
      ]
     },
     "execution_count": 164,
     "metadata": {},
     "output_type": "execute_result"
    }
   ],
   "source": [
    "def contar_letras_2(frase):\n",
    "    for letra in frase:\n",
    "        if letra not in \" ,.\\n\":\n",
    "            contador = Counter(frase)\n",
    "    return contador.most_common(5)\n",
    "\n",
    "contar_letras_2(\"Eso es para contar, las letras. de una frase\")"
   ]
  },
  {
   "cell_type": "markdown",
   "metadata": {},
   "source": [
    "### Ejercicio - 3...\n",
    "   * Crear una función que, dados dos listas de elementos, nos devuelva su coeficiente de jaccard.\n",
    " El coeficiente de Jaccard es una medida de similaridad entre dos grupos y se define\n",
    " como el número de elementos en los dos grupos dividido entre el número de elementos \n",
    " en uno u otro grupo"
   ]
  },
  {
   "cell_type": "code",
   "execution_count": 166,
   "metadata": {},
   "outputs": [
    {
     "data": {
      "text/plain": [
       "0.1"
      ]
     },
     "execution_count": 166,
     "metadata": {},
     "output_type": "execute_result"
    }
   ],
   "source": [
    "def jaccard(grupo1, grupo2):\n",
    "    union = len(set(grupo1).union(set(grupo2)))\n",
    "    interseccion = len(set(grupo1).intersection(grupo2))\n",
    "    return interseccion / union\n",
    "\n",
    "jaccard(grupo_amigos1, grupo_amigos2)"
   ]
  },
  {
   "cell_type": "code",
   "execution_count": null,
   "metadata": {},
   "outputs": [],
   "source": []
  }
 ],
 "metadata": {
  "kernelspec": {
   "display_name": "Python 3",
   "language": "python",
   "name": "python3"
  },
  "language_info": {
   "codemirror_mode": {
    "name": "ipython",
    "version": 3
   },
   "file_extension": ".py",
   "mimetype": "text/x-python",
   "name": "python",
   "nbconvert_exporter": "python",
   "pygments_lexer": "ipython3",
   "version": "3.7.3rc1"
  }
 },
 "nbformat": 4,
 "nbformat_minor": 2
}
