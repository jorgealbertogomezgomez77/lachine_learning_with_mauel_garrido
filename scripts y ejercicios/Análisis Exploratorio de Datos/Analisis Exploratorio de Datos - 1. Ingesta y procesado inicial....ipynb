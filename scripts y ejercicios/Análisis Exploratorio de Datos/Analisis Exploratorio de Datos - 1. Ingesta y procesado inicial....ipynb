{
 "cells": [
  {
   "cell_type": "code",
   "execution_count": 1,
   "metadata": {},
   "outputs": [
    {
     "name": "stdout",
     "output_type": "stream",
     "text": [
      "2019-04-03T01:31:40-06:00\n",
      "\n",
      "CPython 3.7.3rc1\n",
      "IPython 7.3.0\n",
      "\n",
      "compiler   : MSC v.1916 64 bit (AMD64)\n",
      "system     : Windows\n",
      "release    : 10\n",
      "machine    : AMD64\n",
      "processor  : Intel64 Family 6 Model 142 Stepping 9, GenuineIntel\n",
      "CPU cores  : 4\n",
      "interpreter: 64bit\n"
     ]
    }
   ],
   "source": [
    "%load_ext watermark\n",
    "%watermark"
   ]
  },
  {
   "cell_type": "code",
   "execution_count": 2,
   "metadata": {},
   "outputs": [
    {
     "name": "stdout",
     "output_type": "stream",
     "text": [
      "D:\\Program_Folder\\Python\\Data Scientist Manuel Garrido\n"
     ]
    }
   ],
   "source": [
    "cd ../"
   ]
  },
  {
   "cell_type": "code",
   "execution_count": 3,
   "metadata": {},
   "outputs": [],
   "source": [
    "import pandas as pd"
   ]
  },
  {
   "cell_type": "code",
   "execution_count": 5,
   "metadata": {},
   "outputs": [
    {
     "data": {
      "text/html": [
       "<div>\n",
       "<style scoped>\n",
       "    .dataframe tbody tr th:only-of-type {\n",
       "        vertical-align: middle;\n",
       "    }\n",
       "\n",
       "    .dataframe tbody tr th {\n",
       "        vertical-align: top;\n",
       "    }\n",
       "\n",
       "    .dataframe thead th {\n",
       "        text-align: right;\n",
       "    }\n",
       "</style>\n",
       "<table border=\"1\" class=\"dataframe\">\n",
       "  <thead>\n",
       "    <tr style=\"text-align: right;\">\n",
       "      <th></th>\n",
       "      <th>make</th>\n",
       "      <th>model</th>\n",
       "      <th>year</th>\n",
       "      <th>displ</th>\n",
       "      <th>cylinders</th>\n",
       "      <th>trany</th>\n",
       "      <th>drive</th>\n",
       "      <th>VClass</th>\n",
       "      <th>fuelType</th>\n",
       "      <th>comb08</th>\n",
       "      <th>co2TailpipeGpm</th>\n",
       "    </tr>\n",
       "  </thead>\n",
       "  <tbody>\n",
       "    <tr>\n",
       "      <th>0</th>\n",
       "      <td>AM General</td>\n",
       "      <td>DJ Po Vehicle 2WD</td>\n",
       "      <td>1984</td>\n",
       "      <td>2.5</td>\n",
       "      <td>4.0</td>\n",
       "      <td>Automatic 3-spd</td>\n",
       "      <td>2-Wheel Drive</td>\n",
       "      <td>Special Purpose Vehicle 2WD</td>\n",
       "      <td>Regular</td>\n",
       "      <td>17</td>\n",
       "      <td>522.764706</td>\n",
       "    </tr>\n",
       "    <tr>\n",
       "      <th>1</th>\n",
       "      <td>AM General</td>\n",
       "      <td>DJ Po Vehicle 2WD</td>\n",
       "      <td>1984</td>\n",
       "      <td>2.5</td>\n",
       "      <td>4.0</td>\n",
       "      <td>Automatic 3-spd</td>\n",
       "      <td>2-Wheel Drive</td>\n",
       "      <td>Special Purpose Vehicle 2WD</td>\n",
       "      <td>Regular</td>\n",
       "      <td>17</td>\n",
       "      <td>522.764706</td>\n",
       "    </tr>\n",
       "    <tr>\n",
       "      <th>2</th>\n",
       "      <td>AM General</td>\n",
       "      <td>FJ8c Post Office</td>\n",
       "      <td>1984</td>\n",
       "      <td>4.2</td>\n",
       "      <td>6.0</td>\n",
       "      <td>Automatic 3-spd</td>\n",
       "      <td>2-Wheel Drive</td>\n",
       "      <td>Special Purpose Vehicle 2WD</td>\n",
       "      <td>Regular</td>\n",
       "      <td>13</td>\n",
       "      <td>683.615385</td>\n",
       "    </tr>\n",
       "    <tr>\n",
       "      <th>3</th>\n",
       "      <td>AM General</td>\n",
       "      <td>FJ8c Post Office</td>\n",
       "      <td>1984</td>\n",
       "      <td>4.2</td>\n",
       "      <td>6.0</td>\n",
       "      <td>Automatic 3-spd</td>\n",
       "      <td>2-Wheel Drive</td>\n",
       "      <td>Special Purpose Vehicle 2WD</td>\n",
       "      <td>Regular</td>\n",
       "      <td>13</td>\n",
       "      <td>683.615385</td>\n",
       "    </tr>\n",
       "    <tr>\n",
       "      <th>4</th>\n",
       "      <td>AM General</td>\n",
       "      <td>Post Office DJ5 2WD</td>\n",
       "      <td>1985</td>\n",
       "      <td>2.5</td>\n",
       "      <td>4.0</td>\n",
       "      <td>Automatic 3-spd</td>\n",
       "      <td>Rear-Wheel Drive</td>\n",
       "      <td>Special Purpose Vehicle 2WD</td>\n",
       "      <td>Regular</td>\n",
       "      <td>16</td>\n",
       "      <td>555.437500</td>\n",
       "    </tr>\n",
       "  </tbody>\n",
       "</table>\n",
       "</div>"
      ],
      "text/plain": [
       "         make                model  year  displ  cylinders            trany  \\\n",
       "0  AM General    DJ Po Vehicle 2WD  1984    2.5        4.0  Automatic 3-spd   \n",
       "1  AM General    DJ Po Vehicle 2WD  1984    2.5        4.0  Automatic 3-spd   \n",
       "2  AM General     FJ8c Post Office  1984    4.2        6.0  Automatic 3-spd   \n",
       "3  AM General     FJ8c Post Office  1984    4.2        6.0  Automatic 3-spd   \n",
       "4  AM General  Post Office DJ5 2WD  1985    2.5        4.0  Automatic 3-spd   \n",
       "\n",
       "              drive                       VClass fuelType  comb08  \\\n",
       "0     2-Wheel Drive  Special Purpose Vehicle 2WD  Regular      17   \n",
       "1     2-Wheel Drive  Special Purpose Vehicle 2WD  Regular      17   \n",
       "2     2-Wheel Drive  Special Purpose Vehicle 2WD  Regular      13   \n",
       "3     2-Wheel Drive  Special Purpose Vehicle 2WD  Regular      13   \n",
       "4  Rear-Wheel Drive  Special Purpose Vehicle 2WD  Regular      16   \n",
       "\n",
       "   co2TailpipeGpm  \n",
       "0      522.764706  \n",
       "1      522.764706  \n",
       "2      683.615385  \n",
       "3      683.615385  \n",
       "4      555.437500  "
      ]
     },
     "execution_count": 5,
     "metadata": {},
     "output_type": "execute_result"
    }
   ],
   "source": [
    "vehiculos = pd.read_csv(\"D:/datasets/Curso_Mauel_Garrido/vehiculos/vehiculos-original.csv\")\n",
    "vehiculos.head()"
   ]
  },
  {
   "cell_type": "code",
   "execution_count": 6,
   "metadata": {},
   "outputs": [],
   "source": [
    "vehiculos = vehiculos.rename(columns = {\n",
    "    \"cylinders\":\"cilindros\",\n",
    "    \"trany\":\"transmision\",\n",
    "    \"make\":\"fabricante\",\n",
    "    \"model\":\"modelo\",\n",
    "    \"displ\":\"desplazamiento\",   #volumen de desplazamiento del motor\n",
    "    \"drive\":\"traccion\",\n",
    "    \"VClass\":\"clase\",\n",
    "    \"fuelType\":\"combustible\",\n",
    "    \"comb08\":\"consumo\",         #combined MPG for fuelType1\n",
    "    \"co2TailpipeGpm\":\"co2\",     # tailpipe CO2 in grams/mile\n",
    "})"
   ]
  },
  {
   "cell_type": "code",
   "execution_count": 7,
   "metadata": {},
   "outputs": [
    {
     "data": {
      "text/html": [
       "<div>\n",
       "<style scoped>\n",
       "    .dataframe tbody tr th:only-of-type {\n",
       "        vertical-align: middle;\n",
       "    }\n",
       "\n",
       "    .dataframe tbody tr th {\n",
       "        vertical-align: top;\n",
       "    }\n",
       "\n",
       "    .dataframe thead th {\n",
       "        text-align: right;\n",
       "    }\n",
       "</style>\n",
       "<table border=\"1\" class=\"dataframe\">\n",
       "  <thead>\n",
       "    <tr style=\"text-align: right;\">\n",
       "      <th></th>\n",
       "      <th>fabricante</th>\n",
       "      <th>modelo</th>\n",
       "      <th>year</th>\n",
       "      <th>desplazamiento</th>\n",
       "      <th>cilindros</th>\n",
       "      <th>transmision</th>\n",
       "      <th>traccion</th>\n",
       "      <th>clase</th>\n",
       "      <th>combustible</th>\n",
       "      <th>consumo</th>\n",
       "      <th>co2</th>\n",
       "    </tr>\n",
       "  </thead>\n",
       "  <tbody>\n",
       "    <tr>\n",
       "      <th>0</th>\n",
       "      <td>AM General</td>\n",
       "      <td>DJ Po Vehicle 2WD</td>\n",
       "      <td>1984</td>\n",
       "      <td>2.5</td>\n",
       "      <td>4.0</td>\n",
       "      <td>Automatic 3-spd</td>\n",
       "      <td>2-Wheel Drive</td>\n",
       "      <td>Special Purpose Vehicle 2WD</td>\n",
       "      <td>Regular</td>\n",
       "      <td>17</td>\n",
       "      <td>522.764706</td>\n",
       "    </tr>\n",
       "    <tr>\n",
       "      <th>1</th>\n",
       "      <td>AM General</td>\n",
       "      <td>DJ Po Vehicle 2WD</td>\n",
       "      <td>1984</td>\n",
       "      <td>2.5</td>\n",
       "      <td>4.0</td>\n",
       "      <td>Automatic 3-spd</td>\n",
       "      <td>2-Wheel Drive</td>\n",
       "      <td>Special Purpose Vehicle 2WD</td>\n",
       "      <td>Regular</td>\n",
       "      <td>17</td>\n",
       "      <td>522.764706</td>\n",
       "    </tr>\n",
       "    <tr>\n",
       "      <th>2</th>\n",
       "      <td>AM General</td>\n",
       "      <td>FJ8c Post Office</td>\n",
       "      <td>1984</td>\n",
       "      <td>4.2</td>\n",
       "      <td>6.0</td>\n",
       "      <td>Automatic 3-spd</td>\n",
       "      <td>2-Wheel Drive</td>\n",
       "      <td>Special Purpose Vehicle 2WD</td>\n",
       "      <td>Regular</td>\n",
       "      <td>13</td>\n",
       "      <td>683.615385</td>\n",
       "    </tr>\n",
       "    <tr>\n",
       "      <th>3</th>\n",
       "      <td>AM General</td>\n",
       "      <td>FJ8c Post Office</td>\n",
       "      <td>1984</td>\n",
       "      <td>4.2</td>\n",
       "      <td>6.0</td>\n",
       "      <td>Automatic 3-spd</td>\n",
       "      <td>2-Wheel Drive</td>\n",
       "      <td>Special Purpose Vehicle 2WD</td>\n",
       "      <td>Regular</td>\n",
       "      <td>13</td>\n",
       "      <td>683.615385</td>\n",
       "    </tr>\n",
       "    <tr>\n",
       "      <th>4</th>\n",
       "      <td>AM General</td>\n",
       "      <td>Post Office DJ5 2WD</td>\n",
       "      <td>1985</td>\n",
       "      <td>2.5</td>\n",
       "      <td>4.0</td>\n",
       "      <td>Automatic 3-spd</td>\n",
       "      <td>Rear-Wheel Drive</td>\n",
       "      <td>Special Purpose Vehicle 2WD</td>\n",
       "      <td>Regular</td>\n",
       "      <td>16</td>\n",
       "      <td>555.437500</td>\n",
       "    </tr>\n",
       "  </tbody>\n",
       "</table>\n",
       "</div>"
      ],
      "text/plain": [
       "   fabricante               modelo  year  desplazamiento  cilindros  \\\n",
       "0  AM General    DJ Po Vehicle 2WD  1984             2.5        4.0   \n",
       "1  AM General    DJ Po Vehicle 2WD  1984             2.5        4.0   \n",
       "2  AM General     FJ8c Post Office  1984             4.2        6.0   \n",
       "3  AM General     FJ8c Post Office  1984             4.2        6.0   \n",
       "4  AM General  Post Office DJ5 2WD  1985             2.5        4.0   \n",
       "\n",
       "       transmision          traccion                        clase combustible  \\\n",
       "0  Automatic 3-spd     2-Wheel Drive  Special Purpose Vehicle 2WD     Regular   \n",
       "1  Automatic 3-spd     2-Wheel Drive  Special Purpose Vehicle 2WD     Regular   \n",
       "2  Automatic 3-spd     2-Wheel Drive  Special Purpose Vehicle 2WD     Regular   \n",
       "3  Automatic 3-spd     2-Wheel Drive  Special Purpose Vehicle 2WD     Regular   \n",
       "4  Automatic 3-spd  Rear-Wheel Drive  Special Purpose Vehicle 2WD     Regular   \n",
       "\n",
       "   consumo         co2  \n",
       "0       17  522.764706  \n",
       "1       17  522.764706  \n",
       "2       13  683.615385  \n",
       "3       13  683.615385  \n",
       "4       16  555.437500  "
      ]
     },
     "execution_count": 7,
     "metadata": {},
     "output_type": "execute_result"
    }
   ],
   "source": [
    "vehiculos.head()"
   ]
  },
  {
   "cell_type": "code",
   "execution_count": 8,
   "metadata": {},
   "outputs": [
    {
     "data": {
      "text/plain": [
       "fabricante         object\n",
       "modelo             object\n",
       "year                int64\n",
       "desplazamiento    float64\n",
       "cilindros         float64\n",
       "transmision        object\n",
       "traccion           object\n",
       "clase              object\n",
       "combustible        object\n",
       "consumo             int64\n",
       "co2               float64\n",
       "dtype: object"
      ]
     },
     "execution_count": 8,
     "metadata": {},
     "output_type": "execute_result"
    }
   ],
   "source": [
    "vehiculos.dtypes"
   ]
  },
  {
   "cell_type": "markdown",
   "metadata": {},
   "source": [
    "### Descripción de entidades...\n",
    " * fabricante\n",
    " * fabricante + modelo\n",
    " * fabricante + modelo  +año\n",
    " * fabricante + año"
   ]
  },
  {
   "cell_type": "code",
   "execution_count": 11,
   "metadata": {},
   "outputs": [],
   "source": [
    "vehiculos.to_csv(\"D:/datasets/Curso_Mauel_Garrido/vehiculos/procesado_inicial.csv\", index = False)"
   ]
  },
  {
   "cell_type": "code",
   "execution_count": null,
   "metadata": {},
   "outputs": [],
   "source": []
  }
 ],
 "metadata": {
  "kernelspec": {
   "display_name": "Python 3",
   "language": "python",
   "name": "python3"
  },
  "language_info": {
   "codemirror_mode": {
    "name": "ipython",
    "version": 3
   },
   "file_extension": ".py",
   "mimetype": "text/x-python",
   "name": "python",
   "nbconvert_exporter": "python",
   "pygments_lexer": "ipython3",
   "version": "3.7.3rc1"
  }
 },
 "nbformat": 4,
 "nbformat_minor": 2
}
