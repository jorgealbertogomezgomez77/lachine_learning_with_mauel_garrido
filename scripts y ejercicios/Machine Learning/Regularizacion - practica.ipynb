{
 "cells": [
  {
   "cell_type": "code",
   "execution_count": 1,
   "metadata": {},
   "outputs": [
    {
     "name": "stdout",
     "output_type": "stream",
     "text": [
      "2019-04-05T17:41:40-06:00\n",
      "\n",
      "CPython 3.7.3rc1\n",
      "IPython 7.3.0\n",
      "\n",
      "compiler   : MSC v.1916 64 bit (AMD64)\n",
      "system     : Windows\n",
      "release    : 10\n",
      "machine    : AMD64\n",
      "processor  : Intel64 Family 6 Model 142 Stepping 9, GenuineIntel\n",
      "CPU cores  : 4\n",
      "interpreter: 64bit\n"
     ]
    }
   ],
   "source": [
    "%load_ext watermark\n",
    "%watermark"
   ]
  },
  {
   "cell_type": "code",
   "execution_count": 2,
   "metadata": {},
   "outputs": [],
   "source": [
    "import numpy as np\n",
    "import pandas as pd\n",
    "from sklearn import metrics\n",
    "from sklearn.model_selection import cross_validate"
   ]
  },
  {
   "cell_type": "code",
   "execution_count": 3,
   "metadata": {},
   "outputs": [],
   "source": [
    "vehiculos = pd.read_csv(\"D:/datasets/Curso_Mauel_Garrido/vehiculos/vehiculos_procesado.csv\")\n",
    "datos_entrenamiento = vehiculos[[\"desplazamiento\",\"cilindros\",\"consumo\"]]\n",
    "\n",
    "objetivo = vehiculos[\"co2\"]"
   ]
  },
  {
   "cell_type": "code",
   "execution_count": 4,
   "metadata": {},
   "outputs": [
    {
     "data": {
      "text/html": [
       "<div>\n",
       "<style scoped>\n",
       "    .dataframe tbody tr th:only-of-type {\n",
       "        vertical-align: middle;\n",
       "    }\n",
       "\n",
       "    .dataframe tbody tr th {\n",
       "        vertical-align: top;\n",
       "    }\n",
       "\n",
       "    .dataframe thead th {\n",
       "        text-align: right;\n",
       "    }\n",
       "</style>\n",
       "<table border=\"1\" class=\"dataframe\">\n",
       "  <thead>\n",
       "    <tr style=\"text-align: right;\">\n",
       "      <th></th>\n",
       "      <th>desplazamiento</th>\n",
       "      <th>cilindros</th>\n",
       "      <th>consumo</th>\n",
       "    </tr>\n",
       "  </thead>\n",
       "  <tbody>\n",
       "    <tr>\n",
       "      <th>0</th>\n",
       "      <td>2.5</td>\n",
       "      <td>4.0</td>\n",
       "      <td>17</td>\n",
       "    </tr>\n",
       "    <tr>\n",
       "      <th>1</th>\n",
       "      <td>4.2</td>\n",
       "      <td>6.0</td>\n",
       "      <td>13</td>\n",
       "    </tr>\n",
       "    <tr>\n",
       "      <th>2</th>\n",
       "      <td>2.5</td>\n",
       "      <td>4.0</td>\n",
       "      <td>16</td>\n",
       "    </tr>\n",
       "    <tr>\n",
       "      <th>3</th>\n",
       "      <td>4.2</td>\n",
       "      <td>6.0</td>\n",
       "      <td>13</td>\n",
       "    </tr>\n",
       "    <tr>\n",
       "      <th>4</th>\n",
       "      <td>3.8</td>\n",
       "      <td>6.0</td>\n",
       "      <td>16</td>\n",
       "    </tr>\n",
       "  </tbody>\n",
       "</table>\n",
       "</div>"
      ],
      "text/plain": [
       "   desplazamiento  cilindros  consumo\n",
       "0             2.5        4.0       17\n",
       "1             4.2        6.0       13\n",
       "2             2.5        4.0       16\n",
       "3             4.2        6.0       13\n",
       "4             3.8        6.0       16"
      ]
     },
     "execution_count": 4,
     "metadata": {},
     "output_type": "execute_result"
    }
   ],
   "source": [
    "datos_entrenamiento.head()"
   ]
  },
  {
   "cell_type": "code",
   "execution_count": 5,
   "metadata": {},
   "outputs": [],
   "source": [
    "from sklearn.linear_model import (LinearRegression, Lasso, Ridge, ElasticNet)"
   ]
  },
  {
   "cell_type": "code",
   "execution_count": 6,
   "metadata": {},
   "outputs": [
    {
     "data": {
      "text/plain": [
       "array([ 11.76787991,   1.23791071, -19.80355606])"
      ]
     },
     "execution_count": 6,
     "metadata": {},
     "output_type": "execute_result"
    }
   ],
   "source": [
    "modelo_ols = LinearRegression()\n",
    "modelo_ols.fit(datos_entrenamiento, objetivo)\n",
    "\n",
    "modelo_ols.coef_"
   ]
  },
  {
   "cell_type": "code",
   "execution_count": 7,
   "metadata": {},
   "outputs": [
    {
     "name": "stdout",
     "output_type": "stream",
     "text": [
      "32.809346680206524\n",
      "23.069379124496837\n"
     ]
    }
   ],
   "source": [
    "def norma_l1(coeficientes):\n",
    "    return np.abs(coeficientes).sum()\n",
    "\n",
    "def norma_l2(coeficientes):\n",
    "    return np.sqrt(np.power(coeficientes, 2).sum())\n",
    "\n",
    "print(norma_l1(modelo_ols.coef_))\n",
    "print(norma_l2(modelo_ols.coef_))"
   ]
  },
  {
   "cell_type": "markdown",
   "metadata": {},
   "source": [
    "En vez de definir esta función a mano, vamos a usar la funcion de [`numpy.linalg.norm`](https://docs.scipy.org/doc/numpy-1.13.0/reference/generated/numpy.linalg.norm.html) que es una función que calcula varios tipos de normas."
   ]
  },
  {
   "cell_type": "code",
   "execution_count": 8,
   "metadata": {},
   "outputs": [
    {
     "name": "stdout",
     "output_type": "stream",
     "text": [
      "32.809346680206524\n",
      "23.069379124496837\n"
     ]
    }
   ],
   "source": [
    "def norma_l1(coeficientes):\n",
    "    return np.linalg.norm(coeficientes, ord = 1)\n",
    "\n",
    "def norma_l2(coeficientes):\n",
    "    return np.linalg.norm(coeficientes, ord = 2)\n",
    "\n",
    "print(norma_l1(modelo_ols.coef_))\n",
    "print(norma_l2(modelo_ols.coef_))"
   ]
  },
  {
   "cell_type": "code",
   "execution_count": 9,
   "metadata": {},
   "outputs": [],
   "source": [
    "def norma_l1_cv(estimator, X, y):\n",
    "    return norma_l1(estimator.coef_)\n",
    "\n",
    "def norma_l2_cv(estimator, X, y):\n",
    "    return norma_l2(estimator.coef_)"
   ]
  },
  {
   "cell_type": "code",
   "execution_count": 10,
   "metadata": {},
   "outputs": [],
   "source": [
    "from sklearn.preprocessing import PolynomialFeatures"
   ]
  },
  {
   "cell_type": "code",
   "execution_count": 11,
   "metadata": {},
   "outputs": [],
   "source": [
    "PolynomialFeatures?"
   ]
  },
  {
   "cell_type": "code",
   "execution_count": 12,
   "metadata": {},
   "outputs": [],
   "source": [
    "transformador_polinomial = PolynomialFeatures(5)"
   ]
  },
  {
   "cell_type": "code",
   "execution_count": 13,
   "metadata": {},
   "outputs": [
    {
     "data": {
      "text/plain": [
       "PolynomialFeatures(degree=5, include_bias=True, interaction_only=False)"
      ]
     },
     "execution_count": 13,
     "metadata": {},
     "output_type": "execute_result"
    }
   ],
   "source": [
    "transformador_polinomial.fit(datos_entrenamiento)"
   ]
  },
  {
   "cell_type": "code",
   "execution_count": 14,
   "metadata": {},
   "outputs": [],
   "source": [
    "variables_polinomiales = transformador_polinomial.transform(\n",
    "    datos_entrenamiento)"
   ]
  },
  {
   "cell_type": "code",
   "execution_count": 15,
   "metadata": {},
   "outputs": [
    {
     "data": {
      "text/plain": [
       "(35539, 56)"
      ]
     },
     "execution_count": 15,
     "metadata": {},
     "output_type": "execute_result"
    }
   ],
   "source": [
    "variables_polinomiales.shape"
   ]
  },
  {
   "cell_type": "code",
   "execution_count": 16,
   "metadata": {},
   "outputs": [
    {
     "data": {
      "text/plain": [
       "desplazamiento     2.5\n",
       "cilindros          4.0\n",
       "consumo           17.0\n",
       "Name: 0, dtype: float64"
      ]
     },
     "execution_count": 16,
     "metadata": {},
     "output_type": "execute_result"
    }
   ],
   "source": [
    "datos_entrenamiento.loc[0]"
   ]
  },
  {
   "cell_type": "code",
   "execution_count": 17,
   "metadata": {
    "scrolled": true
   },
   "outputs": [
    {
     "data": {
      "text/plain": [
       "array([1.000000e+00, 2.500000e+00, 4.000000e+00, 1.700000e+01,\n",
       "       6.250000e+00, 1.000000e+01, 4.250000e+01, 1.600000e+01,\n",
       "       6.800000e+01, 2.890000e+02, 1.562500e+01, 2.500000e+01,\n",
       "       1.062500e+02, 4.000000e+01, 1.700000e+02, 7.225000e+02,\n",
       "       6.400000e+01, 2.720000e+02, 1.156000e+03, 4.913000e+03,\n",
       "       3.906250e+01, 6.250000e+01, 2.656250e+02, 1.000000e+02,\n",
       "       4.250000e+02, 1.806250e+03, 1.600000e+02, 6.800000e+02,\n",
       "       2.890000e+03, 1.228250e+04, 2.560000e+02, 1.088000e+03,\n",
       "       4.624000e+03, 1.965200e+04, 8.352100e+04, 9.765625e+01,\n",
       "       1.562500e+02, 6.640625e+02, 2.500000e+02, 1.062500e+03,\n",
       "       4.515625e+03, 4.000000e+02, 1.700000e+03, 7.225000e+03,\n",
       "       3.070625e+04, 6.400000e+02, 2.720000e+03, 1.156000e+04,\n",
       "       4.913000e+04, 2.088025e+05, 1.024000e+03, 4.352000e+03,\n",
       "       1.849600e+04, 7.860800e+04, 3.340840e+05, 1.419857e+06])"
      ]
     },
     "execution_count": 17,
     "metadata": {},
     "output_type": "execute_result"
    }
   ],
   "source": [
    "variables_polinomiales[0]"
   ]
  },
  {
   "cell_type": "code",
   "execution_count": 18,
   "metadata": {},
   "outputs": [],
   "source": [
    "variables_polinomiales = PolynomialFeatures(5).fit_transform(\n",
    "    datos_entrenamiento)"
   ]
  },
  {
   "cell_type": "code",
   "execution_count": 19,
   "metadata": {},
   "outputs": [
    {
     "data": {
      "text/plain": [
       "(35539, 56)"
      ]
     },
     "execution_count": 19,
     "metadata": {},
     "output_type": "execute_result"
    }
   ],
   "source": [
    "variables_polinomiales.shape"
   ]
  },
  {
   "cell_type": "markdown",
   "metadata": {},
   "source": [
    "Ahora vamos a evaluar los distintos tipos de regularizacion"
   ]
  },
  {
   "cell_type": "markdown",
   "metadata": {},
   "source": [
    "**Modelo OLS con variables polinomiales**"
   ]
  },
  {
   "cell_type": "code",
   "execution_count": 20,
   "metadata": {},
   "outputs": [],
   "source": [
    "RESULTADOS = {}"
   ]
  },
  {
   "cell_type": "code",
   "execution_count": 21,
   "metadata": {
    "scrolled": true
   },
   "outputs": [
    {
     "name": "stdout",
     "output_type": "stream",
     "text": [
      "[-1.33584304e-04 -2.16202012e+03 -4.74743020e+02 -9.33379435e+02\n",
      "  2.06179369e+03 -1.98652141e+03  4.07183962e+02  6.98188920e+02\n",
      " -8.60206833e+00  5.68565588e+01 -5.04043555e+02  5.97572364e+02\n",
      " -2.39915727e+02 -1.93155159e+02  2.06936510e+02 -2.46367000e+01\n",
      " -7.53120028e+00 -6.16587971e+01  2.77167163e+00 -1.72213966e+00\n",
      "  3.22404684e+01 -2.32860787e+01  3.67724866e+01 -1.28564530e+01\n",
      " -4.24157144e+01  9.08423003e+00  1.17166991e+01  1.52755499e+01\n",
      " -7.40121866e+00  6.04111961e-01 -9.27527800e-01 -8.19881994e-01\n",
      "  1.96304324e+00 -8.55528667e-02  2.44388052e-02 -2.44193545e+00\n",
      "  6.17851513e+00 -1.41371913e+00 -7.50158521e+00  1.59153882e+00\n",
      " -6.92569799e-01  5.18941968e+00 -3.95368961e-01  8.24178212e-01\n",
      " -1.15475754e-01 -1.85224537e+00 -2.10933019e-02 -3.68950001e-01\n",
      "  9.99115995e-02 -5.66794749e-03  2.41619836e-01 -2.05795971e-02\n",
      "  5.80537283e-02 -2.77634650e-02  1.11091111e-03 -1.26148038e-04]\n"
     ]
    }
   ],
   "source": [
    "modelo_ols = LinearRegression()\n",
    "modelo_ols.fit(variables_polinomiales, objetivo)\n",
    "print(modelo_ols.coef_)\n",
    "\n",
    "RESULTADOS[\"ols\"] = {\n",
    "    \"norma_l1\": norma_l1(modelo_ols.coef_),\n",
    "    \"norma_l2\": norma_l2(modelo_ols.coef_),\n",
    "}"
   ]
  },
  {
   "cell_type": "markdown",
   "metadata": {},
   "source": [
    "**Modelo Regularización L1 con variables polinomiales**"
   ]
  },
  {
   "cell_type": "code",
   "execution_count": 22,
   "metadata": {},
   "outputs": [],
   "source": [
    "Lasso?"
   ]
  },
  {
   "cell_type": "code",
   "execution_count": 23,
   "metadata": {
    "scrolled": true
   },
   "outputs": [
    {
     "name": "stdout",
     "output_type": "stream",
     "text": [
      "[ 0.00000000e+00  0.00000000e+00  0.00000000e+00 -3.30237023e+01\n",
      "  5.12409278e+00  1.44708364e+00 -1.47969971e+00  6.52491862e-01\n",
      " -5.04276126e-01  5.26431228e-02 -1.48062992e-01 -0.00000000e+00\n",
      " -1.32137016e-01  1.02289253e-01 -9.17626300e-02 -1.30192905e-02\n",
      "  6.15573125e-02 -3.01413839e-02  2.31053922e-02  5.17315962e-03\n",
      "  1.91792946e-02 -1.51220456e-03 -1.88077866e-03 -1.09782669e-03\n",
      " -6.50140180e-03 -2.91026927e-04  1.73571147e-03 -3.33999083e-03\n",
      " -1.64104930e-03  1.59784747e-03  1.31929178e-03  1.69629743e-04\n",
      " -1.64562586e-03  2.03369130e-04  1.99415033e-05 -2.81072727e-03\n",
      "  7.11467485e-04  2.46531750e-03 -2.20515928e-03  2.38235311e-04\n",
      "  6.38712931e-04 -1.09015174e-03 -3.89575283e-04 -8.09552788e-05\n",
      "  2.70933679e-04 -1.56154368e-04 -1.88340282e-04 -2.27097112e-04\n",
      "  3.81560605e-05  2.29005451e-06 -5.56615246e-05  1.44114807e-04\n",
      "  4.13806087e-06  5.51970343e-05  7.62940670e-07 -1.14293565e-06]\n"
     ]
    }
   ],
   "source": [
    "modelo_l1 = Lasso(alpha = 1.0, tol = 0.01, max_iter = 5000)\n",
    "modelo_l1.fit(variables_polinomiales, objetivo)\n",
    "print(modelo_l1.coef_)\n",
    "\n",
    "RESULTADOS[\"regularizacion_l1\"] = {\n",
    "    \"norma_l1\": norma_l1(modelo_l1.coef_),\n",
    "    \"norma_l2\": norma_l2(modelo_l1.coef_),\n",
    "}"
   ]
  },
  {
   "cell_type": "markdown",
   "metadata": {},
   "source": [
    "**Modelo Regularización L2 (Ridge)  con variables polinomiales**"
   ]
  },
  {
   "cell_type": "code",
   "execution_count": 24,
   "metadata": {
    "scrolled": true
   },
   "outputs": [
    {
     "name": "stdout",
     "output_type": "stream",
     "text": [
      "[ 0.00000000e+00  1.51700317e+01  1.42699698e+00 -9.87024324e+00\n",
      "  4.84917168e+01  3.40057124e+01  4.08618729e+01  1.87320096e+01\n",
      " -3.38485515e+01 -4.32030401e+00 -2.38650562e+01  2.49478213e+01\n",
      " -1.68754003e+01 -1.28015423e+01 -6.76132193e+00 -2.53957167e+00\n",
      " -4.79471053e+00  6.20679711e+00  2.06739817e+00  2.74905019e-01\n",
      "  1.53996681e+01 -3.67047398e+01  3.58933983e+00  3.45192660e+01\n",
      " -4.38973657e+00  9.62645585e-01 -1.53179158e+01  4.03075921e+00\n",
      " -3.81908472e-02  4.61122401e-02  3.15171884e+00 -1.12388960e+00\n",
      " -2.48505932e-01 -3.05621610e-02 -7.73542468e-03 -2.33676103e+00\n",
      "  6.80502080e+00 -8.69757054e-01 -7.95088939e+00  2.20025174e+00\n",
      " -1.37699454e-01  4.60220482e+00 -2.17512667e+00  2.25466796e-01\n",
      " -1.86520562e-02 -1.28787267e+00  9.40213217e-01 -1.93274975e-01\n",
      "  1.34228653e-02 -4.68453775e-04  1.24957379e-01 -1.58112976e-01\n",
      "  5.90672397e-02 -2.26323336e-03  2.49826118e-04  8.13220905e-05]\n"
     ]
    },
    {
     "name": "stderr",
     "output_type": "stream",
     "text": [
      "c:\\users\\jorge\\appdata\\local\\programs\\python\\python37\\lib\\site-packages\\sklearn\\linear_model\\ridge.py:125: LinAlgWarning: Ill-conditioned matrix (rcond=4.79745e-19): result may not be accurate.\n",
      "  overwrite_a=True).T\n"
     ]
    }
   ],
   "source": [
    "modelo_l2 = Ridge(alpha = 1.0, tol = 0.01, max_iter = 5000)\n",
    "modelo_l2.fit(variables_polinomiales, objetivo)\n",
    "\n",
    "print(modelo_l2.coef_)\n",
    "RESULTADOS[\"regularizacion_l2\"] = {\n",
    "    \"norma_l1\": norma_l1(modelo_l2.coef_),\n",
    "    \"norma_l2\": norma_l2(modelo_l2.coef_),\n",
    "}"
   ]
  },
  {
   "cell_type": "markdown",
   "metadata": {},
   "source": [
    "**Regularización Elasticnet con variables polinomiales**"
   ]
  },
  {
   "cell_type": "code",
   "execution_count": 25,
   "metadata": {},
   "outputs": [],
   "source": [
    "ElasticNet?"
   ]
  },
  {
   "cell_type": "code",
   "execution_count": 26,
   "metadata": {
    "scrolled": true
   },
   "outputs": [
    {
     "name": "stdout",
     "output_type": "stream",
     "text": [
      "[ 0.00000000e+00  0.00000000e+00  0.00000000e+00 -1.33310440e+00\n",
      "  4.89645007e+00  6.09439149e+00 -1.31816563e+00  2.37723778e+00\n",
      " -3.10050434e+00 -6.41934303e-01 -7.84374220e-01 -9.59081564e-02\n",
      " -7.18954629e-02  7.19478059e-03 -4.57252233e-02 -6.37787774e-02\n",
      "  1.22426563e-02  3.46550752e-02  4.26955780e-02  2.66673958e-03\n",
      "  1.39812144e-02 -8.09891082e-03  8.76409316e-03 -1.69690074e-02\n",
      " -2.05177215e-03  1.54020194e-03 -6.29758134e-03 -2.92855315e-03\n",
      " -6.86058449e-04  1.42133650e-03 -9.92879254e-04  1.28704557e-04\n",
      "  5.03220762e-04  6.61024458e-04  5.80200778e-05  3.41020839e-03\n",
      "  2.27563082e-03  2.71125911e-03 -1.90350591e-03 -7.82250851e-05\n",
      "  6.56665428e-04 -7.34759017e-04 -9.12167373e-04 -2.43120629e-04\n",
      "  1.60164558e-04  3.89147755e-04 -5.45731423e-04 -3.49391006e-04\n",
      "  3.45240438e-05  3.46406797e-05  2.59823852e-04 -6.35175029e-05\n",
      " -9.14762151e-05  5.08095098e-05  1.14384625e-05  7.36969809e-07]\n"
     ]
    }
   ],
   "source": [
    "modelo_elasticnet = ElasticNet(l1_ratio = 0.5, tol = 0.01,max_iter = 5000)\n",
    "modelo_elasticnet.fit(variables_polinomiales, objetivo)\n",
    "print(modelo_elasticnet.coef_)\n",
    "\n",
    "RESULTADOS[\"regularizacion_elasticnet\"] = {\n",
    "    \"norma_l1\": norma_l1(modelo_elasticnet.coef_),\n",
    "    \"norma_l2\": norma_l2(modelo_elasticnet.coef_),\n",
    "}"
   ]
  },
  {
   "cell_type": "code",
   "execution_count": 28,
   "metadata": {},
   "outputs": [],
   "source": [
    "# Establecer la opción de redondeo.\n",
    "pd.set_option(\"display.float_format\", lambda x: str(round(x,6)))"
   ]
  },
  {
   "cell_type": "code",
   "execution_count": 29,
   "metadata": {},
   "outputs": [
    {
     "data": {
      "text/html": [
       "<div>\n",
       "<style scoped>\n",
       "    .dataframe tbody tr th:only-of-type {\n",
       "        vertical-align: middle;\n",
       "    }\n",
       "\n",
       "    .dataframe tbody tr th {\n",
       "        vertical-align: top;\n",
       "    }\n",
       "\n",
       "    .dataframe thead th {\n",
       "        text-align: right;\n",
       "    }\n",
       "</style>\n",
       "<table border=\"1\" class=\"dataframe\">\n",
       "  <thead>\n",
       "    <tr style=\"text-align: right;\">\n",
       "      <th></th>\n",
       "      <th>norma_l1</th>\n",
       "      <th>norma_l2</th>\n",
       "      <th>pct_reduccion_l1</th>\n",
       "      <th>pct_reduccion_l2</th>\n",
       "    </tr>\n",
       "  </thead>\n",
       "  <tbody>\n",
       "    <tr>\n",
       "      <th>ols</th>\n",
       "      <td>10853.748028</td>\n",
       "      <td>3922.194747</td>\n",
       "      <td>0.0</td>\n",
       "      <td>0.0</td>\n",
       "    </tr>\n",
       "    <tr>\n",
       "      <th>regularizacion_l1</th>\n",
       "      <td>42.945147</td>\n",
       "      <td>33.494056</td>\n",
       "      <td>0.996043</td>\n",
       "      <td>0.99146</td>\n",
       "    </tr>\n",
       "    <tr>\n",
       "      <th>regularizacion_l2</th>\n",
       "      <td>457.524563</td>\n",
       "      <td>109.550898</td>\n",
       "      <td>0.957846</td>\n",
       "      <td>0.972069</td>\n",
       "    </tr>\n",
       "    <tr>\n",
       "      <th>regularizacion_elasticnet</th>\n",
       "      <td>21.002924</td>\n",
       "      <td>8.997096</td>\n",
       "      <td>0.998065</td>\n",
       "      <td>0.997706</td>\n",
       "    </tr>\n",
       "  </tbody>\n",
       "</table>\n",
       "</div>"
      ],
      "text/plain": [
       "                              norma_l1    norma_l2  pct_reduccion_l1  \\\n",
       "ols                       10853.748028 3922.194747               0.0   \n",
       "regularizacion_l1            42.945147   33.494056          0.996043   \n",
       "regularizacion_l2           457.524563  109.550898          0.957846   \n",
       "regularizacion_elasticnet    21.002924    8.997096          0.998065   \n",
       "\n",
       "                           pct_reduccion_l2  \n",
       "ols                                     0.0  \n",
       "regularizacion_l1                   0.99146  \n",
       "regularizacion_l2                  0.972069  \n",
       "regularizacion_elasticnet          0.997706  "
      ]
     },
     "execution_count": 29,
     "metadata": {},
     "output_type": "execute_result"
    }
   ],
   "source": [
    "resultados_df = pd.DataFrame(RESULTADOS).T\n",
    "l1_ols = resultados_df.loc[\"ols\", \"norma_l1\"]\n",
    "l2_ols = resultados_df.loc[\"ols\", \"norma_l2\"]\n",
    "\n",
    "resultados_df[\"pct_reduccion_l1\"] = 1-resultados_df.norma_l1 / l1_ols\n",
    "resultados_df[\"pct_reduccion_l2\"] = 1-resultados_df.norma_l2 / l2_ols\n",
    "\n",
    "resultados_df"
   ]
  },
  {
   "cell_type": "code",
   "execution_count": 30,
   "metadata": {},
   "outputs": [],
   "source": [
    "from sklearn import datasets\n",
    "\n",
    "\n",
    "boston = datasets.load_boston()\n",
    "\n",
    "datos_entrenamiento = boston[\"data\"]\n",
    "objetivo = boston[\"target\"]"
   ]
  },
  {
   "cell_type": "markdown",
   "metadata": {},
   "source": [
    "### Benchmarks con validación cruzada "
   ]
  },
  {
   "cell_type": "code",
   "execution_count": 31,
   "metadata": {},
   "outputs": [],
   "source": [
    "def rmse(objetivo, estimaciones):\n",
    "    return np.sqrt(metrics.mean_squared_error(objetivo, estimaciones)\n",
    "                 )\n",
    "\n",
    "def rmse_cv(estimator, X, y):\n",
    "    y_pred = estimator.predict(X)\n",
    "    return rmse(y, y_pred)\n",
    "\n",
    "def evaluar_modelo(modelo, X, y):\n",
    "    scoring = {\n",
    "        \"mae\": \"neg_mean_absolute_error\",\n",
    "        \"rmse\": rmse_cv,\n",
    "        \"l1_norm\":norma_l1_cv,\n",
    "        \"l2_norm\":norma_l2_cv,\n",
    "    }\n",
    "    scores = cross_validate(modelo, X, y,\n",
    "                            scoring=scoring,\n",
    "                            cv=100, \n",
    "                            return_train_score=False,\n",
    "                            n_jobs=-1)\n",
    "    return pd.DataFrame(scores).mean()\n",
    "\n",
    "RESULTADOS = {}"
   ]
  },
  {
   "cell_type": "code",
   "execution_count": 32,
   "metadata": {},
   "outputs": [
    {
     "ename": "ValueError",
     "evalue": "Found input variables with inconsistent numbers of samples: [35539, 506]",
     "output_type": "error",
     "traceback": [
      "\u001b[1;31m---------------------------------------------------------------------------\u001b[0m",
      "\u001b[1;31mValueError\u001b[0m                                Traceback (most recent call last)",
      "\u001b[1;32m<ipython-input-32-65199ec3c8d4>\u001b[0m in \u001b[0;36m<module>\u001b[1;34m\u001b[0m\n\u001b[0;32m      3\u001b[0m                         \u001b[0mmodelo_ols\u001b[0m\u001b[1;33m,\u001b[0m\u001b[1;33m\u001b[0m\u001b[1;33m\u001b[0m\u001b[0m\n\u001b[0;32m      4\u001b[0m                         \u001b[0mvariables_polinomiales\u001b[0m\u001b[1;33m,\u001b[0m\u001b[1;33m\u001b[0m\u001b[1;33m\u001b[0m\u001b[0m\n\u001b[1;32m----> 5\u001b[1;33m                         \u001b[0mobjetivo\u001b[0m\u001b[1;33m\u001b[0m\u001b[1;33m\u001b[0m\u001b[0m\n\u001b[0m\u001b[0;32m      6\u001b[0m )\n",
      "\u001b[1;32m<ipython-input-31-247850b91579>\u001b[0m in \u001b[0;36mevaluar_modelo\u001b[1;34m(modelo, X, y)\u001b[0m\n\u001b[0;32m     18\u001b[0m                             \u001b[0mcv\u001b[0m\u001b[1;33m=\u001b[0m\u001b[1;36m100\u001b[0m\u001b[1;33m,\u001b[0m\u001b[1;33m\u001b[0m\u001b[1;33m\u001b[0m\u001b[0m\n\u001b[0;32m     19\u001b[0m                             \u001b[0mreturn_train_score\u001b[0m\u001b[1;33m=\u001b[0m\u001b[1;32mFalse\u001b[0m\u001b[1;33m,\u001b[0m\u001b[1;33m\u001b[0m\u001b[1;33m\u001b[0m\u001b[0m\n\u001b[1;32m---> 20\u001b[1;33m                             n_jobs=-1)\n\u001b[0m\u001b[0;32m     21\u001b[0m     \u001b[1;32mreturn\u001b[0m \u001b[0mpd\u001b[0m\u001b[1;33m.\u001b[0m\u001b[0mDataFrame\u001b[0m\u001b[1;33m(\u001b[0m\u001b[0mscores\u001b[0m\u001b[1;33m)\u001b[0m\u001b[1;33m.\u001b[0m\u001b[0mmean\u001b[0m\u001b[1;33m(\u001b[0m\u001b[1;33m)\u001b[0m\u001b[1;33m\u001b[0m\u001b[1;33m\u001b[0m\u001b[0m\n\u001b[0;32m     22\u001b[0m \u001b[1;33m\u001b[0m\u001b[0m\n",
      "\u001b[1;32mc:\\users\\jorge\\appdata\\local\\programs\\python\\python37\\lib\\site-packages\\sklearn\\model_selection\\_validation.py\u001b[0m in \u001b[0;36mcross_validate\u001b[1;34m(estimator, X, y, groups, scoring, cv, n_jobs, verbose, fit_params, pre_dispatch, return_train_score, return_estimator, error_score)\u001b[0m\n\u001b[0;32m    223\u001b[0m \u001b[1;33m\u001b[0m\u001b[0m\n\u001b[0;32m    224\u001b[0m     \"\"\"\n\u001b[1;32m--> 225\u001b[1;33m     \u001b[0mX\u001b[0m\u001b[1;33m,\u001b[0m \u001b[0my\u001b[0m\u001b[1;33m,\u001b[0m \u001b[0mgroups\u001b[0m \u001b[1;33m=\u001b[0m \u001b[0mindexable\u001b[0m\u001b[1;33m(\u001b[0m\u001b[0mX\u001b[0m\u001b[1;33m,\u001b[0m \u001b[0my\u001b[0m\u001b[1;33m,\u001b[0m \u001b[0mgroups\u001b[0m\u001b[1;33m)\u001b[0m\u001b[1;33m\u001b[0m\u001b[1;33m\u001b[0m\u001b[0m\n\u001b[0m\u001b[0;32m    226\u001b[0m \u001b[1;33m\u001b[0m\u001b[0m\n\u001b[0;32m    227\u001b[0m     \u001b[0mcv\u001b[0m \u001b[1;33m=\u001b[0m \u001b[0mcheck_cv\u001b[0m\u001b[1;33m(\u001b[0m\u001b[0mcv\u001b[0m\u001b[1;33m,\u001b[0m \u001b[0my\u001b[0m\u001b[1;33m,\u001b[0m \u001b[0mclassifier\u001b[0m\u001b[1;33m=\u001b[0m\u001b[0mis_classifier\u001b[0m\u001b[1;33m(\u001b[0m\u001b[0mestimator\u001b[0m\u001b[1;33m)\u001b[0m\u001b[1;33m)\u001b[0m\u001b[1;33m\u001b[0m\u001b[1;33m\u001b[0m\u001b[0m\n",
      "\u001b[1;32mc:\\users\\jorge\\appdata\\local\\programs\\python\\python37\\lib\\site-packages\\sklearn\\utils\\validation.py\u001b[0m in \u001b[0;36mindexable\u001b[1;34m(*iterables)\u001b[0m\n\u001b[0;32m    258\u001b[0m         \u001b[1;32melse\u001b[0m\u001b[1;33m:\u001b[0m\u001b[1;33m\u001b[0m\u001b[1;33m\u001b[0m\u001b[0m\n\u001b[0;32m    259\u001b[0m             \u001b[0mresult\u001b[0m\u001b[1;33m.\u001b[0m\u001b[0mappend\u001b[0m\u001b[1;33m(\u001b[0m\u001b[0mnp\u001b[0m\u001b[1;33m.\u001b[0m\u001b[0marray\u001b[0m\u001b[1;33m(\u001b[0m\u001b[0mX\u001b[0m\u001b[1;33m)\u001b[0m\u001b[1;33m)\u001b[0m\u001b[1;33m\u001b[0m\u001b[1;33m\u001b[0m\u001b[0m\n\u001b[1;32m--> 260\u001b[1;33m     \u001b[0mcheck_consistent_length\u001b[0m\u001b[1;33m(\u001b[0m\u001b[1;33m*\u001b[0m\u001b[0mresult\u001b[0m\u001b[1;33m)\u001b[0m\u001b[1;33m\u001b[0m\u001b[1;33m\u001b[0m\u001b[0m\n\u001b[0m\u001b[0;32m    261\u001b[0m     \u001b[1;32mreturn\u001b[0m \u001b[0mresult\u001b[0m\u001b[1;33m\u001b[0m\u001b[1;33m\u001b[0m\u001b[0m\n\u001b[0;32m    262\u001b[0m \u001b[1;33m\u001b[0m\u001b[0m\n",
      "\u001b[1;32mc:\\users\\jorge\\appdata\\local\\programs\\python\\python37\\lib\\site-packages\\sklearn\\utils\\validation.py\u001b[0m in \u001b[0;36mcheck_consistent_length\u001b[1;34m(*arrays)\u001b[0m\n\u001b[0;32m    233\u001b[0m     \u001b[1;32mif\u001b[0m \u001b[0mlen\u001b[0m\u001b[1;33m(\u001b[0m\u001b[0muniques\u001b[0m\u001b[1;33m)\u001b[0m \u001b[1;33m>\u001b[0m \u001b[1;36m1\u001b[0m\u001b[1;33m:\u001b[0m\u001b[1;33m\u001b[0m\u001b[1;33m\u001b[0m\u001b[0m\n\u001b[0;32m    234\u001b[0m         raise ValueError(\"Found input variables with inconsistent numbers of\"\n\u001b[1;32m--> 235\u001b[1;33m                          \" samples: %r\" % [int(l) for l in lengths])\n\u001b[0m\u001b[0;32m    236\u001b[0m \u001b[1;33m\u001b[0m\u001b[0m\n\u001b[0;32m    237\u001b[0m \u001b[1;33m\u001b[0m\u001b[0m\n",
      "\u001b[1;31mValueError\u001b[0m: Found input variables with inconsistent numbers of samples: [35539, 506]"
     ]
    }
   ],
   "source": [
    "modelo_ols = LinearRegression()\n",
    "RESULTADOS[\"ols_cuadratico\"] = evaluar_modelo(\n",
    "                        modelo_ols,\n",
    "                        variables_polinomiales,\n",
    "                        objetivo\n",
    ")"
   ]
  },
  {
   "cell_type": "code",
   "execution_count": null,
   "metadata": {
    "scrolled": true
   },
   "outputs": [],
   "source": [
    "modelo_l1 = Lasso(alpha=1.0, tol=0.015)\n",
    "\n",
    "RESULTADOS[\"l1_cuadratico\"] = evaluar_modelo(\n",
    "                        modelo_l1,\n",
    "                        variables_polinomiales,\n",
    "                        objetivo\n",
    ")"
   ]
  },
  {
   "cell_type": "code",
   "execution_count": null,
   "metadata": {},
   "outputs": [],
   "source": [
    "modelo_l2 = Ridge(alpha=1.0, tol=0.015)\n",
    "\n",
    "RESULTADOS[\"l2_cuadratico\"] = evaluar_modelo(\n",
    "                        modelo_l2,\n",
    "                        variables_polinomiales,\n",
    "                        objetivo\n",
    ")"
   ]
  },
  {
   "cell_type": "code",
   "execution_count": null,
   "metadata": {},
   "outputs": [],
   "source": [
    "modelo_elasticnet = ElasticNet(l1_ratio=0.5)\n",
    "\n",
    "RESULTADOS[\"elasticnet_cuadratico\"] = evaluar_modelo(\n",
    "                        modelo_elasticnet,\n",
    "                        variables_polinomiales,\n",
    "                        objetivo\n",
    ")"
   ]
  },
  {
   "cell_type": "code",
   "execution_count": null,
   "metadata": {},
   "outputs": [],
   "source": [
    "pd.DataFrame(RESULTADOS)"
   ]
  },
  {
   "cell_type": "code",
   "execution_count": null,
   "metadata": {
    "collapsed": true
   },
   "outputs": [],
   "source": []
  }
 ],
 "metadata": {
  "kernelspec": {
   "display_name": "Python 3",
   "language": "python",
   "name": "python3"
  },
  "language_info": {
   "codemirror_mode": {
    "name": "ipython",
    "version": 3
   },
   "file_extension": ".py",
   "mimetype": "text/x-python",
   "name": "python",
   "nbconvert_exporter": "python",
   "pygments_lexer": "ipython3",
   "version": "3.7.3rc1"
  }
 },
 "nbformat": 4,
 "nbformat_minor": 2
}
