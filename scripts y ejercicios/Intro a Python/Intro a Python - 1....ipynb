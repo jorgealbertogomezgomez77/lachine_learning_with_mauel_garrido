{
 "cells": [
  {
   "cell_type": "code",
   "execution_count": 1,
   "metadata": {},
   "outputs": [
    {
     "data": {
      "text/plain": [
       "{'lunes': 1,\n",
       " 'martes': 2,\n",
       " 'miercoles': 3,\n",
       " 'jueves': 4,\n",
       " 'viernes': 5,\n",
       " 'sabado': 6,\n",
       " 'domingo': 7}"
      ]
     },
     "execution_count": 1,
     "metadata": {},
     "output_type": "execute_result"
    }
   ],
   "source": [
    "dias_semana = {\n",
    "    \"lunes\": 1,\n",
    "    \"martes\": 2,\n",
    "    \"miercoles\": 3,\n",
    "    \"jueves\": 4,\n",
    "    \"viernes\": 5,\n",
    "    \"sabado\": 6,\n",
    "    \"domingo\": 7\n",
    "}\n",
    "dias_semana"
   ]
  },
  {
   "cell_type": "code",
   "execution_count": 2,
   "metadata": {},
   "outputs": [],
   "source": [
    "dias_semana_mayusculas = {}\n",
    "for clave, valor in dias_semana.items():\n",
    "    dias_semana_mayusculas[clave.upper()] = valor\n",
    "    dias_semana = dias_semana_mayusculas"
   ]
  },
  {
   "cell_type": "code",
   "execution_count": 3,
   "metadata": {},
   "outputs": [
    {
     "data": {
      "text/plain": [
       "{'LUNES': 1,\n",
       " 'MARTES': 2,\n",
       " 'MIERCOLES': 3,\n",
       " 'JUEVES': 4,\n",
       " 'VIERNES': 5,\n",
       " 'SABADO': 6,\n",
       " 'DOMINGO': 7}"
      ]
     },
     "execution_count": 3,
     "metadata": {},
     "output_type": "execute_result"
    }
   ],
   "source": [
    "dias_semana"
   ]
  },
  {
   "cell_type": "code",
   "execution_count": 4,
   "metadata": {},
   "outputs": [],
   "source": [
    "dia_con_o = []\n",
    "for clave in dias_semana:\n",
    "    if \"O\" in clave:\n",
    "        dia_con_o.append(clave)"
   ]
  },
  {
   "cell_type": "code",
   "execution_count": 5,
   "metadata": {},
   "outputs": [
    {
     "data": {
      "text/plain": [
       "['MIERCOLES', 'SABADO', 'DOMINGO']"
      ]
     },
     "execution_count": 5,
     "metadata": {},
     "output_type": "execute_result"
    }
   ],
   "source": [
    "dia_con_o"
   ]
  },
  {
   "cell_type": "code",
   "execution_count": 6,
   "metadata": {},
   "outputs": [],
   "source": [
    "def saludar(nombre = \"amigo\"):\n",
    "    print(\"Hola {}, ¿Cómo estás?\".format(nombre))"
   ]
  },
  {
   "cell_type": "code",
   "execution_count": 7,
   "metadata": {},
   "outputs": [
    {
     "name": "stdout",
     "output_type": "stream",
     "text": [
      "Hola Pedro, ¿Cómo estás?\n"
     ]
    }
   ],
   "source": [
    "saludar(\"Pedro\")"
   ]
  },
  {
   "cell_type": "code",
   "execution_count": null,
   "metadata": {},
   "outputs": [],
   "source": []
  },
  {
   "cell_type": "code",
   "execution_count": null,
   "metadata": {},
   "outputs": [],
   "source": []
  },
  {
   "cell_type": "code",
   "execution_count": null,
   "metadata": {},
   "outputs": [],
   "source": []
  }
 ],
 "metadata": {
  "kernelspec": {
   "display_name": "Python 3",
   "language": "python",
   "name": "python3"
  },
  "language_info": {
   "codemirror_mode": {
    "name": "ipython",
    "version": 3
   },
   "file_extension": ".py",
   "mimetype": "text/x-python",
   "name": "python",
   "nbconvert_exporter": "python",
   "pygments_lexer": "ipython3",
   "version": "3.7.3rc1"
  }
 },
 "nbformat": 4,
 "nbformat_minor": 2
}
