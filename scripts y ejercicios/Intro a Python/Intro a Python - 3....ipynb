{
 "cells": [
  {
   "cell_type": "markdown",
   "metadata": {},
   "source": [
    "# Clases en Python..."
   ]
  },
  {
   "cell_type": "code",
   "execution_count": 1,
   "metadata": {},
   "outputs": [
    {
     "name": "stdout",
     "output_type": "stream",
     "text": [
      "<class '__main__.CocheBasico'>\n"
     ]
    }
   ],
   "source": [
    "class CocheBasico:\n",
    "    def girar_izquierda(self):\n",
    "        print(\"Girando a la izquierda\")\n",
    "    def girar_derecha(self):\n",
    "        print(\"Girando a la derecha\")\n",
    "    def acelerar(self):\n",
    "        # Podemos usar pass cuando definimos una función para que no haga nada.\n",
    "        pass\n",
    "    def frenar(self):\n",
    "        pass\n",
    "print(CocheBasico)"
   ]
  },
  {
   "cell_type": "code",
   "execution_count": 2,
   "metadata": {},
   "outputs": [
    {
     "name": "stdout",
     "output_type": "stream",
     "text": [
      "<__main__.CocheBasico object at 0x0000017F75B101D0>\n"
     ]
    }
   ],
   "source": [
    "coche_de_jorge = CocheBasico()\n",
    "print(coche_de_jorge)"
   ]
  },
  {
   "cell_type": "code",
   "execution_count": 3,
   "metadata": {},
   "outputs": [
    {
     "name": "stdout",
     "output_type": "stream",
     "text": [
      "True\n"
     ]
    }
   ],
   "source": [
    "print(type(coche_de_jorge) == CocheBasico)"
   ]
  },
  {
   "cell_type": "code",
   "execution_count": 4,
   "metadata": {},
   "outputs": [
    {
     "name": "stdout",
     "output_type": "stream",
     "text": [
      "Girando a la izquierda\n",
      "Girando a la derecha\n"
     ]
    }
   ],
   "source": [
    "coche_de_jorge.girar_izquierda()\n",
    "coche_de_jorge.girar_derecha()\n",
    "coche_de_jorge.acelerar()"
   ]
  },
  {
   "cell_type": "code",
   "execution_count": 5,
   "metadata": {},
   "outputs": [],
   "source": [
    "class CocheConColor:\n",
    "    def __init__(self, color):\n",
    "        self.color = color   # Esto es un atributo.\n",
    "    def describir(self):\n",
    "        print(\"Coche de color {}\".format(self.color))\n",
    "    def girar_izquierda(self):\n",
    "        print(\"Girando a la izquierda\")\n",
    "    def girar_derecha(self):\n",
    "        print(\"Girando a la derecha\")\n",
    "    def acelerar(self):\n",
    "        # Podemos usar pass cuando definimos una función para que no haga nada.\n",
    "        pass\n",
    "    def frenar(self):\n",
    "        pass "
   ]
  },
  {
   "cell_type": "code",
   "execution_count": 6,
   "metadata": {},
   "outputs": [
    {
     "name": "stdout",
     "output_type": "stream",
     "text": [
      "Coche de color rojo\n",
      "rojo\n"
     ]
    }
   ],
   "source": [
    "coche_rojo = CocheConColor(color = \"rojo\")\n",
    "coche_rojo.describir()\n",
    "print(coche_rojo.color)"
   ]
  },
  {
   "cell_type": "code",
   "execution_count": null,
   "metadata": {},
   "outputs": [],
   "source": []
  }
 ],
 "metadata": {
  "kernelspec": {
   "display_name": "Python 3",
   "language": "python",
   "name": "python3"
  },
  "language_info": {
   "codemirror_mode": {
    "name": "ipython",
    "version": 3
   },
   "file_extension": ".py",
   "mimetype": "text/x-python",
   "name": "python",
   "nbconvert_exporter": "python",
   "pygments_lexer": "ipython3",
   "version": "3.7.3rc1"
  }
 },
 "nbformat": 4,
 "nbformat_minor": 2
}
