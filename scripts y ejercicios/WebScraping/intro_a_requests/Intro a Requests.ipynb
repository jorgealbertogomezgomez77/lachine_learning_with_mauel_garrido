{
 "cells": [
  {
   "cell_type": "code",
   "execution_count": 51,
   "metadata": {},
   "outputs": [
    {
     "name": "stdout",
     "output_type": "stream",
     "text": [
      "The watermark extension is already loaded. To reload it, use:\n",
      "  %reload_ext watermark\n",
      "2019-04-11T03:45:57-05:00\n",
      "\n",
      "CPython 3.7.3rc1\n",
      "IPython 7.3.0\n",
      "\n",
      "compiler   : MSC v.1916 64 bit (AMD64)\n",
      "system     : Windows\n",
      "release    : 10\n",
      "machine    : AMD64\n",
      "processor  : Intel64 Family 6 Model 142 Stepping 9, GenuineIntel\n",
      "CPU cores  : 4\n",
      "interpreter: 64bit\n"
     ]
    }
   ],
   "source": [
    "%load_ext watermark\n",
    "%watermark"
   ]
  },
  {
   "cell_type": "markdown",
   "metadata": {},
   "source": [
    "### Intro a peticiones HTTP con Requests\n",
    "\n",
    "En esta sección vamos a ver como usar la libreria [`requests`](https://github.com/requests/requests), que es la librería mas comunmente utilizada para hacer peticioes HTTP en python. Se instala desde Anaconda o pip (con `pip install requests`)"
   ]
  },
  {
   "cell_type": "code",
   "execution_count": 52,
   "metadata": {},
   "outputs": [],
   "source": [
    "import requests"
   ]
  },
  {
   "cell_type": "markdown",
   "metadata": {},
   "source": [
    "### GET Requests\n",
    "\n",
    "Cuando queremos obtener algo de una página web (un *recurso* como se llaman de forma más técnica), lo que nuestro navegador hace es una petición HTTP de tipo **GET**. "
   ]
  },
  {
   "cell_type": "markdown",
   "metadata": {},
   "source": [
    "Por ejemplo, si queremos hacer una petición a meneame.net lo hacemos de forma sencilla de esta forma:"
   ]
  },
  {
   "cell_type": "code",
   "execution_count": 53,
   "metadata": {},
   "outputs": [],
   "source": [
    "respuesta = requests.get(\"http://mexitel.sre.gob.mx\")"
   ]
  },
  {
   "cell_type": "markdown",
   "metadata": {},
   "source": [
    "Podemos verificar que la petición ha tenido exito con el atributo `ok`"
   ]
  },
  {
   "cell_type": "code",
   "execution_count": 54,
   "metadata": {},
   "outputs": [
    {
     "data": {
      "text/plain": [
       "True"
      ]
     },
     "execution_count": 54,
     "metadata": {},
     "output_type": "execute_result"
    }
   ],
   "source": [
    "respuesta.ok"
   ]
  },
  {
   "cell_type": "markdown",
   "metadata": {},
   "source": [
    "Y podemos ver el status de la respuesta con `status_code`"
   ]
  },
  {
   "cell_type": "code",
   "execution_count": 55,
   "metadata": {},
   "outputs": [
    {
     "data": {
      "text/plain": [
       "200"
      ]
     },
     "execution_count": 55,
     "metadata": {},
     "output_type": "execute_result"
    }
   ],
   "source": [
    "respuesta.status_code"
   ]
  },
  {
   "cell_type": "markdown",
   "metadata": {},
   "source": [
    "En este caso es un **200** por que la petición ha sido recibida con éxito"
   ]
  },
  {
   "cell_type": "markdown",
   "metadata": {},
   "source": [
    "podemos ver el contenido que nos ha enviado el servidor con `content`"
   ]
  },
  {
   "cell_type": "code",
   "execution_count": 56,
   "metadata": {},
   "outputs": [
    {
     "name": "stdout",
     "output_type": "stream",
     "text": [
      "b'<?xml version=\"1.0\" encoding=\"UTF-8\" ?>\\n<!DOCTYPE html>\\n<html xmlns=\"http://www.w3.org/1999/xhtml\"><head><link type=\"text/css\" rel=\"stylesheet\" href=\"/citas.webportal/javax.faces.resource/theme.css.jsf?ln=primefaces-sregobmx\" /><link type=\"text/css\" rel=\"stylesheet\" href=\"/citas.webportal/javax.faces.resource/fa/font-awesome.css.jsf?ln=primefaces&amp;v=5.2\" /><link type=\"text/css\" rel=\"stylesheet\" href=\"/citas.webportal/javax.faces.resource/citas.webGobMx.css.jsf?ln=css\" /><script type=\"text/javascript\" src=\"/citas.webportal/javax.faces.resource/jquery/jquery.js.jsf?ln=primefaces&amp;v=5.2\"></script><script type=\"text/javascript\" src=\"/citas.webportal/javax.faces.resource/primefaces.js.jsf?ln=primefaces&amp;v=5.2\"></script><link type=\"text/css\" rel=\"stylesheet\" href=\"/citas.webportal/javax.faces.resource/primefaces.css.jsf?ln=primefaces&amp;v=5.2\" /><link type=\"text/css\" rel=\"stylesheet\" href=\"/citas.webportal/javax.faces.resource/watermark/watermark.css.jsf?ln=primefaces&amp;v=5.2\" /><script type=\"text/javascript\" src=\"/citas.webportal/javax.faces.resource/watermark/watermark.js.jsf?ln=primefaces&amp;v=5.2\"></script><script type=\"text/javascript\" src=\"/citas.webportal/javax.faces.resource/jquery/jquery-plugins.js.jsf?ln=primefaces&amp;v=5.2\"></script><script type=\"text/javascript\">if(window.PrimeFaces){}</script>\\n\\t\\t<meta http-equiv=\"Content-Type\" content=\"text/html; charset=UTF-8\" />\\n\\t\\t\\n\\t\\t<style type=\"text/css\">\\n\\t\\t\\t@import url(\"https://framework-gb.cdn.gob.mx/assets/styles/main.css\");\\n\\t\\t</style>\\n\\t\\t\\n\\t\\t\\n\\t\\t<script type=\"text/javascript\">\\n\\t\\t  var _paq = _paq || [];\\n\\t\\t  /* tracker methods like \"setCustomDimension\" should be called before \"trackPageView\" */\\n\\t\\t  _paq.push([\"setDocumentTitle\", document.domain + \"/\" + document.title]);\\n\\t\\t  _paq.push([\"setCookieDomain\", \"*.mexitel.sre.gob.mx\"]);\\n\\t\\t  _paq.push([\"setDomains\", [\"*.mexitel.sre.gob.mx/citas.webportal/pages/public/login/login.jsf\"]]);\\n\\t\\t  _paq.push([\\'trackPageView\\']);\\n\\t\\t  _paq.push([\\'enableLinkTracking\\']);\\n\\t\\t  (function() {\\n\\t\\t    var u=\"https://analytics.sre.gob.mx/piwik/\";\\n\\t\\t    _paq.push([\\'setTrackerUrl\\', u+\\'piwik.php\\']);\\n\\t\\t    _paq.push([\\'setSiteId\\', \\'2\\']);\\n\\t\\t    var d=document, g=d.createElement(\\'script\\'), s=d.getElementsByTagName(\\'script\\')[0];\\n\\t\\t    g.type=\\'text/javascript\\'; g.async=true; g.defer=true; g.src=u+\\'piwik.js\\'; s.parentNode.insertBefore(g,s);\\n\\t\\t  })();\\n\\t\\t</script>\\n\\t\\t<noscript><p><img src=\"https://analytics.sre.gob.mx/piwik/piwik.php?idsite=2&amp;rec=1\" style=\"border:0;\" /></p></noscript>\\n\\t\\t\\n\\t\\n        <title>Citas SRE</title>\\n\\t\\t<script type=\"text/javascript\" src=\"https://framework-gb.cdn.gob.mx/gobmx.js\"></script>\\n\\t\\t<script type=\"text/javascript\" src=\"https://framework-gb.cdn.gob.mx/data/encuesta_v1.0/encuestas.js\"></script><script type=\"text/javascript\" src=\"/citas.webportal/javax.faces.resource/citasUtilitis.js.jsf?ln=js\"></script>\\n\\t\\t<link rel=\"shortcut icon\" href=\"/citas.webportal/favicon.ico\" /></head><body><script type=\"text/javascript\" src=\"/citas.webportal/javax.faces.resource/digital_Analytix.js.jsf?ln=js\"></script> \\n\\t\\t\\t\\t\\n\\t\\t\\n\\t\\t<script type=\"text/javascript\" src=\"https://sb.scorecardresearch.com/c2/17183199/ct.js\"></script>\\n\\t\\t\\n\\n\\t\\t<div class=\"container\" style=\"padding-left:0px; padding-right:0px;\">\\n\\t\\t</div>\\n\\t\\t<div id=\"divLayoutNoMenu\" class=\"container\" style=\"padding-left:0px; padding-right:0px;\">\\n\\t\\t\\t<div class=\"container\">\\n\\t\\t\\t\\t<div class=\"row\">\\n\\t\\t\\t\\t\\t<div class=\"col-md-8\">\\n\\t\\t\\t\\t\\t\\t<div class=\"col-md-12\" style=\"padding-left:0px;\">\\n\\t\\t\\t\\t\\t\\t\\t<ol id=\"containerbreadcrumbSinMenuGobMx\" class=\"breadcrumb\">\\n\\t\\t\\t\\t\\t\\t\\t  <li><a href=\"https://www.gob.mx\"><i class=\"icon icon-home\"></i></a></li>\\n\\t\\t\\t\\t\\t\\t\\t  <li id=\"inicioBreadcrumbLayout\" class=\"active\">Inicio</li>\\n\\t\\t\\t\\t\\t\\t\\t</ol>\\n\\t\\t\\t\\t\\t\\t</div><span id=\"j_idt20\"></span><script type=\"text/javascript\">$(function(){PrimeFaces.focus(\\'j_username\\');});</script>\\n     \\t\\n\\t     <script type=\"text/javascript\">\\n\\t     \\t/*Pages digita_analitix*/\\n\\t     \\t\\n\\t\\t\\tudm_(\\'https://sb.scorecardresearch.com/b?c1=2&c2=17183199&ns_site=gobmx&name=sre.preregistro.login\\');\\n\\t\\t\\t \\n\\n\\t\\t\\tfunction enviar_formulario(){\\n\\t\\t\\t\\t$(\"#mensajesLogin\").hide();\\n\\t\\t\\t\\t\\n\\t\\t\\t\\tvar user  = $(\"#j_username\").val();\\n\\t\\t\\t\\tvar value = $(\"#j_password\").val();\\n\\t\\t\\t\\t\\n\\t\\t\\t\\t\\n\\t\\t\\t\\tif(user != \"\" && value != \"\"){\\n\\t\\t\\t   \\t\\tdocument.loginForm.submit();\\n\\t\\t\\t\\t}else {\\n\\t\\t\\t\\t\\tif($(\"#mensajesError\").text() == \"\")\\n\\t\\t\\t\\t\\t\\t$(\"#mensajesLogin\").show();\\n\\t\\t\\t\\t\\tif(user == \"\")\\n\\t\\t\\t\\t\\t\\t$(\"#j_username\").css(\"border-color\",\"#FF0000\");\\n\\t\\t\\t\\t\\tif(value == \"\")\\n\\t\\t\\t\\t\\t\\t$(\"#j_password\").css(\"border-color\",\"#FF0000\");\\n\\t\\t\\t\\t}\\n\\t\\t\\t}\\n\\t\\t\\t\\n\\t\\t\\tfunction resetEmailForm(){\\n\\t\\t\\t\\t//Es peque\\xc3\\xb1a, es mas rapido limpiarla desde el cliente que repintarla toda\\n\\t\\t\\t\\tdocument.getElementById(\"formOlvideContrasena:recpswCorreo\").value=\"\";\\n\\t\\t\\t\\tdocument.getElementById(\"formOlvideContrasena:emailPass\").value=\"false\";\\n\\t\\t\\t\\tdocument.getElementById(\"formOlvideContrasena:botonrecuperar\").disabled=false;\\n\\t\\t\\t\\tdocument.getElementById(\"formOlvideContrasena:mensajesRegistro2\").innerHTML=\"\";\\n\\t\\t\\t\\t$(document.getElementById(\"formOlvideContrasena:recpswCorreo\")).removeClass( \"ui-state-error\" );\\n\\t\\t\\t}\\n\\t\\t\\t\\n\\t\\t\\t\\n\\t\\t\\tfunction showEmailDialog(){\\n\\t\\t\\t\\tvar pass=document.getElementById(\"formOlvideContrasena:emailPass\").value;\\n\\t\\t\\t\\tif(pass==\"true\"){\\n\\t\\t\\t\\t\\tPF(\\'dlg2\\').hide();\\n\\t\\t\\t\\t\\tPF(\\'dlg3\\').show();\\n\\t\\t\\t\\t}\\n\\t\\t\\t}\\n\\n\\t\\t</script>\\n\\t\\t<noscript><p><img src=\"https://sb.scorecardresearch.com/p?c1=2&amp;c2=17183199&amp;ns_site=gobmx&amp;name=sre.preregistro.login\" height=\"1\" width=\"1\" alt=\"*\" /></p></noscript>\\n\\t\\t \\n\\t\\t <style type=\"text/css\">\\n\\t\\t \\t.linkCitas{\\n\\t\\t \\t\\tpadding: 0 0;\\n\\t\\t \\t\\tmargin-bottom: 5px;\\n\\t\\t \\t}\\n\\t\\t \\t.extbutton{\\n\\t\\t \\t\\tmargin-top: -45px;\\n\\t\\t \\t}\\n\\t\\t \\t.ui-button{\\n\\t\\t \\t\\tpadding: 2px;\\n\\t\\t \\t}\\n\\t\\t \\t\\n\\t\\t \\t.ui-center .ui-dialog-title{\\n\\t\\t \\t\\twidth:100% !important; \\n\\t\\t \\t}\\n\\t\\t \\t\\n\\t\\t \\t.modal-body {\\n\\t\\t\\t    padding: 15px 40px 20px;\\n\\t\\t\\t}\\n\\t\\t\\t\\n\\t\\t\\t.ui-layout-unit-content{\\n\\t\\t\\t\\tborder: none !important;\\n\\t\\t\\t}\\n\\t\\t </style>\\n\\t\\t \\n\\t\\t<div class=\"container\">\\n\\t\\t\\t<br />\\n\\t\\t\\t<div class=\"row\" style=\"margin-top:130px\">\\t\\t\\t\\t\\t\\t\\n\\t\\t\\t\\n\\t\\t\\t\\t\\t<div class=\"col-md-9\" style=\"padding-left:0px;\"><table id=\"panelHabilitaMensajeMexitel\">\\n<tbody>\\n<tr>\\n<td>\\n\\t\\t\\t\\t\\t\\t\\t\\t<div class=\"col-md-12\" style=\"padding-left:0px;\">\\n\\t\\t\\t\\t\\t\\t\\t\\t\\t<h1 align=\"left\">Programaci\\xc3\\xb3n de citas MEXITEL</h1>\\n\\t\\t\\t\\t\\t\\t\\t\\t</div>\\n\\t\\t\\t\\t\\t\\t\\t\\t\\n\\t\\t\\t\\t\\t\\t\\t\\t<div class=\"col-md-12\" style=\"padding-left:0px;\">\\n\\t\\t\\t\\t\\t\\t\\t\\t\\t<h5 align=\"left\">Servicio de citas para los tr\\xc3\\xa1mites en las Embajadas y Consulados de M\\xc3\\xa9xico en el exterior.</h5>\\n\\t\\t\\t\\t\\t\\t\\t\\t</div></td>\\n</tr>\\n</tbody>\\n</table>\\n<img id=\"j_idt24\" height=\"10px\" alt=\"\" src=\"/citas.webportal/javax.faces.resource/spacer/dot_clear.gif.jsf?ln=primefaces&amp;v=5.2\" />\\n\\t\\t\\t\\t\\t\\t<div class=\"text-left show-grid\">\\n\\t\\t\\t\\t\\t\\t\\t<h2> Iniciar sesi\\xc3\\xb3n </h2>\\n\\t\\t\\t\\t\\t\\t</div>\\n\\t\\n\\t\\t\\t\\t\\t\\t<form method=\"post\" action=\"j_security_check\" name=\"loginForm\" class=\"form-horizontal\" id=\"loginForm\">\\n\\t\\t\\t\\t\\t    \\t<div class=\"row\">\\n\\t\\t\\t\\t\\t\\t\\t\\t<div class=\"col-md-12\" style=\"padding-bottom: 20px;\">\\n\\t\\t\\t\\t\\t\\t\\t\\t\\t<div class=\"alert alert-danger manegementErrorGenerico\" id=\"mensajesLogin\" style=\"display: none;\">\\n                  \\t\\t\\t\\t\\t\\t<strong id=\"messsageloginError\">Usuario y contrase\\xc3\\xb1a obligatorios.</strong>\\n                \\t\\t\\t\\t\\t</div><div id=\"mensajesError\" class=\"ui-messages ui-widget manegementError\" aria-live=\"polite\"></div>\\n\\t\\t\\t\\t\\t\\t\\t\\t</div>\\n\\t\\t\\t\\t\\t\\t\\t</div>\\n\\t\\t                \\n\\t\\t                \\t<div class=\"form-group\" styleClass=\"display:inline-block\"><label id=\"labelCorreoSimbolo\" for=\"j_username\" class=\"col-sm-4 control-label display:inline\">\\nCorreo electr\\xc3\\xb3nico<label id=\"selectCorreoSimbolo\" for=\"j_username\" class=\"simboloRequeridoPendiente\">\\n*</label><label>\\n:</label></label>\\n\\t\\t\\t\\t\\t\\t\\t\\t<div class=\"col-sm-8\"><input id=\"j_username\" name=\"j_username\" type=\"text\" autocomplete=\"off\" aria-required=\"true\" class=\"ui-inputfield ui-inputtext ui-widget ui-state-default ui-corner-all form-control\" /><script id=\"j_username_s\" type=\"text/javascript\">PrimeFaces.cw(\"InputText\",\"widget_j_username\",{id:\"j_username\",widgetVar:\"widget_j_username\"});</script><script id=\"j_idt29_s\" type=\"text/javascript\">$(function(){PrimeFaces.cw(\"Watermark\",\"widget_j_idt29\",{id:\"j_idt29\",widgetVar:\"widget_j_idt29\",value:\"Ingresa tu correo electr\\xc3\\xb3nico\",target:\"j_username\"},\"watermark\");});</script><img id=\"j_idt30\" alt=\"\" src=\"/citas.webportal/javax.faces.resource/spacer/dot_clear.gif.jsf?ln=primefaces&amp;v=5.2\" /><span id=\"selectCorreoSimbo\"></span>\\n\\t\\t\\t\\t\\t\\t\\t\\t</div>\\n\\t\\t\\t\\t\\t\\t\\t</div>\\n\\t\\t\\t\\t\\t\\t\\t\\n\\t\\t\\t\\t\\t\\t\\t<div class=\"form-group\"><label id=\"labelPasswordSimbolo\" for=\"j_password\" class=\"col-sm-4 control-label display:inline\">\\nContrase\\xc3\\xb1a<label id=\"selectPasswordSimbolo\" for=\"j_password\" class=\"simboloRequeridoPendiente\">\\n*</label><label>\\n:</label></label>\\n\\t\\t\\t\\t\\t\\t\\t\\t<div class=\"col-sm-8\"><input id=\"j_password\" name=\"j_password\" type=\"password\" class=\"ui-inputfield ui-password ui-widget ui-state-default ui-corner-all form-control\" autocomplete=\"off\" aria-required=\"true\" /><script id=\"j_password_s\" type=\"text/javascript\">$(function(){PrimeFaces.cw(\"Password\",\"widget_j_password\",{id:\"j_password\",widgetVar:\"widget_j_password\"});});</script><script id=\"j_idt34_s\" type=\"text/javascript\">$(function(){PrimeFaces.cw(\"Watermark\",\"widget_j_idt34\",{id:\"j_idt34\",widgetVar:\"widget_j_idt34\",value:\"Ingresa tu contrase\\xc3\\xb1a\",target:\"j_password\"},\"watermark\");});</script><span id=\"selectPasswordSimbo\"></span>\\n\\t\\t\\t\\t\\t\\t\\t\\t</div>\\n\\t\\t\\t\\t\\t\\t\\t</div>\\n\\t\\t\\t\\t\\t\\t\\t\\n\\t\\t\\t\\t\\t\\t\\t</form>\\n<form id=\"recordarForm\" name=\"recordarForm\" method=\"post\" action=\"/citas.webportal/pages/public/login/login.jsf\" enctype=\"application/x-www-form-urlencoded\">\\n<input type=\"hidden\" name=\"recordarForm\" value=\"recordarForm\" />\\n\\n\\t\\t\\t\\t\\t\\t\\t\\t<div class=\"col-sm-offset-4 col-sm-8\">\\n\\t\\t\\t\\t\\t\\t\\t\\t\\t<div class=\"form-group\">\\n\\t\\t\\t\\t\\t\\t\\t\\t\\t\\t<div class=\"col-sm-6\"><input id=\"recordarForm:check\" type=\"checkbox\" name=\"recordarForm:check\" onclick=\"PrimeFaces.ab({s:this,e:&quot;valueChange&quot;,f:&quot;recordarForm&quot;,p:&quot;recordarForm:check recordarForm:check&quot;,ps:true,pa:[{name:&quot;bypassFilter&quot;,value:&quot;true&quot;}]});\" /><img id=\"recordarForm:j_idt38\" width=\"2px\" alt=\"\" src=\"/citas.webportal/javax.faces.resource/spacer/dot_clear.gif.jsf?ln=primefaces&amp;v=5.2\" /><span style=\"font-weight:normal\">Recordarme</span>\\n\\t\\t\\t\\t\\t\\t\\t\\t\\t\\t</div>\\n\\t\\t\\t\\t\\t\\t\\t\\t\\t\\t<div class=\"col-sm-6 text-right\" onclick=\"PF(\\'dlg2\\').show();\">\\n\\t\\t\\t\\t\\t\\t\\t\\t\\t\\t\\t<button type=\"button\" class=\"btn btn-link linkCitas\">\\xc2\\xbfOlvidaste tu contrase\\xc3\\xb1a?\\n\\t\\t\\t\\t\\t\\t\\t\\t\\t\\t\\t</button>\\n\\t\\t\\t\\t\\t\\t\\t\\t\\t\\t</div>\\n\\t\\t\\t\\t\\t\\t\\t\\t\\t</div>\\n\\t\\t\\t\\t\\t\\t\\t\\t</div><input type=\"hidden\" name=\"javax.faces.ViewState\" id=\"javax.faces.ViewState\" value=\"-1780185791390416314:-4955043691685043778\" autocomplete=\"off\" />\\n</form><img id=\"j_idt43\" height=\"10px\" alt=\"\" src=\"/citas.webportal/javax.faces.resource/spacer/dot_clear.gif.jsf?ln=primefaces&amp;v=5.2\" />\\n\\t\\t\\t\\t\\t\\t\\t\\n\\t\\t\\t\\t\\t\\t\\t<div class=\"row\">\\n\\t\\t\\t\\t    \\t\\t\\t<div class=\"col-md-4 text-right\" style=\"padding-top: 6px;\"><span class=\"paleta-escala3 texto-mid\">* Campos obligatorios</span>\\n\\t\\t\\t\\t\\t\\t\\t\\t</div>\\t\\t\\t\\n\\t\\t\\t\\t\\n\\t\\t\\t\\t\\t\\t\\t\\t<div class=\"col-md-offset-2 col-md-4\">\\n\\t\\t\\t\\t\\t\\t\\t\\t\\t  <div class=\"col-sm-offset-12 col-sm-4 text-right\"><input id=\"btnLoginII\" type=\"submit\" name=\"btnLoginII\" value=\"Ingresar\" style=\"width: 134px; \" class=\"btn btn-primary\" onclick=\"uid_call(\\'directory.login.button1btnLoginII\\',\\'clickin\\');enviar_formulario()\" />\\n\\t\\t\\t\\t\\t\\t\\t\\t\\t  </div>\\n<form id=\"formRegistroCta\" name=\"formRegistroCta\" method=\"post\" action=\"/citas.webportal/pages/public/login/login.jsf\" class=\"form-horizontal\" enctype=\"application/x-www-form-urlencoded\">\\n<input type=\"hidden\" name=\"formRegistroCta\" value=\"formRegistroCta\" />\\n\\n\\t\\t\\t\\t\\t\\t\\t\\t\\t\\t<div class=\"row\">\\n\\t\\t\\t\\t\\t\\t\\t\\t\\t\\t\\t<div class=\"col-sm-11 text-right extbutton\"><input id=\"formRegistroCta:registroId\" type=\"submit\" name=\"formRegistroCta:registroId\" value=\"Crear una cuenta\" class=\"btn btn-default\" onclick=\"uid_call(\\'directory.login.button2registroId\\',\\'clickin\\')\" />\\n\\t\\t\\t\\t\\t\\t\\t\\t\\t\\t\\t</div>\\n\\t\\t\\t\\t\\t\\t\\t\\t\\t\\t\\t</div><input type=\"hidden\" name=\"javax.faces.ViewState\" id=\"javax.faces.ViewState\" value=\"-1780185791390416314:-4955043691685043778\" autocomplete=\"off\" />\\n</form>\\n\\t\\t\\t\\t\\t\\t\\t\\t</div>\\n\\t\\t\\t\\t\\t\\t\\t</div>\\n\\t\\t\\t\\t\\t</div>\\n\\t\\t\\t\\t\\n\\t\\t\\t\\t\\t<div class=\"col-md-12\" align=\"left\"><img id=\"j_idt51\" height=\"50px\" alt=\"\" src=\"/citas.webportal/javax.faces.resource/spacer/dot_clear.gif.jsf?ln=primefaces&amp;v=5.2\" /><div id=\"j_idt52\" class=\"ui-layout-unit ui-widget ui-widget-content ui-corner-all ui-layout-east\" style=\"font-weight:normal !important; border: none;\"><div class=\"ui-layout-unit-content ui-widget-content\"><?xml version=\"1.0\" encoding=\"ISO-8859-1\" ?>\\n<html xmlns=\"http://www.w3.org/1999/xhtml\">\\n\\t\\n\\t<div class=\"alert alert-info\">\\n\\t\\t\\t\\t<div class=\"col-md-12;alert alert-info\" style=\"padding-left:0px; text-align: center; font-size: 16px;font-family:Open Sans\">\\n\\t\\t\\t\\t\\t\\t<h><strong>Aviso de privacidad simplificado para tr\\xc3\\xa1mites en Oficinas Consulares</strong></h>\\n\\t\\t\\t\\t</div>\\n\\t\\t\\t\\t<div class=\"col-md-12;alert alert-info\" style=\"white-space:pre-line; text-align: left; font-size: 16px;font-family:Open Sans;\">\\n\\t\\t\\t\\t\\t\\t<h>La Secretar\\xc3\\xada de Relaciones Exteriores es la responsable del tratamiento de los datos personales que usted proporcione, y que ser\\xc3\\xa1n recabados a trav\\xc3\\xa9s del servicio de citas MEXITEL. Toda su informaci\\xc3\\xb3n se encuentra protegida por la Ley General de Protecci\\xc3\\xb3n de Datos Personales en Posesi\\xc3\\xb3n de Sujetos Obligados, y dem\\xc3\\xa1s normatividad aplicable.</h>\\n\\t\\t\\t\\t</div>\\t\\n\\t\\t\\t\\t<div class=\"col-md-12;alert alert-info\" style=\"white-space:pre-line; text-align: left; font-size: 16px;font-family:Open Sans;\">\\n\\t\\t\\t\\t\\t\\t<h>La informaci\\xc3\\xb3n requerida es necesaria para prestar el servicio y los datos personales recabados ser\\xc3\\xa1n utilizados para identificar al solicitante y verificar que se cumpla con la normatividad de la materia. Consulte los avisos de privacidad integrales para cada uno de los tramites ingresando en el v\\xc3\\xadnculo electr\\xc3\\xb3nico <a href=\"https://sre.gob.mx/avisos-de-privacidad-tramites\" target=\"_new\" style=\"color: rgb(0,0,255)\">https://sre.gob.mx/avisos-de-privacidad-tramites</a>.</h>\\n\\t\\t\\t\\t</div>\\t\\t\\t\\t\\t\\t\\t\\t\\t\\t\\t\\t\\t\\t\\n\\t</div>\\t\\n\\t\\t\\t\\t\\t\\t\\n\\t\\t\\t\\n</html></div></div>\\n\\t\\t\\t\\t\\t</div>\\n\\t\\t\\t\\t\\t\\n\\t\\t\\t\\t\\t<div class=\"col-sm-12\" align=\"left\"><img id=\"j_idt56\" height=\"50px\" alt=\"\" src=\"/citas.webportal/javax.faces.resource/spacer/dot_clear.gif.jsf?ln=primefaces&amp;v=5.2\" /><div id=\"j_idt57\" class=\"ui-layout-unit ui-widget ui-widget-content ui-corner-all ui-layout-east\" style=\"font-size: small !important; border: none;\"><div class=\"ui-layout-unit-content ui-widget-content\"><?xml version=\"1.0\" encoding=\"ISO-8859-1\" ?>\\n<html xmlns=\"http://www.w3.org/1999/xhtml\">\\n            <div style=\"text-align: center;\">\\n                <label style=\"font-weight: 500 !important; color:#545454;\">Derechos Reservados \\xc2\\xa9 2017 - Secretar\\xc3\\xada de Relaciones Exteriores</label>\\n                <br />\\n                <label style=\"font-weight: 500 !important; color:#545454;\">|-MSMexitel_5|</label>\\n            </div>\\n</html></div></div>\\n\\t\\t\\t\\t\\t</div>\\n\\t\\t\\t\\t\\t\\n\\t\\t\\t\\t\\t<div class=\"col-md-4\">\\n\\t\\t\\t\\t\\t</div>\\n\\t\\t\\t</div>\\n\\t\\t</div><div id=\"modalDialog\" class=\"ui-dialog ui-widget ui-widget-content ui-corner-all ui-shadow ui-hidden-container ui-center\" style=\"text-align:center\"><div class=\"ui-dialog-titlebar ui-widget-header ui-helper-clearfix ui-corner-top\"><span id=\"modalDialog_title\" class=\"ui-dialog-title\">Recuperar contrase\\xc3\\xb1a</span><a href=\"#\" class=\"ui-dialog-titlebar-icon ui-dialog-titlebar-close ui-corner-all\"><span class=\"ui-icon ui-icon-closethick\"></span></a></div><div class=\"ui-dialog-content ui-widget-content\">\\n\\t\\t\\t\\n\\t\\t\\t<div class=\"modal-body\">\\n<form id=\"formOlvideContrasena\" name=\"formOlvideContrasena\" method=\"post\" action=\"/citas.webportal/pages/public/login/login.jsf\" class=\"form-horizontal\" enctype=\"application/x-www-form-urlencoded\">\\n<input type=\"hidden\" name=\"formOlvideContrasena\" value=\"formOlvideContrasena\" />\\n\\n\\t\\t\\t\\t\\t\\n\\t\\t\\t\\t\\t<div class=\"form-group\"><div id=\"formOlvideContrasena:mensajesRegistro2\" class=\"ui-messages ui-widget formularioCentrado\" aria-live=\"polite\"></div>\\n\\t\\t\\t\\t\\t</div><img id=\"formOlvideContrasena:j_idt64\" height=\"5px\" alt=\"\" src=\"/citas.webportal/javax.faces.resource/spacer/dot_clear.gif.jsf?ln=primefaces&amp;v=5.2\" />\\n\\t\\t\\t\\t\\t<div class=\"form-group\">Para restablecer la contrase\\xc3\\xb1a, introduce la direcci\\xc3\\xb3n de correo electr\\xc3\\xb3nico que utilizaste para iniciar sesi\\xc3\\xb3n en el portal.\\n\\t\\t\\t\\t\\t</div>\\n\\t\\t\\t\\t\\t<div class=\"form-group\">\\n\\t\\t\\t\\t\\t\\t<div class=\"col-sm-offset-4 col-sm-4\"><label for=\"formOlvideContrasena:recpswCorreo\" class=\"sr-only\">\\nCorreo electr\\xc3\\xb3nico:</label><input id=\"formOlvideContrasena:recpswCorreo\" name=\"formOlvideContrasena:recpswCorreo\" type=\"text\" autocomplete=\"off\" aria-required=\"true\" class=\"ui-inputfield ui-inputtext ui-widget ui-state-default ui-corner-all form-control\" /><script id=\"formOlvideContrasena:recpswCorreo_s\" type=\"text/javascript\">PrimeFaces.cw(\"InputText\",\"widget_formOlvideContrasena_recpswCorreo\",{id:\"formOlvideContrasena:recpswCorreo\",widgetVar:\"widget_formOlvideContrasena_recpswCorreo\"});</script><script id=\"formOlvideContrasena:j_idt69_s\" type=\"text/javascript\">$(function(){PrimeFaces.cw(\"Watermark\",\"widget_formOlvideContrasena_j_idt69\",{id:\"formOlvideContrasena:j_idt69\",widgetVar:\"widget_formOlvideContrasena_j_idt69\",value:\"Correo electr\\xc3\\xb3nico\",target:\"formOlvideContrasena:recpswCorreo\"},\"watermark\");});</script><input id=\"formOlvideContrasena:emailPass\" type=\"hidden\" name=\"formOlvideContrasena:emailPass\" value=\"false\" />\\n\\t\\t\\t\\t\\t\\t</div>\\n\\t\\t\\t\\t\\t</div>\\n\\t\\t\\t\\t\\t<div class=\"form-group\">\\n\\t\\t\\t\\t\\t\\t<div class=\"col-sm-offset-5 text-right\"><button id=\"formOlvideContrasena:j_idt71\" name=\"formOlvideContrasena:j_idt71\" class=\"ui-button ui-widget ui-state-default ui-corner-all ui-button-text-only\" onclick=\"PF(\\'dlg2\\').hide();return false;;\" type=\"button\"><span class=\"ui-button-text ui-c\">Cerrar</span></button><script id=\"formOlvideContrasena:j_idt71_s\" type=\"text/javascript\">PrimeFaces.cw(\"CommandButton\",\"widget_formOlvideContrasena_j_idt71\",{id:\"formOlvideContrasena:j_idt71\",widgetVar:\"widget_formOlvideContrasena_j_idt71\"});</script>\\n\\t\\t\\t\\t\\t\\t</div>\\n\\t\\t\\t\\t\\t\\t<div class=\"col-sm-offset-2  text-right\"><button id=\"formOlvideContrasena:botonrecuperar\" name=\"formOlvideContrasena:botonrecuperar\" class=\"ui-button ui-widget ui-state-default ui-corner-all ui-button-text-only btn btn-primary pull-right\" onclick=\"this.disabled=true;uid_call(\\'directory.login.button3botonRecuperarPassword\\',\\'clickin\\');PrimeFaces.ab({s:&quot;formOlvideContrasena:botonrecuperar&quot;,p:&quot;formOlvideContrasena:botonrecuperar formOlvideContrasena:recpswCorreo&quot;,u:&quot;formOlvideContrasena:botonrecuperar formOlvideContrasena outerPG&quot;,ps:true,onco:function(xhr,status,args){showEmailDialog();},pa:[{name:&quot;bypassFilter&quot;,value:&quot;true&quot;}]});return false;\" type=\"submit\"><span class=\"ui-button-text ui-c\">Recuperar </span></button><script id=\"formOlvideContrasena:botonrecuperar_s\" type=\"text/javascript\">PrimeFaces.cw(\"CommandButton\",\"widget_formOlvideContrasena_botonrecuperar\",{id:\"formOlvideContrasena:botonrecuperar\",widgetVar:\"widget_formOlvideContrasena_botonrecuperar\"});</script>\\n\\t\\t\\t\\t\\t\\t</div>\\n\\t\\t\\t\\t\\t</div><input type=\"hidden\" name=\"javax.faces.ViewState\" id=\"javax.faces.ViewState\" value=\"-1780185791390416314:-4955043691685043778\" autocomplete=\"off\" />\\n</form>\\t\\t\\t\\t\\t\\n\\t\\t\\t</div></div></div><script id=\"modalDialog_s\" type=\"text/javascript\">$(function(){PrimeFaces.cw(\"Dialog\",\"dlg2\",{id:\"modalDialog\",widgetVar:\"dlg2\",draggable:false,resizable:false,modal:true,appendTo:\"@(body)\",onShow:function(){resetEmailForm();}});});</script><div id=\"outerPG\"><div id=\"modalDialog2\" class=\"ui-dialog ui-widget ui-widget-content ui-corner-all ui-shadow ui-hidden-container\" style=\"text-align:center;\"><div class=\"ui-dialog-titlebar ui-widget-header ui-helper-clearfix ui-corner-top\"><span id=\"modalDialog2_title\" class=\"ui-dialog-title\">Recuperar contrase\\xc3\\xb1a</span><a href=\"#\" class=\"ui-dialog-titlebar-icon ui-dialog-titlebar-close ui-corner-all\"><span class=\"ui-icon ui-icon-closethick\"></span></a></div><div class=\"ui-dialog-content ui-widget-content\"><table class=\"formularioCentrado\">\\n<tbody>\\n<tr>\\n<td><span id=\"wer2\" class=\"textoInstitucionalSubtitulo\">No fue posible realizar el env\\xc3\\xado de correo. Intenta m\\xc3\\xa1s tarde.</span></td>\\n</tr>\\n</tbody>\\n</table>\\n<img id=\"j_idt77\" height=\"5px\" alt=\"\" src=\"/citas.webportal/javax.faces.resource/spacer/dot_clear.gif.jsf?ln=primefaces&amp;v=5.2\" /><table class=\"formularioCentrado\">\\n<tbody>\\n<tr>\\n<td><button id=\"j_idt79\" name=\"j_idt79\" class=\"ui-button ui-widget ui-state-default ui-corner-all ui-button-text-only\" onclick=\"PF(\\'dlg3\\').hide();uid_call(\\'directory.login.button4recuperpswOK\\',\\'clickin\\');\" type=\"button\"><span class=\"ui-button-text ui-c\">Aceptar</span></button><script id=\"j_idt79_s\" type=\"text/javascript\">PrimeFaces.cw(\"CommandButton\",\"widget_j_idt79\",{id:\"j_idt79\",widgetVar:\"widget_j_idt79\"});</script></td>\\n</tr>\\n</tbody>\\n</table>\\n</div></div><script id=\"modalDialog2_s\" type=\"text/javascript\">$(function(){PrimeFaces.cw(\"Dialog\",\"dlg3\",{id:\"modalDialog2\",widgetVar:\"dlg3\",draggable:false,resizable:false,modal:true,appendTo:\"@(body)\",closeOnEscape:true});});</script></div>\\n\\t\\t\\t\\t\\t</div>\\n\\t\\t\\t\\t\\t<div class=\"col-md-4\"><?xml version=\"1.0\" encoding=\"UTF-8\" ?>\\n<html xmlns=\"http://www.w3.org/1999/xhtml\" lang=\"es\"><head><link type=\"text/css\" rel=\"stylesheet\" href=\"/citas.webportal/javax.faces.resource/theme.css.jsf?ln=primefaces-sregobmx\" /><link type=\"text/css\" rel=\"stylesheet\" href=\"/citas.webportal/javax.faces.resource/fa/font-awesome.css.jsf?ln=primefaces&amp;v=5.2\" /><script type=\"text/javascript\">if(window.PrimeFaces){}</script><div id=\"j_idt84\"></div><script id=\"j_idt84_s\" type=\"text/javascript\">$(function(){PrimeFaces.cw(\"AjaxStatus\",\"widget_j_idt84\",{id:\"j_idt84\",widgetVar:\"widget_j_idt84\",start:function(){PF(\\'statusDialog\\').show();},complete:function(){PF(\\'statusDialog\\').hide();}});});</script><div id=\"j_idt85\" class=\"ui-dialog ui-widget ui-widget-content ui-corner-all ui-shadow ui-hidden-container\" style=\"text-align: center;\"><div class=\"ui-dialog-titlebar ui-widget-header ui-helper-clearfix ui-corner-top\"><span id=\"j_idt85_title\" class=\"ui-dialog-title\">Procesando...</span></div><div class=\"ui-dialog-content ui-widget-content\"><img id=\"j_idt86\" src=\"/citas.webportal/javax.faces.resource/ajax-loader.gif.jsf?ln=images\" alt=\"\" /></div></div><script id=\"j_idt85_s\" type=\"text/javascript\">$(function(){PrimeFaces.cw(\"Dialog\",\"statusDialog\",{id:\"j_idt85\",widgetVar:\"statusDialog\",draggable:false,resizable:false,modal:true,width:\"200\",appendTo:\"@(body)\"});});</script></head><body>\\n<form id=\"j_idt88\" name=\"j_idt88\" method=\"post\" action=\"/citas.webportal/pages/public/login/login.jsf\" enctype=\"application/x-www-form-urlencoded\">\\n<input type=\"hidden\" name=\"j_idt88\" value=\"j_idt88\" />\\n\\n\\t\\t<div class=\"ui-grid ui-grid-responsive\" align=\"right\">\\n\\t\\t\\t<div><table>\\n<tbody>\\n<tr>\\n<td>Idioma:</td>\\n<td><img id=\"j_idt88:j_idt92\" width=\"2px\" alt=\"\" src=\"/citas.webportal/javax.faces.resource/spacer/dot_clear.gif.jsf?ln=primefaces&amp;v=5.2\" /></td>\\n<td>\\n<script type=\"text/javascript\" src=\"/citas.webportal/javax.faces.resource/jsf.js.jsf?ln=javax.faces\"></script>\\r\\n<a href=\"#\" onclick=\"mojarra.jsfcljs(document.getElementById(\\'j_idt88\\'),{\\'j_idt88:j_idt93\\':\\'j_idt88:j_idt93\\',\\'language\\':\\'es\\'},\\'\\');return false\"><img src=\"/citas.webportal/javax.faces.resource/mex.png.jsf?ln=images/flags\" class=\"non-transparent\" /></a></td>\\n<td><img id=\"j_idt88:j_idt96\" width=\"2px\" alt=\"\" src=\"/citas.webportal/javax.faces.resource/spacer/dot_clear.gif.jsf?ln=primefaces&amp;v=5.2\" /></td>\\n<td><a href=\"#\" onclick=\"mojarra.jsfcljs(document.getElementById(\\'j_idt88\\'),{\\'j_idt88:j_idt97\\':\\'j_idt88:j_idt97\\',\\'language\\':\\'en\\'},\\'\\');return false\"><img src=\"/citas.webportal/javax.faces.resource/eua.png.jsf?ln=images/flags\" class=\"transparent\" /></a></td>\\n<td><img id=\"j_idt88:j_idt100\" width=\"2px\" alt=\"\" src=\"/citas.webportal/javax.faces.resource/spacer/dot_clear.gif.jsf?ln=primefaces&amp;v=5.2\" /></td>\\n<td><a href=\"#\" onclick=\"mojarra.jsfcljs(document.getElementById(\\'j_idt88\\'),{\\'j_idt88:j_idt101\\':\\'j_idt88:j_idt101\\',\\'language\\':\\'fr\\'},\\'\\');return false\"><img src=\"/citas.webportal/javax.faces.resource/fra.png.jsf?ln=images/flags\" class=\"transparent\" /></a></td>\\n<td><img id=\"j_idt88:j_idt104\" width=\"2px\" alt=\"\" src=\"/citas.webportal/javax.faces.resource/spacer/dot_clear.gif.jsf?ln=primefaces&amp;v=5.2\" /></td>\\n<td><a href=\"#\" onclick=\"mojarra.jsfcljs(document.getElementById(\\'j_idt88\\'),{\\'j_idt88:j_idt105\\':\\'j_idt88:j_idt105\\',\\'language\\':\\'zh\\'},\\'\\');return false\"><img src=\"/citas.webportal/javax.faces.resource/chi.png.jsf?ln=images/flags\" class=\"transparent\" /></a></td>\\n<td><img id=\"j_idt88:j_idt108\" width=\"2px\" alt=\"\" src=\"/citas.webportal/javax.faces.resource/spacer/dot_clear.gif.jsf?ln=primefaces&amp;v=5.2\" /></td>\\n<td><a href=\"#\" onclick=\"mojarra.jsfcljs(document.getElementById(\\'j_idt88\\'),{\\'j_idt88:j_idt109\\':\\'j_idt88:j_idt109\\',\\'language\\':\\'pt\\'},\\'\\');return false\"><img src=\"/citas.webportal/javax.faces.resource/brazil.gif.jsf?ln=images/flags\" class=\"transparent\" /></a></td>\\n</tr>\\n</tbody>\\n</table>\\n<table>\\n<tbody>\\n<tr>\\n<td><a id=\"j_idt88:j_idt113\" href=\"#\" class=\"ui-commandlink ui-widget\" onclick=\"window.open(\\'/citas.webportal/pages/public/faq.jsf\\', \\'PreguntasFrecuentes\\', \\'resizable=yes, menubar=no, toolbar=no, scrollbars=yes\\'); return false;;PrimeFaces.ab({s:&quot;j_idt88:j_idt113&quot;});return false;\" type=\"button\">Preguntas frecuentes</a></td>\\n</tr>\\n</tbody>\\n</table>\\n\\n\\t\\t\\t\\n\\t\\t\\t</div>\\n\\t\\t</div><input type=\"hidden\" name=\"javax.faces.ViewState\" id=\"javax.faces.ViewState\" value=\"-1780185791390416314:-4955043691685043778\" autocomplete=\"off\" />\\n</form><div id=\"modalDialogCallback\" class=\"ui-dialog ui-widget ui-widget-content ui-corner-all ui-shadow ui-hidden-container\" style=\"text-align:left;\"><div class=\"ui-dialog-titlebar ui-widget-header ui-helper-clearfix ui-corner-top\"><span id=\"modalDialogCallback_title\" class=\"ui-dialog-title\">Ayuda telef\\xc3\\xb3nica de un operador</span><a href=\"#\" class=\"ui-dialog-titlebar-icon ui-dialog-titlebar-close ui-corner-all\"><span class=\"ui-icon ui-icon-closethick\"></span></a></div><div class=\"ui-dialog-content ui-widget-content\">\\n\\t\\t<div class=\"modal-body\">\\n<form id=\"formWebCallback\" name=\"formWebCallback\" method=\"post\" action=\"/citas.webportal/pages/public/login/login.jsf\" class=\"form-horizontal\" enctype=\"application/x-www-form-urlencoded\">\\n<input type=\"hidden\" name=\"formWebCallback\" value=\"formWebCallback\" />\\n\\n\\t\\t\\t<div class=\"form-group\">Servicio de tr\\xc3\\xa1mites de pasaportes en territorio mexicano. \\n\\t\\t\\t\\t\\t<br />Por favor introduce un n\\xc3\\xbamero telef\\xc3\\xb3nico y tu nombre completo para que un operador se comunique a la brevedad.\\n\\t\\t\\t\\t</div>\\n\\t\\t\\t\\t<div class=\"form-group\">\\n\\t\\t\\t\\t\\t<div class=\"col-sm-4 text-right\"><label for=\"formWebCallback:telefono\" class=\"textoInstitucionalSubtitulo\">\\nN\\xc3\\xbamero telef\\xc3\\xb3nico a 10 d\\xc3\\xadgitos:</label>\\n\\t\\t\\t\\t\\t</div>\\n\\t\\t\\t\\t\\t<div class=\"col-sm-4\"><input id=\"formWebCallback:telefono\" name=\"formWebCallback:telefono\" type=\"text\" maxlength=\"10\" aria-required=\"true\" class=\"ui-inputfield ui-inputmask ui-widget ui-state-default ui-corner-all form-control\" /><script id=\"formWebCallback:telefono_s\" type=\"text/javascript\">PrimeFaces.cw(\"InputMask\",\"widget_formWebCallback_telefono\",{id:\"formWebCallback:telefono\",widgetVar:\"widget_formWebCallback_telefono\",mask:\"(999) 999-9999\"});</script>\\n\\t\\t\\t\\t\\t</div>\\n\\t\\t\\t\\t</div>\\n\\t\\t\\t\\t<div class=\"form-group\">\\n\\t\\t\\t\\t\\t<div class=\"col-sm-4 text-right\"><label for=\"formWebCallback:nombreCompleto\" class=\"textoInstitucionalSubtitulo\">\\nNombre completo:</label>\\n\\t\\t\\t\\t\\t</div>\\n\\t\\t\\t\\t\\t<div class=\"col-sm-4\"><input id=\"formWebCallback:nombreCompleto\" name=\"formWebCallback:nombreCompleto\" type=\"text\" maxlength=\"10\" onblur=\"javascript:this.value=this.value.toUpperCase();\" aria-required=\"true\" class=\"ui-inputfield ui-inputtext ui-widget ui-state-default ui-corner-all form-control\" /><script id=\"formWebCallback:nombreCompleto_s\" type=\"text/javascript\">PrimeFaces.cw(\"InputText\",\"widget_formWebCallback_nombreCompleto\",{id:\"formWebCallback:nombreCompleto\",widgetVar:\"widget_formWebCallback_nombreCompleto\"});</script>\\n\\t\\t\\t\\t\\t</div>\\n\\t\\t\\t\\t</div>\\n\\t\\t\\t\\t<div class=\"form-group\">\\n\\t\\t\\t\\t\\t<div class=\"col-sm-offset-4 col-sm-4\"><button id=\"formWebCallback:j_idt128\" name=\"formWebCallback:j_idt128\" class=\"ui-button ui-widget ui-state-default ui-corner-all ui-button-text-only\" onclick=\"PrimeFaces.ab({s:&quot;formWebCallback:j_idt128&quot;,u:&quot;outerPG2 formWebCallback:telefono formWebCallback:nombreCompleto&quot;,onco:function(xhr,status,args){if (args &amp;&amp; !args.validationFailed){  PF(\\'dlg4\\').hide();PF(\\'dlg5\\').show();};}});return false;\" style=\"margin-right: 0px;\" type=\"submit\"><span class=\"ui-button-text ui-c\">Enviar</span></button><script id=\"formWebCallback:j_idt128_s\" type=\"text/javascript\">PrimeFaces.cw(\"CommandButton\",\"widget_formWebCallback_j_idt128\",{id:\"formWebCallback:j_idt128\",widgetVar:\"widget_formWebCallback_j_idt128\"});</script><img id=\"formWebCallback:j_idt129\" width=\"5px\" alt=\"\" src=\"/citas.webportal/javax.faces.resource/spacer/dot_clear.gif.jsf?ln=primefaces&amp;v=5.2\" /><button id=\"formWebCallback:j_idt130\" name=\"formWebCallback:j_idt130\" class=\"ui-button ui-widget ui-state-default ui-corner-all ui-button-text-only secundario\" onclick=\"PF(\\'dlg4\\').hide();;PrimeFaces.ab({s:&quot;formWebCallback:j_idt130&quot;,u:&quot;formWebCallback:telefono formWebCallback:nombreCompleto&quot;});return false;\" type=\"submit\"><span class=\"ui-button-text ui-c\">Cancelar</span></button><script id=\"formWebCallback:j_idt130_s\" type=\"text/javascript\">PrimeFaces.cw(\"CommandButton\",\"widget_formWebCallback_j_idt130\",{id:\"formWebCallback:j_idt130\",widgetVar:\"widget_formWebCallback_j_idt130\"});</script>\\n\\t\\t\\t\\t\\t</div>\\n\\t\\t\\t\\t</div><input type=\"hidden\" name=\"javax.faces.ViewState\" id=\"javax.faces.ViewState\" value=\"-1780185791390416314:-4955043691685043778\" autocomplete=\"off\" />\\n</form>\\n\\t\\t</div></div></div><script id=\"modalDialogCallback_s\" type=\"text/javascript\">$(function(){PrimeFaces.cw(\"Dialog\",\"dlg4\",{id:\"modalDialogCallback\",widgetVar:\"dlg4\",draggable:false,resizable:false,modal:true,appendTo:\"@(body)\",closeOnEscape:true});});</script><span id=\"outerPG2\"><div id=\"modalDialog5\" class=\"ui-dialog ui-widget ui-widget-content ui-corner-all ui-shadow ui-hidden-container appenToBodyDialog\" style=\"text-align:center;\"><div class=\"ui-dialog-titlebar ui-widget-header ui-helper-clearfix ui-corner-top\"><span id=\"modalDialog5_title\" class=\"ui-dialog-title\">Ayuda telef\\xc3\\xb3nica de un operador</span><a href=\"#\" class=\"ui-dialog-titlebar-icon ui-dialog-titlebar-close ui-corner-all\"><span class=\"ui-icon ui-icon-closethick\"></span></a></div><div class=\"ui-dialog-content ui-widget-content\"><table class=\"formularioCentrado\">\\n<tbody>\\n<tr>\\n<td><span id=\"wer4\" class=\"textoInstitucionalSubtitulo\">Ha ocurrido un error al enviar sus datos favor de intentar m\\xc3\\xa1s tarde</span></td>\\n</tr>\\n</tbody>\\n</table>\\n\\n\\t\\t\\t\\t<br /><table class=\"formularioCentrado\">\\n<tbody>\\n<tr>\\n<td><button id=\"j_idt136\" name=\"j_idt136\" class=\"ui-button ui-widget ui-state-default ui-corner-all ui-button-text-only textoInstitucionallink\" onclick=\"PF(\\'dlg5\\').hide();;\" type=\"button\"><span class=\"ui-button-text ui-c\">Aceptar</span></button><script id=\"j_idt136_s\" type=\"text/javascript\">PrimeFaces.cw(\"CommandButton\",\"widget_j_idt136\",{id:\"j_idt136\",widgetVar:\"widget_j_idt136\"});</script></td>\\n</tr>\\n</tbody>\\n</table>\\n</div></div><script id=\"modalDialog5_s\" type=\"text/javascript\">$(function(){PrimeFaces.cw(\"Dialog\",\"dlg5\",{id:\"modalDialog5\",widgetVar:\"dlg5\",draggable:false,resizable:false,modal:true,appendTo:\"@(body)\",closeOnEscape:true});});</script></span></body>\\n\\t\\t \\n</html>\\n\\t\\t\\t\\t\\t</div>\\n\\t\\t\\t\\t</div>\\n\\t\\t\\t</div>\\n\\t</div>\\n\\t\\t<div class=\"bottom-buffer\"></div></body>\\n</html>'\n"
     ]
    }
   ],
   "source": [
    "print(respuesta.content)"
   ]
  },
  {
   "cell_type": "markdown",
   "metadata": {},
   "source": [
    "Vemos que la petición a google nos ha devuelto el html de la página de inicio de google. Podemos escribirlo a un archivo y verlo"
   ]
  },
  {
   "cell_type": "code",
   "execution_count": 57,
   "metadata": {},
   "outputs": [],
   "source": [
    "with open(\"meneame.html\", \"wb\") as fname:\n",
    "    fname.write(respuesta.content)"
   ]
  },
  {
   "cell_type": "code",
   "execution_count": 58,
   "metadata": {},
   "outputs": [
    {
     "data": {
      "text/plain": [
       "True"
      ]
     },
     "execution_count": 58,
     "metadata": {},
     "output_type": "execute_result"
    }
   ],
   "source": [
    "import webbrowser\n",
    "webbrowser.open(\"meneame.html\")"
   ]
  },
  {
   "cell_type": "markdown",
   "metadata": {},
   "source": [
    "Vemos que la página que hemos obtenido via `requests` no es la misma que la que veríamos desde el navegador. Esto es por que `requests` no sabe como interpretar javascript y dicha página genera los contenidos de forma dinámica."
   ]
  },
  {
   "cell_type": "markdown",
   "metadata": {},
   "source": [
    "### Reddit\n",
    "\n",
    "Supongamos ahora que queremos obtener los 5 primeros posts del foro de comida en Reddit. Podemos hacer una petición a www.reddit.com/r/food (que es la misma url que usariamos en el navegador)."
   ]
  },
  {
   "cell_type": "code",
   "execution_count": 59,
   "metadata": {},
   "outputs": [],
   "source": [
    "respuesta = requests.get(\"http://www.reddit.com/r/food\")"
   ]
  },
  {
   "cell_type": "markdown",
   "metadata": {},
   "source": [
    "podemos verificar que la peticion ha sido correcta comprobando el status de la respuesta:"
   ]
  },
  {
   "cell_type": "code",
   "execution_count": 60,
   "metadata": {},
   "outputs": [
    {
     "data": {
      "text/plain": [
       "False"
      ]
     },
     "execution_count": 60,
     "metadata": {},
     "output_type": "execute_result"
    }
   ],
   "source": [
    "respuesta.ok"
   ]
  },
  {
   "cell_type": "markdown",
   "metadata": {},
   "source": [
    "Oh que sorpresa! La petición no ha funcionado, veamos que status hemos recibido."
   ]
  },
  {
   "cell_type": "code",
   "execution_count": 61,
   "metadata": {},
   "outputs": [
    {
     "data": {
      "text/plain": [
       "429"
      ]
     },
     "execution_count": 61,
     "metadata": {},
     "output_type": "execute_result"
    }
   ],
   "source": [
    "respuesta.status_code"
   ]
  },
  {
   "cell_type": "markdown",
   "metadata": {},
   "source": [
    "Sabemos que los códigos http que empiezan por *4xx* significan errores en la petición que hemos hecho. Podemos mirar lo que significa el código 429 en una [lista](https://developer.mozilla.org/en-US/docs/Web/HTTP/Headers/User-Agent), o podemos mirar la razon del error con el atributo `reason`"
   ]
  },
  {
   "cell_type": "code",
   "execution_count": 62,
   "metadata": {},
   "outputs": [
    {
     "data": {
      "text/plain": [
       "'Too Many Requests'"
      ]
     },
     "execution_count": 62,
     "metadata": {},
     "output_type": "execute_result"
    }
   ],
   "source": [
    "respuesta.reason"
   ]
  },
  {
   "cell_type": "markdown",
   "metadata": {},
   "source": [
    "Sin embargo, si abrimos esa dirección web (url) en el navegador funciona sin problemas."
   ]
  },
  {
   "cell_type": "code",
   "execution_count": 63,
   "metadata": {},
   "outputs": [
    {
     "data": {
      "text/plain": [
       "True"
      ]
     },
     "execution_count": 63,
     "metadata": {},
     "output_type": "execute_result"
    }
   ],
   "source": [
    "webbrowser.open(\"www.reddit.com/r/food\")"
   ]
  },
  {
   "cell_type": "markdown",
   "metadata": {},
   "source": [
    "Vaya! Nos dice el servidor de reddit que hemos hecho demasiadas peticiones, ¿como puede ser si solo hemos hecho una?. Hemos mencionado que ciertas páginas web tienen un conjunto de contramedidas para evitar bots (programas que pretenden ser usuarios).\n",
    "\n",
    "Por este motivo, podemos hacer uso de la api que reddit nos proporciona, como dicha api está diseñada para ser consumida por bots, no tendremos problema."
   ]
  },
  {
   "cell_type": "code",
   "execution_count": 34,
   "metadata": {},
   "outputs": [],
   "source": [
    "respuesta = requests.get(\"https://www.reddit.com/r/food/.json?limit=5\")"
   ]
  },
  {
   "cell_type": "code",
   "execution_count": 35,
   "metadata": {},
   "outputs": [
    {
     "data": {
      "text/plain": [
       "False"
      ]
     },
     "execution_count": 35,
     "metadata": {},
     "output_type": "execute_result"
    }
   ],
   "source": [
    "respuesta.ok"
   ]
  },
  {
   "cell_type": "code",
   "execution_count": 36,
   "metadata": {},
   "outputs": [
    {
     "name": "stdout",
     "output_type": "stream",
     "text": [
      "b'{\"message\": \"Too Many Requests\", \"error\": 429}'\n"
     ]
    }
   ],
   "source": [
    "print(respuesta.content)"
   ]
  },
  {
   "cell_type": "markdown",
   "metadata": {},
   "source": [
    "la petición de la api viene en formato json, con requests podemos parsearla facilmente:"
   ]
  },
  {
   "cell_type": "code",
   "execution_count": 27,
   "metadata": {},
   "outputs": [],
   "source": [
    "datos = respuesta.json()"
   ]
  },
  {
   "cell_type": "code",
   "execution_count": 28,
   "metadata": {},
   "outputs": [],
   "source": [
    "from pprint import pprint"
   ]
  },
  {
   "cell_type": "code",
   "execution_count": 29,
   "metadata": {},
   "outputs": [
    {
     "name": "stdout",
     "output_type": "stream",
     "text": [
      "{'error': 429, 'message': 'Too Many Requests'}\n"
     ]
    }
   ],
   "source": [
    "pprint(datos)"
   ]
  },
  {
   "cell_type": "markdown",
   "metadata": {},
   "source": [
    "Vemos que datos es un diccionario con la clave `data` y subclave `children` que tiene los posts en una lista. Dentro de cada lista, la clave `title` tiene el titulo del post. Por ejemplo, si queremos el título del segundo post en la lista:"
   ]
  },
  {
   "cell_type": "code",
   "execution_count": 30,
   "metadata": {},
   "outputs": [
    {
     "ename": "KeyError",
     "evalue": "'data'",
     "output_type": "error",
     "traceback": [
      "\u001b[1;31m---------------------------------------------------------------------------\u001b[0m",
      "\u001b[1;31mKeyError\u001b[0m                                  Traceback (most recent call last)",
      "\u001b[1;32m<ipython-input-30-0894b3beb5f9>\u001b[0m in \u001b[0;36m<module>\u001b[1;34m\u001b[0m\n\u001b[1;32m----> 1\u001b[1;33m \u001b[0mdatos\u001b[0m\u001b[1;33m[\u001b[0m\u001b[1;34m'data'\u001b[0m\u001b[1;33m]\u001b[0m\u001b[1;33m[\u001b[0m\u001b[1;34m'children'\u001b[0m\u001b[1;33m]\u001b[0m\u001b[1;33m[\u001b[0m\u001b[1;36m1\u001b[0m\u001b[1;33m]\u001b[0m\u001b[1;33m[\u001b[0m\u001b[1;34m'data'\u001b[0m\u001b[1;33m]\u001b[0m\u001b[1;33m[\u001b[0m\u001b[1;34m'title'\u001b[0m\u001b[1;33m]\u001b[0m\u001b[1;33m\u001b[0m\u001b[1;33m\u001b[0m\u001b[0m\n\u001b[0m",
      "\u001b[1;31mKeyError\u001b[0m: 'data'"
     ]
    }
   ],
   "source": [
    "datos['data']['children'][1]['data']['title']"
   ]
  },
  {
   "cell_type": "markdown",
   "metadata": {},
   "source": [
    "Asi que si queremos todos los titulos no tenemos más que iterar los posts:"
   ]
  },
  {
   "cell_type": "code",
   "execution_count": 27,
   "metadata": {},
   "outputs": [
    {
     "data": {
      "text/plain": [
       "['[MOD POST - PSA **UPDATE**] pLEASE SEE THE FOLLOWING RULE CHANGES FOR POSTING LINKS IN THIS SUB.',\n",
       " '[homemade] chocolate cupcakes with macarones, Italian buttercream, meringue kisses and roses.',\n",
       " '[I Ate] Lemon Meringue Pie',\n",
       " '[Homemade] One Dozen Chocolate Chip Cookies',\n",
       " '[Homemade] Carbonara',\n",
       " '[I Ate] Deep Fried Cheese']"
      ]
     },
     "execution_count": 27,
     "metadata": {},
     "output_type": "execute_result"
    }
   ],
   "source": [
    "titulos = []\n",
    "for post in datos['data']['children']:\n",
    "    titulos.append(post['data']['title'])\n",
    "    \n",
    "titulos"
   ]
  },
  {
   "cell_type": "markdown",
   "metadata": {},
   "source": [
    "Alternativamente, podemos usar [`glom`](https://github.com/mahmoud/glom) para iterar más rápidamente. **NOTA:** `glom` es una libreria nueva y puede no funcionar de forma estable"
   ]
  },
  {
   "cell_type": "code",
   "execution_count": 28,
   "metadata": {},
   "outputs": [
    {
     "data": {
      "text/plain": [
       "['[MOD POST - PSA **UPDATE**] pLEASE SEE THE FOLLOWING RULE CHANGES FOR POSTING LINKS IN THIS SUB.',\n",
       " '[homemade] chocolate cupcakes with macarones, Italian buttercream, meringue kisses and roses.',\n",
       " '[I Ate] Lemon Meringue Pie',\n",
       " '[Homemade] One Dozen Chocolate Chip Cookies',\n",
       " '[Homemade] Carbonara',\n",
       " '[I Ate] Deep Fried Cheese']"
      ]
     },
     "execution_count": 28,
     "metadata": {},
     "output_type": "execute_result"
    }
   ],
   "source": [
    "from glom import glom\n",
    "glom(datos, ('data.children', ['data.title']))"
   ]
  },
  {
   "cell_type": "markdown",
   "metadata": {},
   "source": [
    "### Yahoo Weather\n",
    "\n",
    "Podemos usar la [api de Yahoo weather](https://developer.yahoo.com/weather/?guccounter=2) de forma similar a la de reddit"
   ]
  },
  {
   "cell_type": "code",
   "execution_count": 64,
   "metadata": {},
   "outputs": [
    {
     "data": {
      "text/plain": [
       "'\\nhttps://query.yahooapis.com/v1/public/yql?q=select * from weather.forecast where woeid in (select woeid from geo.places(1) where text=\"{}\") and u=\\'c\\'&format=json\\n'"
      ]
     },
     "execution_count": 64,
     "metadata": {},
     "output_type": "execute_result"
    }
   ],
   "source": [
    "url = \"\"\"\n",
    "https://query.yahooapis.com/v1/public/yql?q=select * from weather.forecast where woeid in (select woeid from geo.places(1) where text=\"{}\") and u='c'&format=json\n",
    "\"\"\"\n",
    "\n",
    "url"
   ]
  },
  {
   "cell_type": "code",
   "execution_count": 65,
   "metadata": {},
   "outputs": [
    {
     "data": {
      "text/plain": [
       "'\\nhttps://query.yahooapis.com/v1/public/yql?q=select * from weather.forecast where woeid in (select woeid from geo.places(1) where text=\"Murcia, Spain\") and u=\\'c\\'&format=json\\n'"
      ]
     },
     "execution_count": 65,
     "metadata": {},
     "output_type": "execute_result"
    }
   ],
   "source": [
    "url.format(\"Murcia, Spain\")"
   ]
  },
  {
   "cell_type": "code",
   "execution_count": 66,
   "metadata": {},
   "outputs": [
    {
     "ename": "ConnectionError",
     "evalue": "HTTPSConnectionPool(host='query.yahooapis.com', port=443): Max retries exceeded with url: /v1/public/yql?q=select%20*%20from%20weather.forecast%20where%20woeid%20in%20(select%20woeid%20from%20geo.places(1)%20where%20text=%22Madrid,%20Spain%22)%20and%20u='c'&format=json%0A (Caused by NewConnectionError('<urllib3.connection.VerifiedHTTPSConnection object at 0x000002AFB0228278>: Failed to establish a new connection: [Errno 11001] getaddrinfo failed'))",
     "output_type": "error",
     "traceback": [
      "\u001b[1;31m---------------------------------------------------------------------------\u001b[0m",
      "\u001b[1;31mgaierror\u001b[0m                                  Traceback (most recent call last)",
      "\u001b[1;32mc:\\users\\jorge\\appdata\\local\\programs\\python\\python37\\lib\\site-packages\\urllib3\\connection.py\u001b[0m in \u001b[0;36m_new_conn\u001b[1;34m(self)\u001b[0m\n\u001b[0;32m    158\u001b[0m             conn = connection.create_connection(\n\u001b[1;32m--> 159\u001b[1;33m                 (self._dns_host, self.port), self.timeout, **extra_kw)\n\u001b[0m\u001b[0;32m    160\u001b[0m \u001b[1;33m\u001b[0m\u001b[0m\n",
      "\u001b[1;32mc:\\users\\jorge\\appdata\\local\\programs\\python\\python37\\lib\\site-packages\\urllib3\\util\\connection.py\u001b[0m in \u001b[0;36mcreate_connection\u001b[1;34m(address, timeout, source_address, socket_options)\u001b[0m\n\u001b[0;32m     56\u001b[0m \u001b[1;33m\u001b[0m\u001b[0m\n\u001b[1;32m---> 57\u001b[1;33m     \u001b[1;32mfor\u001b[0m \u001b[0mres\u001b[0m \u001b[1;32min\u001b[0m \u001b[0msocket\u001b[0m\u001b[1;33m.\u001b[0m\u001b[0mgetaddrinfo\u001b[0m\u001b[1;33m(\u001b[0m\u001b[0mhost\u001b[0m\u001b[1;33m,\u001b[0m \u001b[0mport\u001b[0m\u001b[1;33m,\u001b[0m \u001b[0mfamily\u001b[0m\u001b[1;33m,\u001b[0m \u001b[0msocket\u001b[0m\u001b[1;33m.\u001b[0m\u001b[0mSOCK_STREAM\u001b[0m\u001b[1;33m)\u001b[0m\u001b[1;33m:\u001b[0m\u001b[1;33m\u001b[0m\u001b[1;33m\u001b[0m\u001b[0m\n\u001b[0m\u001b[0;32m     58\u001b[0m         \u001b[0maf\u001b[0m\u001b[1;33m,\u001b[0m \u001b[0msocktype\u001b[0m\u001b[1;33m,\u001b[0m \u001b[0mproto\u001b[0m\u001b[1;33m,\u001b[0m \u001b[0mcanonname\u001b[0m\u001b[1;33m,\u001b[0m \u001b[0msa\u001b[0m \u001b[1;33m=\u001b[0m \u001b[0mres\u001b[0m\u001b[1;33m\u001b[0m\u001b[1;33m\u001b[0m\u001b[0m\n",
      "\u001b[1;32mc:\\users\\jorge\\appdata\\local\\programs\\python\\python37\\lib\\socket.py\u001b[0m in \u001b[0;36mgetaddrinfo\u001b[1;34m(host, port, family, type, proto, flags)\u001b[0m\n\u001b[0;32m    747\u001b[0m     \u001b[0maddrlist\u001b[0m \u001b[1;33m=\u001b[0m \u001b[1;33m[\u001b[0m\u001b[1;33m]\u001b[0m\u001b[1;33m\u001b[0m\u001b[1;33m\u001b[0m\u001b[0m\n\u001b[1;32m--> 748\u001b[1;33m     \u001b[1;32mfor\u001b[0m \u001b[0mres\u001b[0m \u001b[1;32min\u001b[0m \u001b[0m_socket\u001b[0m\u001b[1;33m.\u001b[0m\u001b[0mgetaddrinfo\u001b[0m\u001b[1;33m(\u001b[0m\u001b[0mhost\u001b[0m\u001b[1;33m,\u001b[0m \u001b[0mport\u001b[0m\u001b[1;33m,\u001b[0m \u001b[0mfamily\u001b[0m\u001b[1;33m,\u001b[0m \u001b[0mtype\u001b[0m\u001b[1;33m,\u001b[0m \u001b[0mproto\u001b[0m\u001b[1;33m,\u001b[0m \u001b[0mflags\u001b[0m\u001b[1;33m)\u001b[0m\u001b[1;33m:\u001b[0m\u001b[1;33m\u001b[0m\u001b[1;33m\u001b[0m\u001b[0m\n\u001b[0m\u001b[0;32m    749\u001b[0m         \u001b[0maf\u001b[0m\u001b[1;33m,\u001b[0m \u001b[0msocktype\u001b[0m\u001b[1;33m,\u001b[0m \u001b[0mproto\u001b[0m\u001b[1;33m,\u001b[0m \u001b[0mcanonname\u001b[0m\u001b[1;33m,\u001b[0m \u001b[0msa\u001b[0m \u001b[1;33m=\u001b[0m \u001b[0mres\u001b[0m\u001b[1;33m\u001b[0m\u001b[1;33m\u001b[0m\u001b[0m\n",
      "\u001b[1;31mgaierror\u001b[0m: [Errno 11001] getaddrinfo failed",
      "\nDuring handling of the above exception, another exception occurred:\n",
      "\u001b[1;31mNewConnectionError\u001b[0m                        Traceback (most recent call last)",
      "\u001b[1;32mc:\\users\\jorge\\appdata\\local\\programs\\python\\python37\\lib\\site-packages\\urllib3\\connectionpool.py\u001b[0m in \u001b[0;36murlopen\u001b[1;34m(self, method, url, body, headers, retries, redirect, assert_same_host, timeout, pool_timeout, release_conn, chunked, body_pos, **response_kw)\u001b[0m\n\u001b[0;32m    599\u001b[0m                                                   \u001b[0mbody\u001b[0m\u001b[1;33m=\u001b[0m\u001b[0mbody\u001b[0m\u001b[1;33m,\u001b[0m \u001b[0mheaders\u001b[0m\u001b[1;33m=\u001b[0m\u001b[0mheaders\u001b[0m\u001b[1;33m,\u001b[0m\u001b[1;33m\u001b[0m\u001b[1;33m\u001b[0m\u001b[0m\n\u001b[1;32m--> 600\u001b[1;33m                                                   chunked=chunked)\n\u001b[0m\u001b[0;32m    601\u001b[0m \u001b[1;33m\u001b[0m\u001b[0m\n",
      "\u001b[1;32mc:\\users\\jorge\\appdata\\local\\programs\\python\\python37\\lib\\site-packages\\urllib3\\connectionpool.py\u001b[0m in \u001b[0;36m_make_request\u001b[1;34m(self, conn, method, url, timeout, chunked, **httplib_request_kw)\u001b[0m\n\u001b[0;32m    342\u001b[0m         \u001b[1;32mtry\u001b[0m\u001b[1;33m:\u001b[0m\u001b[1;33m\u001b[0m\u001b[1;33m\u001b[0m\u001b[0m\n\u001b[1;32m--> 343\u001b[1;33m             \u001b[0mself\u001b[0m\u001b[1;33m.\u001b[0m\u001b[0m_validate_conn\u001b[0m\u001b[1;33m(\u001b[0m\u001b[0mconn\u001b[0m\u001b[1;33m)\u001b[0m\u001b[1;33m\u001b[0m\u001b[1;33m\u001b[0m\u001b[0m\n\u001b[0m\u001b[0;32m    344\u001b[0m         \u001b[1;32mexcept\u001b[0m \u001b[1;33m(\u001b[0m\u001b[0mSocketTimeout\u001b[0m\u001b[1;33m,\u001b[0m \u001b[0mBaseSSLError\u001b[0m\u001b[1;33m)\u001b[0m \u001b[1;32mas\u001b[0m \u001b[0me\u001b[0m\u001b[1;33m:\u001b[0m\u001b[1;33m\u001b[0m\u001b[1;33m\u001b[0m\u001b[0m\n",
      "\u001b[1;32mc:\\users\\jorge\\appdata\\local\\programs\\python\\python37\\lib\\site-packages\\urllib3\\connectionpool.py\u001b[0m in \u001b[0;36m_validate_conn\u001b[1;34m(self, conn)\u001b[0m\n\u001b[0;32m    838\u001b[0m         \u001b[1;32mif\u001b[0m \u001b[1;32mnot\u001b[0m \u001b[0mgetattr\u001b[0m\u001b[1;33m(\u001b[0m\u001b[0mconn\u001b[0m\u001b[1;33m,\u001b[0m \u001b[1;34m'sock'\u001b[0m\u001b[1;33m,\u001b[0m \u001b[1;32mNone\u001b[0m\u001b[1;33m)\u001b[0m\u001b[1;33m:\u001b[0m  \u001b[1;31m# AppEngine might not have  `.sock`\u001b[0m\u001b[1;33m\u001b[0m\u001b[1;33m\u001b[0m\u001b[0m\n\u001b[1;32m--> 839\u001b[1;33m             \u001b[0mconn\u001b[0m\u001b[1;33m.\u001b[0m\u001b[0mconnect\u001b[0m\u001b[1;33m(\u001b[0m\u001b[1;33m)\u001b[0m\u001b[1;33m\u001b[0m\u001b[1;33m\u001b[0m\u001b[0m\n\u001b[0m\u001b[0;32m    840\u001b[0m \u001b[1;33m\u001b[0m\u001b[0m\n",
      "\u001b[1;32mc:\\users\\jorge\\appdata\\local\\programs\\python\\python37\\lib\\site-packages\\urllib3\\connection.py\u001b[0m in \u001b[0;36mconnect\u001b[1;34m(self)\u001b[0m\n\u001b[0;32m    300\u001b[0m         \u001b[1;31m# Add certificate verification\u001b[0m\u001b[1;33m\u001b[0m\u001b[1;33m\u001b[0m\u001b[1;33m\u001b[0m\u001b[0m\n\u001b[1;32m--> 301\u001b[1;33m         \u001b[0mconn\u001b[0m \u001b[1;33m=\u001b[0m \u001b[0mself\u001b[0m\u001b[1;33m.\u001b[0m\u001b[0m_new_conn\u001b[0m\u001b[1;33m(\u001b[0m\u001b[1;33m)\u001b[0m\u001b[1;33m\u001b[0m\u001b[1;33m\u001b[0m\u001b[0m\n\u001b[0m\u001b[0;32m    302\u001b[0m         \u001b[0mhostname\u001b[0m \u001b[1;33m=\u001b[0m \u001b[0mself\u001b[0m\u001b[1;33m.\u001b[0m\u001b[0mhost\u001b[0m\u001b[1;33m\u001b[0m\u001b[1;33m\u001b[0m\u001b[0m\n",
      "\u001b[1;32mc:\\users\\jorge\\appdata\\local\\programs\\python\\python37\\lib\\site-packages\\urllib3\\connection.py\u001b[0m in \u001b[0;36m_new_conn\u001b[1;34m(self)\u001b[0m\n\u001b[0;32m    167\u001b[0m             raise NewConnectionError(\n\u001b[1;32m--> 168\u001b[1;33m                 self, \"Failed to establish a new connection: %s\" % e)\n\u001b[0m\u001b[0;32m    169\u001b[0m \u001b[1;33m\u001b[0m\u001b[0m\n",
      "\u001b[1;31mNewConnectionError\u001b[0m: <urllib3.connection.VerifiedHTTPSConnection object at 0x000002AFB0228278>: Failed to establish a new connection: [Errno 11001] getaddrinfo failed",
      "\nDuring handling of the above exception, another exception occurred:\n",
      "\u001b[1;31mMaxRetryError\u001b[0m                             Traceback (most recent call last)",
      "\u001b[1;32mc:\\users\\jorge\\appdata\\local\\programs\\python\\python37\\lib\\site-packages\\requests\\adapters.py\u001b[0m in \u001b[0;36msend\u001b[1;34m(self, request, stream, timeout, verify, cert, proxies)\u001b[0m\n\u001b[0;32m    448\u001b[0m                     \u001b[0mretries\u001b[0m\u001b[1;33m=\u001b[0m\u001b[0mself\u001b[0m\u001b[1;33m.\u001b[0m\u001b[0mmax_retries\u001b[0m\u001b[1;33m,\u001b[0m\u001b[1;33m\u001b[0m\u001b[1;33m\u001b[0m\u001b[0m\n\u001b[1;32m--> 449\u001b[1;33m                     \u001b[0mtimeout\u001b[0m\u001b[1;33m=\u001b[0m\u001b[0mtimeout\u001b[0m\u001b[1;33m\u001b[0m\u001b[1;33m\u001b[0m\u001b[0m\n\u001b[0m\u001b[0;32m    450\u001b[0m                 )\n",
      "\u001b[1;32mc:\\users\\jorge\\appdata\\local\\programs\\python\\python37\\lib\\site-packages\\urllib3\\connectionpool.py\u001b[0m in \u001b[0;36murlopen\u001b[1;34m(self, method, url, body, headers, retries, redirect, assert_same_host, timeout, pool_timeout, release_conn, chunked, body_pos, **response_kw)\u001b[0m\n\u001b[0;32m    637\u001b[0m             retries = retries.increment(method, url, error=e, _pool=self,\n\u001b[1;32m--> 638\u001b[1;33m                                         _stacktrace=sys.exc_info()[2])\n\u001b[0m\u001b[0;32m    639\u001b[0m             \u001b[0mretries\u001b[0m\u001b[1;33m.\u001b[0m\u001b[0msleep\u001b[0m\u001b[1;33m(\u001b[0m\u001b[1;33m)\u001b[0m\u001b[1;33m\u001b[0m\u001b[1;33m\u001b[0m\u001b[0m\n",
      "\u001b[1;32mc:\\users\\jorge\\appdata\\local\\programs\\python\\python37\\lib\\site-packages\\urllib3\\util\\retry.py\u001b[0m in \u001b[0;36mincrement\u001b[1;34m(self, method, url, response, error, _pool, _stacktrace)\u001b[0m\n\u001b[0;32m    397\u001b[0m         \u001b[1;32mif\u001b[0m \u001b[0mnew_retry\u001b[0m\u001b[1;33m.\u001b[0m\u001b[0mis_exhausted\u001b[0m\u001b[1;33m(\u001b[0m\u001b[1;33m)\u001b[0m\u001b[1;33m:\u001b[0m\u001b[1;33m\u001b[0m\u001b[1;33m\u001b[0m\u001b[0m\n\u001b[1;32m--> 398\u001b[1;33m             \u001b[1;32mraise\u001b[0m \u001b[0mMaxRetryError\u001b[0m\u001b[1;33m(\u001b[0m\u001b[0m_pool\u001b[0m\u001b[1;33m,\u001b[0m \u001b[0murl\u001b[0m\u001b[1;33m,\u001b[0m \u001b[0merror\u001b[0m \u001b[1;32mor\u001b[0m \u001b[0mResponseError\u001b[0m\u001b[1;33m(\u001b[0m\u001b[0mcause\u001b[0m\u001b[1;33m)\u001b[0m\u001b[1;33m)\u001b[0m\u001b[1;33m\u001b[0m\u001b[1;33m\u001b[0m\u001b[0m\n\u001b[0m\u001b[0;32m    399\u001b[0m \u001b[1;33m\u001b[0m\u001b[0m\n",
      "\u001b[1;31mMaxRetryError\u001b[0m: HTTPSConnectionPool(host='query.yahooapis.com', port=443): Max retries exceeded with url: /v1/public/yql?q=select%20*%20from%20weather.forecast%20where%20woeid%20in%20(select%20woeid%20from%20geo.places(1)%20where%20text=%22Madrid,%20Spain%22)%20and%20u='c'&format=json%0A (Caused by NewConnectionError('<urllib3.connection.VerifiedHTTPSConnection object at 0x000002AFB0228278>: Failed to establish a new connection: [Errno 11001] getaddrinfo failed'))",
      "\nDuring handling of the above exception, another exception occurred:\n",
      "\u001b[1;31mConnectionError\u001b[0m                           Traceback (most recent call last)",
      "\u001b[1;32m<ipython-input-66-2fa75cab193f>\u001b[0m in \u001b[0;36m<module>\u001b[1;34m\u001b[0m\n\u001b[1;32m----> 1\u001b[1;33m \u001b[0mdatos\u001b[0m \u001b[1;33m=\u001b[0m \u001b[0mrequests\u001b[0m\u001b[1;33m.\u001b[0m\u001b[0mget\u001b[0m\u001b[1;33m(\u001b[0m\u001b[0murl\u001b[0m\u001b[1;33m.\u001b[0m\u001b[0mformat\u001b[0m\u001b[1;33m(\u001b[0m\u001b[1;34m\"Madrid, Spain\"\u001b[0m\u001b[1;33m)\u001b[0m\u001b[1;33m)\u001b[0m\u001b[1;33m.\u001b[0m\u001b[0mjson\u001b[0m\u001b[1;33m(\u001b[0m\u001b[1;33m)\u001b[0m\u001b[1;33m\u001b[0m\u001b[1;33m\u001b[0m\u001b[0m\n\u001b[0m",
      "\u001b[1;32mc:\\users\\jorge\\appdata\\local\\programs\\python\\python37\\lib\\site-packages\\requests\\api.py\u001b[0m in \u001b[0;36mget\u001b[1;34m(url, params, **kwargs)\u001b[0m\n\u001b[0;32m     73\u001b[0m \u001b[1;33m\u001b[0m\u001b[0m\n\u001b[0;32m     74\u001b[0m     \u001b[0mkwargs\u001b[0m\u001b[1;33m.\u001b[0m\u001b[0msetdefault\u001b[0m\u001b[1;33m(\u001b[0m\u001b[1;34m'allow_redirects'\u001b[0m\u001b[1;33m,\u001b[0m \u001b[1;32mTrue\u001b[0m\u001b[1;33m)\u001b[0m\u001b[1;33m\u001b[0m\u001b[1;33m\u001b[0m\u001b[0m\n\u001b[1;32m---> 75\u001b[1;33m     \u001b[1;32mreturn\u001b[0m \u001b[0mrequest\u001b[0m\u001b[1;33m(\u001b[0m\u001b[1;34m'get'\u001b[0m\u001b[1;33m,\u001b[0m \u001b[0murl\u001b[0m\u001b[1;33m,\u001b[0m \u001b[0mparams\u001b[0m\u001b[1;33m=\u001b[0m\u001b[0mparams\u001b[0m\u001b[1;33m,\u001b[0m \u001b[1;33m**\u001b[0m\u001b[0mkwargs\u001b[0m\u001b[1;33m)\u001b[0m\u001b[1;33m\u001b[0m\u001b[1;33m\u001b[0m\u001b[0m\n\u001b[0m\u001b[0;32m     76\u001b[0m \u001b[1;33m\u001b[0m\u001b[0m\n\u001b[0;32m     77\u001b[0m \u001b[1;33m\u001b[0m\u001b[0m\n",
      "\u001b[1;32mc:\\users\\jorge\\appdata\\local\\programs\\python\\python37\\lib\\site-packages\\requests\\api.py\u001b[0m in \u001b[0;36mrequest\u001b[1;34m(method, url, **kwargs)\u001b[0m\n\u001b[0;32m     58\u001b[0m     \u001b[1;31m# cases, and look like a memory leak in others.\u001b[0m\u001b[1;33m\u001b[0m\u001b[1;33m\u001b[0m\u001b[1;33m\u001b[0m\u001b[0m\n\u001b[0;32m     59\u001b[0m     \u001b[1;32mwith\u001b[0m \u001b[0msessions\u001b[0m\u001b[1;33m.\u001b[0m\u001b[0mSession\u001b[0m\u001b[1;33m(\u001b[0m\u001b[1;33m)\u001b[0m \u001b[1;32mas\u001b[0m \u001b[0msession\u001b[0m\u001b[1;33m:\u001b[0m\u001b[1;33m\u001b[0m\u001b[1;33m\u001b[0m\u001b[0m\n\u001b[1;32m---> 60\u001b[1;33m         \u001b[1;32mreturn\u001b[0m \u001b[0msession\u001b[0m\u001b[1;33m.\u001b[0m\u001b[0mrequest\u001b[0m\u001b[1;33m(\u001b[0m\u001b[0mmethod\u001b[0m\u001b[1;33m=\u001b[0m\u001b[0mmethod\u001b[0m\u001b[1;33m,\u001b[0m \u001b[0murl\u001b[0m\u001b[1;33m=\u001b[0m\u001b[0murl\u001b[0m\u001b[1;33m,\u001b[0m \u001b[1;33m**\u001b[0m\u001b[0mkwargs\u001b[0m\u001b[1;33m)\u001b[0m\u001b[1;33m\u001b[0m\u001b[1;33m\u001b[0m\u001b[0m\n\u001b[0m\u001b[0;32m     61\u001b[0m \u001b[1;33m\u001b[0m\u001b[0m\n\u001b[0;32m     62\u001b[0m \u001b[1;33m\u001b[0m\u001b[0m\n",
      "\u001b[1;32mc:\\users\\jorge\\appdata\\local\\programs\\python\\python37\\lib\\site-packages\\requests\\sessions.py\u001b[0m in \u001b[0;36mrequest\u001b[1;34m(self, method, url, params, data, headers, cookies, files, auth, timeout, allow_redirects, proxies, hooks, stream, verify, cert, json)\u001b[0m\n\u001b[0;32m    531\u001b[0m         }\n\u001b[0;32m    532\u001b[0m         \u001b[0msend_kwargs\u001b[0m\u001b[1;33m.\u001b[0m\u001b[0mupdate\u001b[0m\u001b[1;33m(\u001b[0m\u001b[0msettings\u001b[0m\u001b[1;33m)\u001b[0m\u001b[1;33m\u001b[0m\u001b[1;33m\u001b[0m\u001b[0m\n\u001b[1;32m--> 533\u001b[1;33m         \u001b[0mresp\u001b[0m \u001b[1;33m=\u001b[0m \u001b[0mself\u001b[0m\u001b[1;33m.\u001b[0m\u001b[0msend\u001b[0m\u001b[1;33m(\u001b[0m\u001b[0mprep\u001b[0m\u001b[1;33m,\u001b[0m \u001b[1;33m**\u001b[0m\u001b[0msend_kwargs\u001b[0m\u001b[1;33m)\u001b[0m\u001b[1;33m\u001b[0m\u001b[1;33m\u001b[0m\u001b[0m\n\u001b[0m\u001b[0;32m    534\u001b[0m \u001b[1;33m\u001b[0m\u001b[0m\n\u001b[0;32m    535\u001b[0m         \u001b[1;32mreturn\u001b[0m \u001b[0mresp\u001b[0m\u001b[1;33m\u001b[0m\u001b[1;33m\u001b[0m\u001b[0m\n",
      "\u001b[1;32mc:\\users\\jorge\\appdata\\local\\programs\\python\\python37\\lib\\site-packages\\requests\\sessions.py\u001b[0m in \u001b[0;36msend\u001b[1;34m(self, request, **kwargs)\u001b[0m\n\u001b[0;32m    644\u001b[0m \u001b[1;33m\u001b[0m\u001b[0m\n\u001b[0;32m    645\u001b[0m         \u001b[1;31m# Send the request\u001b[0m\u001b[1;33m\u001b[0m\u001b[1;33m\u001b[0m\u001b[1;33m\u001b[0m\u001b[0m\n\u001b[1;32m--> 646\u001b[1;33m         \u001b[0mr\u001b[0m \u001b[1;33m=\u001b[0m \u001b[0madapter\u001b[0m\u001b[1;33m.\u001b[0m\u001b[0msend\u001b[0m\u001b[1;33m(\u001b[0m\u001b[0mrequest\u001b[0m\u001b[1;33m,\u001b[0m \u001b[1;33m**\u001b[0m\u001b[0mkwargs\u001b[0m\u001b[1;33m)\u001b[0m\u001b[1;33m\u001b[0m\u001b[1;33m\u001b[0m\u001b[0m\n\u001b[0m\u001b[0;32m    647\u001b[0m \u001b[1;33m\u001b[0m\u001b[0m\n\u001b[0;32m    648\u001b[0m         \u001b[1;31m# Total elapsed time of the request (approximately)\u001b[0m\u001b[1;33m\u001b[0m\u001b[1;33m\u001b[0m\u001b[1;33m\u001b[0m\u001b[0m\n",
      "\u001b[1;32mc:\\users\\jorge\\appdata\\local\\programs\\python\\python37\\lib\\site-packages\\requests\\adapters.py\u001b[0m in \u001b[0;36msend\u001b[1;34m(self, request, stream, timeout, verify, cert, proxies)\u001b[0m\n\u001b[0;32m    514\u001b[0m                 \u001b[1;32mraise\u001b[0m \u001b[0mSSLError\u001b[0m\u001b[1;33m(\u001b[0m\u001b[0me\u001b[0m\u001b[1;33m,\u001b[0m \u001b[0mrequest\u001b[0m\u001b[1;33m=\u001b[0m\u001b[0mrequest\u001b[0m\u001b[1;33m)\u001b[0m\u001b[1;33m\u001b[0m\u001b[1;33m\u001b[0m\u001b[0m\n\u001b[0;32m    515\u001b[0m \u001b[1;33m\u001b[0m\u001b[0m\n\u001b[1;32m--> 516\u001b[1;33m             \u001b[1;32mraise\u001b[0m \u001b[0mConnectionError\u001b[0m\u001b[1;33m(\u001b[0m\u001b[0me\u001b[0m\u001b[1;33m,\u001b[0m \u001b[0mrequest\u001b[0m\u001b[1;33m=\u001b[0m\u001b[0mrequest\u001b[0m\u001b[1;33m)\u001b[0m\u001b[1;33m\u001b[0m\u001b[1;33m\u001b[0m\u001b[0m\n\u001b[0m\u001b[0;32m    517\u001b[0m \u001b[1;33m\u001b[0m\u001b[0m\n\u001b[0;32m    518\u001b[0m         \u001b[1;32mexcept\u001b[0m \u001b[0mClosedPoolError\u001b[0m \u001b[1;32mas\u001b[0m \u001b[0me\u001b[0m\u001b[1;33m:\u001b[0m\u001b[1;33m\u001b[0m\u001b[1;33m\u001b[0m\u001b[0m\n",
      "\u001b[1;31mConnectionError\u001b[0m: HTTPSConnectionPool(host='query.yahooapis.com', port=443): Max retries exceeded with url: /v1/public/yql?q=select%20*%20from%20weather.forecast%20where%20woeid%20in%20(select%20woeid%20from%20geo.places(1)%20where%20text=%22Madrid,%20Spain%22)%20and%20u='c'&format=json%0A (Caused by NewConnectionError('<urllib3.connection.VerifiedHTTPSConnection object at 0x000002AFB0228278>: Failed to establish a new connection: [Errno 11001] getaddrinfo failed'))"
     ]
    }
   ],
   "source": [
    "datos = requests.get(url.format(\"Madrid, Spain\")).json()"
   ]
  },
  {
   "cell_type": "code",
   "execution_count": 44,
   "metadata": {},
   "outputs": [
    {
     "name": "stdout",
     "output_type": "stream",
     "text": [
      "{'error': 429, 'message': 'Too Many Requests'}\n"
     ]
    }
   ],
   "source": [
    "from pprint import pprint\n",
    "pprint(datos)"
   ]
  },
  {
   "cell_type": "code",
   "execution_count": 45,
   "metadata": {},
   "outputs": [
    {
     "ename": "ModuleNotFoundError",
     "evalue": "No module named 'glom'",
     "output_type": "error",
     "traceback": [
      "\u001b[1;31m---------------------------------------------------------------------------\u001b[0m",
      "\u001b[1;31mModuleNotFoundError\u001b[0m                       Traceback (most recent call last)",
      "\u001b[1;32m<ipython-input-45-35760982abd6>\u001b[0m in \u001b[0;36m<module>\u001b[1;34m\u001b[0m\n\u001b[1;32m----> 1\u001b[1;33m \u001b[1;32mfrom\u001b[0m \u001b[0mglom\u001b[0m \u001b[1;32mimport\u001b[0m \u001b[0mglom\u001b[0m\u001b[1;33m\u001b[0m\u001b[1;33m\u001b[0m\u001b[0m\n\u001b[0m\u001b[0;32m      2\u001b[0m temperaturas = glom(datos, {\n\u001b[0;32m      3\u001b[0m     \u001b[1;34m\"date\"\u001b[0m\u001b[1;33m:\u001b[0m \u001b[1;33m(\u001b[0m\u001b[1;34m'query.results.channel.item.forecast'\u001b[0m\u001b[1;33m,\u001b[0m \u001b[1;33m[\u001b[0m\u001b[1;34m'date'\u001b[0m\u001b[1;33m]\u001b[0m\u001b[1;33m)\u001b[0m\u001b[1;33m,\u001b[0m\u001b[1;33m\u001b[0m\u001b[1;33m\u001b[0m\u001b[0m\n\u001b[0;32m      4\u001b[0m     \u001b[1;34m\"high\"\u001b[0m\u001b[1;33m:\u001b[0m  \u001b[1;33m(\u001b[0m\u001b[1;34m'query.results.channel.item.forecast'\u001b[0m\u001b[1;33m,\u001b[0m \u001b[1;33m[\u001b[0m\u001b[1;34m'high'\u001b[0m\u001b[1;33m]\u001b[0m\u001b[1;33m)\u001b[0m\u001b[1;33m,\u001b[0m\u001b[1;33m\u001b[0m\u001b[1;33m\u001b[0m\u001b[0m\n\u001b[0;32m      5\u001b[0m     \u001b[1;34m\"low\"\u001b[0m\u001b[1;33m:\u001b[0m  \u001b[1;33m(\u001b[0m\u001b[1;34m'query.results.channel.item.forecast'\u001b[0m\u001b[1;33m,\u001b[0m \u001b[1;33m[\u001b[0m\u001b[1;34m'low'\u001b[0m\u001b[1;33m]\u001b[0m\u001b[1;33m)\u001b[0m\u001b[1;33m\u001b[0m\u001b[1;33m\u001b[0m\u001b[0m\n",
      "\u001b[1;31mModuleNotFoundError\u001b[0m: No module named 'glom'"
     ]
    }
   ],
   "source": [
    "from glom import glom\n",
    "temperaturas = glom(datos, {\n",
    "    \"date\": ('query.results.channel.item.forecast', ['date']),\n",
    "    \"high\":  ('query.results.channel.item.forecast', ['high']),\n",
    "    \"low\":  ('query.results.channel.item.forecast', ['low'])\n",
    "})"
   ]
  },
  {
   "cell_type": "code",
   "execution_count": 36,
   "metadata": {},
   "outputs": [
    {
     "data": {
      "text/plain": [
       "{'date': ['14 May 2018',\n",
       "  '15 May 2018',\n",
       "  '16 May 2018',\n",
       "  '17 May 2018',\n",
       "  '18 May 2018',\n",
       "  '19 May 2018',\n",
       "  '20 May 2018',\n",
       "  '21 May 2018',\n",
       "  '22 May 2018',\n",
       "  '23 May 2018'],\n",
       " 'high': ['19', '23', '25', '23', '22', '23', '26', '24', '22', '26'],\n",
       " 'low': ['10', '8', '9', '11', '12', '11', '11', '12', '12', '12']}"
      ]
     },
     "execution_count": 36,
     "metadata": {},
     "output_type": "execute_result"
    }
   ],
   "source": [
    "temperaturas"
   ]
  },
  {
   "cell_type": "code",
   "execution_count": 46,
   "metadata": {},
   "outputs": [],
   "source": [
    "import matplotlib.pyplot as plt\n",
    "%matplotlib inline\n",
    "import seaborn as sns\n",
    "\n",
    "plt.rcParams[\"figure.figsize\"] = (7, 7)"
   ]
  },
  {
   "cell_type": "code",
   "execution_count": 47,
   "metadata": {},
   "outputs": [],
   "source": [
    "plt.style.use(\"ggplot\")"
   ]
  },
  {
   "cell_type": "code",
   "execution_count": 48,
   "metadata": {},
   "outputs": [
    {
     "ename": "NameError",
     "evalue": "name 'temperaturas' is not defined",
     "output_type": "error",
     "traceback": [
      "\u001b[1;31m---------------------------------------------------------------------------\u001b[0m",
      "\u001b[1;31mNameError\u001b[0m                                 Traceback (most recent call last)",
      "\u001b[1;32m<ipython-input-48-e5ab0c0a6546>\u001b[0m in \u001b[0;36m<module>\u001b[1;34m\u001b[0m\n\u001b[1;32m----> 1\u001b[1;33m plt.plot(range(len(temperaturas[\"date\"])), temperaturas[\"high\"], \n\u001b[0m\u001b[0;32m      2\u001b[0m          label=\"Máxima\")\n\u001b[0;32m      3\u001b[0m \u001b[1;33m\u001b[0m\u001b[0m\n\u001b[0;32m      4\u001b[0m plt.plot(range(len(temperaturas[\"date\"])), temperaturas[\"low\"], \n\u001b[0;32m      5\u001b[0m          label=\"Mínima\")\n",
      "\u001b[1;31mNameError\u001b[0m: name 'temperaturas' is not defined"
     ]
    }
   ],
   "source": [
    "plt.plot(range(len(temperaturas[\"date\"])), temperaturas[\"high\"], \n",
    "         label=\"Máxima\")\n",
    "\n",
    "plt.plot(range(len(temperaturas[\"date\"])), temperaturas[\"low\"], \n",
    "         label=\"Mínima\")\n",
    "plt.xticks(range(len(temperaturas[\"date\"])), temperaturas[\"date\"],\n",
    "           rotation=45, ha=\"right\")\n",
    "plt.title(\"Pronóstico de temperatura para Madrid\");\n",
    "plt.legend();"
   ]
  },
  {
   "cell_type": "code",
   "execution_count": 49,
   "metadata": {},
   "outputs": [],
   "source": [
    "def dibujar_grafico_temperaturas(temperaturas, ciudad):\n",
    "    plt.plot(range(len(temperaturas[\"date\"])), temperaturas[\"high\"], \n",
    "         label=\"Máxima\")\n",
    "    plt.plot(range(len(temperaturas[\"date\"])), temperaturas[\"low\"], \n",
    "         label=\"Mínima\")\n",
    "    plt.xticks(range(len(temperaturas[\"date\"])), temperaturas[\"date\"],\n",
    "           rotation=45, ha=\"right\")\n",
    "    plt.legend()\n",
    "    plt.title(\"Pronóstico de temperatura para {}\".format(ciudad));\n",
    "    \n",
    "def obtener_temperaturas(ciudad):\n",
    "    datos = requests.get(url.format(ciudad)).json()\n",
    "    temperaturas = glom(datos, {\n",
    "        \"date\": ('query.results.channel.item.forecast', ['date']),\n",
    "        \"high\":  ('query.results.channel.item.forecast', ['high']),\n",
    "        \"low\":  ('query.results.channel.item.forecast', ['low'])\n",
    "    })\n",
    "    return temperaturas\n",
    "\n",
    "def grafico_temperaturas(ciudad):\n",
    "    temperaturas = obtener_temperaturas(ciudad)\n",
    "    dibujar_grafico_temperaturas(temperaturas, ciudad)"
   ]
  },
  {
   "cell_type": "code",
   "execution_count": 50,
   "metadata": {},
   "outputs": [
    {
     "ename": "ConnectionError",
     "evalue": "HTTPSConnectionPool(host='query.yahooapis.com', port=443): Max retries exceeded with url: /v1/public/yql?q=select%20*%20from%20weather.forecast%20where%20woeid%20in%20(select%20woeid%20from%20geo.places(1)%20where%20text=%22New%20York%20City%22)%20and%20u='c'&format=json%0A (Caused by NewConnectionError('<urllib3.connection.VerifiedHTTPSConnection object at 0x000002AFA6A57DD8>: Failed to establish a new connection: [Errno 11001] getaddrinfo failed'))",
     "output_type": "error",
     "traceback": [
      "\u001b[1;31m---------------------------------------------------------------------------\u001b[0m",
      "\u001b[1;31mgaierror\u001b[0m                                  Traceback (most recent call last)",
      "\u001b[1;32mc:\\users\\jorge\\appdata\\local\\programs\\python\\python37\\lib\\site-packages\\urllib3\\connection.py\u001b[0m in \u001b[0;36m_new_conn\u001b[1;34m(self)\u001b[0m\n\u001b[0;32m    158\u001b[0m             conn = connection.create_connection(\n\u001b[1;32m--> 159\u001b[1;33m                 (self._dns_host, self.port), self.timeout, **extra_kw)\n\u001b[0m\u001b[0;32m    160\u001b[0m \u001b[1;33m\u001b[0m\u001b[0m\n",
      "\u001b[1;32mc:\\users\\jorge\\appdata\\local\\programs\\python\\python37\\lib\\site-packages\\urllib3\\util\\connection.py\u001b[0m in \u001b[0;36mcreate_connection\u001b[1;34m(address, timeout, source_address, socket_options)\u001b[0m\n\u001b[0;32m     56\u001b[0m \u001b[1;33m\u001b[0m\u001b[0m\n\u001b[1;32m---> 57\u001b[1;33m     \u001b[1;32mfor\u001b[0m \u001b[0mres\u001b[0m \u001b[1;32min\u001b[0m \u001b[0msocket\u001b[0m\u001b[1;33m.\u001b[0m\u001b[0mgetaddrinfo\u001b[0m\u001b[1;33m(\u001b[0m\u001b[0mhost\u001b[0m\u001b[1;33m,\u001b[0m \u001b[0mport\u001b[0m\u001b[1;33m,\u001b[0m \u001b[0mfamily\u001b[0m\u001b[1;33m,\u001b[0m \u001b[0msocket\u001b[0m\u001b[1;33m.\u001b[0m\u001b[0mSOCK_STREAM\u001b[0m\u001b[1;33m)\u001b[0m\u001b[1;33m:\u001b[0m\u001b[1;33m\u001b[0m\u001b[1;33m\u001b[0m\u001b[0m\n\u001b[0m\u001b[0;32m     58\u001b[0m         \u001b[0maf\u001b[0m\u001b[1;33m,\u001b[0m \u001b[0msocktype\u001b[0m\u001b[1;33m,\u001b[0m \u001b[0mproto\u001b[0m\u001b[1;33m,\u001b[0m \u001b[0mcanonname\u001b[0m\u001b[1;33m,\u001b[0m \u001b[0msa\u001b[0m \u001b[1;33m=\u001b[0m \u001b[0mres\u001b[0m\u001b[1;33m\u001b[0m\u001b[1;33m\u001b[0m\u001b[0m\n",
      "\u001b[1;32mc:\\users\\jorge\\appdata\\local\\programs\\python\\python37\\lib\\socket.py\u001b[0m in \u001b[0;36mgetaddrinfo\u001b[1;34m(host, port, family, type, proto, flags)\u001b[0m\n\u001b[0;32m    747\u001b[0m     \u001b[0maddrlist\u001b[0m \u001b[1;33m=\u001b[0m \u001b[1;33m[\u001b[0m\u001b[1;33m]\u001b[0m\u001b[1;33m\u001b[0m\u001b[1;33m\u001b[0m\u001b[0m\n\u001b[1;32m--> 748\u001b[1;33m     \u001b[1;32mfor\u001b[0m \u001b[0mres\u001b[0m \u001b[1;32min\u001b[0m \u001b[0m_socket\u001b[0m\u001b[1;33m.\u001b[0m\u001b[0mgetaddrinfo\u001b[0m\u001b[1;33m(\u001b[0m\u001b[0mhost\u001b[0m\u001b[1;33m,\u001b[0m \u001b[0mport\u001b[0m\u001b[1;33m,\u001b[0m \u001b[0mfamily\u001b[0m\u001b[1;33m,\u001b[0m \u001b[0mtype\u001b[0m\u001b[1;33m,\u001b[0m \u001b[0mproto\u001b[0m\u001b[1;33m,\u001b[0m \u001b[0mflags\u001b[0m\u001b[1;33m)\u001b[0m\u001b[1;33m:\u001b[0m\u001b[1;33m\u001b[0m\u001b[1;33m\u001b[0m\u001b[0m\n\u001b[0m\u001b[0;32m    749\u001b[0m         \u001b[0maf\u001b[0m\u001b[1;33m,\u001b[0m \u001b[0msocktype\u001b[0m\u001b[1;33m,\u001b[0m \u001b[0mproto\u001b[0m\u001b[1;33m,\u001b[0m \u001b[0mcanonname\u001b[0m\u001b[1;33m,\u001b[0m \u001b[0msa\u001b[0m \u001b[1;33m=\u001b[0m \u001b[0mres\u001b[0m\u001b[1;33m\u001b[0m\u001b[1;33m\u001b[0m\u001b[0m\n",
      "\u001b[1;31mgaierror\u001b[0m: [Errno 11001] getaddrinfo failed",
      "\nDuring handling of the above exception, another exception occurred:\n",
      "\u001b[1;31mNewConnectionError\u001b[0m                        Traceback (most recent call last)",
      "\u001b[1;32mc:\\users\\jorge\\appdata\\local\\programs\\python\\python37\\lib\\site-packages\\urllib3\\connectionpool.py\u001b[0m in \u001b[0;36murlopen\u001b[1;34m(self, method, url, body, headers, retries, redirect, assert_same_host, timeout, pool_timeout, release_conn, chunked, body_pos, **response_kw)\u001b[0m\n\u001b[0;32m    599\u001b[0m                                                   \u001b[0mbody\u001b[0m\u001b[1;33m=\u001b[0m\u001b[0mbody\u001b[0m\u001b[1;33m,\u001b[0m \u001b[0mheaders\u001b[0m\u001b[1;33m=\u001b[0m\u001b[0mheaders\u001b[0m\u001b[1;33m,\u001b[0m\u001b[1;33m\u001b[0m\u001b[1;33m\u001b[0m\u001b[0m\n\u001b[1;32m--> 600\u001b[1;33m                                                   chunked=chunked)\n\u001b[0m\u001b[0;32m    601\u001b[0m \u001b[1;33m\u001b[0m\u001b[0m\n",
      "\u001b[1;32mc:\\users\\jorge\\appdata\\local\\programs\\python\\python37\\lib\\site-packages\\urllib3\\connectionpool.py\u001b[0m in \u001b[0;36m_make_request\u001b[1;34m(self, conn, method, url, timeout, chunked, **httplib_request_kw)\u001b[0m\n\u001b[0;32m    342\u001b[0m         \u001b[1;32mtry\u001b[0m\u001b[1;33m:\u001b[0m\u001b[1;33m\u001b[0m\u001b[1;33m\u001b[0m\u001b[0m\n\u001b[1;32m--> 343\u001b[1;33m             \u001b[0mself\u001b[0m\u001b[1;33m.\u001b[0m\u001b[0m_validate_conn\u001b[0m\u001b[1;33m(\u001b[0m\u001b[0mconn\u001b[0m\u001b[1;33m)\u001b[0m\u001b[1;33m\u001b[0m\u001b[1;33m\u001b[0m\u001b[0m\n\u001b[0m\u001b[0;32m    344\u001b[0m         \u001b[1;32mexcept\u001b[0m \u001b[1;33m(\u001b[0m\u001b[0mSocketTimeout\u001b[0m\u001b[1;33m,\u001b[0m \u001b[0mBaseSSLError\u001b[0m\u001b[1;33m)\u001b[0m \u001b[1;32mas\u001b[0m \u001b[0me\u001b[0m\u001b[1;33m:\u001b[0m\u001b[1;33m\u001b[0m\u001b[1;33m\u001b[0m\u001b[0m\n",
      "\u001b[1;32mc:\\users\\jorge\\appdata\\local\\programs\\python\\python37\\lib\\site-packages\\urllib3\\connectionpool.py\u001b[0m in \u001b[0;36m_validate_conn\u001b[1;34m(self, conn)\u001b[0m\n\u001b[0;32m    838\u001b[0m         \u001b[1;32mif\u001b[0m \u001b[1;32mnot\u001b[0m \u001b[0mgetattr\u001b[0m\u001b[1;33m(\u001b[0m\u001b[0mconn\u001b[0m\u001b[1;33m,\u001b[0m \u001b[1;34m'sock'\u001b[0m\u001b[1;33m,\u001b[0m \u001b[1;32mNone\u001b[0m\u001b[1;33m)\u001b[0m\u001b[1;33m:\u001b[0m  \u001b[1;31m# AppEngine might not have  `.sock`\u001b[0m\u001b[1;33m\u001b[0m\u001b[1;33m\u001b[0m\u001b[0m\n\u001b[1;32m--> 839\u001b[1;33m             \u001b[0mconn\u001b[0m\u001b[1;33m.\u001b[0m\u001b[0mconnect\u001b[0m\u001b[1;33m(\u001b[0m\u001b[1;33m)\u001b[0m\u001b[1;33m\u001b[0m\u001b[1;33m\u001b[0m\u001b[0m\n\u001b[0m\u001b[0;32m    840\u001b[0m \u001b[1;33m\u001b[0m\u001b[0m\n",
      "\u001b[1;32mc:\\users\\jorge\\appdata\\local\\programs\\python\\python37\\lib\\site-packages\\urllib3\\connection.py\u001b[0m in \u001b[0;36mconnect\u001b[1;34m(self)\u001b[0m\n\u001b[0;32m    300\u001b[0m         \u001b[1;31m# Add certificate verification\u001b[0m\u001b[1;33m\u001b[0m\u001b[1;33m\u001b[0m\u001b[1;33m\u001b[0m\u001b[0m\n\u001b[1;32m--> 301\u001b[1;33m         \u001b[0mconn\u001b[0m \u001b[1;33m=\u001b[0m \u001b[0mself\u001b[0m\u001b[1;33m.\u001b[0m\u001b[0m_new_conn\u001b[0m\u001b[1;33m(\u001b[0m\u001b[1;33m)\u001b[0m\u001b[1;33m\u001b[0m\u001b[1;33m\u001b[0m\u001b[0m\n\u001b[0m\u001b[0;32m    302\u001b[0m         \u001b[0mhostname\u001b[0m \u001b[1;33m=\u001b[0m \u001b[0mself\u001b[0m\u001b[1;33m.\u001b[0m\u001b[0mhost\u001b[0m\u001b[1;33m\u001b[0m\u001b[1;33m\u001b[0m\u001b[0m\n",
      "\u001b[1;32mc:\\users\\jorge\\appdata\\local\\programs\\python\\python37\\lib\\site-packages\\urllib3\\connection.py\u001b[0m in \u001b[0;36m_new_conn\u001b[1;34m(self)\u001b[0m\n\u001b[0;32m    167\u001b[0m             raise NewConnectionError(\n\u001b[1;32m--> 168\u001b[1;33m                 self, \"Failed to establish a new connection: %s\" % e)\n\u001b[0m\u001b[0;32m    169\u001b[0m \u001b[1;33m\u001b[0m\u001b[0m\n",
      "\u001b[1;31mNewConnectionError\u001b[0m: <urllib3.connection.VerifiedHTTPSConnection object at 0x000002AFA6A57DD8>: Failed to establish a new connection: [Errno 11001] getaddrinfo failed",
      "\nDuring handling of the above exception, another exception occurred:\n",
      "\u001b[1;31mMaxRetryError\u001b[0m                             Traceback (most recent call last)",
      "\u001b[1;32mc:\\users\\jorge\\appdata\\local\\programs\\python\\python37\\lib\\site-packages\\requests\\adapters.py\u001b[0m in \u001b[0;36msend\u001b[1;34m(self, request, stream, timeout, verify, cert, proxies)\u001b[0m\n\u001b[0;32m    448\u001b[0m                     \u001b[0mretries\u001b[0m\u001b[1;33m=\u001b[0m\u001b[0mself\u001b[0m\u001b[1;33m.\u001b[0m\u001b[0mmax_retries\u001b[0m\u001b[1;33m,\u001b[0m\u001b[1;33m\u001b[0m\u001b[1;33m\u001b[0m\u001b[0m\n\u001b[1;32m--> 449\u001b[1;33m                     \u001b[0mtimeout\u001b[0m\u001b[1;33m=\u001b[0m\u001b[0mtimeout\u001b[0m\u001b[1;33m\u001b[0m\u001b[1;33m\u001b[0m\u001b[0m\n\u001b[0m\u001b[0;32m    450\u001b[0m                 )\n",
      "\u001b[1;32mc:\\users\\jorge\\appdata\\local\\programs\\python\\python37\\lib\\site-packages\\urllib3\\connectionpool.py\u001b[0m in \u001b[0;36murlopen\u001b[1;34m(self, method, url, body, headers, retries, redirect, assert_same_host, timeout, pool_timeout, release_conn, chunked, body_pos, **response_kw)\u001b[0m\n\u001b[0;32m    637\u001b[0m             retries = retries.increment(method, url, error=e, _pool=self,\n\u001b[1;32m--> 638\u001b[1;33m                                         _stacktrace=sys.exc_info()[2])\n\u001b[0m\u001b[0;32m    639\u001b[0m             \u001b[0mretries\u001b[0m\u001b[1;33m.\u001b[0m\u001b[0msleep\u001b[0m\u001b[1;33m(\u001b[0m\u001b[1;33m)\u001b[0m\u001b[1;33m\u001b[0m\u001b[1;33m\u001b[0m\u001b[0m\n",
      "\u001b[1;32mc:\\users\\jorge\\appdata\\local\\programs\\python\\python37\\lib\\site-packages\\urllib3\\util\\retry.py\u001b[0m in \u001b[0;36mincrement\u001b[1;34m(self, method, url, response, error, _pool, _stacktrace)\u001b[0m\n\u001b[0;32m    397\u001b[0m         \u001b[1;32mif\u001b[0m \u001b[0mnew_retry\u001b[0m\u001b[1;33m.\u001b[0m\u001b[0mis_exhausted\u001b[0m\u001b[1;33m(\u001b[0m\u001b[1;33m)\u001b[0m\u001b[1;33m:\u001b[0m\u001b[1;33m\u001b[0m\u001b[1;33m\u001b[0m\u001b[0m\n\u001b[1;32m--> 398\u001b[1;33m             \u001b[1;32mraise\u001b[0m \u001b[0mMaxRetryError\u001b[0m\u001b[1;33m(\u001b[0m\u001b[0m_pool\u001b[0m\u001b[1;33m,\u001b[0m \u001b[0murl\u001b[0m\u001b[1;33m,\u001b[0m \u001b[0merror\u001b[0m \u001b[1;32mor\u001b[0m \u001b[0mResponseError\u001b[0m\u001b[1;33m(\u001b[0m\u001b[0mcause\u001b[0m\u001b[1;33m)\u001b[0m\u001b[1;33m)\u001b[0m\u001b[1;33m\u001b[0m\u001b[1;33m\u001b[0m\u001b[0m\n\u001b[0m\u001b[0;32m    399\u001b[0m \u001b[1;33m\u001b[0m\u001b[0m\n",
      "\u001b[1;31mMaxRetryError\u001b[0m: HTTPSConnectionPool(host='query.yahooapis.com', port=443): Max retries exceeded with url: /v1/public/yql?q=select%20*%20from%20weather.forecast%20where%20woeid%20in%20(select%20woeid%20from%20geo.places(1)%20where%20text=%22New%20York%20City%22)%20and%20u='c'&format=json%0A (Caused by NewConnectionError('<urllib3.connection.VerifiedHTTPSConnection object at 0x000002AFA6A57DD8>: Failed to establish a new connection: [Errno 11001] getaddrinfo failed'))",
      "\nDuring handling of the above exception, another exception occurred:\n",
      "\u001b[1;31mConnectionError\u001b[0m                           Traceback (most recent call last)",
      "\u001b[1;32m<ipython-input-50-a504028def32>\u001b[0m in \u001b[0;36m<module>\u001b[1;34m\u001b[0m\n\u001b[1;32m----> 1\u001b[1;33m \u001b[0mgrafico_temperaturas\u001b[0m\u001b[1;33m(\u001b[0m\u001b[1;34m\"New York City\"\u001b[0m\u001b[1;33m)\u001b[0m\u001b[1;33m\u001b[0m\u001b[1;33m\u001b[0m\u001b[0m\n\u001b[0m",
      "\u001b[1;32m<ipython-input-49-7c4b151b7c93>\u001b[0m in \u001b[0;36mgrafico_temperaturas\u001b[1;34m(ciudad)\u001b[0m\n\u001b[0;32m     19\u001b[0m \u001b[1;33m\u001b[0m\u001b[0m\n\u001b[0;32m     20\u001b[0m \u001b[1;32mdef\u001b[0m \u001b[0mgrafico_temperaturas\u001b[0m\u001b[1;33m(\u001b[0m\u001b[0mciudad\u001b[0m\u001b[1;33m)\u001b[0m\u001b[1;33m:\u001b[0m\u001b[1;33m\u001b[0m\u001b[1;33m\u001b[0m\u001b[0m\n\u001b[1;32m---> 21\u001b[1;33m     \u001b[0mtemperaturas\u001b[0m \u001b[1;33m=\u001b[0m \u001b[0mobtener_temperaturas\u001b[0m\u001b[1;33m(\u001b[0m\u001b[0mciudad\u001b[0m\u001b[1;33m)\u001b[0m\u001b[1;33m\u001b[0m\u001b[1;33m\u001b[0m\u001b[0m\n\u001b[0m\u001b[0;32m     22\u001b[0m     \u001b[0mdibujar_grafico_temperaturas\u001b[0m\u001b[1;33m(\u001b[0m\u001b[0mtemperaturas\u001b[0m\u001b[1;33m,\u001b[0m \u001b[0mciudad\u001b[0m\u001b[1;33m)\u001b[0m\u001b[1;33m\u001b[0m\u001b[1;33m\u001b[0m\u001b[0m\n",
      "\u001b[1;32m<ipython-input-49-7c4b151b7c93>\u001b[0m in \u001b[0;36mobtener_temperaturas\u001b[1;34m(ciudad)\u001b[0m\n\u001b[0;32m     10\u001b[0m \u001b[1;33m\u001b[0m\u001b[0m\n\u001b[0;32m     11\u001b[0m \u001b[1;32mdef\u001b[0m \u001b[0mobtener_temperaturas\u001b[0m\u001b[1;33m(\u001b[0m\u001b[0mciudad\u001b[0m\u001b[1;33m)\u001b[0m\u001b[1;33m:\u001b[0m\u001b[1;33m\u001b[0m\u001b[1;33m\u001b[0m\u001b[0m\n\u001b[1;32m---> 12\u001b[1;33m     \u001b[0mdatos\u001b[0m \u001b[1;33m=\u001b[0m \u001b[0mrequests\u001b[0m\u001b[1;33m.\u001b[0m\u001b[0mget\u001b[0m\u001b[1;33m(\u001b[0m\u001b[0murl\u001b[0m\u001b[1;33m.\u001b[0m\u001b[0mformat\u001b[0m\u001b[1;33m(\u001b[0m\u001b[0mciudad\u001b[0m\u001b[1;33m)\u001b[0m\u001b[1;33m)\u001b[0m\u001b[1;33m.\u001b[0m\u001b[0mjson\u001b[0m\u001b[1;33m(\u001b[0m\u001b[1;33m)\u001b[0m\u001b[1;33m\u001b[0m\u001b[1;33m\u001b[0m\u001b[0m\n\u001b[0m\u001b[0;32m     13\u001b[0m     temperaturas = glom(datos, {\n\u001b[0;32m     14\u001b[0m         \u001b[1;34m\"date\"\u001b[0m\u001b[1;33m:\u001b[0m \u001b[1;33m(\u001b[0m\u001b[1;34m'query.results.channel.item.forecast'\u001b[0m\u001b[1;33m,\u001b[0m \u001b[1;33m[\u001b[0m\u001b[1;34m'date'\u001b[0m\u001b[1;33m]\u001b[0m\u001b[1;33m)\u001b[0m\u001b[1;33m,\u001b[0m\u001b[1;33m\u001b[0m\u001b[1;33m\u001b[0m\u001b[0m\n",
      "\u001b[1;32mc:\\users\\jorge\\appdata\\local\\programs\\python\\python37\\lib\\site-packages\\requests\\api.py\u001b[0m in \u001b[0;36mget\u001b[1;34m(url, params, **kwargs)\u001b[0m\n\u001b[0;32m     73\u001b[0m \u001b[1;33m\u001b[0m\u001b[0m\n\u001b[0;32m     74\u001b[0m     \u001b[0mkwargs\u001b[0m\u001b[1;33m.\u001b[0m\u001b[0msetdefault\u001b[0m\u001b[1;33m(\u001b[0m\u001b[1;34m'allow_redirects'\u001b[0m\u001b[1;33m,\u001b[0m \u001b[1;32mTrue\u001b[0m\u001b[1;33m)\u001b[0m\u001b[1;33m\u001b[0m\u001b[1;33m\u001b[0m\u001b[0m\n\u001b[1;32m---> 75\u001b[1;33m     \u001b[1;32mreturn\u001b[0m \u001b[0mrequest\u001b[0m\u001b[1;33m(\u001b[0m\u001b[1;34m'get'\u001b[0m\u001b[1;33m,\u001b[0m \u001b[0murl\u001b[0m\u001b[1;33m,\u001b[0m \u001b[0mparams\u001b[0m\u001b[1;33m=\u001b[0m\u001b[0mparams\u001b[0m\u001b[1;33m,\u001b[0m \u001b[1;33m**\u001b[0m\u001b[0mkwargs\u001b[0m\u001b[1;33m)\u001b[0m\u001b[1;33m\u001b[0m\u001b[1;33m\u001b[0m\u001b[0m\n\u001b[0m\u001b[0;32m     76\u001b[0m \u001b[1;33m\u001b[0m\u001b[0m\n\u001b[0;32m     77\u001b[0m \u001b[1;33m\u001b[0m\u001b[0m\n",
      "\u001b[1;32mc:\\users\\jorge\\appdata\\local\\programs\\python\\python37\\lib\\site-packages\\requests\\api.py\u001b[0m in \u001b[0;36mrequest\u001b[1;34m(method, url, **kwargs)\u001b[0m\n\u001b[0;32m     58\u001b[0m     \u001b[1;31m# cases, and look like a memory leak in others.\u001b[0m\u001b[1;33m\u001b[0m\u001b[1;33m\u001b[0m\u001b[1;33m\u001b[0m\u001b[0m\n\u001b[0;32m     59\u001b[0m     \u001b[1;32mwith\u001b[0m \u001b[0msessions\u001b[0m\u001b[1;33m.\u001b[0m\u001b[0mSession\u001b[0m\u001b[1;33m(\u001b[0m\u001b[1;33m)\u001b[0m \u001b[1;32mas\u001b[0m \u001b[0msession\u001b[0m\u001b[1;33m:\u001b[0m\u001b[1;33m\u001b[0m\u001b[1;33m\u001b[0m\u001b[0m\n\u001b[1;32m---> 60\u001b[1;33m         \u001b[1;32mreturn\u001b[0m \u001b[0msession\u001b[0m\u001b[1;33m.\u001b[0m\u001b[0mrequest\u001b[0m\u001b[1;33m(\u001b[0m\u001b[0mmethod\u001b[0m\u001b[1;33m=\u001b[0m\u001b[0mmethod\u001b[0m\u001b[1;33m,\u001b[0m \u001b[0murl\u001b[0m\u001b[1;33m=\u001b[0m\u001b[0murl\u001b[0m\u001b[1;33m,\u001b[0m \u001b[1;33m**\u001b[0m\u001b[0mkwargs\u001b[0m\u001b[1;33m)\u001b[0m\u001b[1;33m\u001b[0m\u001b[1;33m\u001b[0m\u001b[0m\n\u001b[0m\u001b[0;32m     61\u001b[0m \u001b[1;33m\u001b[0m\u001b[0m\n\u001b[0;32m     62\u001b[0m \u001b[1;33m\u001b[0m\u001b[0m\n",
      "\u001b[1;32mc:\\users\\jorge\\appdata\\local\\programs\\python\\python37\\lib\\site-packages\\requests\\sessions.py\u001b[0m in \u001b[0;36mrequest\u001b[1;34m(self, method, url, params, data, headers, cookies, files, auth, timeout, allow_redirects, proxies, hooks, stream, verify, cert, json)\u001b[0m\n\u001b[0;32m    531\u001b[0m         }\n\u001b[0;32m    532\u001b[0m         \u001b[0msend_kwargs\u001b[0m\u001b[1;33m.\u001b[0m\u001b[0mupdate\u001b[0m\u001b[1;33m(\u001b[0m\u001b[0msettings\u001b[0m\u001b[1;33m)\u001b[0m\u001b[1;33m\u001b[0m\u001b[1;33m\u001b[0m\u001b[0m\n\u001b[1;32m--> 533\u001b[1;33m         \u001b[0mresp\u001b[0m \u001b[1;33m=\u001b[0m \u001b[0mself\u001b[0m\u001b[1;33m.\u001b[0m\u001b[0msend\u001b[0m\u001b[1;33m(\u001b[0m\u001b[0mprep\u001b[0m\u001b[1;33m,\u001b[0m \u001b[1;33m**\u001b[0m\u001b[0msend_kwargs\u001b[0m\u001b[1;33m)\u001b[0m\u001b[1;33m\u001b[0m\u001b[1;33m\u001b[0m\u001b[0m\n\u001b[0m\u001b[0;32m    534\u001b[0m \u001b[1;33m\u001b[0m\u001b[0m\n\u001b[0;32m    535\u001b[0m         \u001b[1;32mreturn\u001b[0m \u001b[0mresp\u001b[0m\u001b[1;33m\u001b[0m\u001b[1;33m\u001b[0m\u001b[0m\n",
      "\u001b[1;32mc:\\users\\jorge\\appdata\\local\\programs\\python\\python37\\lib\\site-packages\\requests\\sessions.py\u001b[0m in \u001b[0;36msend\u001b[1;34m(self, request, **kwargs)\u001b[0m\n\u001b[0;32m    644\u001b[0m \u001b[1;33m\u001b[0m\u001b[0m\n\u001b[0;32m    645\u001b[0m         \u001b[1;31m# Send the request\u001b[0m\u001b[1;33m\u001b[0m\u001b[1;33m\u001b[0m\u001b[1;33m\u001b[0m\u001b[0m\n\u001b[1;32m--> 646\u001b[1;33m         \u001b[0mr\u001b[0m \u001b[1;33m=\u001b[0m \u001b[0madapter\u001b[0m\u001b[1;33m.\u001b[0m\u001b[0msend\u001b[0m\u001b[1;33m(\u001b[0m\u001b[0mrequest\u001b[0m\u001b[1;33m,\u001b[0m \u001b[1;33m**\u001b[0m\u001b[0mkwargs\u001b[0m\u001b[1;33m)\u001b[0m\u001b[1;33m\u001b[0m\u001b[1;33m\u001b[0m\u001b[0m\n\u001b[0m\u001b[0;32m    647\u001b[0m \u001b[1;33m\u001b[0m\u001b[0m\n\u001b[0;32m    648\u001b[0m         \u001b[1;31m# Total elapsed time of the request (approximately)\u001b[0m\u001b[1;33m\u001b[0m\u001b[1;33m\u001b[0m\u001b[1;33m\u001b[0m\u001b[0m\n",
      "\u001b[1;32mc:\\users\\jorge\\appdata\\local\\programs\\python\\python37\\lib\\site-packages\\requests\\adapters.py\u001b[0m in \u001b[0;36msend\u001b[1;34m(self, request, stream, timeout, verify, cert, proxies)\u001b[0m\n\u001b[0;32m    514\u001b[0m                 \u001b[1;32mraise\u001b[0m \u001b[0mSSLError\u001b[0m\u001b[1;33m(\u001b[0m\u001b[0me\u001b[0m\u001b[1;33m,\u001b[0m \u001b[0mrequest\u001b[0m\u001b[1;33m=\u001b[0m\u001b[0mrequest\u001b[0m\u001b[1;33m)\u001b[0m\u001b[1;33m\u001b[0m\u001b[1;33m\u001b[0m\u001b[0m\n\u001b[0;32m    515\u001b[0m \u001b[1;33m\u001b[0m\u001b[0m\n\u001b[1;32m--> 516\u001b[1;33m             \u001b[1;32mraise\u001b[0m \u001b[0mConnectionError\u001b[0m\u001b[1;33m(\u001b[0m\u001b[0me\u001b[0m\u001b[1;33m,\u001b[0m \u001b[0mrequest\u001b[0m\u001b[1;33m=\u001b[0m\u001b[0mrequest\u001b[0m\u001b[1;33m)\u001b[0m\u001b[1;33m\u001b[0m\u001b[1;33m\u001b[0m\u001b[0m\n\u001b[0m\u001b[0;32m    517\u001b[0m \u001b[1;33m\u001b[0m\u001b[0m\n\u001b[0;32m    518\u001b[0m         \u001b[1;32mexcept\u001b[0m \u001b[0mClosedPoolError\u001b[0m \u001b[1;32mas\u001b[0m \u001b[0me\u001b[0m\u001b[1;33m:\u001b[0m\u001b[1;33m\u001b[0m\u001b[1;33m\u001b[0m\u001b[0m\n",
      "\u001b[1;31mConnectionError\u001b[0m: HTTPSConnectionPool(host='query.yahooapis.com', port=443): Max retries exceeded with url: /v1/public/yql?q=select%20*%20from%20weather.forecast%20where%20woeid%20in%20(select%20woeid%20from%20geo.places(1)%20where%20text=%22New%20York%20City%22)%20and%20u='c'&format=json%0A (Caused by NewConnectionError('<urllib3.connection.VerifiedHTTPSConnection object at 0x000002AFA6A57DD8>: Failed to establish a new connection: [Errno 11001] getaddrinfo failed'))"
     ]
    }
   ],
   "source": [
    "grafico_temperaturas(\"New York City\")"
   ]
  },
  {
   "cell_type": "code",
   "execution_count": null,
   "metadata": {},
   "outputs": [],
   "source": []
  }
 ],
 "metadata": {
  "kernelspec": {
   "display_name": "Python 3",
   "language": "python",
   "name": "python3"
  },
  "language_info": {
   "codemirror_mode": {
    "name": "ipython",
    "version": 3
   },
   "file_extension": ".py",
   "mimetype": "text/x-python",
   "name": "python",
   "nbconvert_exporter": "python",
   "pygments_lexer": "ipython3",
   "version": "3.7.3rc1"
  }
 },
 "nbformat": 4,
 "nbformat_minor": 2
}
