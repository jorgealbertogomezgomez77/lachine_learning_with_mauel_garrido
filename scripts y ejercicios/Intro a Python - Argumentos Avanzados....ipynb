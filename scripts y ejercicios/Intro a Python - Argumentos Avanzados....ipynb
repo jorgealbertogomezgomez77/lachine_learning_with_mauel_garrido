{
 "cells": [
  {
   "cell_type": "code",
   "execution_count": 2,
   "metadata": {},
   "outputs": [],
   "source": [
    "# -*- coding: utf-8 -*-"
   ]
  },
  {
   "cell_type": "code",
   "execution_count": 3,
   "metadata": {},
   "outputs": [
    {
     "data": {
      "text/plain": [
       "'\\nAquí se explica como añadir argumentos avanzados a los scripts \\n\\n@author: manugarri\\n'"
      ]
     },
     "execution_count": 3,
     "metadata": {},
     "output_type": "execute_result"
    }
   ],
   "source": [
    "\"\"\"\n",
    "Aquí se explica como añadir argumentos avanzados a los scripts \n",
    "\n",
    "@author: manugarri\n",
    "\"\"\""
   ]
  },
  {
   "cell_type": "code",
   "execution_count": 4,
   "metadata": {},
   "outputs": [
    {
     "ename": "ModuleNotFoundError",
     "evalue": "No module named 'modulo_importable'",
     "output_type": "error",
     "traceback": [
      "\u001b[1;31m---------------------------------------------------------------------------\u001b[0m",
      "\u001b[1;31mModuleNotFoundError\u001b[0m                       Traceback (most recent call last)",
      "\u001b[1;32m<ipython-input-4-f9e70782193d>\u001b[0m in \u001b[0;36m<module>\u001b[1;34m\u001b[0m\n\u001b[0;32m      1\u001b[0m \u001b[1;31m# los imports se añaden al principio en un script\u001b[0m\u001b[1;33m\u001b[0m\u001b[1;33m\u001b[0m\u001b[1;33m\u001b[0m\u001b[0m\n\u001b[0;32m      2\u001b[0m \u001b[1;32mimport\u001b[0m \u001b[0margparse\u001b[0m\u001b[1;33m\u001b[0m\u001b[1;33m\u001b[0m\u001b[0m\n\u001b[1;32m----> 3\u001b[1;33m \u001b[1;32mfrom\u001b[0m \u001b[0mmodulo_importable\u001b[0m \u001b[1;32mimport\u001b[0m \u001b[0msaludar_modulo\u001b[0m\u001b[1;33m,\u001b[0m \u001b[0mfelicitar_modulo\u001b[0m\u001b[1;33m\u001b[0m\u001b[1;33m\u001b[0m\u001b[0m\n\u001b[0m\u001b[0;32m      4\u001b[0m \u001b[1;33m\u001b[0m\u001b[0m\n\u001b[0;32m      5\u001b[0m \u001b[1;33m\u001b[0m\u001b[0m\n",
      "\u001b[1;31mModuleNotFoundError\u001b[0m: No module named 'modulo_importable'"
     ]
    }
   ],
   "source": [
    "# los imports se añaden al principio en un script\n",
    "import argparse\n",
    "from modulo_importable import saludar_modulo, felicitar_modulo\n",
    "\n",
    "\n",
    "def parsear_argumentos_avanzado():\n",
    "    parser = argparse.ArgumentParser(\n",
    "        description=\"Descripción del script\"\n",
    "    )\n",
    "\n",
    "    parser.add_argument(\"metodo\", help=\"\"\"\n",
    "                        Indica el metodo que se quiere usar.\n",
    "                        Valores válidos son saludar,felicitar\n",
    "                        \"\"\",  choices=[\"saludar\", \"felicitar\"]) \n",
    " \n",
    "    parser.add_argument(\"usuario\", help=\"\"\"\n",
    "                        Indica el usuario con quien se quiere interactuar.\n",
    "                        \"\"\")\n",
    " \n",
    "    parser.add_argument(\"--capitalizar\", help=\"Capitaliza el nombre del usuario\",\n",
    "                    action=\"store_true\")\n",
    "    argumentos = parser.parse_args()\n",
    "    return argumentos\n",
    "\n",
    "\n",
    "def main(argumentos):\n",
    "    \"\"\"\n",
    "    Aquí ponemos la funcionalidad principal de nuestro script\n",
    "    \"\"\"\n",
    "    nombre = argumentos.usuario\n",
    "    if argumentos.capitalizar:\n",
    "        nombre = nombre.capitalize()\n",
    "        print(nombre)\n",
    "    if argumentos.metodo == \"saludar\":\n",
    "        saludar_modulo(nombre)\n",
    "    elif argumentos.metodo == \"felicitar\":\n",
    "        felicitar_modulo(nombre)\n",
    "    \n",
    "if __name__ == \"__main__\":\n",
    "    # Este código solo se ejecutará si ejecutamos este script directamente\n",
    "    argumentos = parsear_argumentos_avanzado()\n",
    "    print(\"argumentos pasados al script: \", argumentos)\n",
    "    main(argumentos)"
   ]
  },
  {
   "cell_type": "code",
   "execution_count": null,
   "metadata": {},
   "outputs": [],
   "source": []
  }
 ],
 "metadata": {
  "kernelspec": {
   "display_name": "Python 3",
   "language": "python",
   "name": "python3"
  },
  "language_info": {
   "codemirror_mode": {
    "name": "ipython",
    "version": 3
   },
   "file_extension": ".py",
   "mimetype": "text/x-python",
   "name": "python",
   "nbconvert_exporter": "python",
   "pygments_lexer": "ipython3",
   "version": "3.7.3rc1"
  }
 },
 "nbformat": 4,
 "nbformat_minor": 2
}
