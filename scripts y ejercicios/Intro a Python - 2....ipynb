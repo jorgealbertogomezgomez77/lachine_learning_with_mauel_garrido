{
 "cells": [
  {
   "cell_type": "code",
   "execution_count": 1,
   "metadata": {},
   "outputs": [],
   "source": [
    "def return_suma(a, b):\n",
    "    resultado = a + b\n",
    "    return resultado"
   ]
  },
  {
   "cell_type": "code",
   "execution_count": 3,
   "metadata": {},
   "outputs": [
    {
     "data": {
      "text/plain": [
       "8.89"
      ]
     },
     "execution_count": 3,
     "metadata": {},
     "output_type": "execute_result"
    }
   ],
   "source": [
    "return_suma(3.89, 5)"
   ]
  },
  {
   "cell_type": "code",
   "execution_count": 4,
   "metadata": {},
   "outputs": [],
   "source": [
    "string_to_lower = lambda string: string.lower()"
   ]
  },
  {
   "cell_type": "code",
   "execution_count": 5,
   "metadata": {},
   "outputs": [
    {
     "data": {
      "text/plain": [
       "'villanito'"
      ]
     },
     "execution_count": 5,
     "metadata": {},
     "output_type": "execute_result"
    }
   ],
   "source": [
    "string_to_lower(\"VILLanITO\")"
   ]
  },
  {
   "cell_type": "code",
   "execution_count": 163,
   "metadata": {},
   "outputs": [],
   "source": [
    "def suma_o_resta(a, b, operacion):\n",
    "    if operacion == \"suma\":\n",
    "        suma = a + b\n",
    "        return print(\"El resultado de la {} es: {:.2f}\".format(\"suma\", suma))\n",
    "    elif operacion == \"resta\":\n",
    "        resta = a - b\n",
    "        return print(\"El resultado de la {} es: {:.2f}\".format(\"resta\", resta))\n",
    "    elif operacion == \"multipicación\":\n",
    "        mult = a * b\n",
    "        return print(\"El resultado de la {} es: {:.2f}\".format(\"multipicación\", mult))\n",
    "    elif operacion == \"divición\":\n",
    "        div = a / b\n",
    "        return print(\"El resultado de la {} es: {:.2f}\".format(\"divición\", div))\n",
    "    elif operacion == \"exponenciación\":\n",
    "        exp = a ** b\n",
    "        return print(\"El resultado de la {} es: {:.2f}\".format(\"exponenciación\", exp))\n",
    "    elif operacion == \"resto\":\n",
    "        exp = a % b\n",
    "        return print(\"El resultado del {} es: {:.2f}\".format(\"resto\", exp))\n",
    "    else:\n",
    "        raise Exception(\"Solo son admitidos 6 operaciones (resta, suma, multipicación, divición, exponenciación, resto)\")\n",
    "        #print(\"Introduzca una operación válida (resta, suma, multipicación, divición, exponenciación, resto).\")"
   ]
  },
  {
   "cell_type": "code",
   "execution_count": 165,
   "metadata": {},
   "outputs": [
    {
     "name": "stdout",
     "output_type": "stream",
     "text": [
      "El resultado de la divición es: 12.50\n"
     ]
    }
   ],
   "source": [
    "suma_o_resta(150, 12, \"divición\")"
   ]
  },
  {
   "cell_type": "code",
   "execution_count": 64,
   "metadata": {},
   "outputs": [],
   "source": [
    "def reverse():\n",
    "    frase = input(\"Escriba la frase que quiere invertir: \\n\")\n",
    "    frase_reverse = \"\"\n",
    "    palabras = frase.split(\" \")\n",
    "    for palabra in palabras[::-1]:\n",
    "        frase_reverse += palabra\n",
    "        frase_reverse += \" \"\n",
    "    return frase_reverse"
   ]
  },
  {
   "cell_type": "code",
   "execution_count": 66,
   "metadata": {},
   "outputs": [
    {
     "name": "stdout",
     "output_type": "stream",
     "text": [
      "Escriba la frase que quiere invertir: \n",
      "yo soy el animal de boston\n"
     ]
    },
    {
     "data": {
      "text/plain": [
       "'boston de animal el soy yo '"
      ]
     },
     "execution_count": 66,
     "metadata": {},
     "output_type": "execute_result"
    }
   ],
   "source": [
    "reverse()"
   ]
  },
  {
   "cell_type": "code",
   "execution_count": 166,
   "metadata": {},
   "outputs": [],
   "source": [
    "def invertir_palabra_mejorado(frase):\n",
    "    palabras = frase.split(\" \")\n",
    "    return \" \".join(palabras[::-1])"
   ]
  },
  {
   "cell_type": "code",
   "execution_count": 167,
   "metadata": {},
   "outputs": [
    {
     "data": {
      "text/plain": [
       "'sevilla en lluvia la'"
      ]
     },
     "execution_count": 167,
     "metadata": {},
     "output_type": "execute_result"
    }
   ],
   "source": [
    "invertir_palabra_mejorado(\"la lluvia en sevilla\")"
   ]
  },
  {
   "cell_type": "code",
   "execution_count": 98,
   "metadata": {},
   "outputs": [],
   "source": [
    "def palindrome():\n",
    "    frase = input(\"Escriba la frase o palabra que quiere comprobar si es palindrome o no: \\n\")\n",
    "    print(frase)\n",
    "    frase_reverse = \"\"\n",
    "    for palabra in frase[::-1]:\n",
    "        frase_reverse += palabra\n",
    "    #frase_reverse_new = frase_reverse[: len(frase_reverse) - 1]\n",
    "    print(frase_reverse)\n",
    "    if frase_reverse == frase:\n",
    "        return print(\"La frase es palíndrome\")\n",
    "    return print(\"La frase no es palíndrome\")\n",
    "    "
   ]
  },
  {
   "cell_type": "code",
   "execution_count": 99,
   "metadata": {},
   "outputs": [
    {
     "name": "stdout",
     "output_type": "stream",
     "text": [
      "Escriba la frase o palabra que quiere comprobar si es palindrome o no: \n",
      "yo soy el le yos oyyo soy el le yos oy\n",
      "yo soy el le yos oyyo soy el le yos oy\n",
      "yo soy el le yos oyyo soy el le yos oy\n",
      "La frase es palíndrome\n"
     ]
    }
   ],
   "source": [
    "palindrome()"
   ]
  },
  {
   "cell_type": "code",
   "execution_count": 170,
   "metadata": {},
   "outputs": [],
   "source": [
    "def es_palindrome(frase):\n",
    "    frase_invertida = frase[::-1]\n",
    "    for i in range(len(frase_invertida)):\n",
    "        if frase[i] != frase_invertida[i]:\n",
    "            return False\n",
    "    return True"
   ]
  },
  {
   "cell_type": "code",
   "execution_count": 175,
   "metadata": {},
   "outputs": [
    {
     "data": {
      "text/plain": [
       "True"
      ]
     },
     "execution_count": 175,
     "metadata": {},
     "output_type": "execute_result"
    }
   ],
   "source": [
    "es_palindrome(\"dabalearrozalazorraelabad\")"
   ]
  },
  {
   "cell_type": "code",
   "execution_count": 154,
   "metadata": {},
   "outputs": [
    {
     "data": {
      "text/plain": [
       "['a', 'b', 'c', 1, 2, 3]"
      ]
     },
     "execution_count": 154,
     "metadata": {},
     "output_type": "execute_result"
    }
   ],
   "source": [
    "def flattener(lst):\n",
    "    return [item for sublist in lst for item in sublist]\n",
    "\n",
    "lista_anidada = [['a', 'b', 'c'], [1, 2, 3]]\n",
    "flattener(lista_anidada)\n"
   ]
  },
  {
   "cell_type": "code",
   "execution_count": 152,
   "metadata": {},
   "outputs": [],
   "source": [
    "def aplanar_lista(lista):\n",
    "    list_new = []\n",
    "    for sublist in lista:\n",
    "        for item in sublist:\n",
    "            list_new.append(item)\n",
    "    return list_new"
   ]
  },
  {
   "cell_type": "code",
   "execution_count": 153,
   "metadata": {},
   "outputs": [
    {
     "data": {
      "text/plain": [
       "[1, 2, 3, 4, 5, 6, 7, 12]"
      ]
     },
     "execution_count": 153,
     "metadata": {},
     "output_type": "execute_result"
    }
   ],
   "source": [
    "lista = [[1, 2, 3, 4], [5, 6, 7, 12]]\n",
    "aplanar_lista(lista)"
   ]
  },
  {
   "cell_type": "code",
   "execution_count": 178,
   "metadata": {},
   "outputs": [],
   "source": [
    "def simplificar_lista(lista_nesteada):\n",
    "    lista_simple = []\n",
    "    for lista_interna in lista_nesteada:\n",
    "        for elemento in lista_interna:\n",
    "            lista_simple.append(elemento)\n",
    "    return lista_simple"
   ]
  },
  {
   "cell_type": "code",
   "execution_count": 179,
   "metadata": {},
   "outputs": [
    {
     "data": {
      "text/plain": [
       "[1, 2, 3, 4, 5, 6, 7, 8, 9]"
      ]
     },
     "execution_count": 179,
     "metadata": {},
     "output_type": "execute_result"
    }
   ],
   "source": [
    "lista_nesteada = [[1, 2, 3], [4, 5, 6, 7], [8, 9]]\n",
    "simplificar_lista(lista_nesteada)"
   ]
  },
  {
   "cell_type": "code",
   "execution_count": null,
   "metadata": {},
   "outputs": [],
   "source": []
  }
 ],
 "metadata": {
  "kernelspec": {
   "display_name": "Python 3",
   "language": "python",
   "name": "python3"
  },
  "language_info": {
   "codemirror_mode": {
    "name": "ipython",
    "version": 3
   },
   "file_extension": ".py",
   "mimetype": "text/x-python",
   "name": "python",
   "nbconvert_exporter": "python",
   "pygments_lexer": "ipython3",
   "version": "3.7.3rc1"
  }
 },
 "nbformat": 4,
 "nbformat_minor": 2
}
