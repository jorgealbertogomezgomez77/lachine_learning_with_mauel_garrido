{
 "cells": [
  {
   "cell_type": "code",
   "execution_count": 1,
   "metadata": {},
   "outputs": [],
   "source": [
    "import argparse"
   ]
  },
  {
   "cell_type": "code",
   "execution_count": 2,
   "metadata": {},
   "outputs": [],
   "source": [
    "def parsear_argumentos_avanzados():\n",
    "    parser = argparse.ArgumentParser(\n",
    "        description = \"\"\"Este script calcula el número de años desde 2002 que el nombre indicadofue de\n",
    "                      los más populares en España.\"\"\"\n",
    "    )\n",
    "    parser.add_argument(\"nombre\", help = \"\"\"\n",
    "                        Nombre que queremos analizar.\"\"\"\n",
    "                       )\n",
    "    argumentos = parser.parse_args()\n",
    "    return argumentos"
   ]
  },
  {
   "cell_type": "code",
   "execution_count": 3,
   "metadata": {},
   "outputs": [],
   "source": [
    "def cargar_archivo(year):\n",
    "    with open(\"D:/datasets/Curso_Mauel_Garrido/data_babys/nomnac{}.csv\".format(year)) as fname:\n",
    "        lineas = fname.readlines()\n",
    "    nombres_masculinos = []\n",
    "    nombres_femeninos = []\n",
    "    for linea_nombres in lineas:\n",
    "        nombres = linea_nombres.strip(\"\\n\").split(\",\")\n",
    "        assert len(nombres) == 2\n",
    "        nombres_masculinos.append(nombres[0])\n",
    "        nombres_femeninos.append(nombres[1])\n",
    "    return nombres_masculinos + nombres_femeninos"
   ]
  },
  {
   "cell_type": "code",
   "execution_count": 5,
   "metadata": {},
   "outputs": [],
   "source": [
    "def calcular_popularidad_por_nombre(nombre_busqueda):\n",
    "    years_nombre = 0\n",
    "    for year in  [\"02\", \"03\", \"04\", \"05\", \"06\", \"07\", \"08\", \"09\", \"10\", \"11\", \"12\", \"13\", \"14\", \"15\", \"16\"]:\n",
    "        nombres_year = cargar_archivo(year)\n",
    "        if nombre_busqueda in nombres_year:\n",
    "            years_nombre += 1\n",
    "    return years_nombre"
   ]
  },
  {
   "cell_type": "code",
   "execution_count": 6,
   "metadata": {},
   "outputs": [],
   "source": [
    "def main(argumentos):\n",
    "    \"\"\"\n",
    "    Aquí ponemos la funcionalidad principal de nuestro script.\n",
    "    \"\"\"\n",
    "    nombre = argumentos.nombre.upper()\n",
    "    years_nombres = calcular_popularidad_por_nombre(nombre)\n",
    "    print(\"El nombre {} está entre los mas populares en {} años\".format(nombre, years_nombres))"
   ]
  },
  {
   "cell_type": "code",
   "execution_count": 16,
   "metadata": {},
   "outputs": [
    {
     "name": "stderr",
     "output_type": "stream",
     "text": [
      "usage: ipykernel_launcher.py [-h] nombre\n",
      "ipykernel_launcher.py: error: unrecognized arguments: -f\n"
     ]
    },
    {
     "ename": "SystemExit",
     "evalue": "2",
     "output_type": "error",
     "traceback": [
      "An exception has occurred, use %tb to see the full traceback.\n",
      "\u001b[1;31mSystemExit\u001b[0m\u001b[1;31m:\u001b[0m 2\n"
     ]
    },
    {
     "name": "stderr",
     "output_type": "stream",
     "text": [
      "c:\\users\\jorge\\appdata\\local\\programs\\python\\python37\\lib\\site-packages\\IPython\\core\\interactiveshell.py:3299: UserWarning: To exit: use 'exit', 'quit', or Ctrl-D.\n",
      "  warn(\"To exit: use 'exit', 'quit', or Ctrl-D.\", stacklevel=1)\n"
     ]
    }
   ],
   "source": [
    "if __name__ == \"__main__\":\n",
    "    # Este código solo se ejecutará si ejecutamos este script directamente.\n",
    "    argumentos = parsear_argumentos_avanzados()\n",
    "    main(argumentos)"
   ]
  },
  {
   "cell_type": "code",
   "execution_count": 13,
   "metadata": {},
   "outputs": [
    {
     "ename": "AttributeError",
     "evalue": "'str' object has no attribute 'nombre'",
     "output_type": "error",
     "traceback": [
      "\u001b[1;31m---------------------------------------------------------------------------\u001b[0m",
      "\u001b[1;31mAttributeError\u001b[0m                            Traceback (most recent call last)",
      "\u001b[1;32m<ipython-input-13-49ae8d0be4de>\u001b[0m in \u001b[0;36m<module>\u001b[1;34m\u001b[0m\n\u001b[1;32m----> 1\u001b[1;33m \u001b[0mmain\u001b[0m\u001b[1;33m(\u001b[0m\u001b[1;34m\"jorge\"\u001b[0m\u001b[1;33m)\u001b[0m\u001b[1;33m\u001b[0m\u001b[1;33m\u001b[0m\u001b[0m\n\u001b[0m",
      "\u001b[1;32m<ipython-input-6-1550e309a274>\u001b[0m in \u001b[0;36mmain\u001b[1;34m(argumentos)\u001b[0m\n\u001b[0;32m      3\u001b[0m     \u001b[0mAquí\u001b[0m \u001b[0mponemos\u001b[0m \u001b[0mla\u001b[0m \u001b[0mfuncionalidad\u001b[0m \u001b[0mprincipal\u001b[0m \u001b[0mde\u001b[0m \u001b[0mnuestro\u001b[0m \u001b[0mscript\u001b[0m\u001b[1;33m.\u001b[0m\u001b[1;33m\u001b[0m\u001b[1;33m\u001b[0m\u001b[0m\n\u001b[0;32m      4\u001b[0m     \"\"\"\n\u001b[1;32m----> 5\u001b[1;33m     \u001b[0mnombre\u001b[0m \u001b[1;33m=\u001b[0m \u001b[0margumentos\u001b[0m\u001b[1;33m.\u001b[0m\u001b[0mnombre\u001b[0m\u001b[1;33m.\u001b[0m\u001b[0mupper\u001b[0m\u001b[1;33m(\u001b[0m\u001b[1;33m)\u001b[0m\u001b[1;33m\u001b[0m\u001b[1;33m\u001b[0m\u001b[0m\n\u001b[0m\u001b[0;32m      6\u001b[0m     \u001b[0myears_nombres\u001b[0m \u001b[1;33m=\u001b[0m \u001b[0mcalcular_popularidad_por_nombre\u001b[0m\u001b[1;33m(\u001b[0m\u001b[0mnombre\u001b[0m\u001b[1;33m)\u001b[0m\u001b[1;33m\u001b[0m\u001b[1;33m\u001b[0m\u001b[0m\n\u001b[0;32m      7\u001b[0m     \u001b[0mprint\u001b[0m\u001b[1;33m(\u001b[0m\u001b[1;34m\"El nombre {} está entre los mas populares en {} años\"\u001b[0m\u001b[1;33m.\u001b[0m\u001b[0mformat\u001b[0m\u001b[1;33m(\u001b[0m\u001b[0mnombre\u001b[0m\u001b[1;33m,\u001b[0m \u001b[0myears_nombres\u001b[0m\u001b[1;33m)\u001b[0m\u001b[1;33m)\u001b[0m\u001b[1;33m\u001b[0m\u001b[1;33m\u001b[0m\u001b[0m\n",
      "\u001b[1;31mAttributeError\u001b[0m: 'str' object has no attribute 'nombre'"
     ]
    }
   ],
   "source": [
    "main(\"jorge\")"
   ]
  },
  {
   "cell_type": "code",
   "execution_count": null,
   "metadata": {},
   "outputs": [],
   "source": []
  }
 ],
 "metadata": {
  "kernelspec": {
   "display_name": "Python 3",
   "language": "python",
   "name": "python3"
  },
  "language_info": {
   "codemirror_mode": {
    "name": "ipython",
    "version": 3
   },
   "file_extension": ".py",
   "mimetype": "text/x-python",
   "name": "python",
   "nbconvert_exporter": "python",
   "pygments_lexer": "ipython3",
   "version": "3.7.3rc1"
  }
 },
 "nbformat": 4,
 "nbformat_minor": 2
}
