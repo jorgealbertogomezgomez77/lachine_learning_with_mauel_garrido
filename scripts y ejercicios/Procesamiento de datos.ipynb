{
 "cells": [
  {
   "cell_type": "code",
   "execution_count": 1,
   "metadata": {},
   "outputs": [
    {
     "name": "stdout",
     "output_type": "stream",
     "text": [
      "2019-04-04T03:28:45-06:00\n",
      "\n",
      "CPython 3.7.3rc1\n",
      "IPython 7.3.0\n",
      "\n",
      "compiler   : MSC v.1916 64 bit (AMD64)\n",
      "system     : Windows\n",
      "release    : 10\n",
      "machine    : AMD64\n",
      "processor  : Intel64 Family 6 Model 142 Stepping 9, GenuineIntel\n",
      "CPU cores  : 4\n",
      "interpreter: 64bit\n"
     ]
    }
   ],
   "source": [
    "%load_ext watermark\n",
    "%watermark"
   ]
  },
  {
   "cell_type": "markdown",
   "metadata": {},
   "source": [
    "En esta sección vamos a ver diversas formas para procesar un dataset. Por procesamiento (tambien llamado limpieza) nos referimos a preparar el dataset para la creación de modelos predictivos."
   ]
  },
  {
   "cell_type": "markdown",
   "metadata": {},
   "source": [
    "#### Descripción\n",
    "\n",
    "Vamos a usar el mismo dataset que usamos para el ejemplo de Análisis Exploratorio de Datos.\n",
    "\n",
    "El dataset consiste en información relativa a vehículos vendidos en USA desde 1985. Dicha información incluye detalles técnicos (cilindrada, tipo de transmisión) y detalles medioambientales (consumo de gasolina, emisiones de CO2)\n",
    "\n",
    "El archivo original está en: https://www.fueleconomy.gov/feg/epadata/vehicles.csv.zip\n",
    "El archivo que vamos a usar es una versión modificada (con menos columnas)\n",
    "\n",
    "Descripcion del dataset Original\n",
    "http://www.fueleconomy.gov/feg/ws/index.shtml#ft7\n",
    "\n",
    "En la sección de análisis de datos, detectamos los siguientes errores en el dataset original\n",
    "\n",
    "- Hay 1506 records duplicados\n",
    "- Las variables desplazamiento, cilindros, transmision y traccion tienen valores inexistentes\n",
    "- hay un outlier en las variables `co2` y `consumo`\n",
    "- Hay coches hibridos y coches electricos (hemos removido estos ultimos ya que no contaminan).\n",
    "- Ninguna variable numérica sigue una distribución normal"
   ]
  },
  {
   "cell_type": "code",
   "execution_count": 30,
   "metadata": {},
   "outputs": [],
   "source": [
    "import pandas as pd\n",
    "import matplotlib.pyplot as plt\n",
    "%matplotlib inline\n",
    "plt.rcParams[\"figure.figsize\"] = (12, 8)"
   ]
  },
  {
   "cell_type": "code",
   "execution_count": 3,
   "metadata": {},
   "outputs": [],
   "source": [
    "vehiculos = (pd\n",
    "             .read_csv(\"D:/datasets/Curso_Mauel_Garrido/vehiculos/vehiculos-original.csv\")\n",
    "             .rename(columns = {\n",
    "                \"cylinders\":\"cilindros\",\n",
    "                \"trany\":\"transmision\",\n",
    "                \"make\":\"fabricante\",\n",
    "                \"model\":\"modelo\",\n",
    "                \"displ\":\"desplazamiento\", #volumen de desplazamiento del motor\n",
    "                \"drive\":\"traccion\",\n",
    "                \"VClass\":\"clase\",\n",
    "                \"fuelType\":\"combustible\",\n",
    "                \"comb08\":\"consumo\", #combined MPG for fuelType1\n",
    "                \"co2TailpipeGpm\":\"co2\", # tailpipe CO2 in grams/mile\n",
    "            })\n",
    "            .query(\"co2>0\")\n",
    ")"
   ]
  },
  {
   "cell_type": "code",
   "execution_count": 4,
   "metadata": {},
   "outputs": [
    {
     "data": {
      "text/plain": [
       "(38297, 11)"
      ]
     },
     "execution_count": 4,
     "metadata": {},
     "output_type": "execute_result"
    }
   ],
   "source": [
    "vehiculos.shape"
   ]
  },
  {
   "cell_type": "markdown",
   "metadata": {},
   "source": [
    "### Records duplicados"
   ]
  },
  {
   "cell_type": "markdown",
   "metadata": {},
   "source": [
    "Usamos la función de pandas `drop_duplicates` para remover los records duplicados"
   ]
  },
  {
   "cell_type": "code",
   "execution_count": 5,
   "metadata": {},
   "outputs": [],
   "source": [
    "vehiculos = vehiculos.drop_duplicates()"
   ]
  },
  {
   "cell_type": "code",
   "execution_count": 6,
   "metadata": {},
   "outputs": [
    {
     "data": {
      "text/plain": [
       "(36791, 11)"
      ]
     },
     "execution_count": 6,
     "metadata": {},
     "output_type": "execute_result"
    }
   ],
   "source": [
    "vehiculos.shape"
   ]
  },
  {
   "cell_type": "markdown",
   "metadata": {},
   "source": [
    "### Valores Extremos (outliers)"
   ]
  },
  {
   "cell_type": "code",
   "execution_count": 9,
   "metadata": {},
   "outputs": [
    {
     "name": "stdout",
     "output_type": "stream",
     "text": [
      "year | 0 | int64\n",
      "desplazamiento | 0 | float64\n",
      "cilindros | 0 | float64\n",
      "consumo | 400 | int64\n",
      "co2 | 221 | float64\n"
     ]
    },
    {
     "name": "stderr",
     "output_type": "stream",
     "text": [
      "c:\\users\\jorge\\appdata\\local\\programs\\python\\python37\\lib\\site-packages\\ipykernel_launcher.py:7: RuntimeWarning: invalid value encountered in greater\n",
      "  import sys\n"
     ]
    }
   ],
   "source": [
    "from scipy import stats\n",
    "import numpy as np\n",
    "\n",
    "def outliers_col(df):\n",
    "    for columna in df:\n",
    "        if df[columna].dtype != np.object:\n",
    "            n_outliers = len(df[np.abs(stats.zscore(df[columna])) > 3])    \n",
    "            print(\"{} | {} | {}\".format(\n",
    "                df[columna].name,\n",
    "                n_outliers,\n",
    "                df[columna].dtype\n",
    "        ))\n",
    "\n",
    "outliers_col(vehiculos)"
   ]
  },
  {
   "cell_type": "code",
   "execution_count": 10,
   "metadata": {},
   "outputs": [
    {
     "data": {
      "text/html": [
       "<div>\n",
       "<style scoped>\n",
       "    .dataframe tbody tr th:only-of-type {\n",
       "        vertical-align: middle;\n",
       "    }\n",
       "\n",
       "    .dataframe tbody tr th {\n",
       "        vertical-align: top;\n",
       "    }\n",
       "\n",
       "    .dataframe thead th {\n",
       "        text-align: right;\n",
       "    }\n",
       "</style>\n",
       "<table border=\"1\" class=\"dataframe\">\n",
       "  <thead>\n",
       "    <tr style=\"text-align: right;\">\n",
       "      <th></th>\n",
       "      <th>year</th>\n",
       "      <th>desplazamiento</th>\n",
       "      <th>cilindros</th>\n",
       "      <th>consumo</th>\n",
       "      <th>co2</th>\n",
       "    </tr>\n",
       "  </thead>\n",
       "  <tbody>\n",
       "    <tr>\n",
       "      <th>count</th>\n",
       "      <td>36791.000000</td>\n",
       "      <td>36789.000000</td>\n",
       "      <td>36788.000000</td>\n",
       "      <td>36791.000000</td>\n",
       "      <td>36791.000000</td>\n",
       "    </tr>\n",
       "    <tr>\n",
       "      <th>mean</th>\n",
       "      <td>2000.787421</td>\n",
       "      <td>3.321786</td>\n",
       "      <td>5.746493</td>\n",
       "      <td>20.012068</td>\n",
       "      <td>473.185008</td>\n",
       "    </tr>\n",
       "    <tr>\n",
       "      <th>std</th>\n",
       "      <td>10.374662</td>\n",
       "      <td>1.359945</td>\n",
       "      <td>1.758009</td>\n",
       "      <td>5.109608</td>\n",
       "      <td>118.833905</td>\n",
       "    </tr>\n",
       "    <tr>\n",
       "      <th>min</th>\n",
       "      <td>1984.000000</td>\n",
       "      <td>0.600000</td>\n",
       "      <td>2.000000</td>\n",
       "      <td>7.000000</td>\n",
       "      <td>29.000000</td>\n",
       "    </tr>\n",
       "    <tr>\n",
       "      <th>25%</th>\n",
       "      <td>1991.000000</td>\n",
       "      <td>2.200000</td>\n",
       "      <td>4.000000</td>\n",
       "      <td>17.000000</td>\n",
       "      <td>386.391304</td>\n",
       "    </tr>\n",
       "    <tr>\n",
       "      <th>50%</th>\n",
       "      <td>2002.000000</td>\n",
       "      <td>3.000000</td>\n",
       "      <td>6.000000</td>\n",
       "      <td>19.000000</td>\n",
       "      <td>466.000000</td>\n",
       "    </tr>\n",
       "    <tr>\n",
       "      <th>75%</th>\n",
       "      <td>2010.000000</td>\n",
       "      <td>4.300000</td>\n",
       "      <td>6.000000</td>\n",
       "      <td>23.000000</td>\n",
       "      <td>555.437500</td>\n",
       "    </tr>\n",
       "    <tr>\n",
       "      <th>max</th>\n",
       "      <td>2018.000000</td>\n",
       "      <td>8.400000</td>\n",
       "      <td>16.000000</td>\n",
       "      <td>58.000000</td>\n",
       "      <td>1269.571429</td>\n",
       "    </tr>\n",
       "  </tbody>\n",
       "</table>\n",
       "</div>"
      ],
      "text/plain": [
       "               year  desplazamiento     cilindros       consumo           co2\n",
       "count  36791.000000    36789.000000  36788.000000  36791.000000  36791.000000\n",
       "mean    2000.787421        3.321786      5.746493     20.012068    473.185008\n",
       "std       10.374662        1.359945      1.758009      5.109608    118.833905\n",
       "min     1984.000000        0.600000      2.000000      7.000000     29.000000\n",
       "25%     1991.000000        2.200000      4.000000     17.000000    386.391304\n",
       "50%     2002.000000        3.000000      6.000000     19.000000    466.000000\n",
       "75%     2010.000000        4.300000      6.000000     23.000000    555.437500\n",
       "max     2018.000000        8.400000     16.000000     58.000000   1269.571429"
      ]
     },
     "execution_count": 10,
     "metadata": {},
     "output_type": "execute_result"
    }
   ],
   "source": [
    "vehiculos.describe()"
   ]
  },
  {
   "cell_type": "code",
   "execution_count": 11,
   "metadata": {},
   "outputs": [
    {
     "name": "stdout",
     "output_type": "stream",
     "text": [
      "4.683245232912929 35.34089110477835\n",
      "116.68329326823994 829.6867227313918\n"
     ]
    }
   ],
   "source": [
    "consumo_min = vehiculos.consumo.mean() - 3 * vehiculos.consumo.std()\n",
    "consumo_max = vehiculos.consumo.mean() + 3 * vehiculos.consumo.std()\n",
    "print(consumo_min, consumo_max)\n",
    "\n",
    "co2_min = vehiculos.co2.mean() - 3 * vehiculos.co2.std()\n",
    "co2_max = vehiculos.co2.mean() + 3 * vehiculos.co2.std()\n",
    "print(co2_min, co2_max)"
   ]
  },
  {
   "cell_type": "code",
   "execution_count": 12,
   "metadata": {},
   "outputs": [],
   "source": [
    "vehiculos = vehiculos[\n",
    "    (np.abs(stats.zscore(vehiculos.consumo)) < 3)  & \\\n",
    "    (np.abs(stats.zscore(vehiculos.co2)) < 3)\n",
    "]"
   ]
  },
  {
   "cell_type": "code",
   "execution_count": 13,
   "metadata": {},
   "outputs": [
    {
     "data": {
      "text/plain": [
       "(36185, 11)"
      ]
     },
     "execution_count": 13,
     "metadata": {},
     "output_type": "execute_result"
    }
   ],
   "source": [
    "vehiculos.shape"
   ]
  },
  {
   "cell_type": "code",
   "execution_count": 15,
   "metadata": {},
   "outputs": [
    {
     "data": {
      "text/html": [
       "<div>\n",
       "<style scoped>\n",
       "    .dataframe tbody tr th:only-of-type {\n",
       "        vertical-align: middle;\n",
       "    }\n",
       "\n",
       "    .dataframe tbody tr th {\n",
       "        vertical-align: top;\n",
       "    }\n",
       "\n",
       "    .dataframe thead th {\n",
       "        text-align: right;\n",
       "    }\n",
       "</style>\n",
       "<table border=\"1\" class=\"dataframe\">\n",
       "  <thead>\n",
       "    <tr style=\"text-align: right;\">\n",
       "      <th></th>\n",
       "      <th>year</th>\n",
       "      <th>desplazamiento</th>\n",
       "      <th>cilindros</th>\n",
       "      <th>consumo</th>\n",
       "      <th>co2</th>\n",
       "    </tr>\n",
       "  </thead>\n",
       "  <tbody>\n",
       "    <tr>\n",
       "      <th>count</th>\n",
       "      <td>36185.000000</td>\n",
       "      <td>36183.000000</td>\n",
       "      <td>36182.000000</td>\n",
       "      <td>36185.000000</td>\n",
       "      <td>36185.000000</td>\n",
       "    </tr>\n",
       "    <tr>\n",
       "      <th>mean</th>\n",
       "      <td>2000.799281</td>\n",
       "      <td>3.326051</td>\n",
       "      <td>5.750290</td>\n",
       "      <td>19.842366</td>\n",
       "      <td>473.442286</td>\n",
       "    </tr>\n",
       "    <tr>\n",
       "      <th>std</th>\n",
       "      <td>10.342556</td>\n",
       "      <td>1.340777</td>\n",
       "      <td>1.733438</td>\n",
       "      <td>4.587177</td>\n",
       "      <td>110.906946</td>\n",
       "    </tr>\n",
       "    <tr>\n",
       "      <th>min</th>\n",
       "      <td>1984.000000</td>\n",
       "      <td>0.900000</td>\n",
       "      <td>2.000000</td>\n",
       "      <td>9.000000</td>\n",
       "      <td>144.000000</td>\n",
       "    </tr>\n",
       "    <tr>\n",
       "      <th>25%</th>\n",
       "      <td>1991.000000</td>\n",
       "      <td>2.200000</td>\n",
       "      <td>4.000000</td>\n",
       "      <td>17.000000</td>\n",
       "      <td>394.000000</td>\n",
       "    </tr>\n",
       "    <tr>\n",
       "      <th>50%</th>\n",
       "      <td>2002.000000</td>\n",
       "      <td>3.000000</td>\n",
       "      <td>6.000000</td>\n",
       "      <td>19.000000</td>\n",
       "      <td>467.736842</td>\n",
       "    </tr>\n",
       "    <tr>\n",
       "      <th>75%</th>\n",
       "      <td>2010.000000</td>\n",
       "      <td>4.300000</td>\n",
       "      <td>6.000000</td>\n",
       "      <td>23.000000</td>\n",
       "      <td>552.000000</td>\n",
       "    </tr>\n",
       "    <tr>\n",
       "      <th>max</th>\n",
       "      <td>2018.000000</td>\n",
       "      <td>8.400000</td>\n",
       "      <td>12.000000</td>\n",
       "      <td>35.000000</td>\n",
       "      <td>829.000000</td>\n",
       "    </tr>\n",
       "  </tbody>\n",
       "</table>\n",
       "</div>"
      ],
      "text/plain": [
       "               year  desplazamiento     cilindros       consumo           co2\n",
       "count  36185.000000    36183.000000  36182.000000  36185.000000  36185.000000\n",
       "mean    2000.799281        3.326051      5.750290     19.842366    473.442286\n",
       "std       10.342556        1.340777      1.733438      4.587177    110.906946\n",
       "min     1984.000000        0.900000      2.000000      9.000000    144.000000\n",
       "25%     1991.000000        2.200000      4.000000     17.000000    394.000000\n",
       "50%     2002.000000        3.000000      6.000000     19.000000    467.736842\n",
       "75%     2010.000000        4.300000      6.000000     23.000000    552.000000\n",
       "max     2018.000000        8.400000     12.000000     35.000000    829.000000"
      ]
     },
     "execution_count": 15,
     "metadata": {},
     "output_type": "execute_result"
    }
   ],
   "source": [
    "vehiculos.describe()"
   ]
  },
  {
   "cell_type": "markdown",
   "metadata": {},
   "source": [
    "Vemos que aunque hemos removido los outliers, al haber cambiado la distribución del dataset se generan nuevos outliers"
   ]
  },
  {
   "cell_type": "code",
   "execution_count": 16,
   "metadata": {},
   "outputs": [
    {
     "name": "stdout",
     "output_type": "stream",
     "text": [
      "year | 0 | int64\n",
      "desplazamiento | 0 | float64\n",
      "cilindros | 0 | float64\n",
      "consumo | 213 | int64\n",
      "co2 | 424 | float64\n"
     ]
    },
    {
     "name": "stderr",
     "output_type": "stream",
     "text": [
      "c:\\users\\jorge\\appdata\\local\\programs\\python\\python37\\lib\\site-packages\\ipykernel_launcher.py:7: RuntimeWarning: invalid value encountered in greater\n",
      "  import sys\n"
     ]
    }
   ],
   "source": [
    "outliers_col(vehiculos)"
   ]
  },
  {
   "cell_type": "markdown",
   "metadata": {},
   "source": [
    "Para eliminar esto simplemente repetimos el proceso hasta que no queden valores extremos"
   ]
  },
  {
   "cell_type": "code",
   "execution_count": 17,
   "metadata": {},
   "outputs": [
    {
     "name": "stdout",
     "output_type": "stream",
     "text": [
      "year | 0 | int64\n",
      "desplazamiento | 0 | float64\n",
      "cilindros | 0 | float64\n",
      "consumo | 0 | int64\n",
      "co2 | 9 | float64\n"
     ]
    },
    {
     "name": "stderr",
     "output_type": "stream",
     "text": [
      "c:\\users\\jorge\\appdata\\local\\programs\\python\\python37\\lib\\site-packages\\ipykernel_launcher.py:7: RuntimeWarning: invalid value encountered in greater\n",
      "  import sys\n"
     ]
    },
    {
     "data": {
      "text/plain": [
       "(35548, 11)"
      ]
     },
     "execution_count": 17,
     "metadata": {},
     "output_type": "execute_result"
    }
   ],
   "source": [
    "vehiculos = vehiculos[\n",
    "    (np.abs(stats.zscore(vehiculos.consumo)) < 3)  & \\\n",
    "    (np.abs(stats.zscore(vehiculos.co2)) < 3)\n",
    "]\n",
    "\n",
    "outliers_col(vehiculos)\n",
    "vehiculos.shape"
   ]
  },
  {
   "cell_type": "code",
   "execution_count": 20,
   "metadata": {},
   "outputs": [
    {
     "name": "stdout",
     "output_type": "stream",
     "text": [
      "year | 0 | int64\n",
      "desplazamiento | 0 | float64\n",
      "cilindros | 0 | float64\n",
      "consumo | 0 | int64\n",
      "co2 | 0 | float64\n"
     ]
    },
    {
     "name": "stderr",
     "output_type": "stream",
     "text": [
      "c:\\users\\jorge\\appdata\\local\\programs\\python\\python37\\lib\\site-packages\\ipykernel_launcher.py:7: RuntimeWarning: invalid value encountered in greater\n",
      "  import sys\n"
     ]
    },
    {
     "data": {
      "text/plain": [
       "(35539, 11)"
      ]
     },
     "execution_count": 20,
     "metadata": {},
     "output_type": "execute_result"
    }
   ],
   "source": [
    "vehiculos = vehiculos[\n",
    "    (np.abs(stats.zscore(vehiculos.consumo)) < 3)  & \\\n",
    "    (np.abs(stats.zscore(vehiculos.co2)) < 3)\n",
    "]\n",
    "\n",
    "outliers_col(vehiculos)\n",
    "vehiculos.shape"
   ]
  },
  {
   "cell_type": "markdown",
   "metadata": {},
   "source": [
    "### Valores inexistentes"
   ]
  },
  {
   "cell_type": "code",
   "execution_count": 21,
   "metadata": {},
   "outputs": [
    {
     "name": "stdout",
     "output_type": "stream",
     "text": [
      "fabricante | 0.0 | object\n",
      "modelo | 0.0 | object\n",
      "year | 0.0 | int64\n",
      "desplazamiento | 5.627620360730465e-05 | float64\n",
      "cilindros | 8.441430541095698e-05 | float64\n",
      "transmision | 2.8138101803652325e-05 | object\n",
      "traccion | 0.02093474774191733 | object\n",
      "clase | 0.0 | object\n",
      "combustible | 0.0 | object\n",
      "consumo | 0.0 | int64\n",
      "co2 | 0.0 | float64\n"
     ]
    }
   ],
   "source": [
    "n_records = len(vehiculos)\n",
    "def valores_inexistentes_col(df):\n",
    "    for columna in df:\n",
    "        print(\"{} | {} | {}\".format(\n",
    "            df[columna].name, len(df[df[columna].isnull()]) / (1.0 * n_records), df[columna].dtype\n",
    "        ))\n",
    "\n",
    "valores_inexistentes_col(vehiculos)"
   ]
  },
  {
   "cell_type": "markdown",
   "metadata": {},
   "source": [
    "Muchos algoritmos de Machine Learning requieren que no existan valores inexistentes (o NaN como se llaman a veces).\n",
    "\n",
    "Hay varias técnicas para tratar dichos valores:"
   ]
  },
  {
   "cell_type": "markdown",
   "metadata": {},
   "source": [
    "1. eliminar records con valores inexistentes"
   ]
  },
  {
   "cell_type": "code",
   "execution_count": 22,
   "metadata": {},
   "outputs": [
    {
     "data": {
      "text/plain": [
       "(35535, 11)"
      ]
     },
     "execution_count": 22,
     "metadata": {},
     "output_type": "execute_result"
    }
   ],
   "source": [
    "vehiculos_sin_null = vehiculos.dropna(subset=[\"transmision\", \"desplazamiento\", \"cilindros\"])\n",
    "\n",
    "vehiculos_sin_null.shape"
   ]
  },
  {
   "cell_type": "markdown",
   "metadata": {},
   "source": [
    "2.Reemplazar los valores inexistentes con un valor en particular. Por ejemplo 0 o \"null\" Es una forma simple de tratar estos valores pero añade un monton de ruido (asume que los valores inexistentes lo son por un motivo en concreto)"
   ]
  },
  {
   "cell_type": "code",
   "execution_count": 23,
   "metadata": {},
   "outputs": [
    {
     "data": {
      "text/plain": [
       "(35539, 14)"
      ]
     },
     "execution_count": 23,
     "metadata": {},
     "output_type": "execute_result"
    }
   ],
   "source": [
    "vehiculos[\"transmision_imp\"] = vehiculos.transmision.fillna(\"sin transmision\")\n",
    "vehiculos[\"desplazamiento_imp\"] = vehiculos.desplazamiento.fillna(0)\n",
    "vehiculos[\"cilindros_imp\"] = vehiculos.cilindros.fillna(0)\n",
    "\n",
    "vehiculos.shape"
   ]
  },
  {
   "cell_type": "markdown",
   "metadata": {},
   "source": [
    "3.\n",
    "Imputacion de datos: Reemplazar los valores inexistentes por un valor en particular, pero que está elegido con cierto criterio. Prácticas comunes de imputacion de datos son reemplazar los valores inexistentes de una variable con su media, moda o mediana."
   ]
  },
  {
   "cell_type": "code",
   "execution_count": 24,
   "metadata": {},
   "outputs": [],
   "source": [
    "transmision_moda = vehiculos.transmision.mode().values[0]\n",
    "cilindros_moda = vehiculos.cilindros.mode().values[0]\n",
    "desplazamiento_mediana = vehiculos.desplazamiento.median()\n",
    "\n",
    "vehiculos.transmision = vehiculos.transmision.fillna(transmision_moda)\n",
    "vehiculos.desplazamiento = vehiculos.desplazamiento.fillna(desplazamiento_mediana)\n",
    "vehiculos.cilindros = vehiculos.cilindros.fillna(cilindros_moda)"
   ]
  },
  {
   "cell_type": "code",
   "execution_count": 25,
   "metadata": {},
   "outputs": [
    {
     "data": {
      "text/html": [
       "<div>\n",
       "<style scoped>\n",
       "    .dataframe tbody tr th:only-of-type {\n",
       "        vertical-align: middle;\n",
       "    }\n",
       "\n",
       "    .dataframe tbody tr th {\n",
       "        vertical-align: top;\n",
       "    }\n",
       "\n",
       "    .dataframe thead th {\n",
       "        text-align: right;\n",
       "    }\n",
       "</style>\n",
       "<table border=\"1\" class=\"dataframe\">\n",
       "  <thead>\n",
       "    <tr style=\"text-align: right;\">\n",
       "      <th></th>\n",
       "      <th>fabricante</th>\n",
       "      <th>modelo</th>\n",
       "      <th>year</th>\n",
       "      <th>desplazamiento</th>\n",
       "      <th>cilindros</th>\n",
       "      <th>transmision</th>\n",
       "      <th>traccion</th>\n",
       "      <th>clase</th>\n",
       "      <th>combustible</th>\n",
       "      <th>consumo</th>\n",
       "      <th>co2</th>\n",
       "      <th>transmision_imp</th>\n",
       "      <th>desplazamiento_imp</th>\n",
       "      <th>cilindros_imp</th>\n",
       "    </tr>\n",
       "  </thead>\n",
       "  <tbody>\n",
       "    <tr>\n",
       "      <th>15458</th>\n",
       "      <td>GMC</td>\n",
       "      <td>C25 Pickup 2WD</td>\n",
       "      <td>1984</td>\n",
       "      <td>4.1</td>\n",
       "      <td>6.0</td>\n",
       "      <td>Automatic 4-spd</td>\n",
       "      <td>2-Wheel Drive</td>\n",
       "      <td>Standard Pickup Trucks 2WD</td>\n",
       "      <td>Regular</td>\n",
       "      <td>14</td>\n",
       "      <td>634.785714</td>\n",
       "      <td>sin transmision</td>\n",
       "      <td>4.1</td>\n",
       "      <td>6.0</td>\n",
       "    </tr>\n",
       "  </tbody>\n",
       "</table>\n",
       "</div>"
      ],
      "text/plain": [
       "      fabricante          modelo  year  desplazamiento  cilindros  \\\n",
       "15458        GMC  C25 Pickup 2WD  1984             4.1        6.0   \n",
       "\n",
       "           transmision       traccion                       clase combustible  \\\n",
       "15458  Automatic 4-spd  2-Wheel Drive  Standard Pickup Trucks 2WD     Regular   \n",
       "\n",
       "       consumo         co2  transmision_imp  desplazamiento_imp  cilindros_imp  \n",
       "15458       14  634.785714  sin transmision                 4.1            6.0  "
      ]
     },
     "execution_count": 25,
     "metadata": {},
     "output_type": "execute_result"
    }
   ],
   "source": [
    "vehiculos[vehiculos.transmision_imp == \"sin transmision\"]"
   ]
  },
  {
   "cell_type": "code",
   "execution_count": 26,
   "metadata": {},
   "outputs": [],
   "source": [
    "vehiculos = vehiculos.drop([\"transmision_imp\", \"cilindros_imp\", \"desplazamiento_imp\"], \n",
    "                           axis=1)"
   ]
  },
  {
   "cell_type": "markdown",
   "metadata": {},
   "source": [
    "Otras técnicas incluyen:\n",
    "\n",
    "\n",
    "- Usar un modelo predictivo para predecir los valores inexistentes, usando como informacion los records con la informacion completa\n",
    "\n",
    "- Metodos más sofisticados: [MICE](https://www.ncbi.nlm.nih.gov/pmc/articles/PMC3074241/), en este [repositorio](https://github.com/hammerlab/fancyimpute) hay mas métodos\n",
    "\n",
    "[Aqui](https://gallery.cortanaintelligence.com/Experiment/Methods-for-handling-missing-values-1) hay mas estrategias"
   ]
  },
  {
   "cell_type": "markdown",
   "metadata": {},
   "source": [
    "### Normalizacion/Estandardizacion de variables"
   ]
  },
  {
   "cell_type": "markdown",
   "metadata": {},
   "source": [
    "Hay dos formas en las cuales un dataset puede tener variables que haya que modificar pese a que no sean nulas/repetidas"
   ]
  },
  {
   "cell_type": "markdown",
   "metadata": {},
   "source": [
    "Generalmente en un dataset las variables van a tener rangos muy distintos"
   ]
  },
  {
   "cell_type": "code",
   "execution_count": 27,
   "metadata": {},
   "outputs": [
    {
     "data": {
      "text/html": [
       "<div>\n",
       "<style scoped>\n",
       "    .dataframe tbody tr th:only-of-type {\n",
       "        vertical-align: middle;\n",
       "    }\n",
       "\n",
       "    .dataframe tbody tr th {\n",
       "        vertical-align: top;\n",
       "    }\n",
       "\n",
       "    .dataframe thead th {\n",
       "        text-align: right;\n",
       "    }\n",
       "</style>\n",
       "<table border=\"1\" class=\"dataframe\">\n",
       "  <thead>\n",
       "    <tr style=\"text-align: right;\">\n",
       "      <th></th>\n",
       "      <th>year</th>\n",
       "      <th>desplazamiento</th>\n",
       "      <th>cilindros</th>\n",
       "      <th>consumo</th>\n",
       "      <th>co2</th>\n",
       "    </tr>\n",
       "  </thead>\n",
       "  <tbody>\n",
       "    <tr>\n",
       "      <th>count</th>\n",
       "      <td>35539.000000</td>\n",
       "      <td>35539.000000</td>\n",
       "      <td>35539.000000</td>\n",
       "      <td>35539.000000</td>\n",
       "      <td>35539.000000</td>\n",
       "    </tr>\n",
       "    <tr>\n",
       "      <th>mean</th>\n",
       "      <td>2000.893188</td>\n",
       "      <td>3.308585</td>\n",
       "      <td>5.727426</td>\n",
       "      <td>19.863277</td>\n",
       "      <td>470.607342</td>\n",
       "    </tr>\n",
       "    <tr>\n",
       "      <th>std</th>\n",
       "      <td>10.308730</td>\n",
       "      <td>1.318233</td>\n",
       "      <td>1.705600</td>\n",
       "      <td>4.383492</td>\n",
       "      <td>104.425820</td>\n",
       "    </tr>\n",
       "    <tr>\n",
       "      <th>min</th>\n",
       "      <td>1984.000000</td>\n",
       "      <td>1.000000</td>\n",
       "      <td>2.000000</td>\n",
       "      <td>10.000000</td>\n",
       "      <td>169.000000</td>\n",
       "    </tr>\n",
       "    <tr>\n",
       "      <th>25%</th>\n",
       "      <td>1991.000000</td>\n",
       "      <td>2.200000</td>\n",
       "      <td>4.000000</td>\n",
       "      <td>17.000000</td>\n",
       "      <td>396.000000</td>\n",
       "    </tr>\n",
       "    <tr>\n",
       "      <th>50%</th>\n",
       "      <td>2002.000000</td>\n",
       "      <td>3.000000</td>\n",
       "      <td>6.000000</td>\n",
       "      <td>19.000000</td>\n",
       "      <td>465.000000</td>\n",
       "    </tr>\n",
       "    <tr>\n",
       "      <th>75%</th>\n",
       "      <td>2010.000000</td>\n",
       "      <td>4.300000</td>\n",
       "      <td>6.000000</td>\n",
       "      <td>23.000000</td>\n",
       "      <td>525.000000</td>\n",
       "    </tr>\n",
       "    <tr>\n",
       "      <th>max</th>\n",
       "      <td>2018.000000</td>\n",
       "      <td>8.400000</td>\n",
       "      <td>12.000000</td>\n",
       "      <td>33.000000</td>\n",
       "      <td>782.000000</td>\n",
       "    </tr>\n",
       "  </tbody>\n",
       "</table>\n",
       "</div>"
      ],
      "text/plain": [
       "               year  desplazamiento     cilindros       consumo           co2\n",
       "count  35539.000000    35539.000000  35539.000000  35539.000000  35539.000000\n",
       "mean    2000.893188        3.308585      5.727426     19.863277    470.607342\n",
       "std       10.308730        1.318233      1.705600      4.383492    104.425820\n",
       "min     1984.000000        1.000000      2.000000     10.000000    169.000000\n",
       "25%     1991.000000        2.200000      4.000000     17.000000    396.000000\n",
       "50%     2002.000000        3.000000      6.000000     19.000000    465.000000\n",
       "75%     2010.000000        4.300000      6.000000     23.000000    525.000000\n",
       "max     2018.000000        8.400000     12.000000     33.000000    782.000000"
      ]
     },
     "execution_count": 27,
     "metadata": {},
     "output_type": "execute_result"
    }
   ],
   "source": [
    "vehiculos.describe()"
   ]
  },
  {
   "cell_type": "markdown",
   "metadata": {},
   "source": [
    "Por ejemplo, vemos que la variable displ tiene un rango de [0,8.4], mientras que la variable `co2` tiene un rango [0. 1270]. Al aplicar ciertos tipos de modelos lo que va a pasar es que la variable `co2` va a tener mucho mas peso simplemente por que los valores que toma son más grandes."
   ]
  },
  {
   "cell_type": "markdown",
   "metadata": {},
   "source": [
    "De igual forma, hay variables donde la variación de los datos es muy grande, y esto hace que para ciertos modelos sea mas dificil el aprender reglas consistentes. Por ejemplo, la variable `desplazamiento`"
   ]
  },
  {
   "cell_type": "code",
   "execution_count": 31,
   "metadata": {},
   "outputs": [
    {
     "data": {
      "text/plain": [
       "<matplotlib.axes._subplots.AxesSubplot at 0x1aeb86aa470>"
      ]
     },
     "execution_count": 31,
     "metadata": {},
     "output_type": "execute_result"
    },
    {
     "data": {
      "image/png": "[encoded data removed]",
      "text/plain": [
       "<Figure size 864x576 with 1 Axes>"
      ]
     },
     "metadata": {
      "needs_background": "light"
     },
     "output_type": "display_data"
    }
   ],
   "source": [
    "vehiculos.desplazamiento.plot.kde()"
   ]
  },
  {
   "cell_type": "markdown",
   "metadata": {},
   "source": [
    "Vemos que la variable `desplazamiento` tiene un coeficiente de simetria claramente positivo con un peso mayor en la izquierda"
   ]
  },
  {
   "cell_type": "code",
   "execution_count": 32,
   "metadata": {},
   "outputs": [],
   "source": [
    "from scipy import stats"
   ]
  },
  {
   "cell_type": "code",
   "execution_count": 33,
   "metadata": {},
   "outputs": [
    {
     "data": {
      "text/plain": [
       "0.6267820075196722"
      ]
     },
     "execution_count": 33,
     "metadata": {},
     "output_type": "execute_result"
    }
   ],
   "source": [
    "stats.skew(vehiculos.desplazamiento)"
   ]
  },
  {
   "cell_type": "markdown",
   "metadata": {},
   "source": [
    "Hay dos técnicas principales para corregir estos dos tipos de problemas y mejorar nuestros modelos"
   ]
  },
  {
   "cell_type": "markdown",
   "metadata": {},
   "source": [
    "**Normalización**\n",
    "\n",
    "[Normalización](https://es.wikipedia.org/wiki/Normalizaci%C3%B3n_(estad%C3%ADstica)) (también llamada *min-max scaling*)\n",
    "\n",
    "Normalización convierte una variable numérica con un rango cualquiera a un rango [0, 1]. Muchos modelos de `deep learning` exigen esto como requisito."
   ]
  },
  {
   "cell_type": "code",
   "execution_count": 34,
   "metadata": {},
   "outputs": [
    {
     "data": {
      "image/png": "[encoded data removed]",
      "text/plain": [
       "<Figure size 864x576 with 1 Axes>"
      ]
     },
     "metadata": {
      "needs_background": "light"
     },
     "output_type": "display_data"
    }
   ],
   "source": [
    "desplazamiento_x_min = vehiculos.desplazamiento.min()\n",
    "desplazamiento_x_max = vehiculos.desplazamiento.max()\n",
    "\n",
    "desplazamiento_original = vehiculos.desplazamiento\n",
    "desplazamiento_normalizado = desplazamiento_original.apply(lambda x: (x-desplazamiento_x_min) / (desplazamiento_x_max - desplazamiento_x_min))\n",
    "\n",
    "desplazamiento_normalizado.plot.hist(label=\"normalizado\")\n",
    "desplazamiento_original.plot.hist(label=\"original\")\n",
    "plt.legend();"
   ]
  },
  {
   "cell_type": "markdown",
   "metadata": {},
   "source": [
    "**Estandarización**"
   ]
  },
  {
   "cell_type": "markdown",
   "metadata": {},
   "source": [
    "El objetivo de la estandardización es reescalar la variable a una distribución con media 0 y desviación estándar 1.\n",
    "\n",
    "Muchos algoritmos necesitan que todas las variables tengan una distribución normal. De hecho, [la librería principal](http://scikit-learn.org/stable/modules/preprocessing.html#standardization-or-mean-removal-and-variance-scaling) que vamos a usar para Machine Learning lo especifica en su documentación.\n",
    "\n",
    "Estandarizar se puede realizar fácilmente convirtiendo cada valor a su puntuación Z, con la formula:\n",
    "\n",
    "$$\\frac{y-\\mu}{\\sigma}$$"
   ]
  },
  {
   "cell_type": "code",
   "execution_count": 35,
   "metadata": {},
   "outputs": [
    {
     "data": {
      "image/png": "[encoded data removed]",
      "text/plain": [
       "<Figure size 864x576 with 1 Axes>"
      ]
     },
     "metadata": {
      "needs_background": "light"
     },
     "output_type": "display_data"
    }
   ],
   "source": [
    "desplazamiento_mu = vehiculos.desplazamiento.mean()\n",
    "desplazamiento_sigma = vehiculos.desplazamiento.std()\n",
    "\n",
    "desplazamiento_estandarizado = desplazamiento_original.apply(lambda x: (x-desplazamiento_mu) / desplazamiento_sigma)\n",
    "\n",
    "desplazamiento_estandarizado.plot.hist(label=\"standardizado\", alpha=0.5)\n",
    "desplazamiento_original.plot.hist(label=\"original\", alpha=0.5)\n",
    "plt.legend();"
   ]
  },
  {
   "cell_type": "markdown",
   "metadata": {},
   "source": [
    "En cuanto a cuando elegir normalización o estandarización, esta decisión está sujeta a debate.\n",
    "\n",
    "Si los algoritmos que se desea usar requieren una estructura de los datos concreta, entonces no hay que tomar una decisión, simplemente seguir los requisitos de dicho algoritmo.\n",
    "\n",
    "Un problema que tiene la normalización es que la distancia absoluta entre los valores del dataset al agruparlos todos en un grupo tan pequeño. Por lo tanto si los datos varían mucho es mejor probar a estandarizar primero en vez de normalizar. No obstante no es mala idea el probar ambos procesos y ver cual da mejores resultados."
   ]
  },
  {
   "cell_type": "markdown",
   "metadata": {},
   "source": [
    "Por ejemplo, vamos a hacer un gráfico de dispersión para ver la comparación de las variables `displ` (desplazamiento del motor) y `comb08` (consumo de combustible) en funcion de si están normalizadas o estandarizadas."
   ]
  },
  {
   "cell_type": "code",
   "execution_count": 36,
   "metadata": {},
   "outputs": [],
   "source": [
    "consumo_original = vehiculos.consumo\n",
    "\n",
    "consumo_mu = consumo_original.mean()\n",
    "consumo_sigma = consumo_original.std()\n",
    "consumo_min = consumo_original.min()\n",
    "consumo_max = consumo_original.max()\n",
    "\n",
    "consumo_estandarizado = consumo_original.apply(lambda x: (x-consumo_mu)/consumo_sigma)\n",
    "consumo_normalizado = consumo_original.apply(lambda x: (x-consumo_min)/(consumo_max - consumo_min))"
   ]
  },
  {
   "cell_type": "code",
   "execution_count": 37,
   "metadata": {},
   "outputs": [
    {
     "data": {
      "image/png": "[encoded data removed]",
      "text/plain": [
       "<Figure size 864x576 with 1 Axes>"
      ]
     },
     "metadata": {
      "needs_background": "light"
     },
     "output_type": "display_data"
    }
   ],
   "source": [
    "plt.scatter(x=consumo_original,y=desplazamiento_original, label=\"original\")\n",
    "plt.scatter(x=consumo_estandarizado,y=desplazamiento_estandarizado, label=\"estandarizado\")\n",
    "plt.scatter(x=consumo_normalizado,y=desplazamiento_normalizado, label=\"normalizado\")\n",
    "\n",
    "plt.xlabel(\"consumo\")\n",
    "plt.ylabel(\"desplazamiento\")\n",
    "plt.title(\"Diferencias entre diferentes tipos de reescalado de variables\")\n",
    "plt.legend();"
   ]
  },
  {
   "cell_type": "markdown",
   "metadata": {},
   "source": [
    "Vemos que cuando las variables están estandarizadas, pese a que su rango es menor (entre -3 y 3 aproximadamente) vemos que reflejan mejor la relación entre ambas variables (incluyendo el outlier en comb08).\n",
    "\n",
    "Cuando las variables estan normalizadas al estar \"encajonadas\" en el intervalo [0,1] cuesta más ver su relación cuando se comparan con la distribucion original."
   ]
  },
  {
   "cell_type": "markdown",
   "metadata": {},
   "source": [
    "Esto no implica que dicha relación de la distribución se altere, simplemente que los valores que separan los elementos de la variable se ven reducidos. Esto altera como ciertos métodos de aprendizaje alcanzan soluciones óptimas"
   ]
  },
  {
   "cell_type": "code",
   "execution_count": 38,
   "metadata": {},
   "outputs": [
    {
     "data": {
      "image/png": "[encoded data removed]",
      "text/plain": [
       "<Figure size 864x576 with 1 Axes>"
      ]
     },
     "metadata": {
      "needs_background": "light"
     },
     "output_type": "display_data"
    }
   ],
   "source": [
    "plt.scatter(x=consumo_normalizado,y=desplazamiento_normalizado, label=\"normalizado\");"
   ]
  },
  {
   "cell_type": "markdown",
   "metadata": {},
   "source": [
    "En este caso decidimos asignar dos columnas nuevas como las variables estandarizadas"
   ]
  },
  {
   "cell_type": "code",
   "execution_count": 41,
   "metadata": {},
   "outputs": [],
   "source": [
    "vehiculos[\"consumo_std\"] = consumo_estandarizado\n",
    "vehiculos[\"desplazamiento_std\"] = desplazamiento_estandarizado"
   ]
  },
  {
   "cell_type": "code",
   "execution_count": 42,
   "metadata": {},
   "outputs": [
    {
     "data": {
      "text/html": [
       "<div>\n",
       "<style scoped>\n",
       "    .dataframe tbody tr th:only-of-type {\n",
       "        vertical-align: middle;\n",
       "    }\n",
       "\n",
       "    .dataframe tbody tr th {\n",
       "        vertical-align: top;\n",
       "    }\n",
       "\n",
       "    .dataframe thead th {\n",
       "        text-align: right;\n",
       "    }\n",
       "</style>\n",
       "<table border=\"1\" class=\"dataframe\">\n",
       "  <thead>\n",
       "    <tr style=\"text-align: right;\">\n",
       "      <th></th>\n",
       "      <th>fabricante</th>\n",
       "      <th>modelo</th>\n",
       "      <th>year</th>\n",
       "      <th>desplazamiento</th>\n",
       "      <th>cilindros</th>\n",
       "      <th>transmision</th>\n",
       "      <th>traccion</th>\n",
       "      <th>clase</th>\n",
       "      <th>combustible</th>\n",
       "      <th>consumo</th>\n",
       "      <th>co2</th>\n",
       "      <th>consumo_std</th>\n",
       "      <th>desplazamiento_std</th>\n",
       "    </tr>\n",
       "  </thead>\n",
       "  <tbody>\n",
       "    <tr>\n",
       "      <th>0</th>\n",
       "      <td>AM General</td>\n",
       "      <td>DJ Po Vehicle 2WD</td>\n",
       "      <td>1984</td>\n",
       "      <td>2.5</td>\n",
       "      <td>4.0</td>\n",
       "      <td>Automatic 3-spd</td>\n",
       "      <td>2-Wheel Drive</td>\n",
       "      <td>Special Purpose Vehicle 2WD</td>\n",
       "      <td>Regular</td>\n",
       "      <td>17</td>\n",
       "      <td>522.764706</td>\n",
       "      <td>-0.653195</td>\n",
       "      <td>-0.613385</td>\n",
       "    </tr>\n",
       "    <tr>\n",
       "      <th>2</th>\n",
       "      <td>AM General</td>\n",
       "      <td>FJ8c Post Office</td>\n",
       "      <td>1984</td>\n",
       "      <td>4.2</td>\n",
       "      <td>6.0</td>\n",
       "      <td>Automatic 3-spd</td>\n",
       "      <td>2-Wheel Drive</td>\n",
       "      <td>Special Purpose Vehicle 2WD</td>\n",
       "      <td>Regular</td>\n",
       "      <td>13</td>\n",
       "      <td>683.615385</td>\n",
       "      <td>-1.565710</td>\n",
       "      <td>0.676220</td>\n",
       "    </tr>\n",
       "    <tr>\n",
       "      <th>4</th>\n",
       "      <td>AM General</td>\n",
       "      <td>Post Office DJ5 2WD</td>\n",
       "      <td>1985</td>\n",
       "      <td>2.5</td>\n",
       "      <td>4.0</td>\n",
       "      <td>Automatic 3-spd</td>\n",
       "      <td>Rear-Wheel Drive</td>\n",
       "      <td>Special Purpose Vehicle 2WD</td>\n",
       "      <td>Regular</td>\n",
       "      <td>16</td>\n",
       "      <td>555.437500</td>\n",
       "      <td>-0.881324</td>\n",
       "      <td>-0.613385</td>\n",
       "    </tr>\n",
       "    <tr>\n",
       "      <th>5</th>\n",
       "      <td>AM General</td>\n",
       "      <td>Post Office DJ8 2WD</td>\n",
       "      <td>1985</td>\n",
       "      <td>4.2</td>\n",
       "      <td>6.0</td>\n",
       "      <td>Automatic 3-spd</td>\n",
       "      <td>Rear-Wheel Drive</td>\n",
       "      <td>Special Purpose Vehicle 2WD</td>\n",
       "      <td>Regular</td>\n",
       "      <td>13</td>\n",
       "      <td>683.615385</td>\n",
       "      <td>-1.565710</td>\n",
       "      <td>0.676220</td>\n",
       "    </tr>\n",
       "    <tr>\n",
       "      <th>6</th>\n",
       "      <td>ASC Incorporated</td>\n",
       "      <td>GNX</td>\n",
       "      <td>1987</td>\n",
       "      <td>3.8</td>\n",
       "      <td>6.0</td>\n",
       "      <td>Automatic 4-spd</td>\n",
       "      <td>Rear-Wheel Drive</td>\n",
       "      <td>Midsize Cars</td>\n",
       "      <td>Premium</td>\n",
       "      <td>16</td>\n",
       "      <td>555.437500</td>\n",
       "      <td>-0.881324</td>\n",
       "      <td>0.372783</td>\n",
       "    </tr>\n",
       "  </tbody>\n",
       "</table>\n",
       "</div>"
      ],
      "text/plain": [
       "         fabricante               modelo  year  desplazamiento  cilindros  \\\n",
       "0        AM General    DJ Po Vehicle 2WD  1984             2.5        4.0   \n",
       "2        AM General     FJ8c Post Office  1984             4.2        6.0   \n",
       "4        AM General  Post Office DJ5 2WD  1985             2.5        4.0   \n",
       "5        AM General  Post Office DJ8 2WD  1985             4.2        6.0   \n",
       "6  ASC Incorporated                  GNX  1987             3.8        6.0   \n",
       "\n",
       "       transmision          traccion                        clase combustible  \\\n",
       "0  Automatic 3-spd     2-Wheel Drive  Special Purpose Vehicle 2WD     Regular   \n",
       "2  Automatic 3-spd     2-Wheel Drive  Special Purpose Vehicle 2WD     Regular   \n",
       "4  Automatic 3-spd  Rear-Wheel Drive  Special Purpose Vehicle 2WD     Regular   \n",
       "5  Automatic 3-spd  Rear-Wheel Drive  Special Purpose Vehicle 2WD     Regular   \n",
       "6  Automatic 4-spd  Rear-Wheel Drive                 Midsize Cars     Premium   \n",
       "\n",
       "   consumo         co2  consumo_std  desplazamiento_std  \n",
       "0       17  522.764706    -0.653195           -0.613385  \n",
       "2       13  683.615385    -1.565710            0.676220  \n",
       "4       16  555.437500    -0.881324           -0.613385  \n",
       "5       13  683.615385    -1.565710            0.676220  \n",
       "6       16  555.437500    -0.881324            0.372783  "
      ]
     },
     "execution_count": 42,
     "metadata": {},
     "output_type": "execute_result"
    }
   ],
   "source": [
    "vehiculos.head()"
   ]
  },
  {
   "cell_type": "markdown",
   "metadata": {},
   "source": [
    "Finalmente, guardamos a csv el dataset limpio"
   ]
  },
  {
   "cell_type": "code",
   "execution_count": 43,
   "metadata": {},
   "outputs": [],
   "source": [
    "vehiculos.to_csv(\"D:/datasets/Curso_Mauel_Garrido/vehiculos/vehiculos_procesado.csv\", index=False)"
   ]
  },
  {
   "cell_type": "markdown",
   "metadata": {},
   "source": [
    "### links\n",
    "\n",
    "http://sebastianraschka.com/Articles/2014_about_feature_scaling.html#about-standardization"
   ]
  }
 ],
 "metadata": {
  "kernelspec": {
   "display_name": "Python 3",
   "language": "python",
   "name": "python3"
  },
  "language_info": {
   "codemirror_mode": {
    "name": "ipython",
    "version": 3
   },
   "file_extension": ".py",
   "mimetype": "text/x-python",
   "name": "python",
   "nbconvert_exporter": "python",
   "pygments_lexer": "ipython3",
   "version": "3.7.3rc1"
  }
 },
 "nbformat": 4,
 "nbformat_minor": 2
}
